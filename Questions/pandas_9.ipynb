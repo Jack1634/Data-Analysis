{
 "cells": [
  {
   "cell_type": "code",
   "execution_count": null,
   "id": "579dc64a",
   "metadata": {},
   "outputs": [],
   "source": [
    "create a pandas series and use string method and slice ."
   ]
  },
  {
   "cell_type": "code",
   "execution_count": 1,
   "id": "14650863",
   "metadata": {},
   "outputs": [],
   "source": [
    "import pandas as pd\n",
    "import numpy as np"
   ]
  },
  {
   "cell_type": "code",
   "execution_count": 2,
   "id": "4b3e2c2c",
   "metadata": {},
   "outputs": [
    {
     "data": {
      "text/plain": [
       "0                    Lorem ipsum\n",
       "1                 dolor sit amet\n",
       "2    consectetur adipiscing elit\n",
       "dtype: object"
      ]
     },
     "execution_count": 2,
     "metadata": {},
     "output_type": "execute_result"
    }
   ],
   "source": [
    "ser = pd.Series(['Lorem ipsum', 'dolor sit amet', 'consectetur adipiscing elit'])\n",
    "ser"
   ]
  },
  {
   "cell_type": "code",
   "execution_count": 3,
   "id": "d94d0a5e",
   "metadata": {},
   "outputs": [
    {
     "data": {
      "text/plain": [
       "0    L\n",
       "1    d\n",
       "2    c\n",
       "dtype: object"
      ]
     },
     "execution_count": 3,
     "metadata": {},
     "output_type": "execute_result"
    }
   ],
   "source": [
    "ser.str[0]"
   ]
  },
  {
   "cell_type": "code",
   "execution_count": 4,
   "id": "3d9932a1",
   "metadata": {},
   "outputs": [
    {
     "data": {
      "text/plain": [
       "0    Lor\n",
       "1    dol\n",
       "2    con\n",
       "dtype: object"
      ]
     },
     "execution_count": 4,
     "metadata": {},
     "output_type": "execute_result"
    }
   ],
   "source": [
    "ser.str[:3]"
   ]
  },
  {
   "cell_type": "code",
   "execution_count": 5,
   "id": "a98bc250",
   "metadata": {},
   "outputs": [
    {
     "data": {
      "text/plain": [
       "0    sum\n",
       "1    met\n",
       "2    lit\n",
       "dtype: object"
      ]
     },
     "execution_count": 5,
     "metadata": {},
     "output_type": "execute_result"
    }
   ],
   "source": [
    "ser.str[-3:]"
   ]
  },
  {
   "cell_type": "code",
   "execution_count": null,
   "id": "706caa1c",
   "metadata": {},
   "outputs": [],
   "source": []
  }
 ],
 "metadata": {
  "kernelspec": {
   "display_name": "Python 3",
   "language": "python",
   "name": "python3"
  },
  "language_info": {
   "codemirror_mode": {
    "name": "ipython",
    "version": 3
   },
   "file_extension": ".py",
   "mimetype": "text/x-python",
   "name": "python",
   "nbconvert_exporter": "python",
   "pygments_lexer": "ipython3",
   "version": "3.8.8"
  }
 },
 "nbformat": 4,
 "nbformat_minor": 5
}
