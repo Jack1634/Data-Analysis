{
 "cells": [
  {
   "cell_type": "code",
   "execution_count": null,
   "id": "91e166d5",
   "metadata": {},
   "outputs": [],
   "source": [
    "Write a NumPy program to find the set difference of two arrays. The set difference will return the sorted, unique \n",
    "values in array1 that are not in array2.\n",
    "\n",
    "Array1: [ 0, 10, 20, 40, 60 80]\n",
    "Array2: [10, 30, 40, 50, 70, 90]\n",
    "Set difference between two arrays: [ 0 20 60 80]"
   ]
  },
  {
   "cell_type": "code",
   "execution_count": 1,
   "id": "4f347b89",
   "metadata": {},
   "outputs": [
    {
     "data": {
      "text/plain": [
       "array([ 0, 20, 60, 80])"
      ]
     },
     "execution_count": 1,
     "metadata": {},
     "output_type": "execute_result"
    }
   ],
   "source": [
    "## solution 1\n",
    "\n",
    "import numpy as np\n",
    "\n",
    "array1 = [ 0, 10, 20, 40, 60, 80]\n",
    "array2 = [10, 30, 40, 50, 70, 90]\n",
    "\n",
    "np.setdiff1d(array1, array2)"
   ]
  },
  {
   "cell_type": "code",
   "execution_count": 2,
   "id": "6f9e386e",
   "metadata": {},
   "outputs": [
    {
     "data": {
      "text/plain": [
       "[0, 20, 60, 80]"
      ]
     },
     "execution_count": 2,
     "metadata": {},
     "output_type": "execute_result"
    }
   ],
   "source": [
    "# solution 2\n",
    "\n",
    "array3 =[(i) for i in (array1) if i not in array2 ]\n",
    "array3"
   ]
  },
  {
   "cell_type": "code",
   "execution_count": null,
   "id": "582ebd8f",
   "metadata": {},
   "outputs": [],
   "source": []
  }
 ],
 "metadata": {
  "kernelspec": {
   "display_name": "Python 3",
   "language": "python",
   "name": "python3"
  },
  "language_info": {
   "codemirror_mode": {
    "name": "ipython",
    "version": 3
   },
   "file_extension": ".py",
   "mimetype": "text/x-python",
   "name": "python",
   "nbconvert_exporter": "python",
   "pygments_lexer": "ipython3",
   "version": "3.8.8"
  }
 },
 "nbformat": 4,
 "nbformat_minor": 5
}
