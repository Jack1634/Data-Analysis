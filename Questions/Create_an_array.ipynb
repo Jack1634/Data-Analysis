{
 "cells": [
  {
   "cell_type": "code",
   "execution_count": null,
   "id": "cff1d65b",
   "metadata": {},
   "outputs": [],
   "source": [
    "Exercise 1: Create a 4X2 integer array and Prints its attributes\n",
    "Note:  print the following Attributes: –\n",
    "\n",
    "The shape of an array.\n",
    "Array dimensions.\n",
    "The Length of each element of the array in bytes."
   ]
  },
  {
   "cell_type": "code",
   "execution_count": 11,
   "id": "4268dcfb",
   "metadata": {
    "ExecuteTime": {
     "end_time": "2021-09-30T21:02:44.382459Z",
     "start_time": "2021-09-30T21:02:44.364901Z"
    }
   },
   "outputs": [
    {
     "name": "stdout",
     "output_type": "stream",
     "text": [
      "[[1 2]\n",
      " [3 4]\n",
      " [5 6]\n",
      " [7 8]]\n",
      "Attributes\n",
      "(4, 2)\n",
      "2\n",
      "4\n"
     ]
    }
   ],
   "source": [
    "import numpy as np\n",
    "\n",
    "a = np.arange(1,9).reshape(4,-1)\n",
    "print(a)\n",
    "\n",
    "print(\"Attributes\")\n",
    "print(a.shape)\n",
    "print(a.ndim)\n",
    "print(a.itemsize)"
   ]
  },
  {
   "cell_type": "code",
   "execution_count": null,
   "id": "19c33346",
   "metadata": {},
   "outputs": [],
   "source": []
  },
  {
   "cell_type": "code",
   "execution_count": null,
   "id": "ee996d89",
   "metadata": {},
   "outputs": [],
   "source": []
  }
 ],
 "metadata": {
  "kernelspec": {
   "display_name": "Python 3",
   "language": "python",
   "name": "python3"
  },
  "language_info": {
   "codemirror_mode": {
    "name": "ipython",
    "version": 3
   },
   "file_extension": ".py",
   "mimetype": "text/x-python",
   "name": "python",
   "nbconvert_exporter": "python",
   "pygments_lexer": "ipython3",
   "version": "3.8.8"
  }
 },
 "nbformat": 4,
 "nbformat_minor": 5
}
