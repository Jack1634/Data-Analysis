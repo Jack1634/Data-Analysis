{
 "cells": [
  {
   "cell_type": "code",
   "execution_count": null,
   "id": "e95a7a34",
   "metadata": {},
   "outputs": [],
   "source": [
    "given_array=np.array(['clarusway', 'data', 'science', 'bootcamp', 'is', 'the','best'])\n",
    "\n",
    "expected output :\n",
    "    \n",
    "Capitalized:  ['Clarusway' 'Data' 'Science' 'Bootcamp' 'Is' 'The' 'Best']\n",
    "Lowered:  ['clarusway' 'data' 'science' 'bootcamp' 'is' 'the' 'best']\n",
    "Uppered:  ['CLARUSWAY' 'DATA' 'SCIENCE' 'BOOTCAMP' 'IS' 'THE' 'BEST']\n",
    "Swapcased:  ['CLARUSWAY' 'DATA' 'SCIENCE' 'BOOTCAMP' 'IS' 'THE' 'BEST']\n",
    "Titlecased:  ['Clarusway' 'Data' 'Science' 'Bootcamp' 'Is' 'The' 'Best']"
   ]
  },
  {
   "cell_type": "code",
   "execution_count": 2,
   "id": "008e5a82",
   "metadata": {},
   "outputs": [
    {
     "name": "stdout",
     "output_type": "stream",
     "text": [
      "Capitalized: ['Clarusway' 'Data' 'Science' 'Bootcamp' 'Is' 'The' 'Best']\n",
      "Lowerd: ['clarusway' 'data' 'science' 'bootcamp' 'is' 'the' 'best']\n",
      "Uppered: ['CLARUSWAY' 'DATA' 'SCIENCE' 'BOOTCAMP' 'IS' 'THE' 'BEST']\n",
      "Swapcased: ['CLARUSWAY' 'DATA' 'SCIENCE' 'BOOTCAMP' 'IS' 'THE' 'BEST']\n",
      "Titlecased: ['Clarusway' 'Data' 'Science' 'Bootcamp' 'Is' 'The' 'Best']\n"
     ]
    }
   ],
   "source": [
    "#Solution#\n",
    "\n",
    "import numpy as np\n",
    "\n",
    "arr =np.array(['clarusway', 'data', 'science', 'bootcamp', 'is', 'the','best'])\n",
    "print(\"Capitalized:\", np.char.capitalize(arr))\n",
    "print(\"Lowerd:\", np.char.lower(arr))\n",
    "print(\"Uppered:\", np.char.upper(arr))\n",
    "print(\"Swapcased:\", np.char.swapcase(arr))\n",
    "print(\"Titlecased:\", np.char.title(arr))\n"
   ]
  },
  {
   "cell_type": "code",
   "execution_count": null,
   "id": "c15c4599",
   "metadata": {},
   "outputs": [],
   "source": []
  }
 ],
 "metadata": {
  "kernelspec": {
   "display_name": "Python 3",
   "language": "python",
   "name": "python3"
  },
  "language_info": {
   "codemirror_mode": {
    "name": "ipython",
    "version": 3
   },
   "file_extension": ".py",
   "mimetype": "text/x-python",
   "name": "python",
   "nbconvert_exporter": "python",
   "pygments_lexer": "ipython3",
   "version": "3.8.8"
  }
 },
 "nbformat": 4,
 "nbformat_minor": 5
}
