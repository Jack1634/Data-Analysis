{
 "cells": [
  {
   "cell_type": "code",
   "execution_count": null,
   "id": "522e1089",
   "metadata": {},
   "outputs": [],
   "source": [
    "Following is the provided numPy array. Return array of items by taking the third column from all rows\n",
    "\n",
    "sampleArray = numpy.array([[11 ,22, 33], \n",
    "                           [44, 55, 66], \n",
    "                           [77, 88, 99]])"
   ]
  },
  {
   "cell_type": "code",
   "execution_count": 5,
   "id": "2ca375c3",
   "metadata": {
    "ExecuteTime": {
     "end_time": "2021-09-30T21:11:36.312529Z",
     "start_time": "2021-09-30T21:11:36.300417Z"
    }
   },
   "outputs": [
    {
     "data": {
      "text/plain": [
       "array([[11, 22, 33],\n",
       "       [44, 55, 66],\n",
       "       [77, 88, 99]])"
      ]
     },
     "execution_count": 5,
     "metadata": {},
     "output_type": "execute_result"
    }
   ],
   "source": [
    "import numpy as np\n",
    "\n",
    "sampleArray = np.array([[11 ,22, 33], \n",
    "                        [44, 55, 66], \n",
    "                        [77, 88, 99]])\n",
    "\n",
    "sampleArray "
   ]
  },
  {
   "cell_type": "code",
   "execution_count": 7,
   "id": "3d2b53a9",
   "metadata": {
    "ExecuteTime": {
     "end_time": "2021-09-30T21:12:20.221966Z",
     "start_time": "2021-09-30T21:12:20.205958Z"
    }
   },
   "outputs": [
    {
     "data": {
      "text/plain": [
       "array([[33],\n",
       "       [66],\n",
       "       [99]])"
      ]
     },
     "execution_count": 7,
     "metadata": {},
     "output_type": "execute_result"
    }
   ],
   "source": [
    "sampleArray[:,[2]]"
   ]
  },
  {
   "cell_type": "code",
   "execution_count": null,
   "id": "16af5727",
   "metadata": {},
   "outputs": [],
   "source": []
  }
 ],
 "metadata": {
  "kernelspec": {
   "display_name": "Python 3",
   "language": "python",
   "name": "python3"
  },
  "language_info": {
   "codemirror_mode": {
    "name": "ipython",
    "version": 3
   },
   "file_extension": ".py",
   "mimetype": "text/x-python",
   "name": "python",
   "nbconvert_exporter": "python",
   "pygments_lexer": "ipython3",
   "version": "3.8.8"
  }
 },
 "nbformat": 4,
 "nbformat_minor": 5
}
