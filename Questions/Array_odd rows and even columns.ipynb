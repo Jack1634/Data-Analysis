{
 "cells": [
  {
   "cell_type": "code",
   "execution_count": null,
   "id": "08941877",
   "metadata": {},
   "outputs": [],
   "source": [
    "Return array of odd rows and even columns from below numpy array\n",
    "Array = np.array([[3 ,6, 9, 12], [15 ,18, 21, 24], \n",
    "[27 ,30, 33, 36], [39 ,42, 45, 48], [51 ,54, 57, 60]])"
   ]
  },
  {
   "cell_type": "code",
   "execution_count": 2,
   "id": "29d70ee6",
   "metadata": {
    "ExecuteTime": {
     "end_time": "2021-09-30T21:16:55.183193Z",
     "start_time": "2021-09-30T21:16:54.631931Z"
    }
   },
   "outputs": [],
   "source": [
    "import numpy as np\n",
    "Array=np.array([[3 ,6, 9, 12], \n",
    "                [15 ,18, 21, 24], \n",
    "                [27 ,30, 33, 36], \n",
    "                [39 ,42, 45, 48], \n",
    "                [51 ,54, 57, 60]])"
   ]
  },
  {
   "cell_type": "code",
   "execution_count": 3,
   "id": "56f89aac",
   "metadata": {
    "ExecuteTime": {
     "end_time": "2021-09-30T21:16:55.199184Z",
     "start_time": "2021-09-30T21:16:55.187182Z"
    }
   },
   "outputs": [
    {
     "data": {
      "text/plain": [
       "array([[ 3,  6,  9, 12],\n",
       "       [15, 18, 21, 24],\n",
       "       [27, 30, 33, 36],\n",
       "       [39, 42, 45, 48],\n",
       "       [51, 54, 57, 60]])"
      ]
     },
     "execution_count": 3,
     "metadata": {},
     "output_type": "execute_result"
    }
   ],
   "source": [
    "Array"
   ]
  },
  {
   "cell_type": "code",
   "execution_count": 6,
   "id": "813110ba",
   "metadata": {
    "ExecuteTime": {
     "end_time": "2021-09-30T21:22:28.507204Z",
     "start_time": "2021-09-30T21:22:28.498213Z"
    }
   },
   "outputs": [
    {
     "data": {
      "text/plain": [
       "array([[ 6, 12],\n",
       "       [30, 36],\n",
       "       [54, 60]])"
      ]
     },
     "execution_count": 6,
     "metadata": {},
     "output_type": "execute_result"
    }
   ],
   "source": [
    "Array[::2,1::2]"
   ]
  },
  {
   "cell_type": "code",
   "execution_count": null,
   "id": "aed7f2fc",
   "metadata": {},
   "outputs": [],
   "source": []
  },
  {
   "cell_type": "code",
   "execution_count": null,
   "id": "d11fdea9",
   "metadata": {},
   "outputs": [],
   "source": []
  }
 ],
 "metadata": {
  "kernelspec": {
   "display_name": "Python 3",
   "language": "python",
   "name": "python3"
  },
  "language_info": {
   "codemirror_mode": {
    "name": "ipython",
    "version": 3
   },
   "file_extension": ".py",
   "mimetype": "text/x-python",
   "name": "python",
   "nbconvert_exporter": "python",
   "pygments_lexer": "ipython3",
   "version": "3.8.8"
  }
 },
 "nbformat": 4,
 "nbformat_minor": 5
}
