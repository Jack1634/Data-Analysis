{
 "cells": [
  {
   "cell_type": "code",
   "execution_count": null,
   "id": "ac95ced8",
   "metadata": {},
   "outputs": [],
   "source": [
    "Sort following NumPy array\n",
    "\n",
    "Case 1: Sort array by the second row\n",
    "Case 2: Sort the array by the second column\n",
    "    \n",
    "sampleArray = numpy.array([[34,43,73],[82,22,12],[53,94,66]])"
   ]
  },
  {
   "cell_type": "code",
   "execution_count": 4,
   "id": "e761ab84",
   "metadata": {
    "ExecuteTime": {
     "end_time": "2021-09-30T21:36:43.282249Z",
     "start_time": "2021-09-30T21:36:43.265260Z"
    }
   },
   "outputs": [
    {
     "data": {
      "text/plain": [
       "array([[34, 43, 73],\n",
       "       [82, 22, 12],\n",
       "       [53, 94, 66]])"
      ]
     },
     "execution_count": 4,
     "metadata": {},
     "output_type": "execute_result"
    }
   ],
   "source": [
    "import numpy as np\n",
    "\n",
    "sampleArray = np.array([[34,43,73],[82,22,12],[53,94,66]])\n",
    "sampleArray"
   ]
  },
  {
   "cell_type": "code",
   "execution_count": 16,
   "id": "0720215f",
   "metadata": {
    "ExecuteTime": {
     "end_time": "2021-09-30T21:46:55.032416Z",
     "start_time": "2021-09-30T21:46:55.016861Z"
    }
   },
   "outputs": [
    {
     "name": "stdout",
     "output_type": "stream",
     "text": [
      "Sorting Original array by secoond row\n",
      "[[73 43 34]\n",
      " [12 22 82]\n",
      " [66 94 53]]\n"
     ]
    }
   ],
   "source": [
    "print(\"Sorting Original array by secoond row\")\n",
    "\n",
    "sortArrayByRow = sampleArray[:,sampleArray[1,:].argsort()]\n",
    "\n",
    "print(sortArrayByRow)"
   ]
  },
  {
   "cell_type": "code",
   "execution_count": 17,
   "id": "14c8dc47",
   "metadata": {
    "ExecuteTime": {
     "end_time": "2021-09-30T21:46:59.627840Z",
     "start_time": "2021-09-30T21:46:59.619827Z"
    }
   },
   "outputs": [
    {
     "name": "stdout",
     "output_type": "stream",
     "text": [
      "Sorting Original array by secoond column\n",
      "[[82 22 12]\n",
      " [34 43 73]\n",
      " [53 94 66]]\n"
     ]
    }
   ],
   "source": [
    "print(\"Sorting Original array by secoond column\")\n",
    "\n",
    "sortArrayByColumn = sampleArray[sampleArray[:,1].argsort()]\n",
    "\n",
    "print(sortArrayByColumn)"
   ]
  },
  {
   "cell_type": "code",
   "execution_count": null,
   "id": "983ebc11",
   "metadata": {},
   "outputs": [],
   "source": []
  }
 ],
 "metadata": {
  "kernelspec": {
   "display_name": "Python 3",
   "language": "python",
   "name": "python3"
  },
  "language_info": {
   "codemirror_mode": {
    "name": "ipython",
    "version": 3
   },
   "file_extension": ".py",
   "mimetype": "text/x-python",
   "name": "python",
   "nbconvert_exporter": "python",
   "pygments_lexer": "ipython3",
   "version": "3.8.8"
  }
 },
 "nbformat": 4,
 "nbformat_minor": 5
}
