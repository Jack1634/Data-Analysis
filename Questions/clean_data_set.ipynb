{
 "cells": [
  {
   "cell_type": "code",
   "execution_count": null,
   "id": "9afb986d",
   "metadata": {},
   "outputs": [],
   "source": [
    "Exercise 2: Clean the dataset and update the CSV file"
   ]
  },
  {
   "cell_type": "code",
   "execution_count": 55,
   "id": "e1e41ccc",
   "metadata": {},
   "outputs": [],
   "source": [
    "import pandas as pd"
   ]
  },
  {
   "cell_type": "code",
   "execution_count": 56,
   "id": "d7e079b0",
   "metadata": {},
   "outputs": [],
   "source": [
    " df= pd.read_csv(\"Automobile_data.csv\")"
   ]
  },
  {
   "cell_type": "code",
   "execution_count": 57,
   "id": "4160b349",
   "metadata": {},
   "outputs": [
    {
     "name": "stdout",
     "output_type": "stream",
     "text": [
      "<class 'pandas.core.frame.DataFrame'>\n",
      "RangeIndex: 61 entries, 0 to 60\n",
      "Data columns (total 10 columns):\n",
      " #   Column            Non-Null Count  Dtype  \n",
      "---  ------            --------------  -----  \n",
      " 0   index             61 non-null     int64  \n",
      " 1   company           61 non-null     object \n",
      " 2   body-style        61 non-null     object \n",
      " 3   wheel-base        61 non-null     float64\n",
      " 4   length            61 non-null     float64\n",
      " 5   engine-type       61 non-null     object \n",
      " 6   num-of-cylinders  61 non-null     object \n",
      " 7   horsepower        61 non-null     int64  \n",
      " 8   average-mileage   61 non-null     int64  \n",
      " 9   price             58 non-null     float64\n",
      "dtypes: float64(3), int64(3), object(4)\n",
      "memory usage: 4.9+ KB\n"
     ]
    }
   ],
   "source": [
    "df.info()"
   ]
  },
  {
   "cell_type": "code",
   "execution_count": 71,
   "id": "48931de1",
   "metadata": {},
   "outputs": [
    {
     "name": "stdout",
     "output_type": "stream",
     "text": [
      "    index      company   body-style  wheel-base  length engine-type  \\\n",
      "0       0  alfa-romero  convertible        88.6   168.8        dohc   \n",
      "1       1  alfa-romero  convertible        88.6   168.8        dohc   \n",
      "2       2  alfa-romero    hatchback        94.5   171.2        ohcv   \n",
      "3       3         audi        sedan        99.8   176.6         ohc   \n",
      "4       4         audi        sedan        99.4   176.6         ohc   \n",
      "..    ...          ...          ...         ...     ...         ...   \n",
      "56     81   volkswagen        sedan        97.3   171.7         ohc   \n",
      "57     82   volkswagen        sedan        97.3   171.7         ohc   \n",
      "58     86   volkswagen        sedan        97.3   171.7         ohc   \n",
      "59     87        volvo        sedan       104.3   188.8         ohc   \n",
      "60     88        volvo        wagon       104.3   188.8         ohc   \n",
      "\n",
      "   num-of-cylinders  horsepower  average-mileage    price  \n",
      "0              four         111               21  13495.0  \n",
      "1              four         111               21  16500.0  \n",
      "2               six         154               19  16500.0  \n",
      "3              four         102               24  13950.0  \n",
      "4              five         115               18  17450.0  \n",
      "..              ...         ...              ...      ...  \n",
      "56             four          85               27   7975.0  \n",
      "57             four          52               37   7995.0  \n",
      "58             four         100               26   9995.0  \n",
      "59             four         114               23  12940.0  \n",
      "60             four         114               23  13415.0  \n",
      "\n",
      "[61 rows x 10 columns]\n"
     ]
    }
   ],
   "source": [
    "df = pd.read_csv(\"Automobile_data.csv\", na_values={\n",
    "'price':[\"?\",\"n.a\"],\n",
    "'stroke':[\"?\",\"n.a\"],\n",
    "'horsepower':[\"?\",\"n.a\"],\n",
    "'peak-rpm':[\"?\",\"n.a\"],\n",
    "'average-mileage':[\"?\",\"n.a\"]})\n",
    "print (df)"
   ]
  },
  {
   "cell_type": "code",
   "execution_count": null,
   "id": "6ddb6f6c",
   "metadata": {},
   "outputs": [],
   "source": []
  }
 ],
 "metadata": {
  "kernelspec": {
   "display_name": "Python 3",
   "language": "python",
   "name": "python3"
  },
  "language_info": {
   "codemirror_mode": {
    "name": "ipython",
    "version": 3
   },
   "file_extension": ".py",
   "mimetype": "text/x-python",
   "name": "python",
   "nbconvert_exporter": "python",
   "pygments_lexer": "ipython3",
   "version": "3.8.8"
  }
 },
 "nbformat": 4,
 "nbformat_minor": 5
}
