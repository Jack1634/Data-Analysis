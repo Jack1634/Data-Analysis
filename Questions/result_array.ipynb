{
 "cells": [
  {
   "cell_type": "code",
   "execution_count": null,
   "id": "852118aa",
   "metadata": {},
   "outputs": [],
   "source": [
    "Create a result array by adding the following two NumPy arrays. Next, modify the result array by calculating\n",
    "the square of each element\n",
    "\n",
    "arrayOne = numpy.array([[5, 6, 9], [21 ,18, 27]])\n",
    "arrayTwo = numpy.array([[15 ,33, 24], [4 ,7, 1]])"
   ]
  },
  {
   "cell_type": "code",
   "execution_count": 11,
   "id": "f7773109",
   "metadata": {
    "ExecuteTime": {
     "end_time": "2021-09-30T21:29:33.587350Z",
     "start_time": "2021-09-30T21:29:33.572829Z"
    }
   },
   "outputs": [
    {
     "data": {
      "text/plain": [
       "array([[ 400, 1521, 1089],\n",
       "       [ 625,  625,  784]], dtype=int32)"
      ]
     },
     "execution_count": 11,
     "metadata": {},
     "output_type": "execute_result"
    }
   ],
   "source": [
    "import numpy as np\n",
    "\n",
    "arrayOne = np.array([[5, 6, 9], [21 ,18, 27]])\n",
    "arrayTwo = np.array([[15 ,33, 24], [4 ,7, 1]])\n",
    "\n",
    "result_array = (arrayOne + arrayTwo)**2\n",
    "result_array\n"
   ]
  },
  {
   "cell_type": "code",
   "execution_count": null,
   "id": "8aa570d8",
   "metadata": {},
   "outputs": [],
   "source": []
  }
 ],
 "metadata": {
  "kernelspec": {
   "display_name": "Python 3",
   "language": "python",
   "name": "python3"
  },
  "language_info": {
   "codemirror_mode": {
    "name": "ipython",
    "version": 3
   },
   "file_extension": ".py",
   "mimetype": "text/x-python",
   "name": "python",
   "nbconvert_exporter": "python",
   "pygments_lexer": "ipython3",
   "version": "3.8.8"
  }
 },
 "nbformat": 4,
 "nbformat_minor": 5
}
