{
 "cells": [
  {
   "cell_type": "code",
   "execution_count": null,
   "id": "10494fd4",
   "metadata": {},
   "outputs": [],
   "source": [
    "Given this array x = np.array ([- 5,6, -7,9]), transform it into a 2x2 matrix and calculate the maximum and \n",
    "minimum of each row and column."
   ]
  },
  {
   "cell_type": "code",
   "execution_count": 1,
   "id": "910dffa9",
   "metadata": {
    "ExecuteTime": {
     "end_time": "2021-09-29T16:58:07.054178Z",
     "start_time": "2021-09-29T16:58:06.791109Z"
    }
   },
   "outputs": [
    {
     "name": "stdout",
     "output_type": "stream",
     "text": [
      "[6 9]\n",
      "[-5  9]\n"
     ]
    }
   ],
   "source": [
    "import numpy as np\n",
    "\n",
    "x= np.array([-5,6,-7,9])\n",
    "x = x.reshape(2,2)\n",
    "\n",
    "print(x.max(axis=1)) # Maximum of each row\n",
    "print(x.max(axis=0))"
   ]
  },
  {
   "cell_type": "code",
   "execution_count": null,
   "id": "adec9940",
   "metadata": {},
   "outputs": [],
   "source": []
  }
 ],
 "metadata": {
  "kernelspec": {
   "display_name": "Python 3",
   "language": "python",
   "name": "python3"
  },
  "language_info": {
   "codemirror_mode": {
    "name": "ipython",
    "version": 3
   },
   "file_extension": ".py",
   "mimetype": "text/x-python",
   "name": "python",
   "nbconvert_exporter": "python",
   "pygments_lexer": "ipython3",
   "version": "3.8.8"
  }
 },
 "nbformat": 4,
 "nbformat_minor": 5
}
