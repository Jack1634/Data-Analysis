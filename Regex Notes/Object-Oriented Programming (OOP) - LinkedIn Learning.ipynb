{
 "cells": [
  {
   "cell_type": "markdown",
   "id": "e34c2135",
   "metadata": {},
   "source": [
    "# Python Object-Oriented Programming by Joe Marini - Linkedin Learning"
   ]
  },
  {
   "cell_type": "markdown",
   "id": "f882183a",
   "metadata": {},
   "source": [
    "### 1 - Introduction"
   ]
  },
  {
   "cell_type": "code",
   "execution_count": 3,
   "id": "ea4f774c",
   "metadata": {},
   "outputs": [],
   "source": [
    "# class Book:\n",
    "\n",
    "# bu sekilde class tanimlariz, parantezlere gerek yok\n",
    "# parantezleri sadece baska bir class'tan inherit yapacaksak kullaniyoruz"
   ]
  },
  {
   "cell_type": "code",
   "execution_count": 4,
   "id": "2706faad",
   "metadata": {},
   "outputs": [],
   "source": [
    "class Book:\n",
    "    pass"
   ]
  },
  {
   "cell_type": "code",
   "execution_count": 5,
   "id": "b21d0b2a",
   "metadata": {},
   "outputs": [],
   "source": [
    "b1 = Book()"
   ]
  },
  {
   "cell_type": "code",
   "execution_count": 6,
   "id": "a0437b27",
   "metadata": {},
   "outputs": [
    {
     "data": {
      "text/plain": [
       "<__main__.Book at 0x7fcd0ba7b580>"
      ]
     },
     "execution_count": 6,
     "metadata": {},
     "output_type": "execute_result"
    }
   ],
   "source": [
    "b1"
   ]
  },
  {
   "cell_type": "markdown",
   "id": "318e0e9e",
   "metadata": {},
   "source": [
    "### 2 - Basic Class Definition"
   ]
  },
  {
   "cell_type": "code",
   "execution_count": 8,
   "id": "c1e59eda",
   "metadata": {},
   "outputs": [],
   "source": [
    "class Book:\n",
    "    def __init__(self, title):\n",
    "        self.title = title"
   ]
  },
  {
   "cell_type": "code",
   "execution_count": 9,
   "id": "625a404a",
   "metadata": {},
   "outputs": [],
   "source": [
    "b1 = Book('Brave New World')\n",
    "b2 = Book('War and Peace')"
   ]
  },
  {
   "cell_type": "code",
   "execution_count": 10,
   "id": "ef7c8c90",
   "metadata": {},
   "outputs": [
    {
     "name": "stdout",
     "output_type": "stream",
     "text": [
      "<__main__.Book object at 0x7fcd0baa38b0>\n",
      "Brave New World\n"
     ]
    }
   ],
   "source": [
    "print(b1)\n",
    "print(b1.title)"
   ]
  },
  {
   "cell_type": "markdown",
   "id": "079cabd4",
   "metadata": {},
   "source": [
    "### 3"
   ]
  },
  {
   "cell_type": "code",
   "execution_count": 13,
   "id": "bdd404a0",
   "metadata": {},
   "outputs": [],
   "source": [
    "class Book:\n",
    "    def __init__(self, title, author, pages, price):\n",
    "        self.title = title\n",
    "        self.author = author\n",
    "        self.pages = pages\n",
    "        self.price = price\n",
    "        \n",
    "    def getprice(self):\n",
    "        return self.price"
   ]
  },
  {
   "cell_type": "code",
   "execution_count": 14,
   "id": "5739f4d2",
   "metadata": {},
   "outputs": [],
   "source": [
    "b1 = Book('War and Peace', 'Leo Tolstoy', 1225, 39.95)"
   ]
  },
  {
   "cell_type": "code",
   "execution_count": 15,
   "id": "c7f82a11",
   "metadata": {},
   "outputs": [
    {
     "data": {
      "text/plain": [
       "39.95"
      ]
     },
     "execution_count": 15,
     "metadata": {},
     "output_type": "execute_result"
    }
   ],
   "source": [
    "b1.getprice()"
   ]
  },
  {
   "cell_type": "markdown",
   "id": "eb405dfe",
   "metadata": {},
   "source": [
    "### 4 - Instance Methods and Attributes"
   ]
  },
  {
   "cell_type": "code",
   "execution_count": 13,
   "id": "8c8d1637",
   "metadata": {},
   "outputs": [],
   "source": [
    "class Book:\n",
    "    def __init__(self, title, author, pages, price):\n",
    "        self.title = title\n",
    "        self.author = author\n",
    "        self.pages = pages\n",
    "        self.price = price\n",
    "        \n",
    "    def getprice(self):\n",
    "        if hasattr(self, '_discount'): # discount attribute'u init asamasinda tanimlanmadigi icin getprice \n",
    "                        # cagirildiginda discount'un tanimlandigindan emin olamayiz, bu sebeple kontrol ediyoruz\n",
    "            return self.price - (self.price * self._discount)\n",
    "        else:\n",
    "            return self.price\n",
    "    \n",
    "    def setdiscount(self, amount):\n",
    "        self._discount = amount # discount onundeki _ ile bu attribute'un sadece bu class icinde kullanilmasinin\n",
    "                                # amaclandigini gostermis oluyoruz"
   ]
  },
  {
   "cell_type": "code",
   "execution_count": 14,
   "id": "b80325f9",
   "metadata": {},
   "outputs": [],
   "source": [
    "b1 = Book('War and Peace', 'Leo Tolstoy', 1225, 39.95)"
   ]
  },
  {
   "cell_type": "code",
   "execution_count": 15,
   "id": "34f0d36e",
   "metadata": {},
   "outputs": [
    {
     "name": "stdout",
     "output_type": "stream",
     "text": [
      "39.95\n",
      "29.962500000000002\n"
     ]
    }
   ],
   "source": [
    "print(b1.getprice())\n",
    "b1.setdiscount(0.25)\n",
    "print(b1.getprice())"
   ]
  },
  {
   "cell_type": "markdown",
   "id": "9436b9d4",
   "metadata": {},
   "source": [
    "### 5"
   ]
  },
  {
   "cell_type": "code",
   "execution_count": 26,
   "id": "2329cd35",
   "metadata": {},
   "outputs": [],
   "source": [
    "class Book:\n",
    "    def __init__(self, title, author, pages, price):\n",
    "        self.title = title\n",
    "        self.author = author\n",
    "        self.pages = pages\n",
    "        self.price = price\n",
    "        self.__secret = 'This is a secret book'"
   ]
  },
  {
   "cell_type": "code",
   "execution_count": 27,
   "id": "c9117de9",
   "metadata": {},
   "outputs": [],
   "source": [
    "b1 = Book('War and Peace', 'Leo Tolstoy', 1225, 39.95)"
   ]
  },
  {
   "cell_type": "code",
   "execution_count": 28,
   "id": "27d877a9",
   "metadata": {},
   "outputs": [
    {
     "ename": "AttributeError",
     "evalue": "'Book' object has no attribute '__secret'",
     "output_type": "error",
     "traceback": [
      "\u001b[0;31m---------------------------------------------------------------------------\u001b[0m",
      "\u001b[0;31mAttributeError\u001b[0m                            Traceback (most recent call last)",
      "\u001b[0;32m/var/folders/8h/k9jsy58x1213yy3fgg122yf80000gn/T/ipykernel_25738/2429360750.py\u001b[0m in \u001b[0;36m<module>\u001b[0;34m\u001b[0m\n\u001b[0;32m----> 1\u001b[0;31m \u001b[0mb1\u001b[0m\u001b[0;34m.\u001b[0m\u001b[0m__secret\u001b[0m\u001b[0;34m\u001b[0m\u001b[0;34m\u001b[0m\u001b[0m\n\u001b[0m",
      "\u001b[0;31mAttributeError\u001b[0m: 'Book' object has no attribute '__secret'"
     ]
    }
   ],
   "source": [
    "b1.__secret\n",
    "\n",
    "# burada python farkli class'larin secret attribute'una ulasmaya calismasi durumunda onu gorunmez kiliyor\n",
    "# bu durumu ancak basina kendi class'inin ismini yazmamiz durumunda asabiliyoruz"
   ]
  },
  {
   "cell_type": "code",
   "execution_count": 29,
   "id": "b31ce86a",
   "metadata": {},
   "outputs": [
    {
     "data": {
      "text/plain": [
       "'This is a secret book'"
      ]
     },
     "execution_count": 29,
     "metadata": {},
     "output_type": "execute_result"
    }
   ],
   "source": [
    "b1._Book__secret"
   ]
  },
  {
   "cell_type": "markdown",
   "id": "b4df96f4",
   "metadata": {},
   "source": [
    "### 6 - Checking Instance Types"
   ]
  },
  {
   "cell_type": "code",
   "execution_count": 36,
   "id": "67769ba6",
   "metadata": {},
   "outputs": [],
   "source": [
    "class Book:\n",
    "    def __init__(self, title):\n",
    "        self.title = title\n",
    "        \n",
    "class Newspaper:\n",
    "    def __init__(self, name):\n",
    "        self.name = name"
   ]
  },
  {
   "cell_type": "code",
   "execution_count": 37,
   "id": "842765a8",
   "metadata": {},
   "outputs": [],
   "source": [
    "b1 = Book('War and Peace')\n",
    "b2 = Book('Brave New World')\n",
    "n1 = Newspaper('The Washington Post')"
   ]
  },
  {
   "cell_type": "code",
   "execution_count": 38,
   "id": "9c06f507",
   "metadata": {},
   "outputs": [
    {
     "name": "stdout",
     "output_type": "stream",
     "text": [
      "<class '__main__.Book'>\n",
      "<class '__main__.Book'>\n",
      "<class '__main__.Newspaper'>\n"
     ]
    }
   ],
   "source": [
    "print(type(b1))\n",
    "print(type(b2))\n",
    "print(type(n1))"
   ]
  },
  {
   "cell_type": "code",
   "execution_count": 39,
   "id": "37a9e654",
   "metadata": {},
   "outputs": [
    {
     "name": "stdout",
     "output_type": "stream",
     "text": [
      "True\n",
      "False\n"
     ]
    }
   ],
   "source": [
    "print(type(b1) == type(b2))\n",
    "print(type(b1) == type(n1))"
   ]
  },
  {
   "cell_type": "code",
   "execution_count": 41,
   "id": "0c3dd080",
   "metadata": {},
   "outputs": [
    {
     "name": "stdout",
     "output_type": "stream",
     "text": [
      "True\n",
      "True\n",
      "False\n",
      "True\n"
     ]
    }
   ],
   "source": [
    "print(isinstance(b1, Book))\n",
    "print(isinstance(n1, Newspaper))\n",
    "print(isinstance(b1, Newspaper))\n",
    "print(isinstance(b1, object)) # tum instance'lar object class'inin instance'idirlar cunku tum class'lar object \n",
    "                              # class'indan inherit ederler"
   ]
  },
  {
   "cell_type": "code",
   "execution_count": 44,
   "id": "626cba82",
   "metadata": {},
   "outputs": [
    {
     "name": "stdout",
     "output_type": "stream",
     "text": [
      "True\n",
      "True\n"
     ]
    }
   ],
   "source": [
    "print(issubclass(Book, object))\n",
    "print(issubclass(Newspaper, object))"
   ]
  },
  {
   "cell_type": "markdown",
   "id": "82394b20",
   "metadata": {},
   "source": [
    "### 7 - Class Methods and Members"
   ]
  },
  {
   "cell_type": "code",
   "execution_count": 55,
   "id": "c9a25c0d",
   "metadata": {},
   "outputs": [],
   "source": [
    "class Book:\n",
    "    # properties defined at the class level are shared by all instances\n",
    "    BOOK_TYPES = ['HARDCOVER', 'PAPERBACK', 'EBOOK'] # bu da class attribute\n",
    "    \n",
    "    # double underscore properties are hidden from other classes\n",
    "    __booklist = None\n",
    "    \n",
    "    # create a class method\n",
    "    @classmethod # class'in bir metodu oldugu icin bu dekoratoru kullandik\n",
    "    def getbooktypes(cls):\n",
    "        return cls.BOOK_TYPES\n",
    "    \n",
    "    # create a static method\n",
    "    @staticmethod\n",
    "    def getbooklist():\n",
    "        if Book.__booklist is None:\n",
    "            Book.__booklist = []\n",
    "        return Book.__booklist\n",
    "    \n",
    "    def __init__(self, title, booktype): # init icerisinde girilenler instance attribute\n",
    "        if booktype not in Book.BOOK_TYPES:\n",
    "            raise ValueError(f'{booktype} is not a valid booktype.')\n",
    "        else:\n",
    "            self.booktype = booktype\n",
    "            \n",
    "    def setTitle(self, newtitle):\n",
    "        self.title = newtitle"
   ]
  },
  {
   "cell_type": "code",
   "execution_count": 56,
   "id": "24be26eb",
   "metadata": {},
   "outputs": [
    {
     "name": "stdout",
     "output_type": "stream",
     "text": [
      "Book types: ['HARDCOVER', 'PAPERBACK', 'EBOOK']\n"
     ]
    }
   ],
   "source": [
    "print('Book types:', Book.getbooktypes())"
   ]
  },
  {
   "cell_type": "code",
   "execution_count": 57,
   "id": "20d75e11",
   "metadata": {},
   "outputs": [],
   "source": [
    "b1 = Book('Title 1', 'HARDCOVER')"
   ]
  },
  {
   "cell_type": "code",
   "execution_count": 58,
   "id": "1608d374",
   "metadata": {},
   "outputs": [
    {
     "ename": "ValueError",
     "evalue": "COMIC is not a valid booktype.",
     "output_type": "error",
     "traceback": [
      "\u001b[0;31m---------------------------------------------------------------------------\u001b[0m",
      "\u001b[0;31mValueError\u001b[0m                                Traceback (most recent call last)",
      "\u001b[0;32m/var/folders/8h/k9jsy58x1213yy3fgg122yf80000gn/T/ipykernel_25738/304500195.py\u001b[0m in \u001b[0;36m<module>\u001b[0;34m\u001b[0m\n\u001b[0;32m----> 1\u001b[0;31m \u001b[0mb2\u001b[0m \u001b[0;34m=\u001b[0m \u001b[0mBook\u001b[0m\u001b[0;34m(\u001b[0m\u001b[0;34m'Title 2'\u001b[0m\u001b[0;34m,\u001b[0m \u001b[0;34m'COMIC'\u001b[0m\u001b[0;34m)\u001b[0m\u001b[0;34m\u001b[0m\u001b[0;34m\u001b[0m\u001b[0m\n\u001b[0m",
      "\u001b[0;32m/var/folders/8h/k9jsy58x1213yy3fgg122yf80000gn/T/ipykernel_25738/3101344214.py\u001b[0m in \u001b[0;36m__init__\u001b[0;34m(self, title, booktype)\u001b[0m\n\u001b[1;32m     20\u001b[0m     \u001b[0;32mdef\u001b[0m \u001b[0m__init__\u001b[0m\u001b[0;34m(\u001b[0m\u001b[0mself\u001b[0m\u001b[0;34m,\u001b[0m \u001b[0mtitle\u001b[0m\u001b[0;34m,\u001b[0m \u001b[0mbooktype\u001b[0m\u001b[0;34m)\u001b[0m\u001b[0;34m:\u001b[0m \u001b[0;31m# init icerisinde girilenler instance attribute\u001b[0m\u001b[0;34m\u001b[0m\u001b[0;34m\u001b[0m\u001b[0m\n\u001b[1;32m     21\u001b[0m         \u001b[0;32mif\u001b[0m \u001b[0mbooktype\u001b[0m \u001b[0;32mnot\u001b[0m \u001b[0;32min\u001b[0m \u001b[0mBook\u001b[0m\u001b[0;34m.\u001b[0m\u001b[0mBOOK_TYPES\u001b[0m\u001b[0;34m:\u001b[0m\u001b[0;34m\u001b[0m\u001b[0;34m\u001b[0m\u001b[0m\n\u001b[0;32m---> 22\u001b[0;31m             \u001b[0;32mraise\u001b[0m \u001b[0mValueError\u001b[0m\u001b[0;34m(\u001b[0m\u001b[0;34mf'{booktype} is not a valid booktype.'\u001b[0m\u001b[0;34m)\u001b[0m\u001b[0;34m\u001b[0m\u001b[0;34m\u001b[0m\u001b[0m\n\u001b[0m\u001b[1;32m     23\u001b[0m         \u001b[0;32melse\u001b[0m\u001b[0;34m:\u001b[0m\u001b[0;34m\u001b[0m\u001b[0;34m\u001b[0m\u001b[0m\n\u001b[1;32m     24\u001b[0m             \u001b[0mself\u001b[0m\u001b[0;34m.\u001b[0m\u001b[0mbooktype\u001b[0m \u001b[0;34m=\u001b[0m \u001b[0mbooktype\u001b[0m\u001b[0;34m\u001b[0m\u001b[0;34m\u001b[0m\u001b[0m\n",
      "\u001b[0;31mValueError\u001b[0m: COMIC is not a valid booktype."
     ]
    }
   ],
   "source": [
    "b2 = Book('Title 2', 'COMIC')"
   ]
  },
  {
   "cell_type": "code",
   "execution_count": 59,
   "id": "d9b396c1",
   "metadata": {},
   "outputs": [],
   "source": [
    "b2 = Book('Title 2', 'PAPERBACK')"
   ]
  },
  {
   "cell_type": "code",
   "execution_count": 60,
   "id": "05e31c50",
   "metadata": {},
   "outputs": [
    {
     "data": {
      "text/plain": [
       "'HARDCOVER'"
      ]
     },
     "execution_count": 60,
     "metadata": {},
     "output_type": "execute_result"
    }
   ],
   "source": [
    "b1.booktype"
   ]
  },
  {
   "cell_type": "code",
   "execution_count": 61,
   "id": "5abade70",
   "metadata": {},
   "outputs": [
    {
     "data": {
      "text/plain": [
       "'PAPERBACK'"
      ]
     },
     "execution_count": 61,
     "metadata": {},
     "output_type": "execute_result"
    }
   ],
   "source": [
    "b2.booktype"
   ]
  },
  {
   "cell_type": "code",
   "execution_count": 62,
   "id": "e94766f3",
   "metadata": {},
   "outputs": [
    {
     "name": "stdout",
     "output_type": "stream",
     "text": [
      "[<__main__.Book object at 0x7fcd0d07eb80>, <__main__.Book object at 0x7fcd0d07e160>]\n"
     ]
    }
   ],
   "source": [
    "thebooks = Book.getbooklist()\n",
    "thebooks.append(b1)\n",
    "thebooks.append(b2)\n",
    "print(thebooks)"
   ]
  },
  {
   "cell_type": "code",
   "execution_count": 71,
   "id": "13ece85f",
   "metadata": {},
   "outputs": [
    {
     "data": {
      "text/plain": [
       "'HARDCOVER'"
      ]
     },
     "execution_count": 71,
     "metadata": {},
     "output_type": "execute_result"
    }
   ],
   "source": [
    "thebooks[0].booktype"
   ]
  },
  {
   "cell_type": "markdown",
   "id": "8b5e3874",
   "metadata": {},
   "source": [
    "### 8 - Inheritence"
   ]
  },
  {
   "cell_type": "code",
   "execution_count": 73,
   "id": "225c2a88",
   "metadata": {},
   "outputs": [],
   "source": [
    "class Book:\n",
    "    def __init__(self, title, author, pages, price):\n",
    "        self.title = title\n",
    "        self.author = author\n",
    "        self.pages = pages\n",
    "        self.price = price\n",
    "        \n",
    "class Magazine:\n",
    "    def __init__(self, title, publisher, price, period):\n",
    "        self.title = title\n",
    "        self.publisher = publisher\n",
    "        self.price = price\n",
    "        self.period = period\n",
    "        \n",
    "class Newspaper:\n",
    "    def __init__(self, title, publisher, price, period):\n",
    "        self.title = title\n",
    "        self.publisher = publisher\n",
    "        self.price = price\n",
    "        self.period = period"
   ]
  },
  {
   "cell_type": "code",
   "execution_count": 74,
   "id": "c4bd5170",
   "metadata": {},
   "outputs": [],
   "source": [
    "b1 = Book('Brave New World', 'Aldous Huxley', 311, 29.0)\n",
    "n1 = Newspaper('NY Times', 'New York Times Company', 6.0, 'Daily')\n",
    "m1 = Magazine('Scientific American', 'Springer Nature', 5.99, 'Monthly')"
   ]
  },
  {
   "cell_type": "code",
   "execution_count": 75,
   "id": "97ecedd3",
   "metadata": {},
   "outputs": [
    {
     "name": "stdout",
     "output_type": "stream",
     "text": [
      "Aldous Huxley\n",
      "Daily\n",
      "29.0 6.0 5.99\n"
     ]
    }
   ],
   "source": [
    "print(b1.author)\n",
    "print(n1.period)\n",
    "print(b1.price, n1.price, m1.price)"
   ]
  },
  {
   "cell_type": "code",
   "execution_count": null,
   "id": "67fc260e",
   "metadata": {},
   "outputs": [],
   "source": [
    "# Bunlarin yerine:"
   ]
  },
  {
   "cell_type": "code",
   "execution_count": 79,
   "id": "29d19660",
   "metadata": {},
   "outputs": [],
   "source": [
    "class Publication:\n",
    "    def __init__(self, title, price):\n",
    "        self.title = title\n",
    "        self.price = price\n",
    "        \n",
    "class Periodical(Publication):\n",
    "    def __init__(self, title, price, publisher, period):\n",
    "        super().__init__(title, price)\n",
    "        self.publisher = publisher\n",
    "        self.period = period\n",
    "        \n",
    "class Book(Publication):\n",
    "    def __init__(self, title, author, pages, price):\n",
    "        super().__init__(title, price)\n",
    "        self.author = author\n",
    "        self.pages = pages\n",
    "        \n",
    "class Magazine(Periodical):\n",
    "    def __init__(self, title, publisher, price, period):\n",
    "        super().__init__(title, price, publisher, period)\n",
    "        \n",
    "class Newspaper(Periodical):\n",
    "    def __init__(self, title, publisher, price, period):\n",
    "        super().__init__(title, price, publisher, period)      "
   ]
  },
  {
   "cell_type": "code",
   "execution_count": 80,
   "id": "8a6e54f6",
   "metadata": {},
   "outputs": [],
   "source": [
    "b1 = Book('Brave New World', 'Aldous Huxley', 311, 29.0)\n",
    "n1 = Newspaper('NY Times', 'New York Times Company', 6.0, 'Daily')\n",
    "m1 = Magazine('Scientific American', 'Springer Nature', 5.99, 'Monthly')"
   ]
  },
  {
   "cell_type": "code",
   "execution_count": 81,
   "id": "6f86ebaa",
   "metadata": {},
   "outputs": [
    {
     "name": "stdout",
     "output_type": "stream",
     "text": [
      "Aldous Huxley\n",
      "Daily\n",
      "29.0 6.0 5.99\n"
     ]
    }
   ],
   "source": [
    "print(b1.author)\n",
    "print(n1.period)\n",
    "print(b1.price, n1.price, m1.price)"
   ]
  },
  {
   "cell_type": "markdown",
   "id": "4f8f4db4",
   "metadata": {},
   "source": [
    "### 9 - Abstract Base Classes"
   ]
  },
  {
   "cell_type": "code",
   "execution_count": 87,
   "id": "9f984449",
   "metadata": {},
   "outputs": [],
   "source": [
    "# Using abstract base classes to enforce class constraints\n",
    "\n",
    "class GraphicShape:\n",
    "    def __init__(self):\n",
    "        super().__init__()\n",
    "        \n",
    "    def calcarea(self):\n",
    "        pass\n",
    "    \n",
    "class Circle(GraphicShape):\n",
    "    def __init__(self, radius):\n",
    "        self.radius = radius\n",
    "        \n",
    "class Square(GraphicShape):\n",
    "    def __init__(self, side):\n",
    "        self.side = side"
   ]
  },
  {
   "cell_type": "code",
   "execution_count": 88,
   "id": "0b310291",
   "metadata": {},
   "outputs": [],
   "source": [
    "g = GraphicShape()"
   ]
  },
  {
   "cell_type": "code",
   "execution_count": 89,
   "id": "9defea70",
   "metadata": {},
   "outputs": [
    {
     "name": "stdout",
     "output_type": "stream",
     "text": [
      "None\n"
     ]
    }
   ],
   "source": [
    "c = Circle(10)\n",
    "print(c.calcarea())"
   ]
  },
  {
   "cell_type": "code",
   "execution_count": 90,
   "id": "74c691c8",
   "metadata": {},
   "outputs": [],
   "source": [
    "# Su anda bir contraint uygulayamiyoruz"
   ]
  },
  {
   "cell_type": "code",
   "execution_count": 95,
   "id": "6a37f5a4",
   "metadata": {},
   "outputs": [
    {
     "ename": "TypeError",
     "evalue": "Can't instantiate abstract class GraphicShape with abstract method calcarea",
     "output_type": "error",
     "traceback": [
      "\u001b[0;31m---------------------------------------------------------------------------\u001b[0m",
      "\u001b[0;31mTypeError\u001b[0m                                 Traceback (most recent call last)",
      "\u001b[0;32m/var/folders/8h/k9jsy58x1213yy3fgg122yf80000gn/T/ipykernel_25738/3454462610.py\u001b[0m in \u001b[0;36m<module>\u001b[0;34m\u001b[0m\n\u001b[1;32m     17\u001b[0m         \u001b[0mself\u001b[0m\u001b[0;34m.\u001b[0m\u001b[0mside\u001b[0m \u001b[0;34m=\u001b[0m \u001b[0mside\u001b[0m\u001b[0;34m\u001b[0m\u001b[0;34m\u001b[0m\u001b[0m\n\u001b[1;32m     18\u001b[0m \u001b[0;34m\u001b[0m\u001b[0m\n\u001b[0;32m---> 19\u001b[0;31m \u001b[0mg\u001b[0m \u001b[0;34m=\u001b[0m \u001b[0mGraphicShape\u001b[0m\u001b[0;34m(\u001b[0m\u001b[0;34m)\u001b[0m\u001b[0;34m\u001b[0m\u001b[0;34m\u001b[0m\u001b[0m\n\u001b[0m",
      "\u001b[0;31mTypeError\u001b[0m: Can't instantiate abstract class GraphicShape with abstract method calcarea"
     ]
    }
   ],
   "source": [
    "from abc import ABC, abstractmethod\n",
    "\n",
    "class GraphicShape(ABC):\n",
    "    def __init__(self):\n",
    "        super().__init__()\n",
    "    \n",
    "    @abstractmethod # bu metod ile buradaki class'i inherit eden diger class'larin bu metodu kendi bunyelerine \n",
    "                    # dahil etmeleri konusunda zorluyorum, eger bu metodu dahil etmezlerse hata verir\n",
    "    def calcarea(self):\n",
    "        pass\n",
    "    \n",
    "class Circle(GraphicShape):\n",
    "    def __init__(self, radius):\n",
    "        self.radius = radius\n",
    "        \n",
    "class Square(GraphicShape):\n",
    "    def __init__(self, side):\n",
    "        self.side = side\n",
    "        \n",
    "g = GraphicShape() # abc ile direkt olarak base class'imizi instantiate edemiyor duruma geliyoruz"
   ]
  },
  {
   "cell_type": "code",
   "execution_count": 96,
   "id": "ca7ecad3",
   "metadata": {},
   "outputs": [],
   "source": [
    "from abc import ABC, abstractmethod\n",
    "\n",
    "class GraphicShape(ABC):\n",
    "    def __init__(self):\n",
    "        super().__init__()\n",
    "    \n",
    "    @abstractmethod\n",
    "    def calcarea(self):\n",
    "        pass\n",
    "    \n",
    "class Circle(GraphicShape):\n",
    "    def __init__(self, radius):\n",
    "        self.radius = radius\n",
    "        \n",
    "    def calcarea(self): # burada calcarea'yi dahil ederek hatayi engelledim\n",
    "        return 3.14 * (self.radius ** 2)\n",
    "        \n",
    "class Square(GraphicShape):\n",
    "    def __init__(self, side):\n",
    "        self.side = side\n",
    "        \n",
    "    def calcarea(self):\n",
    "        return self.side * self.side"
   ]
  },
  {
   "cell_type": "code",
   "execution_count": 97,
   "id": "9da2e008",
   "metadata": {},
   "outputs": [
    {
     "name": "stdout",
     "output_type": "stream",
     "text": [
      "314.0\n"
     ]
    }
   ],
   "source": [
    "c = Circle(10)\n",
    "print(c.calcarea())"
   ]
  },
  {
   "cell_type": "code",
   "execution_count": 100,
   "id": "43ff4b61",
   "metadata": {},
   "outputs": [
    {
     "name": "stdout",
     "output_type": "stream",
     "text": [
      "100\n"
     ]
    }
   ],
   "source": [
    "s = Square(10)\n",
    "print(s.calcarea())"
   ]
  },
  {
   "cell_type": "markdown",
   "id": "d25377a0",
   "metadata": {},
   "source": [
    "### 10 - Multiple Inheritence"
   ]
  },
  {
   "cell_type": "code",
   "execution_count": 101,
   "id": "c569964a",
   "metadata": {},
   "outputs": [],
   "source": [
    "class A:\n",
    "    def __init__(self):\n",
    "        super().__init__()\n",
    "        self.foo = 'foo'\n",
    "\n",
    "class B:\n",
    "    def __init__(self):\n",
    "        super().__init__()\n",
    "        self.bar = 'bar'\n",
    "        \n",
    "class C(A, B):\n",
    "    def __init__(self):\n",
    "        super().__init__()\n",
    "        \n",
    "    def showprops(self):\n",
    "        print(self.foo)\n",
    "        print(self.bar)"
   ]
  },
  {
   "cell_type": "code",
   "execution_count": 102,
   "id": "38bea9ef",
   "metadata": {},
   "outputs": [],
   "source": [
    "c = C()"
   ]
  },
  {
   "cell_type": "code",
   "execution_count": 104,
   "id": "2913e35d",
   "metadata": {},
   "outputs": [
    {
     "name": "stdout",
     "output_type": "stream",
     "text": [
      "foo\n",
      "bar\n"
     ]
    }
   ],
   "source": [
    "c.showprops()"
   ]
  },
  {
   "cell_type": "code",
   "execution_count": 105,
   "id": "af73c67c",
   "metadata": {},
   "outputs": [],
   "source": [
    "# what if"
   ]
  },
  {
   "cell_type": "code",
   "execution_count": 115,
   "id": "389121fe",
   "metadata": {},
   "outputs": [],
   "source": [
    "class A:\n",
    "    def __init__(self):\n",
    "        super().__init__()\n",
    "        self.foo = 'foo'\n",
    "        self.name = 'class A'\n",
    "\n",
    "class B:\n",
    "    def __init__(self):\n",
    "        super().__init__()\n",
    "        self.bar = 'bar'\n",
    "        self.name = 'class B'\n",
    "        \n",
    "class C(A, B):\n",
    "    def __init__(self):\n",
    "        super().__init__()\n",
    "        \n",
    "    def showprops(self):\n",
    "        print(self.foo)\n",
    "        print(self.bar)\n",
    "        print(self.name)"
   ]
  },
  {
   "cell_type": "code",
   "execution_count": 116,
   "id": "ff5a6e3b",
   "metadata": {},
   "outputs": [],
   "source": [
    "c = C()"
   ]
  },
  {
   "cell_type": "code",
   "execution_count": 117,
   "id": "c1885ebe",
   "metadata": {},
   "outputs": [
    {
     "name": "stdout",
     "output_type": "stream",
     "text": [
      "foo\n",
      "bar\n",
      "class A\n"
     ]
    }
   ],
   "source": [
    "c.showprops()"
   ]
  },
  {
   "cell_type": "code",
   "execution_count": 118,
   "id": "15e8f9c3",
   "metadata": {},
   "outputs": [
    {
     "data": {
      "text/plain": [
       "(__main__.C, __main__.A, __main__.B, object)"
      ]
     },
     "execution_count": 118,
     "metadata": {},
     "output_type": "execute_result"
    }
   ],
   "source": [
    "C.__mro__\n",
    "\n",
    "# method resolution order\n",
    "# bu class cagirildigindan ilk once C'nin kendisine, sonra ilk inheritence yaptigi A class'ina, en son da\n",
    "# B class'ina bakacak"
   ]
  },
  {
   "cell_type": "markdown",
   "id": "ce505cba",
   "metadata": {},
   "source": [
    "### 12 - Interfaces"
   ]
  },
  {
   "cell_type": "code",
   "execution_count": 121,
   "id": "b1b0dce7",
   "metadata": {},
   "outputs": [
    {
     "ename": "TypeError",
     "evalue": "Can't instantiate abstract class Circle with abstract method to_json",
     "output_type": "error",
     "traceback": [
      "\u001b[0;31m---------------------------------------------------------------------------\u001b[0m",
      "\u001b[0;31mTypeError\u001b[0m                                 Traceback (most recent call last)",
      "\u001b[0;32m/var/folders/8h/k9jsy58x1213yy3fgg122yf80000gn/T/ipykernel_25738/4064373901.py\u001b[0m in \u001b[0;36m<module>\u001b[0;34m\u001b[0m\n\u001b[1;32m     22\u001b[0m         \u001b[0;32mreturn\u001b[0m \u001b[0;36m3.14\u001b[0m \u001b[0;34m*\u001b[0m \u001b[0;34m(\u001b[0m\u001b[0mself\u001b[0m\u001b[0;34m.\u001b[0m\u001b[0mradius\u001b[0m \u001b[0;34m**\u001b[0m \u001b[0;36m2\u001b[0m\u001b[0;34m)\u001b[0m\u001b[0;34m\u001b[0m\u001b[0;34m\u001b[0m\u001b[0m\n\u001b[1;32m     23\u001b[0m \u001b[0;34m\u001b[0m\u001b[0m\n\u001b[0;32m---> 24\u001b[0;31m \u001b[0mc\u001b[0m \u001b[0;34m=\u001b[0m \u001b[0mCircle\u001b[0m\u001b[0;34m(\u001b[0m\u001b[0;36m10\u001b[0m\u001b[0;34m)\u001b[0m\u001b[0;34m\u001b[0m\u001b[0;34m\u001b[0m\u001b[0m\n\u001b[0m",
      "\u001b[0;31mTypeError\u001b[0m: Can't instantiate abstract class Circle with abstract method to_json"
     ]
    }
   ],
   "source": [
    "from abc import ABC, abstractmethod\n",
    "\n",
    "class JSONify(ABC):\n",
    "    @abstractmethod\n",
    "    def to_json(self):\n",
    "        pass\n",
    "\n",
    "class GraphicShape(ABC):\n",
    "    def __init__(self):\n",
    "        super().__init__()\n",
    "    \n",
    "    @abstractmethod # bu metod ile buradaki class'i inherit eden diger class'larin bu metodu kendi bunyelerine \n",
    "                    # dahil etmeleri konusunda zorluyorum, eger bu metodu dahil etmezlerse hata verir\n",
    "    def calcarea(self):\n",
    "        pass\n",
    "    \n",
    "class Circle(GraphicShape, JSONify):\n",
    "    def __init__(self, radius):\n",
    "        self.radius = radius\n",
    "        \n",
    "    def calcarea(self): # burada calcarea'yi dahil ederek hatayi engelledim\n",
    "        return 3.14 * (self.radius ** 2)\n",
    "    \n",
    "c = Circle(10)"
   ]
  },
  {
   "cell_type": "code",
   "execution_count": 123,
   "id": "418f6be4",
   "metadata": {},
   "outputs": [],
   "source": [
    "from abc import ABC, abstractmethod\n",
    "\n",
    "class JSONify(ABC):\n",
    "    @abstractmethod\n",
    "    def to_json(self):\n",
    "        pass\n",
    "\n",
    "class GraphicShape(ABC):\n",
    "    def __init__(self):\n",
    "        super().__init__()\n",
    "    \n",
    "    @abstractmethod # bu metod ile buradaki class'i inherit eden diger class'larin bu metodu kendi bunyelerine \n",
    "                    # dahil etmeleri konusunda zorluyorum, eger bu metodu dahil etmezlerse hata verir\n",
    "    def calcarea(self):\n",
    "        pass\n",
    "    \n",
    "class Circle(GraphicShape, JSONify):\n",
    "    def __init__(self, radius):\n",
    "        self.radius = radius\n",
    "        \n",
    "    def calcarea(self): # burada calcarea'yi dahil ederek hatayi engelledim\n",
    "        return 3.14 * (self.radius ** 2)\n",
    "    \n",
    "    def to_json(self): # Circle class'ini JSONify class'ini inherit ederek kurdugumuz icin burada to_json metodunu\n",
    "                       # kurmam gerekiyor, cunku bunu abstractmethod olarak zorluyorum\n",
    "        return f\"{{\\' circle\\': {str(self.calcarea())} }}\"\n",
    "    \n",
    "c = Circle(10)"
   ]
  },
  {
   "cell_type": "code",
   "execution_count": 125,
   "id": "6c06d020",
   "metadata": {},
   "outputs": [
    {
     "data": {
      "text/plain": [
       "\"{' circle': 314.0 }\""
      ]
     },
     "execution_count": 125,
     "metadata": {},
     "output_type": "execute_result"
    }
   ],
   "source": [
    "c.to_json()"
   ]
  },
  {
   "cell_type": "code",
   "execution_count": 126,
   "id": "b26b1783",
   "metadata": {},
   "outputs": [
    {
     "data": {
      "text/plain": [
       "314.0"
      ]
     },
     "execution_count": 126,
     "metadata": {},
     "output_type": "execute_result"
    }
   ],
   "source": [
    "c.calcarea()"
   ]
  },
  {
   "cell_type": "markdown",
   "id": "75e075a6",
   "metadata": {},
   "source": [
    "### 13 - Understanding Composition"
   ]
  },
  {
   "cell_type": "code",
   "execution_count": 127,
   "id": "49384bea",
   "metadata": {},
   "outputs": [
    {
     "name": "stdout",
     "output_type": "stream",
     "text": [
      "War and Peace\n"
     ]
    }
   ],
   "source": [
    "class Book:\n",
    "    def __init__(self, title, price, authorfname, authorlname):\n",
    "        self.title = title\n",
    "        self.price = price\n",
    "        \n",
    "        self.authorfname = authorfname\n",
    "        self.authorlname = authorlname\n",
    "        \n",
    "        self.chapters = []\n",
    "        \n",
    "    def addchapters(self, name, pages):\n",
    "        self.chapters.append((name, pages))\n",
    "        \n",
    "b1 = Book('War and Peace', 39.0, 'Leo', 'Tolstoy')\n",
    "\n",
    "b1.addchapters('Chapter 1', 125)\n",
    "b1.addchapters('Chapter 2', 97)\n",
    "b1.addchapters('Chapter 3', 143)\n",
    "\n",
    "print(b1.title)"
   ]
  },
  {
   "cell_type": "code",
   "execution_count": 128,
   "id": "6ca39be4",
   "metadata": {},
   "outputs": [],
   "source": [
    "# Now"
   ]
  },
  {
   "cell_type": "code",
   "execution_count": 129,
   "id": "f92c2d6c",
   "metadata": {},
   "outputs": [
    {
     "name": "stdout",
     "output_type": "stream",
     "text": [
      "Leo Tolstoy\n",
      "War and Peace\n",
      "365\n"
     ]
    }
   ],
   "source": [
    "class Book:\n",
    "    def __init__(self, title, price, author=None):\n",
    "        self.title = title\n",
    "        self.price = price\n",
    "        \n",
    "        self.author = author\n",
    "        \n",
    "        self.chapters = []\n",
    "        \n",
    "    def addchapters(self, chapter):\n",
    "        self.chapters.append(chapter)\n",
    "        \n",
    "    def getbookpagecount(self):\n",
    "        result = 0\n",
    "        for ch in self.chapters:\n",
    "            result += ch.pagecount\n",
    "        return result\n",
    "        \n",
    "class Author:\n",
    "    def __init__(self, fname, lname):\n",
    "        self.fname = fname\n",
    "        self.lname = lname\n",
    "        \n",
    "    def __str__(self):\n",
    "        return f'{self.fname} {self.lname}'\n",
    "    \n",
    "class Chapter:\n",
    "    def __init__(self, name, pagecount):\n",
    "        self.name = name\n",
    "        self.pagecount = pagecount\n",
    "        \n",
    "        \n",
    "aut = Author('Leo', 'Tolstoy')\n",
    "b1 = Book('War and Peace', 39.0, aut)\n",
    "\n",
    "b1.addchapters(Chapter('Chapter 1', 125))\n",
    "b1.addchapters(Chapter('Chapter 2', 97))\n",
    "b1.addchapters(Chapter('Chapter 3', 143))\n",
    "\n",
    "print(b1.author)\n",
    "print(b1.title)\n",
    "print(b1.getbookpagecount())"
   ]
  },
  {
   "cell_type": "markdown",
   "id": "8955f997",
   "metadata": {},
   "source": [
    "### 14 - Magic Methods"
   ]
  },
  {
   "cell_type": "code",
   "execution_count": 131,
   "id": "4993e0d0",
   "metadata": {},
   "outputs": [
    {
     "name": "stdout",
     "output_type": "stream",
     "text": [
      "<__main__.Book object at 0x7fcd0db4ba60>\n"
     ]
    }
   ],
   "source": [
    "class Book:\n",
    "    def __init__(self, title, author, price):\n",
    "        super().__init__()\n",
    "        self.title = title\n",
    "        self.author = author\n",
    "        self.price = price\n",
    "        \n",
    "    # use the __str__ method to return a string\n",
    "    \n",
    "    \n",
    "    # use the __repr__ method to return an obj representation\n",
    "    \n",
    "    \n",
    "b1 = Book('War and Peace', 'Leo Tolstoy', 39.0)\n",
    "\n",
    "print(b1)"
   ]
  },
  {
   "cell_type": "code",
   "execution_count": 132,
   "id": "027a0fb3",
   "metadata": {},
   "outputs": [],
   "source": [
    "# Now"
   ]
  },
  {
   "cell_type": "code",
   "execution_count": 133,
   "id": "743b1686",
   "metadata": {},
   "outputs": [
    {
     "name": "stdout",
     "output_type": "stream",
     "text": [
      "War and Peace by Leo Tolstoy costs 39.0.\n"
     ]
    }
   ],
   "source": [
    "class Book:\n",
    "    def __init__(self, title, author, price):\n",
    "        super().__init__()\n",
    "        self.title = title\n",
    "        self.author = author\n",
    "        self.price = price\n",
    "        \n",
    "    # use the __str__ method to return a string\n",
    "    def __str__(self):\n",
    "        return f\"{self.title} by {self.author} costs {self.price}.\"\n",
    "    \n",
    "    # use the __repr__ method to return an obj representation\n",
    "    \n",
    "    \n",
    "b1 = Book('War and Peace', 'Leo Tolstoy', 39.0)\n",
    "\n",
    "print(b1)"
   ]
  },
  {
   "cell_type": "code",
   "execution_count": 134,
   "id": "59cc24b3",
   "metadata": {},
   "outputs": [],
   "source": [
    "# Now"
   ]
  },
  {
   "cell_type": "code",
   "execution_count": 136,
   "id": "a799b12c",
   "metadata": {},
   "outputs": [
    {
     "name": "stdout",
     "output_type": "stream",
     "text": [
      "War and Peace by Leo Tolstoy costs 39.0.\n",
      "title=War and Peace, author=Leo Tolstoy, price=39.0\n"
     ]
    }
   ],
   "source": [
    "class Book:\n",
    "    def __init__(self, title, author, price):\n",
    "        super().__init__()\n",
    "        self.title = title\n",
    "        self.author = author\n",
    "        self.price = price\n",
    "        \n",
    "    # use the __str__ method to return a string\n",
    "    def __str__(self):\n",
    "        return f\"{self.title} by {self.author} costs {self.price}.\"\n",
    "    \n",
    "    # use the __repr__ method to return an obj representation\n",
    "    def __repr__(self):\n",
    "        return f\"title={self.title}, author={self.author}, price={self.price}\"\n",
    "    \n",
    "b1 = Book('War and Peace', 'Leo Tolstoy', 39.0)\n",
    "\n",
    "print(str(b1))\n",
    "print(repr(b1))\n",
    "\n",
    "# direkt olarak print yazarsam str methodu calistiriyor, repr'i cagiracaksam ozellikle bunu kullanarak cagirmam\n",
    "# gerekiyor"
   ]
  },
  {
   "cell_type": "markdown",
   "id": "95f523ea",
   "metadata": {},
   "source": [
    "### 15 - Equality and Comparison"
   ]
  },
  {
   "cell_type": "code",
   "execution_count": 138,
   "id": "a2e1b4ec",
   "metadata": {},
   "outputs": [
    {
     "data": {
      "text/plain": [
       "False"
      ]
     },
     "execution_count": 138,
     "metadata": {},
     "output_type": "execute_result"
    }
   ],
   "source": [
    "class Book:\n",
    "    def __init__(self, title, author, price):\n",
    "        super().__init__()\n",
    "        self.title = title\n",
    "        self.author = author\n",
    "        self.price = price\n",
    "        \n",
    "b1 = Book('War and Peace', 'Leo Tolstoy', 39.0)\n",
    "b2 = Book('Catcher in the Rye', 'JD Salinger', 29.95)\n",
    "b3 = Book('War and Peace', 'Leo Tolstoy', 39.0)\n",
    "b4 = Book('To Kill a Mockingbird', 'Harper Lee', 24.95)\n",
    "\n",
    "b1 == b3"
   ]
  },
  {
   "cell_type": "code",
   "execution_count": 139,
   "id": "c9ca72bd",
   "metadata": {},
   "outputs": [],
   "source": [
    "# Now"
   ]
  },
  {
   "cell_type": "code",
   "execution_count": 144,
   "id": "1d50f974",
   "metadata": {},
   "outputs": [
    {
     "name": "stdout",
     "output_type": "stream",
     "text": [
      "True\n",
      "False\n"
     ]
    }
   ],
   "source": [
    "class Book:\n",
    "    def __init__(self, title, author, price):\n",
    "        super().__init__()\n",
    "        self.title = title\n",
    "        self.author = author\n",
    "        self.price = price\n",
    "        \n",
    "    # the __eq__ method checks for equality between two objects\n",
    "    def __eq__(self, value):\n",
    "        if not isinstance(value, Book):\n",
    "            raise ValueError(f'Cannot compare a book to a non-book')\n",
    "        return (self.title == value.title and self.author == value.author and self.price == value.price)\n",
    "        \n",
    "b1 = Book('War and Peace', 'Leo Tolstoy', 39.0)\n",
    "b2 = Book('Catcher in the Rye', 'JD Salinger', 29.95)\n",
    "b3 = Book('War and Peace', 'Leo Tolstoy', 39.0)\n",
    "b4 = Book('To Kill a Mockingbird', 'Harper Lee', 24.95)\n",
    "\n",
    "print(b1 == b3)\n",
    "print(b1 == b2)"
   ]
  },
  {
   "cell_type": "code",
   "execution_count": 145,
   "id": "8795d2d7",
   "metadata": {},
   "outputs": [
    {
     "ename": "ValueError",
     "evalue": "Cannot compare a book to a non-book",
     "output_type": "error",
     "traceback": [
      "\u001b[0;31m---------------------------------------------------------------------------\u001b[0m",
      "\u001b[0;31mValueError\u001b[0m                                Traceback (most recent call last)",
      "\u001b[0;32m/var/folders/8h/k9jsy58x1213yy3fgg122yf80000gn/T/ipykernel_25738/38770953.py\u001b[0m in \u001b[0;36m<module>\u001b[0;34m\u001b[0m\n\u001b[0;32m----> 1\u001b[0;31m \u001b[0mprint\u001b[0m\u001b[0;34m(\u001b[0m\u001b[0mb1\u001b[0m \u001b[0;34m==\u001b[0m \u001b[0;36m42\u001b[0m\u001b[0;34m)\u001b[0m\u001b[0;34m\u001b[0m\u001b[0;34m\u001b[0m\u001b[0m\n\u001b[0m",
      "\u001b[0;32m/var/folders/8h/k9jsy58x1213yy3fgg122yf80000gn/T/ipykernel_25738/4069468052.py\u001b[0m in \u001b[0;36m__eq__\u001b[0;34m(self, value)\u001b[0m\n\u001b[1;32m      9\u001b[0m     \u001b[0;32mdef\u001b[0m \u001b[0m__eq__\u001b[0m\u001b[0;34m(\u001b[0m\u001b[0mself\u001b[0m\u001b[0;34m,\u001b[0m \u001b[0mvalue\u001b[0m\u001b[0;34m)\u001b[0m\u001b[0;34m:\u001b[0m\u001b[0;34m\u001b[0m\u001b[0;34m\u001b[0m\u001b[0m\n\u001b[1;32m     10\u001b[0m         \u001b[0;32mif\u001b[0m \u001b[0;32mnot\u001b[0m \u001b[0misinstance\u001b[0m\u001b[0;34m(\u001b[0m\u001b[0mvalue\u001b[0m\u001b[0;34m,\u001b[0m \u001b[0mBook\u001b[0m\u001b[0;34m)\u001b[0m\u001b[0;34m:\u001b[0m\u001b[0;34m\u001b[0m\u001b[0;34m\u001b[0m\u001b[0m\n\u001b[0;32m---> 11\u001b[0;31m             \u001b[0;32mraise\u001b[0m \u001b[0mValueError\u001b[0m\u001b[0;34m(\u001b[0m\u001b[0;34mf'Cannot compare a book to a non-book'\u001b[0m\u001b[0;34m)\u001b[0m\u001b[0;34m\u001b[0m\u001b[0;34m\u001b[0m\u001b[0m\n\u001b[0m\u001b[1;32m     12\u001b[0m         \u001b[0;32mreturn\u001b[0m \u001b[0;34m(\u001b[0m\u001b[0mself\u001b[0m\u001b[0;34m.\u001b[0m\u001b[0mtitle\u001b[0m \u001b[0;34m==\u001b[0m \u001b[0mvalue\u001b[0m\u001b[0;34m.\u001b[0m\u001b[0mtitle\u001b[0m \u001b[0;32mand\u001b[0m \u001b[0mself\u001b[0m\u001b[0;34m.\u001b[0m\u001b[0mauthor\u001b[0m \u001b[0;34m==\u001b[0m \u001b[0mvalue\u001b[0m\u001b[0;34m.\u001b[0m\u001b[0mauthor\u001b[0m \u001b[0;32mand\u001b[0m \u001b[0mself\u001b[0m\u001b[0;34m.\u001b[0m\u001b[0mprice\u001b[0m \u001b[0;34m==\u001b[0m \u001b[0mvalue\u001b[0m\u001b[0;34m.\u001b[0m\u001b[0mprice\u001b[0m\u001b[0;34m)\u001b[0m\u001b[0;34m\u001b[0m\u001b[0;34m\u001b[0m\u001b[0m\n\u001b[1;32m     13\u001b[0m \u001b[0;34m\u001b[0m\u001b[0m\n",
      "\u001b[0;31mValueError\u001b[0m: Cannot compare a book to a non-book"
     ]
    }
   ],
   "source": [
    "print(b1 == 42)"
   ]
  },
  {
   "cell_type": "code",
   "execution_count": 146,
   "id": "98c801bf",
   "metadata": {},
   "outputs": [],
   "source": [
    "# Now"
   ]
  },
  {
   "cell_type": "code",
   "execution_count": 150,
   "id": "7e1e890d",
   "metadata": {},
   "outputs": [
    {
     "name": "stdout",
     "output_type": "stream",
     "text": [
      "False\n",
      "True\n"
     ]
    }
   ],
   "source": [
    "class Book:\n",
    "    def __init__(self, title, author, price):\n",
    "        super().__init__()\n",
    "        self.title = title\n",
    "        self.author = author\n",
    "        self.price = price\n",
    "        \n",
    "    # the __eq__ method checks for equality between two objects\n",
    "    def __eq__(self, value):\n",
    "        if not isinstance(value, Book):\n",
    "            raise ValueError(f'Cannot compare a book to a non-book')\n",
    "        return (self.title == value.title and self.author == value.author and self.price == value.price)\n",
    "    \n",
    "    # the __ge__ method establishes >= relationship with another object\n",
    "    def __ge__(self, value):\n",
    "        if not isinstance(value, Book):\n",
    "            raise ValueError(f'Cannot compare a book to a non-book')\n",
    "            \n",
    "        return self.price >= value.price\n",
    "    \n",
    "    # the __lt__ method establishes < relationship with another object\n",
    "    def __lt__(self, value):\n",
    "        if not isinstance(value, Book):\n",
    "            raise ValueError(f'Cannot compare a book to a non-book')\n",
    "            \n",
    "        return self.price < value.price\n",
    "        \n",
    "b1 = Book('War and Peace', 'Leo Tolstoy', 39.0)\n",
    "b2 = Book('Catcher in the Rye', 'JD Salinger', 29.95)\n",
    "b3 = Book('War and Peace', 'Leo Tolstoy', 39.0)\n",
    "b4 = Book('To Kill a Mockingbird', 'Harper Lee', 24.95)\n",
    "\n",
    "print(b2 >= b1)\n",
    "print(b2 < b3)"
   ]
  },
  {
   "cell_type": "code",
   "execution_count": 151,
   "id": "5155e440",
   "metadata": {},
   "outputs": [],
   "source": [
    "# Now our books are sortable since python's sort method uses < operator"
   ]
  },
  {
   "cell_type": "code",
   "execution_count": 152,
   "id": "67fa7d13",
   "metadata": {},
   "outputs": [
    {
     "name": "stdout",
     "output_type": "stream",
     "text": [
      "['To Kill a Mockingbird', 'Catcher in the Rye', 'War and Peace', 'War and Peace']\n"
     ]
    }
   ],
   "source": [
    "books = [b1, b3, b2, b4]\n",
    "books.sort()\n",
    "print([book.title for book in books])"
   ]
  },
  {
   "cell_type": "markdown",
   "id": "04ccb0b4",
   "metadata": {},
   "source": [
    "### 16 - Attribute Access"
   ]
  },
  {
   "cell_type": "code",
   "execution_count": 20,
   "id": "b685e0b2",
   "metadata": {},
   "outputs": [],
   "source": [
    "class Book:\n",
    "    def __init__(self, title, author, price):\n",
    "        super().__init__()\n",
    "        self.title = title\n",
    "        self.author = author\n",
    "        self.price = price\n",
    "        self._discount = 0.1\n",
    "        \n",
    "    def __str__(self):\n",
    "        return f'{self.title} by {self.author}, costs {self.price}'\n",
    "    \n",
    "    # __getattribute__ called when an attr is retrieved. Don't directly access the attr name, otherwise a recursive\n",
    "    # loop is created\n",
    "    def __getattribute__(self, name):\n",
    "        if name == 'price':\n",
    "            p = super().__getattribute__('price')\n",
    "            d = super().__getattribute__('_discount')\n",
    "            return p - (p * d)\n",
    "        return super().__getattribute__(name)\n",
    "    \n",
    "    \n",
    "b1 = Book('War and Peace', 'Leo Tolstoy', 39.95)\n",
    "b2 = Book('The Catcher in the Rye', 'JD Salinger', 29.95)"
   ]
  },
  {
   "cell_type": "code",
   "execution_count": 156,
   "id": "6a3d3553",
   "metadata": {},
   "outputs": [
    {
     "name": "stdout",
     "output_type": "stream",
     "text": [
      "War and Peace by Leo Tolstoy, costs 35.055\n"
     ]
    }
   ],
   "source": [
    "b1.price = 38.95\n",
    "print(b1)\n",
    "\n",
    "# burada print ile __str__ metodunu calistirmis olduk, orada da self.title, self.author ve self.price'i cagirmis\n",
    "# olduk. Tum bu cagirmalarda __getattribute__ calismis oldu. Sadece price'da bir islem yapildi ve discount\n",
    "# uygulanmis oldu"
   ]
  },
  {
   "cell_type": "code",
   "execution_count": 157,
   "id": "37e462f9",
   "metadata": {},
   "outputs": [],
   "source": [
    "# Now"
   ]
  },
  {
   "cell_type": "code",
   "execution_count": 16,
   "id": "27d46e34",
   "metadata": {},
   "outputs": [],
   "source": [
    "class Book:\n",
    "    def __init__(self, title, author, price):\n",
    "        super().__init__()\n",
    "        self.title = title\n",
    "        self.author = author\n",
    "        self.price = price\n",
    "        self._discount = 0.1\n",
    "        \n",
    "    def __str__(self):\n",
    "        return f'{self.title} by {self.author}, costs {self.price}'\n",
    "    \n",
    "    # __getattribute__ called when an attr is retrieved. Don't directly access the attr name, otherwise a recursive\n",
    "    # loop is created\n",
    "    def __getattribute__(self, name):\n",
    "        if name == 'price':\n",
    "            p = super().__getattribute__('price')\n",
    "            d = super().__getattribute__('_discount')\n",
    "            return p - (p * d)\n",
    "        return super().__getattribute__(name)\n",
    "    \n",
    "    # __setattr__ called when an attribute value is set. Don't directly set the attr,\n",
    "    # otherwise, a recursive loop causes a crash\n",
    "    def __setattr__(self, name, value):\n",
    "        if name == 'price':\n",
    "            if type(value) is not float:\n",
    "                raise ValueError('The price attr must be a float')\n",
    "        return super().__setattr__(name, value)\n",
    "    \n",
    "    \n",
    "b1 = Book('War and Peace', 'Leo Tolstoy', 39.95)\n",
    "b2 = Book('The Catcher in the Rye', 'JD Salinger', 29.95)"
   ]
  },
  {
   "cell_type": "code",
   "execution_count": 17,
   "id": "dc1d09f4",
   "metadata": {},
   "outputs": [
    {
     "ename": "ValueError",
     "evalue": "The price attr must be a float",
     "output_type": "error",
     "traceback": [
      "\u001b[0;31m---------------------------------------------------------------------------\u001b[0m",
      "\u001b[0;31mValueError\u001b[0m                                Traceback (most recent call last)",
      "\u001b[0;32m/var/folders/8h/k9jsy58x1213yy3fgg122yf80000gn/T/ipykernel_64130/595996450.py\u001b[0m in \u001b[0;36m<module>\u001b[0;34m\u001b[0m\n\u001b[0;32m----> 1\u001b[0;31m \u001b[0mb1\u001b[0m\u001b[0;34m.\u001b[0m\u001b[0mprice\u001b[0m\u001b[0;34m=\u001b[0m\u001b[0;36m40\u001b[0m\u001b[0;34m\u001b[0m\u001b[0;34m\u001b[0m\u001b[0m\n\u001b[0m",
      "\u001b[0;32m/var/folders/8h/k9jsy58x1213yy3fgg122yf80000gn/T/ipykernel_64130/3067616302.py\u001b[0m in \u001b[0;36m__setattr__\u001b[0;34m(self, name, value)\u001b[0m\n\u001b[1;32m     24\u001b[0m         \u001b[0;32mif\u001b[0m \u001b[0mname\u001b[0m \u001b[0;34m==\u001b[0m \u001b[0;34m'price'\u001b[0m\u001b[0;34m:\u001b[0m\u001b[0;34m\u001b[0m\u001b[0;34m\u001b[0m\u001b[0m\n\u001b[1;32m     25\u001b[0m             \u001b[0;32mif\u001b[0m \u001b[0mtype\u001b[0m\u001b[0;34m(\u001b[0m\u001b[0mvalue\u001b[0m\u001b[0;34m)\u001b[0m \u001b[0;32mis\u001b[0m \u001b[0;32mnot\u001b[0m \u001b[0mfloat\u001b[0m\u001b[0;34m:\u001b[0m\u001b[0;34m\u001b[0m\u001b[0;34m\u001b[0m\u001b[0m\n\u001b[0;32m---> 26\u001b[0;31m                 \u001b[0;32mraise\u001b[0m \u001b[0mValueError\u001b[0m\u001b[0;34m(\u001b[0m\u001b[0;34m'The price attr must be a float'\u001b[0m\u001b[0;34m)\u001b[0m\u001b[0;34m\u001b[0m\u001b[0;34m\u001b[0m\u001b[0m\n\u001b[0m\u001b[1;32m     27\u001b[0m         \u001b[0;32mreturn\u001b[0m \u001b[0msuper\u001b[0m\u001b[0;34m(\u001b[0m\u001b[0;34m)\u001b[0m\u001b[0;34m.\u001b[0m\u001b[0m__setattr__\u001b[0m\u001b[0;34m(\u001b[0m\u001b[0mname\u001b[0m\u001b[0;34m,\u001b[0m \u001b[0mvalue\u001b[0m\u001b[0;34m)\u001b[0m\u001b[0;34m\u001b[0m\u001b[0;34m\u001b[0m\u001b[0m\n\u001b[1;32m     28\u001b[0m \u001b[0;34m\u001b[0m\u001b[0m\n",
      "\u001b[0;31mValueError\u001b[0m: The price attr must be a float"
     ]
    }
   ],
   "source": [
    "b1.price=40"
   ]
  },
  {
   "cell_type": "code",
   "execution_count": 18,
   "id": "e07d3746",
   "metadata": {},
   "outputs": [
    {
     "name": "stdout",
     "output_type": "stream",
     "text": [
      "War and Peace by Leo Tolstoy, costs 35.955000000000005\n"
     ]
    }
   ],
   "source": [
    "print(b1)"
   ]
  },
  {
   "cell_type": "code",
   "execution_count": 19,
   "id": "9d343bb8",
   "metadata": {},
   "outputs": [
    {
     "name": "stdout",
     "output_type": "stream",
     "text": [
      "War and Peace by Leo Tolstoy, costs 36.0\n"
     ]
    }
   ],
   "source": [
    "b1.price = 40.0\n",
    "print(b1)"
   ]
  },
  {
   "cell_type": "code",
   "execution_count": 162,
   "id": "9722e411",
   "metadata": {},
   "outputs": [],
   "source": [
    "# Now"
   ]
  },
  {
   "cell_type": "code",
   "execution_count": 165,
   "id": "fcf613c9",
   "metadata": {},
   "outputs": [],
   "source": [
    "class Book:\n",
    "    def __init__(self, title, author, price):\n",
    "        super().__init__()\n",
    "        self.title = title\n",
    "        self.author = author\n",
    "        self.price = price\n",
    "        self._discount = 0.1\n",
    "        \n",
    "    def __str__(self):\n",
    "        return f'{self.title} by {self.author}, costs {self.price}'\n",
    "    \n",
    "    # __getattribute__ called when an attr is retrieved. Don't directly access the attr name, otherwise a recursive\n",
    "    # loop is created\n",
    "#     def __getattribute__(self, name):\n",
    "#         if name == 'price':\n",
    "#             p = super().__getattribute__('price')\n",
    "#             d = super().__getattribute__('_discount')\n",
    "#             return p - (p * d)\n",
    "#         return super().__getattribute__(name)\n",
    "    \n",
    "    # __setattr__ called when an attribute value is set. Don't directly set the attr,\n",
    "    # otherwise, a recursive loop causes a crash\n",
    "    def __setattr__(self, name, value):\n",
    "        if name == 'price':\n",
    "            if type(value) is not float:\n",
    "                raise ValueError('The price attr must be a float')\n",
    "        return super().__setattr__(name, value)\n",
    "    \n",
    "    # __getattr__ called when __getattribute__ lookup fails - you can pretty much generate attributes on the fly\n",
    "    # with this method\n",
    "    def __getattr__(self, name):\n",
    "        return name + ' is not here!'\n",
    "    # bu metodu eger __getattribute__ kullanmadiysak, ya da __getattribute__ exception verdiyse ya da belirttigimiz\n",
    "    # attribute yoksa kullanabiiriz\n",
    "    \n",
    "b1 = Book('War and Peace', 'Leo Tolstoy', 39.95)\n",
    "b2 = Book('The Catcher in the Rye', 'JD Salinger', 29.95)"
   ]
  },
  {
   "cell_type": "code",
   "execution_count": 166,
   "id": "42872024",
   "metadata": {},
   "outputs": [
    {
     "data": {
      "text/plain": [
       "'raindrop is not here!'"
      ]
     },
     "execution_count": 166,
     "metadata": {},
     "output_type": "execute_result"
    }
   ],
   "source": [
    "b1.raindrop"
   ]
  },
  {
   "cell_type": "markdown",
   "id": "95d3832f",
   "metadata": {},
   "source": [
    "### 17 - Calleble Objects"
   ]
  },
  {
   "cell_type": "code",
   "execution_count": 167,
   "id": "110dbc73",
   "metadata": {},
   "outputs": [],
   "source": [
    "class Book:\n",
    "    def __init__(self, title, author, price):\n",
    "        super().__init__()\n",
    "        self.title = title\n",
    "        self.author = author\n",
    "        self.price = price\n",
    "        \n",
    "    def __str__(self):\n",
    "        return f'{self.title} by {self.author}, costs {self.price}'\n",
    "    \n",
    "    # the __call__ method can be used to call the object like a function\n",
    "    def __call__(self, title, author, price):\n",
    "        self.title = title\n",
    "        self.author = author\n",
    "        self.price = price\n",
    "    \n",
    "b1 = Book('War and Peace', 'Leo Tolstoy', 39.95)\n",
    "b2 = Book('The Catcher in the Rye', 'JD Salinger', 29.95)"
   ]
  },
  {
   "cell_type": "code",
   "execution_count": 168,
   "id": "02d216bd",
   "metadata": {},
   "outputs": [
    {
     "name": "stdout",
     "output_type": "stream",
     "text": [
      "War and Peace by Leo Tolstoy, costs 39.95\n",
      "Anna Karenina by Leo Tolstoy, costs 49.95\n"
     ]
    }
   ],
   "source": [
    "print(b1)\n",
    "b1('Anna Karenina', 'Leo Tolstoy', 49.95)\n",
    "print(b1)"
   ]
  },
  {
   "cell_type": "markdown",
   "id": "f16fa95f",
   "metadata": {},
   "source": [
    "### 18 - Data Class"
   ]
  },
  {
   "cell_type": "code",
   "execution_count": 169,
   "id": "d7226ef8",
   "metadata": {},
   "outputs": [],
   "source": [
    "from dataclasses import dataclass\n",
    "\n",
    "@dataclass\n",
    "class Book:\n",
    "    title: str\n",
    "    author: str\n",
    "    pages: int\n",
    "    price: float\n",
    "        \n",
    "b1 = Book('War and Peace', 'Leo Tolstoy', 1225, 39.95)\n",
    "b2 = Book('The Catcher in the Rye', 'JD Salinger', 234, 29.95)\n",
    "b3 = Book('War and Peace', 'Leo Tolstoy', 1225, 39.95)"
   ]
  },
  {
   "cell_type": "code",
   "execution_count": 171,
   "id": "d9395ea4",
   "metadata": {},
   "outputs": [
    {
     "name": "stdout",
     "output_type": "stream",
     "text": [
      "War and Peace\n",
      "JD Salinger\n",
      "False\n",
      "True\n",
      "True\n",
      "Book(title='War and Peace', author='Leo Tolstoy', pages=1225, price=39.95)\n"
     ]
    }
   ],
   "source": [
    "print(b1.title)\n",
    "print(b2.author)\n",
    "print(b1 == b2)\n",
    "print(b1 == b3)\n",
    "print(b1.price > b2.price)\n",
    "print(b1)"
   ]
  },
  {
   "cell_type": "code",
   "execution_count": 172,
   "id": "e6c215c8",
   "metadata": {},
   "outputs": [],
   "source": [
    "from dataclasses import dataclass\n",
    "\n",
    "@dataclass\n",
    "class Book:\n",
    "    title: str\n",
    "    author: str\n",
    "    pages: int\n",
    "    price: float\n",
    "        \n",
    "    def bookinfo(self):\n",
    "        return f'{self.title} by {self.author}'\n",
    "        \n",
    "b1 = Book('War and Peace', 'Leo Tolstoy', 1225, 39.95)\n",
    "b2 = Book('The Catcher in the Rye', 'JD Salinger', 234, 29.95)\n",
    "b3 = Book('War and Peace', 'Leo Tolstoy', 1225, 39.95)"
   ]
  },
  {
   "cell_type": "code",
   "execution_count": 173,
   "id": "bd0cdce3",
   "metadata": {},
   "outputs": [
    {
     "data": {
      "text/plain": [
       "'Anna Karenina by Leo Tolstoy'"
      ]
     },
     "execution_count": 173,
     "metadata": {},
     "output_type": "execute_result"
    }
   ],
   "source": [
    "b1.title = 'Anna Karenina'\n",
    "b1.bookinfo()"
   ]
  },
  {
   "cell_type": "markdown",
   "id": "2e813d48",
   "metadata": {},
   "source": [
    "### 19. Using Post Initialization"
   ]
  },
  {
   "cell_type": "code",
   "execution_count": 174,
   "id": "227c740e",
   "metadata": {},
   "outputs": [],
   "source": [
    "from dataclasses import dataclass\n",
    "\n",
    "@dataclass\n",
    "class Book:\n",
    "    title: str\n",
    "    author: str\n",
    "    pages: int\n",
    "    price: float\n",
    "        \n",
    "    # the __post_init__ function lets us customize additional properties after the object has been initialized via\n",
    "    # built-in __init__\n",
    "    def __post_init__(self):\n",
    "        self.description = f'{self.title} by {self.author}, {self.pages} pages'\n",
    "        \n",
    "b1 = Book('War and Peace', 'Leo Tolstoy', 1225, 39.95)\n",
    "b2 = Book('The Catcher in the Rye', 'JD Salinger', 234, 29.95)"
   ]
  },
  {
   "cell_type": "code",
   "execution_count": 175,
   "id": "4e7a7647",
   "metadata": {},
   "outputs": [
    {
     "name": "stdout",
     "output_type": "stream",
     "text": [
      "War and Peace by Leo Tolstoy, 1225 pages\n",
      "The Catcher in the Rye by JD Salinger, 234 pages\n"
     ]
    }
   ],
   "source": [
    "print(b1.description)\n",
    "print(b2.description)"
   ]
  },
  {
   "cell_type": "markdown",
   "id": "fe9c9280",
   "metadata": {},
   "source": [
    "### 20 - Using Default Values"
   ]
  },
  {
   "cell_type": "code",
   "execution_count": 182,
   "id": "dbffa62f",
   "metadata": {},
   "outputs": [],
   "source": [
    "from dataclasses import dataclass\n",
    "\n",
    "@dataclass\n",
    "class Book:\n",
    "    # you can define default values when attributes are declared\n",
    "    title: str = 'No Title'\n",
    "    author: str = 'No Author'\n",
    "    pages: int = 0\n",
    "    price: float = 0.0\n",
    "        \n",
    "b1 = Book()"
   ]
  },
  {
   "cell_type": "code",
   "execution_count": 183,
   "id": "1721709f",
   "metadata": {},
   "outputs": [
    {
     "name": "stdout",
     "output_type": "stream",
     "text": [
      "Book(title='No Title', author='No Author', pages=0, price=0.0)\n"
     ]
    }
   ],
   "source": [
    "print(b1)"
   ]
  },
  {
   "cell_type": "code",
   "execution_count": 185,
   "id": "95bf825a",
   "metadata": {},
   "outputs": [
    {
     "ename": "TypeError",
     "evalue": "non-default argument 'price' follows default argument",
     "output_type": "error",
     "traceback": [
      "\u001b[0;31m---------------------------------------------------------------------------\u001b[0m",
      "\u001b[0;31mTypeError\u001b[0m                                 Traceback (most recent call last)",
      "\u001b[0;32m/var/folders/8h/k9jsy58x1213yy3fgg122yf80000gn/T/ipykernel_25738/2834713203.py\u001b[0m in \u001b[0;36m<module>\u001b[0;34m\u001b[0m\n\u001b[1;32m      4\u001b[0m \u001b[0;34m\u001b[0m\u001b[0m\n\u001b[1;32m      5\u001b[0m \u001b[0;34m@\u001b[0m\u001b[0mdataclass\u001b[0m\u001b[0;34m\u001b[0m\u001b[0;34m\u001b[0m\u001b[0m\n\u001b[0;32m----> 6\u001b[0;31m \u001b[0;32mclass\u001b[0m \u001b[0mBook\u001b[0m\u001b[0;34m:\u001b[0m\u001b[0;34m\u001b[0m\u001b[0;34m\u001b[0m\u001b[0m\n\u001b[0m\u001b[1;32m      7\u001b[0m     \u001b[0;31m# you can define default values when attributes are declared\u001b[0m\u001b[0;34m\u001b[0m\u001b[0;34m\u001b[0m\u001b[0m\n\u001b[1;32m      8\u001b[0m     \u001b[0mtitle\u001b[0m\u001b[0;34m:\u001b[0m \u001b[0mstr\u001b[0m \u001b[0;34m=\u001b[0m \u001b[0;34m'No Title'\u001b[0m\u001b[0;34m\u001b[0m\u001b[0;34m\u001b[0m\u001b[0m\n",
      "\u001b[0;32m/opt/anaconda3/lib/python3.9/dataclasses.py\u001b[0m in \u001b[0;36mdataclass\u001b[0;34m(cls, init, repr, eq, order, unsafe_hash, frozen)\u001b[0m\n\u001b[1;32m   1019\u001b[0m \u001b[0;34m\u001b[0m\u001b[0m\n\u001b[1;32m   1020\u001b[0m     \u001b[0;31m# We're called as @dataclass without parens.\u001b[0m\u001b[0;34m\u001b[0m\u001b[0;34m\u001b[0m\u001b[0m\n\u001b[0;32m-> 1021\u001b[0;31m     \u001b[0;32mreturn\u001b[0m \u001b[0mwrap\u001b[0m\u001b[0;34m(\u001b[0m\u001b[0mcls\u001b[0m\u001b[0;34m)\u001b[0m\u001b[0;34m\u001b[0m\u001b[0;34m\u001b[0m\u001b[0m\n\u001b[0m\u001b[1;32m   1022\u001b[0m \u001b[0;34m\u001b[0m\u001b[0m\n\u001b[1;32m   1023\u001b[0m \u001b[0;34m\u001b[0m\u001b[0m\n",
      "\u001b[0;32m/opt/anaconda3/lib/python3.9/dataclasses.py\u001b[0m in \u001b[0;36mwrap\u001b[0;34m(cls)\u001b[0m\n\u001b[1;32m   1011\u001b[0m \u001b[0;34m\u001b[0m\u001b[0m\n\u001b[1;32m   1012\u001b[0m     \u001b[0;32mdef\u001b[0m \u001b[0mwrap\u001b[0m\u001b[0;34m(\u001b[0m\u001b[0mcls\u001b[0m\u001b[0;34m)\u001b[0m\u001b[0;34m:\u001b[0m\u001b[0;34m\u001b[0m\u001b[0;34m\u001b[0m\u001b[0m\n\u001b[0;32m-> 1013\u001b[0;31m         \u001b[0;32mreturn\u001b[0m \u001b[0m_process_class\u001b[0m\u001b[0;34m(\u001b[0m\u001b[0mcls\u001b[0m\u001b[0;34m,\u001b[0m \u001b[0minit\u001b[0m\u001b[0;34m,\u001b[0m \u001b[0mrepr\u001b[0m\u001b[0;34m,\u001b[0m \u001b[0meq\u001b[0m\u001b[0;34m,\u001b[0m \u001b[0morder\u001b[0m\u001b[0;34m,\u001b[0m \u001b[0munsafe_hash\u001b[0m\u001b[0;34m,\u001b[0m \u001b[0mfrozen\u001b[0m\u001b[0;34m)\u001b[0m\u001b[0;34m\u001b[0m\u001b[0;34m\u001b[0m\u001b[0m\n\u001b[0m\u001b[1;32m   1014\u001b[0m \u001b[0;34m\u001b[0m\u001b[0m\n\u001b[1;32m   1015\u001b[0m     \u001b[0;31m# See if we're being called as @dataclass or @dataclass().\u001b[0m\u001b[0;34m\u001b[0m\u001b[0;34m\u001b[0m\u001b[0m\n",
      "\u001b[0;32m/opt/anaconda3/lib/python3.9/dataclasses.py\u001b[0m in \u001b[0;36m_process_class\u001b[0;34m(cls, init, repr, eq, order, unsafe_hash, frozen)\u001b[0m\n\u001b[1;32m    925\u001b[0m                 if f._field_type in (_FIELD, _FIELD_INITVAR)]\n\u001b[1;32m    926\u001b[0m         _set_new_attribute(cls, '__init__',\n\u001b[0;32m--> 927\u001b[0;31m                            _init_fn(flds,\n\u001b[0m\u001b[1;32m    928\u001b[0m                                     \u001b[0mfrozen\u001b[0m\u001b[0;34m,\u001b[0m\u001b[0;34m\u001b[0m\u001b[0;34m\u001b[0m\u001b[0m\n\u001b[1;32m    929\u001b[0m                                     \u001b[0mhas_post_init\u001b[0m\u001b[0;34m,\u001b[0m\u001b[0;34m\u001b[0m\u001b[0;34m\u001b[0m\u001b[0m\n",
      "\u001b[0;32m/opt/anaconda3/lib/python3.9/dataclasses.py\u001b[0m in \u001b[0;36m_init_fn\u001b[0;34m(fields, frozen, has_post_init, self_name, globals)\u001b[0m\n\u001b[1;32m    502\u001b[0m                 \u001b[0mseen_default\u001b[0m \u001b[0;34m=\u001b[0m \u001b[0;32mTrue\u001b[0m\u001b[0;34m\u001b[0m\u001b[0;34m\u001b[0m\u001b[0m\n\u001b[1;32m    503\u001b[0m             \u001b[0;32melif\u001b[0m \u001b[0mseen_default\u001b[0m\u001b[0;34m:\u001b[0m\u001b[0;34m\u001b[0m\u001b[0;34m\u001b[0m\u001b[0m\n\u001b[0;32m--> 504\u001b[0;31m                 raise TypeError(f'non-default argument {f.name!r} '\n\u001b[0m\u001b[1;32m    505\u001b[0m                                 'follows default argument')\n\u001b[1;32m    506\u001b[0m \u001b[0;34m\u001b[0m\u001b[0m\n",
      "\u001b[0;31mTypeError\u001b[0m: non-default argument 'price' follows default argument"
     ]
    }
   ],
   "source": [
    "# eger default olmayan bir attribute kullanacaksam onun default olanlardan once gelmesi gerekiyor\n",
    "\n",
    "from dataclasses import dataclass\n",
    "\n",
    "@dataclass\n",
    "class Book:\n",
    "    # you can define default values when attributes are declared\n",
    "    title: str = 'No Title'\n",
    "    author: str = 'No Author'\n",
    "    pages: int = 0\n",
    "    price: float\n",
    "        \n",
    "b1 = Book(10)"
   ]
  },
  {
   "cell_type": "code",
   "execution_count": 186,
   "id": "43b411d7",
   "metadata": {},
   "outputs": [],
   "source": [
    "# Now"
   ]
  },
  {
   "cell_type": "code",
   "execution_count": 187,
   "id": "873c5650",
   "metadata": {},
   "outputs": [],
   "source": [
    "# burada ise default olmayan attribute'u ilk siraya aldigim icin sorun cikmiyor\n",
    "\n",
    "from dataclasses import dataclass\n",
    "\n",
    "@dataclass\n",
    "class Book:\n",
    "    # you can define default values when attributes are declared\n",
    "    price: float\n",
    "    title: str = 'No Title'\n",
    "    author: str = 'No Author'\n",
    "    pages: int = 0\n",
    "        \n",
    "b1 = Book(10.0)"
   ]
  },
  {
   "cell_type": "code",
   "execution_count": 188,
   "id": "000acebb",
   "metadata": {},
   "outputs": [
    {
     "name": "stdout",
     "output_type": "stream",
     "text": [
      "Book(price=10.0, title='No Title', author='No Author', pages=0)\n"
     ]
    }
   ],
   "source": [
    "print(b1)"
   ]
  },
  {
   "cell_type": "code",
   "execution_count": 189,
   "id": "a1b38e40",
   "metadata": {},
   "outputs": [],
   "source": [
    "# Next"
   ]
  },
  {
   "cell_type": "code",
   "execution_count": 191,
   "id": "b7d580ab",
   "metadata": {},
   "outputs": [],
   "source": [
    "from dataclasses import dataclass, field\n",
    "\n",
    "@dataclass\n",
    "class Book:\n",
    "    # you can define default values when attributes are declared\n",
    "    title: str = 'No Title'\n",
    "    author: str = 'No Author'\n",
    "    pages: int = 0\n",
    "    price: float = field(default=10.0)\n",
    "        \n",
    "b1 = Book('War and Peace', 'Leo Tolstoy', 1225)\n",
    "b2 = Book('The Catcher in the Rye', 'JD Salinger', 234)"
   ]
  },
  {
   "cell_type": "code",
   "execution_count": 192,
   "id": "cc8c0bac",
   "metadata": {},
   "outputs": [
    {
     "name": "stdout",
     "output_type": "stream",
     "text": [
      "Book(title='War and Peace', author='Leo Tolstoy', pages=1225, price=10.0)\n",
      "Book(title='The Catcher in the Rye', author='JD Salinger', pages=234, price=10.0)\n"
     ]
    }
   ],
   "source": [
    "print(b1)\n",
    "print(b2)"
   ]
  },
  {
   "cell_type": "code",
   "execution_count": 193,
   "id": "a209770f",
   "metadata": {},
   "outputs": [],
   "source": [
    "# Now"
   ]
  },
  {
   "cell_type": "code",
   "execution_count": 204,
   "id": "059646fd",
   "metadata": {},
   "outputs": [],
   "source": [
    "from dataclasses import dataclass, field\n",
    "import random\n",
    "\n",
    "def price_func():\n",
    "    return float(random.randrange(20, 40))\n",
    "\n",
    "@dataclass\n",
    "class Book:\n",
    "    # you can define default values when attributes are declared\n",
    "    title: str = 'No Title'\n",
    "    author: str = 'No Author'\n",
    "    pages: int = 0\n",
    "    price: float = field(default_factory=price_func)\n",
    "        \n",
    "b1 = Book('War and Peace', 'Leo Tolstoy', 1225)\n",
    "b2 = Book('The Catcher in the Rye', 'JD Salinger', 234)"
   ]
  },
  {
   "cell_type": "code",
   "execution_count": 205,
   "id": "411d62eb",
   "metadata": {},
   "outputs": [
    {
     "name": "stdout",
     "output_type": "stream",
     "text": [
      "Book(title='War and Peace', author='Leo Tolstoy', pages=1225, price=37.0)\n",
      "Book(title='The Catcher in the Rye', author='JD Salinger', pages=234, price=39.0)\n"
     ]
    }
   ],
   "source": [
    "print(b1)\n",
    "print(b2)"
   ]
  },
  {
   "cell_type": "markdown",
   "id": "25d27691",
   "metadata": {},
   "source": [
    "### 21 - Immutable Data Classes"
   ]
  },
  {
   "cell_type": "code",
   "execution_count": 206,
   "id": "05f715e8",
   "metadata": {},
   "outputs": [
    {
     "name": "stdout",
     "output_type": "stream",
     "text": [
      "Value 1\n"
     ]
    }
   ],
   "source": [
    "from dataclasses import dataclass\n",
    "\n",
    "@dataclass() # the 'frozen' parameter makes the class immutable\n",
    "class ImmutableClass:\n",
    "    value1: str = 'Value 1'\n",
    "    value2: int = 0\n",
    "        \n",
    "obj = ImmutableClass()\n",
    "print(obj.value1)"
   ]
  },
  {
   "cell_type": "code",
   "execution_count": 207,
   "id": "e89ab307",
   "metadata": {},
   "outputs": [],
   "source": [
    "# Now"
   ]
  },
  {
   "cell_type": "code",
   "execution_count": 208,
   "id": "6d96ae06",
   "metadata": {},
   "outputs": [
    {
     "ename": "FrozenInstanceError",
     "evalue": "cannot assign to field 'value1'",
     "output_type": "error",
     "traceback": [
      "\u001b[0;31m---------------------------------------------------------------------------\u001b[0m",
      "\u001b[0;31mFrozenInstanceError\u001b[0m                       Traceback (most recent call last)",
      "\u001b[0;32m/var/folders/8h/k9jsy58x1213yy3fgg122yf80000gn/T/ipykernel_25738/3953205249.py\u001b[0m in \u001b[0;36m<module>\u001b[0;34m\u001b[0m\n\u001b[1;32m      8\u001b[0m \u001b[0mobj\u001b[0m \u001b[0;34m=\u001b[0m \u001b[0mImmutableClass\u001b[0m\u001b[0;34m(\u001b[0m\u001b[0;34m)\u001b[0m\u001b[0;34m\u001b[0m\u001b[0;34m\u001b[0m\u001b[0m\n\u001b[1;32m      9\u001b[0m \u001b[0;34m\u001b[0m\u001b[0m\n\u001b[0;32m---> 10\u001b[0;31m \u001b[0mobj\u001b[0m\u001b[0;34m.\u001b[0m\u001b[0mvalue1\u001b[0m \u001b[0;34m=\u001b[0m \u001b[0;34m'Another value'\u001b[0m\u001b[0;34m\u001b[0m\u001b[0;34m\u001b[0m\u001b[0m\n\u001b[0m\u001b[1;32m     11\u001b[0m \u001b[0;34m\u001b[0m\u001b[0m\n\u001b[1;32m     12\u001b[0m \u001b[0mprint\u001b[0m\u001b[0;34m(\u001b[0m\u001b[0mobj\u001b[0m\u001b[0;34m.\u001b[0m\u001b[0mvalue1\u001b[0m\u001b[0;34m)\u001b[0m\u001b[0;34m\u001b[0m\u001b[0;34m\u001b[0m\u001b[0m\n",
      "\u001b[0;32m<string>\u001b[0m in \u001b[0;36m__setattr__\u001b[0;34m(self, name, value)\u001b[0m\n",
      "\u001b[0;31mFrozenInstanceError\u001b[0m: cannot assign to field 'value1'"
     ]
    }
   ],
   "source": [
    "from dataclasses import dataclass\n",
    "\n",
    "@dataclass(frozen=True) # the 'frozen' parameter makes the class immutable\n",
    "class ImmutableClass:\n",
    "    value1: str = 'Value 1'\n",
    "    value2: int = 0\n",
    "        \n",
    "obj = ImmutableClass()\n",
    "\n",
    "obj.value1 = 'Another value'\n",
    "\n",
    "print(obj.value1)"
   ]
  },
  {
   "cell_type": "code",
   "execution_count": 210,
   "id": "4c9e7b45",
   "metadata": {},
   "outputs": [
    {
     "ename": "FrozenInstanceError",
     "evalue": "cannot assign to field 'value2'",
     "output_type": "error",
     "traceback": [
      "\u001b[0;31m---------------------------------------------------------------------------\u001b[0m",
      "\u001b[0;31mFrozenInstanceError\u001b[0m                       Traceback (most recent call last)",
      "\u001b[0;32m/var/folders/8h/k9jsy58x1213yy3fgg122yf80000gn/T/ipykernel_25738/1786046835.py\u001b[0m in \u001b[0;36m<module>\u001b[0;34m\u001b[0m\n\u001b[1;32m     13\u001b[0m \u001b[0mobj\u001b[0m \u001b[0;34m=\u001b[0m \u001b[0mImmutableClass\u001b[0m\u001b[0;34m(\u001b[0m\u001b[0;34m)\u001b[0m\u001b[0;34m\u001b[0m\u001b[0;34m\u001b[0m\u001b[0m\n\u001b[1;32m     14\u001b[0m \u001b[0;34m\u001b[0m\u001b[0m\n\u001b[0;32m---> 15\u001b[0;31m \u001b[0mobj\u001b[0m\u001b[0;34m.\u001b[0m\u001b[0msomefunc\u001b[0m\u001b[0;34m(\u001b[0m\u001b[0;36m20\u001b[0m\u001b[0;34m)\u001b[0m\u001b[0;34m\u001b[0m\u001b[0;34m\u001b[0m\u001b[0m\n\u001b[0m",
      "\u001b[0;32m/var/folders/8h/k9jsy58x1213yy3fgg122yf80000gn/T/ipykernel_25738/1786046835.py\u001b[0m in \u001b[0;36msomefunc\u001b[0;34m(self, newval)\u001b[0m\n\u001b[1;32m      9\u001b[0m \u001b[0;34m\u001b[0m\u001b[0m\n\u001b[1;32m     10\u001b[0m     \u001b[0;32mdef\u001b[0m \u001b[0msomefunc\u001b[0m\u001b[0;34m(\u001b[0m\u001b[0mself\u001b[0m\u001b[0;34m,\u001b[0m \u001b[0mnewval\u001b[0m\u001b[0;34m)\u001b[0m\u001b[0;34m:\u001b[0m\u001b[0;34m\u001b[0m\u001b[0;34m\u001b[0m\u001b[0m\n\u001b[0;32m---> 11\u001b[0;31m         \u001b[0mself\u001b[0m\u001b[0;34m.\u001b[0m\u001b[0mvalue2\u001b[0m \u001b[0;34m=\u001b[0m \u001b[0mnewval\u001b[0m\u001b[0;34m\u001b[0m\u001b[0;34m\u001b[0m\u001b[0m\n\u001b[0m\u001b[1;32m     12\u001b[0m \u001b[0;34m\u001b[0m\u001b[0m\n\u001b[1;32m     13\u001b[0m \u001b[0mobj\u001b[0m \u001b[0;34m=\u001b[0m \u001b[0mImmutableClass\u001b[0m\u001b[0;34m(\u001b[0m\u001b[0;34m)\u001b[0m\u001b[0;34m\u001b[0m\u001b[0;34m\u001b[0m\u001b[0m\n",
      "\u001b[0;32m<string>\u001b[0m in \u001b[0;36m__setattr__\u001b[0;34m(self, name, value)\u001b[0m\n",
      "\u001b[0;31mFrozenInstanceError\u001b[0m: cannot assign to field 'value2'"
     ]
    }
   ],
   "source": [
    "# frozen=True sadece attribute'larin degerini degistirmeyi degil, class icerisine metod eklemeyi de engeller\n",
    "\n",
    "from dataclasses import dataclass\n",
    "\n",
    "@dataclass(frozen=True) # the 'frozen' parameter makes the class immutable\n",
    "class ImmutableClass:\n",
    "    value1: str = 'Value 1'\n",
    "    value2: int = 0\n",
    "        \n",
    "    def somefunc(self, newval):\n",
    "        self.value2 = newval\n",
    "        \n",
    "obj = ImmutableClass()\n",
    "\n",
    "obj.somefunc(20)"
   ]
  },
  {
   "cell_type": "code",
   "execution_count": null,
   "id": "a14cd5d7",
   "metadata": {},
   "outputs": [],
   "source": []
  }
 ],
 "metadata": {
  "kernelspec": {
   "display_name": "Python 3 (ipykernel)",
   "language": "python",
   "name": "python3"
  },
  "language_info": {
   "codemirror_mode": {
    "name": "ipython",
    "version": 3
   },
   "file_extension": ".py",
   "mimetype": "text/x-python",
   "name": "python",
   "nbconvert_exporter": "python",
   "pygments_lexer": "ipython3",
   "version": "3.9.7"
  }
 },
 "nbformat": 4,
 "nbformat_minor": 5
}
