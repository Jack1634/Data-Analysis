{
  "cells": [
    {
      "cell_type": "code",
      "execution_count": 1,
      "metadata": {},
      "outputs": [
        {
          "name": "stderr",
          "output_type": "stream",
          "text": [
            "c:\\Users\\Dell\\anaconda3\\lib\\site-packages\\scipy\\__init__.py:146: UserWarning: A NumPy version >=1.16.5 and <1.23.0 is required for this version of SciPy (detected version 1.24.1\n",
            "  warnings.warn(f\"A NumPy version >={np_minversion} and <{np_maxversion}\"\n"
          ]
        }
      ],
      "source": [
        "import pandas as pd\n",
        "import numpy as np\n",
        "import matplotlib.pyplot as plt\n",
        "import seaborn as sns\n",
        "import warnings\n",
        "warnings.filterwarnings('ignore')\n",
        "%matplotlib inline\n"
      ]
    },
    {
      "cell_type": "code",
      "execution_count": 2,
      "metadata": {},
      "outputs": [],
      "source": [
        "df = pd.read_excel(\"San Martin Stores 2021_New.xlsx\", sheet_name=\"Customers\")"
      ]
    },
    {
      "cell_type": "code",
      "execution_count": 3,
      "metadata": {},
      "outputs": [
        {
          "data": {
            "text/html": [
              "<div>\n",
              "<style scoped>\n",
              "    .dataframe tbody tr th:only-of-type {\n",
              "        vertical-align: middle;\n",
              "    }\n",
              "\n",
              "    .dataframe tbody tr th {\n",
              "        vertical-align: top;\n",
              "    }\n",
              "\n",
              "    .dataframe thead th {\n",
              "        text-align: right;\n",
              "    }\n",
              "</style>\n",
              "<table border=\"1\" class=\"dataframe\">\n",
              "  <thead>\n",
              "    <tr style=\"text-align: right;\">\n",
              "      <th></th>\n",
              "      <th>Customer Key</th>\n",
              "      <th>Customers</th>\n",
              "    </tr>\n",
              "  </thead>\n",
              "  <tbody>\n",
              "    <tr>\n",
              "      <th>0</th>\n",
              "      <td>2583</td>\n",
              "      <td>Aarón Blanco Rosselló</td>\n",
              "    </tr>\n",
              "    <tr>\n",
              "      <th>1</th>\n",
              "      <td>2205</td>\n",
              "      <td>Aarón Caballero-Marquez</td>\n",
              "    </tr>\n",
              "    <tr>\n",
              "      <th>2</th>\n",
              "      <td>643</td>\n",
              "      <td>Aarón Carrera Iglesias</td>\n",
              "    </tr>\n",
              "    <tr>\n",
              "      <th>3</th>\n",
              "      <td>2838</td>\n",
              "      <td>Aarón Catalán Martínez</td>\n",
              "    </tr>\n",
              "    <tr>\n",
              "      <th>4</th>\n",
              "      <td>1518</td>\n",
              "      <td>Aarón Ignacio Pi Salom</td>\n",
              "    </tr>\n",
              "  </tbody>\n",
              "</table>\n",
              "</div>"
            ],
            "text/plain": [
              "   Customer Key                Customers\n",
              "0          2583    Aarón Blanco Rosselló\n",
              "1          2205  Aarón Caballero-Marquez\n",
              "2           643   Aarón Carrera Iglesias\n",
              "3          2838   Aarón Catalán Martínez\n",
              "4          1518   Aarón Ignacio Pi Salom"
            ]
          },
          "execution_count": 3,
          "metadata": {},
          "output_type": "execute_result"
        }
      ],
      "source": [
        "df.head()"
      ]
    },
    {
      "cell_type": "code",
      "execution_count": 4,
      "metadata": {},
      "outputs": [
        {
          "name": "stdout",
          "output_type": "stream",
          "text": [
            "<class 'pandas.core.frame.DataFrame'>\n",
            "RangeIndex: 6954 entries, 0 to 6953\n",
            "Data columns (total 2 columns):\n",
            " #   Column        Non-Null Count  Dtype \n",
            "---  ------        --------------  ----- \n",
            " 0   Customer Key  6954 non-null   int64 \n",
            " 1   Customers     6954 non-null   object\n",
            "dtypes: int64(1), object(1)\n",
            "memory usage: 108.8+ KB\n"
          ]
        }
      ],
      "source": [
        "df.info()"
      ]
    },
    {
      "cell_type": "code",
      "execution_count": 5,
      "metadata": {},
      "outputs": [
        {
          "data": {
            "text/html": [
              "<div>\n",
              "<style scoped>\n",
              "    .dataframe tbody tr th:only-of-type {\n",
              "        vertical-align: middle;\n",
              "    }\n",
              "\n",
              "    .dataframe tbody tr th {\n",
              "        vertical-align: top;\n",
              "    }\n",
              "\n",
              "    .dataframe thead th {\n",
              "        text-align: right;\n",
              "    }\n",
              "</style>\n",
              "<table border=\"1\" class=\"dataframe\">\n",
              "  <thead>\n",
              "    <tr style=\"text-align: right;\">\n",
              "      <th></th>\n",
              "      <th>Customer Key</th>\n",
              "    </tr>\n",
              "  </thead>\n",
              "  <tbody>\n",
              "    <tr>\n",
              "      <th>count</th>\n",
              "      <td>6954.000000</td>\n",
              "    </tr>\n",
              "    <tr>\n",
              "      <th>mean</th>\n",
              "      <td>5012.598792</td>\n",
              "    </tr>\n",
              "    <tr>\n",
              "      <th>std</th>\n",
              "      <td>2888.119385</td>\n",
              "    </tr>\n",
              "    <tr>\n",
              "      <th>min</th>\n",
              "      <td>2.000000</td>\n",
              "    </tr>\n",
              "    <tr>\n",
              "      <th>25%</th>\n",
              "      <td>2483.250000</td>\n",
              "    </tr>\n",
              "    <tr>\n",
              "      <th>50%</th>\n",
              "      <td>4998.000000</td>\n",
              "    </tr>\n",
              "    <tr>\n",
              "      <th>75%</th>\n",
              "      <td>7525.750000</td>\n",
              "    </tr>\n",
              "    <tr>\n",
              "      <th>max</th>\n",
              "      <td>9999.000000</td>\n",
              "    </tr>\n",
              "  </tbody>\n",
              "</table>\n",
              "</div>"
            ],
            "text/plain": [
              "       Customer Key\n",
              "count   6954.000000\n",
              "mean    5012.598792\n",
              "std     2888.119385\n",
              "min        2.000000\n",
              "25%     2483.250000\n",
              "50%     4998.000000\n",
              "75%     7525.750000\n",
              "max     9999.000000"
            ]
          },
          "execution_count": 5,
          "metadata": {},
          "output_type": "execute_result"
        }
      ],
      "source": [
        "df.describe()"
      ]
    },
    {
      "cell_type": "code",
      "execution_count": 6,
      "metadata": {},
      "outputs": [
        {
          "data": {
            "text/plain": [
              "Index(['Customer Key', 'Customers'], dtype='object')"
            ]
          },
          "execution_count": 6,
          "metadata": {},
          "output_type": "execute_result"
        }
      ],
      "source": [
        "df.columns"
      ]
    },
    {
      "cell_type": "code",
      "execution_count": 7,
      "metadata": {},
      "outputs": [],
      "source": [
        "df_1 = pd.read_excel(\"San Martin Stores 2021_New.xlsx\", sheet_name=\"Locations\")"
      ]
    },
    {
      "cell_type": "code",
      "execution_count": 8,
      "metadata": {},
      "outputs": [
        {
          "data": {
            "text/html": [
              "<div>\n",
              "<style scoped>\n",
              "    .dataframe tbody tr th:only-of-type {\n",
              "        vertical-align: middle;\n",
              "    }\n",
              "\n",
              "    .dataframe tbody tr th {\n",
              "        vertical-align: top;\n",
              "    }\n",
              "\n",
              "    .dataframe thead th {\n",
              "        text-align: right;\n",
              "    }\n",
              "</style>\n",
              "<table border=\"1\" class=\"dataframe\">\n",
              "  <thead>\n",
              "    <tr style=\"text-align: right;\">\n",
              "      <th></th>\n",
              "      <th>Region Key</th>\n",
              "      <th>Region</th>\n",
              "      <th>Provincia</th>\n",
              "      <th>Town</th>\n",
              "    </tr>\n",
              "  </thead>\n",
              "  <tbody>\n",
              "    <tr>\n",
              "      <th>0</th>\n",
              "      <td>1051</td>\n",
              "      <td>País Vasco</td>\n",
              "      <td>Araba/Álava</td>\n",
              "      <td>Agurain/Salvatierra</td>\n",
              "    </tr>\n",
              "    <tr>\n",
              "      <th>1</th>\n",
              "      <td>2065</td>\n",
              "      <td>Castilla - La Mancha</td>\n",
              "      <td>Albacete</td>\n",
              "      <td>Pozuelo</td>\n",
              "    </tr>\n",
              "    <tr>\n",
              "      <th>2</th>\n",
              "      <td>3075</td>\n",
              "      <td>Comunitat Valenciana</td>\n",
              "      <td>Alicante/Alacant</td>\n",
              "      <td>Castell de Guadalest, el</td>\n",
              "    </tr>\n",
              "    <tr>\n",
              "      <th>3</th>\n",
              "      <td>3129</td>\n",
              "      <td>Comunitat Valenciana</td>\n",
              "      <td>Alicante/Alacant</td>\n",
              "      <td>Tibi</td>\n",
              "    </tr>\n",
              "    <tr>\n",
              "      <th>4</th>\n",
              "      <td>5016</td>\n",
              "      <td>Castilla y León</td>\n",
              "      <td>Ávila</td>\n",
              "      <td>Arévalo</td>\n",
              "    </tr>\n",
              "  </tbody>\n",
              "</table>\n",
              "</div>"
            ],
            "text/plain": [
              "   Region Key                Region         Provincia  \\\n",
              "0        1051            País Vasco       Araba/Álava   \n",
              "1        2065  Castilla - La Mancha          Albacete   \n",
              "2        3075  Comunitat Valenciana  Alicante/Alacant   \n",
              "3        3129  Comunitat Valenciana  Alicante/Alacant   \n",
              "4        5016       Castilla y León             Ávila   \n",
              "\n",
              "                       Town  \n",
              "0       Agurain/Salvatierra  \n",
              "1                   Pozuelo  \n",
              "2  Castell de Guadalest, el  \n",
              "3                      Tibi  \n",
              "4                   Arévalo  "
            ]
          },
          "execution_count": 8,
          "metadata": {},
          "output_type": "execute_result"
        }
      ],
      "source": [
        "df_1.head()"
      ]
    },
    {
      "cell_type": "code",
      "execution_count": 9,
      "metadata": {},
      "outputs": [
        {
          "name": "stdout",
          "output_type": "stream",
          "text": [
            "<class 'pandas.core.frame.DataFrame'>\n",
            "RangeIndex: 149 entries, 0 to 148\n",
            "Data columns (total 4 columns):\n",
            " #   Column      Non-Null Count  Dtype \n",
            "---  ------      --------------  ----- \n",
            " 0   Region Key  149 non-null    int64 \n",
            " 1   Region      149 non-null    object\n",
            " 2   Provincia   149 non-null    object\n",
            " 3   Town        149 non-null    object\n",
            "dtypes: int64(1), object(3)\n",
            "memory usage: 4.8+ KB\n"
          ]
        }
      ],
      "source": [
        "df_1.info()"
      ]
    },
    {
      "cell_type": "code",
      "execution_count": 10,
      "metadata": {},
      "outputs": [
        {
          "data": {
            "text/html": [
              "<div>\n",
              "<style scoped>\n",
              "    .dataframe tbody tr th:only-of-type {\n",
              "        vertical-align: middle;\n",
              "    }\n",
              "\n",
              "    .dataframe tbody tr th {\n",
              "        vertical-align: top;\n",
              "    }\n",
              "\n",
              "    .dataframe thead th {\n",
              "        text-align: right;\n",
              "    }\n",
              "</style>\n",
              "<table border=\"1\" class=\"dataframe\">\n",
              "  <thead>\n",
              "    <tr style=\"text-align: right;\">\n",
              "      <th></th>\n",
              "      <th>Region Key</th>\n",
              "    </tr>\n",
              "  </thead>\n",
              "  <tbody>\n",
              "    <tr>\n",
              "      <th>count</th>\n",
              "      <td>149.000000</td>\n",
              "    </tr>\n",
              "    <tr>\n",
              "      <th>mean</th>\n",
              "      <td>28786.637584</td>\n",
              "    </tr>\n",
              "    <tr>\n",
              "      <th>std</th>\n",
              "      <td>14815.365737</td>\n",
              "    </tr>\n",
              "    <tr>\n",
              "      <th>min</th>\n",
              "      <td>1051.000000</td>\n",
              "    </tr>\n",
              "    <tr>\n",
              "      <th>25%</th>\n",
              "      <td>17205.000000</td>\n",
              "    </tr>\n",
              "    <tr>\n",
              "      <th>50%</th>\n",
              "      <td>31060.000000</td>\n",
              "    </tr>\n",
              "    <tr>\n",
              "      <th>75%</th>\n",
              "      <td>43011.000000</td>\n",
              "    </tr>\n",
              "    <tr>\n",
              "      <th>max</th>\n",
              "      <td>50211.000000</td>\n",
              "    </tr>\n",
              "  </tbody>\n",
              "</table>\n",
              "</div>"
            ],
            "text/plain": [
              "         Region Key\n",
              "count    149.000000\n",
              "mean   28786.637584\n",
              "std    14815.365737\n",
              "min     1051.000000\n",
              "25%    17205.000000\n",
              "50%    31060.000000\n",
              "75%    43011.000000\n",
              "max    50211.000000"
            ]
          },
          "execution_count": 10,
          "metadata": {},
          "output_type": "execute_result"
        }
      ],
      "source": [
        "df_1.describe()"
      ]
    },
    {
      "cell_type": "code",
      "execution_count": 11,
      "metadata": {},
      "outputs": [
        {
          "data": {
            "text/plain": [
              "Index(['Region Key', 'Region', 'Provincia', 'Town'], dtype='object')"
            ]
          },
          "execution_count": 11,
          "metadata": {},
          "output_type": "execute_result"
        }
      ],
      "source": [
        "df_1.columns"
      ]
    },
    {
      "cell_type": "code",
      "execution_count": 12,
      "metadata": {},
      "outputs": [],
      "source": [
        "df_2 = pd.read_excel(\"San Martin Stores 2021_New.xlsx\", sheet_name=\"Products\")"
      ]
    },
    {
      "cell_type": "code",
      "execution_count": 13,
      "metadata": {},
      "outputs": [
        {
          "data": {
            "text/html": [
              "<div>\n",
              "<style scoped>\n",
              "    .dataframe tbody tr th:only-of-type {\n",
              "        vertical-align: middle;\n",
              "    }\n",
              "\n",
              "    .dataframe tbody tr th {\n",
              "        vertical-align: top;\n",
              "    }\n",
              "\n",
              "    .dataframe thead th {\n",
              "        text-align: right;\n",
              "    }\n",
              "</style>\n",
              "<table border=\"1\" class=\"dataframe\">\n",
              "  <thead>\n",
              "    <tr style=\"text-align: right;\">\n",
              "      <th></th>\n",
              "      <th>Product Key</th>\n",
              "      <th>Products Category</th>\n",
              "      <th>Products</th>\n",
              "    </tr>\n",
              "  </thead>\n",
              "  <tbody>\n",
              "    <tr>\n",
              "      <th>0</th>\n",
              "      <td>MOLR-67518667</td>\n",
              "      <td>BMX</td>\n",
              "      <td>BICICLETA MONTY 301 2020</td>\n",
              "    </tr>\n",
              "    <tr>\n",
              "      <th>1</th>\n",
              "      <td>LTLM-70853816</td>\n",
              "      <td>BMX</td>\n",
              "      <td>BICICLETA MONTY KAIZEN 207 2020</td>\n",
              "    </tr>\n",
              "    <tr>\n",
              "      <th>2</th>\n",
              "      <td>JDIR-78466074</td>\n",
              "      <td>BMX</td>\n",
              "      <td>BICICLETA CONOR BANDIT 26 2021</td>\n",
              "    </tr>\n",
              "    <tr>\n",
              "      <th>3</th>\n",
              "      <td>FDFC-29597381</td>\n",
              "      <td>BMX</td>\n",
              "      <td>BICICLETA MONTY KAIZEN M5 2021</td>\n",
              "    </tr>\n",
              "    <tr>\n",
              "      <th>4</th>\n",
              "      <td>KGMU-54543151</td>\n",
              "      <td>BMX</td>\n",
              "      <td>BICICLETA MONTY KAIZEN 220 PRO 2020</td>\n",
              "    </tr>\n",
              "  </tbody>\n",
              "</table>\n",
              "</div>"
            ],
            "text/plain": [
              "     Product Key Products Category                             Products\n",
              "0  MOLR-67518667               BMX             BICICLETA MONTY 301 2020\n",
              "1  LTLM-70853816               BMX      BICICLETA MONTY KAIZEN 207 2020\n",
              "2  JDIR-78466074               BMX       BICICLETA CONOR BANDIT 26 2021\n",
              "3  FDFC-29597381               BMX       BICICLETA MONTY KAIZEN M5 2021\n",
              "4  KGMU-54543151               BMX  BICICLETA MONTY KAIZEN 220 PRO 2020"
            ]
          },
          "execution_count": 13,
          "metadata": {},
          "output_type": "execute_result"
        }
      ],
      "source": [
        "df_2.head()"
      ]
    },
    {
      "cell_type": "code",
      "execution_count": 14,
      "metadata": {},
      "outputs": [
        {
          "name": "stdout",
          "output_type": "stream",
          "text": [
            "<class 'pandas.core.frame.DataFrame'>\n",
            "RangeIndex: 246 entries, 0 to 245\n",
            "Data columns (total 3 columns):\n",
            " #   Column             Non-Null Count  Dtype \n",
            "---  ------             --------------  ----- \n",
            " 0   Product Key        246 non-null    object\n",
            " 1   Products Category  246 non-null    object\n",
            " 2   Products           246 non-null    object\n",
            "dtypes: object(3)\n",
            "memory usage: 5.9+ KB\n"
          ]
        }
      ],
      "source": [
        "df_2.info()"
      ]
    },
    {
      "cell_type": "code",
      "execution_count": 15,
      "metadata": {},
      "outputs": [
        {
          "data": {
            "text/html": [
              "<div>\n",
              "<style scoped>\n",
              "    .dataframe tbody tr th:only-of-type {\n",
              "        vertical-align: middle;\n",
              "    }\n",
              "\n",
              "    .dataframe tbody tr th {\n",
              "        vertical-align: top;\n",
              "    }\n",
              "\n",
              "    .dataframe thead th {\n",
              "        text-align: right;\n",
              "    }\n",
              "</style>\n",
              "<table border=\"1\" class=\"dataframe\">\n",
              "  <thead>\n",
              "    <tr style=\"text-align: right;\">\n",
              "      <th></th>\n",
              "      <th>Product Key</th>\n",
              "      <th>Products Category</th>\n",
              "      <th>Products</th>\n",
              "    </tr>\n",
              "  </thead>\n",
              "  <tbody>\n",
              "    <tr>\n",
              "      <th>count</th>\n",
              "      <td>246</td>\n",
              "      <td>246</td>\n",
              "      <td>246</td>\n",
              "    </tr>\n",
              "    <tr>\n",
              "      <th>unique</th>\n",
              "      <td>246</td>\n",
              "      <td>7</td>\n",
              "      <td>186</td>\n",
              "    </tr>\n",
              "    <tr>\n",
              "      <th>top</th>\n",
              "      <td>MOLR-67518667</td>\n",
              "      <td>Carretera</td>\n",
              "      <td>BICICLETA MONTY 301 2020</td>\n",
              "    </tr>\n",
              "    <tr>\n",
              "      <th>freq</th>\n",
              "      <td>1</td>\n",
              "      <td>42</td>\n",
              "      <td>2</td>\n",
              "    </tr>\n",
              "  </tbody>\n",
              "</table>\n",
              "</div>"
            ],
            "text/plain": [
              "          Product Key Products Category                  Products\n",
              "count             246               246                       246\n",
              "unique            246                 7                       186\n",
              "top     MOLR-67518667         Carretera  BICICLETA MONTY 301 2020\n",
              "freq                1                42                         2"
            ]
          },
          "execution_count": 15,
          "metadata": {},
          "output_type": "execute_result"
        }
      ],
      "source": [
        "df_2.describe()"
      ]
    },
    {
      "cell_type": "code",
      "execution_count": 16,
      "metadata": {},
      "outputs": [
        {
          "data": {
            "text/plain": [
              "Index(['Product Key', 'Products Category', 'Products'], dtype='object')"
            ]
          },
          "execution_count": 16,
          "metadata": {},
          "output_type": "execute_result"
        }
      ],
      "source": [
        "df_2.columns"
      ]
    },
    {
      "cell_type": "code",
      "execution_count": 17,
      "metadata": {},
      "outputs": [],
      "source": [
        "df_3 = pd.read_excel(\"San Martin Stores 2021_New.xlsx\", sheet_name=\"Sales Agents\")"
      ]
    },
    {
      "cell_type": "code",
      "execution_count": 18,
      "metadata": {},
      "outputs": [
        {
          "data": {
            "text/html": [
              "<div>\n",
              "<style scoped>\n",
              "    .dataframe tbody tr th:only-of-type {\n",
              "        vertical-align: middle;\n",
              "    }\n",
              "\n",
              "    .dataframe tbody tr th {\n",
              "        vertical-align: top;\n",
              "    }\n",
              "\n",
              "    .dataframe thead th {\n",
              "        text-align: right;\n",
              "    }\n",
              "</style>\n",
              "<table border=\"1\" class=\"dataframe\">\n",
              "  <thead>\n",
              "    <tr style=\"text-align: right;\">\n",
              "      <th></th>\n",
              "      <th>Sales Agent Key</th>\n",
              "      <th>Sales Agent Photo</th>\n",
              "      <th>Sales Agent Name</th>\n",
              "    </tr>\n",
              "  </thead>\n",
              "  <tbody>\n",
              "    <tr>\n",
              "      <th>0</th>\n",
              "      <td>AH-646</td>\n",
              "      <td>http://farm6.staticflickr.com/5537/11550895544...</td>\n",
              "      <td>Aureliano Cabezas Sola</td>\n",
              "    </tr>\n",
              "    <tr>\n",
              "      <th>1</th>\n",
              "      <td>AR-720</td>\n",
              "      <td>http://farm6.staticflickr.com/5506/11549608026...</td>\n",
              "      <td>Eduardo del Azcona</td>\n",
              "    </tr>\n",
              "    <tr>\n",
              "      <th>2</th>\n",
              "      <td>GG-910</td>\n",
              "      <td>http://farm3.staticflickr.com/2811/11551022076...</td>\n",
              "      <td>Evelia Cazorla Girona</td>\n",
              "    </tr>\n",
              "    <tr>\n",
              "      <th>3</th>\n",
              "      <td>SI-523</td>\n",
              "      <td>http://farm6.staticflickr.com/5502/11550929204...</td>\n",
              "      <td>Josefa Estevez Abella</td>\n",
              "    </tr>\n",
              "    <tr>\n",
              "      <th>4</th>\n",
              "      <td>RZ-874</td>\n",
              "      <td>http://farm4.staticflickr.com/3833/11549608016...</td>\n",
              "      <td>Juanito Pacheco Quintero</td>\n",
              "    </tr>\n",
              "  </tbody>\n",
              "</table>\n",
              "</div>"
            ],
            "text/plain": [
              "  Sales Agent Key                                  Sales Agent Photo  \\\n",
              "0          AH-646  http://farm6.staticflickr.com/5537/11550895544...   \n",
              "1          AR-720  http://farm6.staticflickr.com/5506/11549608026...   \n",
              "2          GG-910  http://farm3.staticflickr.com/2811/11551022076...   \n",
              "3          SI-523  http://farm6.staticflickr.com/5502/11550929204...   \n",
              "4          RZ-874  http://farm4.staticflickr.com/3833/11549608016...   \n",
              "\n",
              "           Sales Agent Name  \n",
              "0    Aureliano Cabezas Sola  \n",
              "1        Eduardo del Azcona  \n",
              "2     Evelia Cazorla Girona  \n",
              "3     Josefa Estevez Abella  \n",
              "4  Juanito Pacheco Quintero  "
            ]
          },
          "execution_count": 18,
          "metadata": {},
          "output_type": "execute_result"
        }
      ],
      "source": [
        "df_3.head()"
      ]
    },
    {
      "cell_type": "code",
      "execution_count": 19,
      "metadata": {},
      "outputs": [
        {
          "name": "stdout",
          "output_type": "stream",
          "text": [
            "<class 'pandas.core.frame.DataFrame'>\n",
            "RangeIndex: 9 entries, 0 to 8\n",
            "Data columns (total 3 columns):\n",
            " #   Column             Non-Null Count  Dtype \n",
            "---  ------             --------------  ----- \n",
            " 0   Sales Agent Key    9 non-null      object\n",
            " 1   Sales Agent Photo  9 non-null      object\n",
            " 2   Sales Agent Name   9 non-null      object\n",
            "dtypes: object(3)\n",
            "memory usage: 344.0+ bytes\n"
          ]
        }
      ],
      "source": [
        "df_3.info()"
      ]
    },
    {
      "cell_type": "code",
      "execution_count": 20,
      "metadata": {},
      "outputs": [
        {
          "data": {
            "text/html": [
              "<div>\n",
              "<style scoped>\n",
              "    .dataframe tbody tr th:only-of-type {\n",
              "        vertical-align: middle;\n",
              "    }\n",
              "\n",
              "    .dataframe tbody tr th {\n",
              "        vertical-align: top;\n",
              "    }\n",
              "\n",
              "    .dataframe thead th {\n",
              "        text-align: right;\n",
              "    }\n",
              "</style>\n",
              "<table border=\"1\" class=\"dataframe\">\n",
              "  <thead>\n",
              "    <tr style=\"text-align: right;\">\n",
              "      <th></th>\n",
              "      <th>Sales Agent Key</th>\n",
              "      <th>Sales Agent Photo</th>\n",
              "      <th>Sales Agent Name</th>\n",
              "    </tr>\n",
              "  </thead>\n",
              "  <tbody>\n",
              "    <tr>\n",
              "      <th>count</th>\n",
              "      <td>9</td>\n",
              "      <td>9</td>\n",
              "      <td>9</td>\n",
              "    </tr>\n",
              "    <tr>\n",
              "      <th>unique</th>\n",
              "      <td>9</td>\n",
              "      <td>9</td>\n",
              "      <td>9</td>\n",
              "    </tr>\n",
              "    <tr>\n",
              "      <th>top</th>\n",
              "      <td>AH-646</td>\n",
              "      <td>http://farm6.staticflickr.com/5537/11550895544...</td>\n",
              "      <td>Aureliano Cabezas Sola</td>\n",
              "    </tr>\n",
              "    <tr>\n",
              "      <th>freq</th>\n",
              "      <td>1</td>\n",
              "      <td>1</td>\n",
              "      <td>1</td>\n",
              "    </tr>\n",
              "  </tbody>\n",
              "</table>\n",
              "</div>"
            ],
            "text/plain": [
              "       Sales Agent Key                                  Sales Agent Photo  \\\n",
              "count                9                                                  9   \n",
              "unique               9                                                  9   \n",
              "top             AH-646  http://farm6.staticflickr.com/5537/11550895544...   \n",
              "freq                 1                                                  1   \n",
              "\n",
              "              Sales Agent Name  \n",
              "count                        9  \n",
              "unique                       9  \n",
              "top     Aureliano Cabezas Sola  \n",
              "freq                         1  "
            ]
          },
          "execution_count": 20,
          "metadata": {},
          "output_type": "execute_result"
        }
      ],
      "source": [
        "df_3.describe()"
      ]
    },
    {
      "cell_type": "code",
      "execution_count": 21,
      "metadata": {},
      "outputs": [
        {
          "data": {
            "text/plain": [
              "Index(['Sales Agent Key', 'Sales Agent Photo', 'Sales Agent Name'], dtype='object')"
            ]
          },
          "execution_count": 21,
          "metadata": {},
          "output_type": "execute_result"
        }
      ],
      "source": [
        "df_3.columns"
      ]
    },
    {
      "cell_type": "code",
      "execution_count": 23,
      "metadata": {},
      "outputs": [],
      "source": [
        "df_4 = pd.read_excel(\"San Martin Stores 2021_New.xlsx\", sheet_name=\"Sales Tiendas San Martin Janu#4\")"
      ]
    },
    {
      "cell_type": "code",
      "execution_count": 24,
      "metadata": {},
      "outputs": [
        {
          "data": {
            "text/html": [
              "<div>\n",
              "<style scoped>\n",
              "    .dataframe tbody tr th:only-of-type {\n",
              "        vertical-align: middle;\n",
              "    }\n",
              "\n",
              "    .dataframe tbody tr th {\n",
              "        vertical-align: top;\n",
              "    }\n",
              "\n",
              "    .dataframe thead th {\n",
              "        text-align: right;\n",
              "    }\n",
              "</style>\n",
              "<table border=\"1\" class=\"dataframe\">\n",
              "  <thead>\n",
              "    <tr style=\"text-align: right;\">\n",
              "      <th></th>\n",
              "      <th>Order Date</th>\n",
              "      <th>Shipping date</th>\n",
              "      <th>Invoice Date</th>\n",
              "      <th>Customer Key</th>\n",
              "      <th>Store Key</th>\n",
              "      <th>Region Key</th>\n",
              "      <th>Sales Agent Key</th>\n",
              "      <th>Product Key</th>\n",
              "      <th>Unit Price</th>\n",
              "      <th>Unit Cost</th>\n",
              "      <th>Quanttity</th>\n",
              "      <th>Sales</th>\n",
              "      <th>Cost</th>\n",
              "      <th>Profit</th>\n",
              "    </tr>\n",
              "  </thead>\n",
              "  <tbody>\n",
              "    <tr>\n",
              "      <th>0</th>\n",
              "      <td>2021-01-06</td>\n",
              "      <td>2021-01-08</td>\n",
              "      <td>2021-01-11</td>\n",
              "      <td>7424</td>\n",
              "      <td>T-1206-37059</td>\n",
              "      <td>37059</td>\n",
              "      <td>RZ-874</td>\n",
              "      <td>MOLR-67518667</td>\n",
              "      <td>3951.24</td>\n",
              "      <td>2923.92</td>\n",
              "      <td>1</td>\n",
              "      <td>3951.24</td>\n",
              "      <td>2923.92</td>\n",
              "      <td>1027.32</td>\n",
              "    </tr>\n",
              "    <tr>\n",
              "      <th>1</th>\n",
              "      <td>2021-01-06</td>\n",
              "      <td>2021-01-08</td>\n",
              "      <td>2021-01-11</td>\n",
              "      <td>2571</td>\n",
              "      <td>T-7995-37115</td>\n",
              "      <td>37115</td>\n",
              "      <td>RZ-874</td>\n",
              "      <td>ZMMZ-20740480</td>\n",
              "      <td>820.89</td>\n",
              "      <td>714.17</td>\n",
              "      <td>1</td>\n",
              "      <td>820.89</td>\n",
              "      <td>714.17</td>\n",
              "      <td>106.72</td>\n",
              "    </tr>\n",
              "    <tr>\n",
              "      <th>2</th>\n",
              "      <td>2021-01-06</td>\n",
              "      <td>2021-01-08</td>\n",
              "      <td>2021-01-10</td>\n",
              "      <td>7916</td>\n",
              "      <td>T-7995-37115</td>\n",
              "      <td>37115</td>\n",
              "      <td>RZ-874</td>\n",
              "      <td>CJNM-24961101</td>\n",
              "      <td>3045.65</td>\n",
              "      <td>2071.04</td>\n",
              "      <td>1</td>\n",
              "      <td>3045.65</td>\n",
              "      <td>2071.04</td>\n",
              "      <td>974.61</td>\n",
              "    </tr>\n",
              "    <tr>\n",
              "      <th>3</th>\n",
              "      <td>2021-01-06</td>\n",
              "      <td>2021-01-09</td>\n",
              "      <td>2021-01-09</td>\n",
              "      <td>7644</td>\n",
              "      <td>T-9008-37086</td>\n",
              "      <td>37086</td>\n",
              "      <td>RZ-874</td>\n",
              "      <td>KMCO-67815071</td>\n",
              "      <td>2857.20</td>\n",
              "      <td>1971.47</td>\n",
              "      <td>1</td>\n",
              "      <td>2857.20</td>\n",
              "      <td>1971.47</td>\n",
              "      <td>885.73</td>\n",
              "    </tr>\n",
              "    <tr>\n",
              "      <th>4</th>\n",
              "      <td>2021-01-06</td>\n",
              "      <td>2021-01-07</td>\n",
              "      <td>2021-01-10</td>\n",
              "      <td>1021</td>\n",
              "      <td>T-1856-37141</td>\n",
              "      <td>37141</td>\n",
              "      <td>RZ-874</td>\n",
              "      <td>GZCU-09475675</td>\n",
              "      <td>2230.99</td>\n",
              "      <td>1539.38</td>\n",
              "      <td>1</td>\n",
              "      <td>2230.99</td>\n",
              "      <td>1539.38</td>\n",
              "      <td>691.61</td>\n",
              "    </tr>\n",
              "  </tbody>\n",
              "</table>\n",
              "</div>"
            ],
            "text/plain": [
              "  Order Date Shipping date Invoice Date  Customer Key     Store Key  \\\n",
              "0 2021-01-06    2021-01-08   2021-01-11          7424  T-1206-37059   \n",
              "1 2021-01-06    2021-01-08   2021-01-11          2571  T-7995-37115   \n",
              "2 2021-01-06    2021-01-08   2021-01-10          7916  T-7995-37115   \n",
              "3 2021-01-06    2021-01-09   2021-01-09          7644  T-9008-37086   \n",
              "4 2021-01-06    2021-01-07   2021-01-10          1021  T-1856-37141   \n",
              "\n",
              "   Region Key Sales Agent Key    Product Key  Unit Price  Unit Cost  \\\n",
              "0       37059          RZ-874  MOLR-67518667     3951.24    2923.92   \n",
              "1       37115          RZ-874  ZMMZ-20740480      820.89     714.17   \n",
              "2       37115          RZ-874  CJNM-24961101     3045.65    2071.04   \n",
              "3       37086          RZ-874  KMCO-67815071     2857.20    1971.47   \n",
              "4       37141          RZ-874  GZCU-09475675     2230.99    1539.38   \n",
              "\n",
              "   Quanttity    Sales     Cost   Profit  \n",
              "0          1  3951.24  2923.92  1027.32  \n",
              "1          1   820.89   714.17   106.72  \n",
              "2          1  3045.65  2071.04   974.61  \n",
              "3          1  2857.20  1971.47   885.73  \n",
              "4          1  2230.99  1539.38   691.61  "
            ]
          },
          "execution_count": 24,
          "metadata": {},
          "output_type": "execute_result"
        }
      ],
      "source": [
        "df_4.head()"
      ]
    },
    {
      "cell_type": "code",
      "execution_count": 25,
      "metadata": {},
      "outputs": [
        {
          "name": "stdout",
          "output_type": "stream",
          "text": [
            "<class 'pandas.core.frame.DataFrame'>\n",
            "RangeIndex: 14059 entries, 0 to 14058\n",
            "Data columns (total 14 columns):\n",
            " #   Column           Non-Null Count  Dtype         \n",
            "---  ------           --------------  -----         \n",
            " 0   Order Date       14059 non-null  datetime64[ns]\n",
            " 1   Shipping date    14059 non-null  datetime64[ns]\n",
            " 2   Invoice Date     14059 non-null  datetime64[ns]\n",
            " 3   Customer Key     14059 non-null  int64         \n",
            " 4   Store Key        14059 non-null  object        \n",
            " 5   Region Key       14059 non-null  int64         \n",
            " 6   Sales Agent Key  14059 non-null  object        \n",
            " 7   Product Key      14059 non-null  object        \n",
            " 8   Unit Price       14059 non-null  float64       \n",
            " 9   Unit Cost        14059 non-null  float64       \n",
            " 10  Quanttity        14059 non-null  int64         \n",
            " 11  Sales            14059 non-null  float64       \n",
            " 12  Cost             14059 non-null  float64       \n",
            " 13  Profit           14059 non-null  float64       \n",
            "dtypes: datetime64[ns](3), float64(5), int64(3), object(3)\n",
            "memory usage: 1.5+ MB\n"
          ]
        }
      ],
      "source": [
        "df_4.info()"
      ]
    },
    {
      "cell_type": "code",
      "execution_count": 26,
      "metadata": {},
      "outputs": [
        {
          "data": {
            "text/html": [
              "<div>\n",
              "<style scoped>\n",
              "    .dataframe tbody tr th:only-of-type {\n",
              "        vertical-align: middle;\n",
              "    }\n",
              "\n",
              "    .dataframe tbody tr th {\n",
              "        vertical-align: top;\n",
              "    }\n",
              "\n",
              "    .dataframe thead th {\n",
              "        text-align: right;\n",
              "    }\n",
              "</style>\n",
              "<table border=\"1\" class=\"dataframe\">\n",
              "  <thead>\n",
              "    <tr style=\"text-align: right;\">\n",
              "      <th></th>\n",
              "      <th>Customer Key</th>\n",
              "      <th>Region Key</th>\n",
              "      <th>Unit Price</th>\n",
              "      <th>Unit Cost</th>\n",
              "      <th>Quanttity</th>\n",
              "      <th>Sales</th>\n",
              "      <th>Cost</th>\n",
              "      <th>Profit</th>\n",
              "    </tr>\n",
              "  </thead>\n",
              "  <tbody>\n",
              "    <tr>\n",
              "      <th>count</th>\n",
              "      <td>14059.000000</td>\n",
              "      <td>14059.000000</td>\n",
              "      <td>14059.000000</td>\n",
              "      <td>14059.000000</td>\n",
              "      <td>14059.000000</td>\n",
              "      <td>14059.000000</td>\n",
              "      <td>14059.000000</td>\n",
              "      <td>14059.000000</td>\n",
              "    </tr>\n",
              "    <tr>\n",
              "      <th>mean</th>\n",
              "      <td>5003.333238</td>\n",
              "      <td>28819.266662</td>\n",
              "      <td>2136.931452</td>\n",
              "      <td>1530.821287</td>\n",
              "      <td>1.304787</td>\n",
              "      <td>2788.415184</td>\n",
              "      <td>1996.680337</td>\n",
              "      <td>791.734847</td>\n",
              "    </tr>\n",
              "    <tr>\n",
              "      <th>std</th>\n",
              "      <td>2888.486732</td>\n",
              "      <td>14759.255720</td>\n",
              "      <td>1012.256452</td>\n",
              "      <td>768.732168</td>\n",
              "      <td>0.645028</td>\n",
              "      <td>2022.343203</td>\n",
              "      <td>1488.098068</td>\n",
              "      <td>644.473451</td>\n",
              "    </tr>\n",
              "    <tr>\n",
              "      <th>min</th>\n",
              "      <td>2.000000</td>\n",
              "      <td>1051.000000</td>\n",
              "      <td>214.600000</td>\n",
              "      <td>134.480000</td>\n",
              "      <td>1.000000</td>\n",
              "      <td>214.600000</td>\n",
              "      <td>134.480000</td>\n",
              "      <td>41.320000</td>\n",
              "    </tr>\n",
              "    <tr>\n",
              "      <th>25%</th>\n",
              "      <td>2467.000000</td>\n",
              "      <td>17205.000000</td>\n",
              "      <td>1268.900000</td>\n",
              "      <td>930.050000</td>\n",
              "      <td>1.000000</td>\n",
              "      <td>1476.690000</td>\n",
              "      <td>1032.440000</td>\n",
              "      <td>376.770000</td>\n",
              "    </tr>\n",
              "    <tr>\n",
              "      <th>50%</th>\n",
              "      <td>4997.000000</td>\n",
              "      <td>31060.000000</td>\n",
              "      <td>2172.780000</td>\n",
              "      <td>1481.670000</td>\n",
              "      <td>1.000000</td>\n",
              "      <td>2424.980000</td>\n",
              "      <td>1689.960000</td>\n",
              "      <td>659.250000</td>\n",
              "    </tr>\n",
              "    <tr>\n",
              "      <th>75%</th>\n",
              "      <td>7537.000000</td>\n",
              "      <td>43036.000000</td>\n",
              "      <td>2987.320000</td>\n",
              "      <td>2141.900000</td>\n",
              "      <td>1.000000</td>\n",
              "      <td>3321.950000</td>\n",
              "      <td>2461.120000</td>\n",
              "      <td>985.640000</td>\n",
              "    </tr>\n",
              "    <tr>\n",
              "      <th>max</th>\n",
              "      <td>9999.000000</td>\n",
              "      <td>50211.000000</td>\n",
              "      <td>3997.870000</td>\n",
              "      <td>3470.690000</td>\n",
              "      <td>3.000000</td>\n",
              "      <td>11993.610000</td>\n",
              "      <td>10412.070000</td>\n",
              "      <td>4797.450000</td>\n",
              "    </tr>\n",
              "  </tbody>\n",
              "</table>\n",
              "</div>"
            ],
            "text/plain": [
              "       Customer Key    Region Key    Unit Price     Unit Cost     Quanttity  \\\n",
              "count  14059.000000  14059.000000  14059.000000  14059.000000  14059.000000   \n",
              "mean    5003.333238  28819.266662   2136.931452   1530.821287      1.304787   \n",
              "std     2888.486732  14759.255720   1012.256452    768.732168      0.645028   \n",
              "min        2.000000   1051.000000    214.600000    134.480000      1.000000   \n",
              "25%     2467.000000  17205.000000   1268.900000    930.050000      1.000000   \n",
              "50%     4997.000000  31060.000000   2172.780000   1481.670000      1.000000   \n",
              "75%     7537.000000  43036.000000   2987.320000   2141.900000      1.000000   \n",
              "max     9999.000000  50211.000000   3997.870000   3470.690000      3.000000   \n",
              "\n",
              "              Sales          Cost        Profit  \n",
              "count  14059.000000  14059.000000  14059.000000  \n",
              "mean    2788.415184   1996.680337    791.734847  \n",
              "std     2022.343203   1488.098068    644.473451  \n",
              "min      214.600000    134.480000     41.320000  \n",
              "25%     1476.690000   1032.440000    376.770000  \n",
              "50%     2424.980000   1689.960000    659.250000  \n",
              "75%     3321.950000   2461.120000    985.640000  \n",
              "max    11993.610000  10412.070000   4797.450000  "
            ]
          },
          "execution_count": 26,
          "metadata": {},
          "output_type": "execute_result"
        }
      ],
      "source": [
        "df_4.describe()"
      ]
    },
    {
      "cell_type": "code",
      "execution_count": 27,
      "metadata": {},
      "outputs": [
        {
          "data": {
            "text/plain": [
              "Index(['Order Date', 'Shipping date', 'Invoice Date', 'Customer Key',\n",
              "       'Store Key', 'Region Key', 'Sales Agent Key', 'Product Key',\n",
              "       'Unit Price', 'Unit Cost', 'Quanttity', 'Sales', 'Cost', 'Profit'],\n",
              "      dtype='object')"
            ]
          },
          "execution_count": 27,
          "metadata": {},
          "output_type": "execute_result"
        }
      ],
      "source": [
        "df_4.columns"
      ]
    },
    {
      "cell_type": "code",
      "execution_count": 28,
      "metadata": {},
      "outputs": [],
      "source": [
        "df_5 = pd.read_excel(\"San Martin Stores 2021_New.xlsx\", sheet_name=\"Stores\")"
      ]
    },
    {
      "cell_type": "code",
      "execution_count": 29,
      "metadata": {},
      "outputs": [
        {
          "data": {
            "text/html": [
              "<div>\n",
              "<style scoped>\n",
              "    .dataframe tbody tr th:only-of-type {\n",
              "        vertical-align: middle;\n",
              "    }\n",
              "\n",
              "    .dataframe tbody tr th {\n",
              "        vertical-align: top;\n",
              "    }\n",
              "\n",
              "    .dataframe thead th {\n",
              "        text-align: right;\n",
              "    }\n",
              "</style>\n",
              "<table border=\"1\" class=\"dataframe\">\n",
              "  <thead>\n",
              "    <tr style=\"text-align: right;\">\n",
              "      <th></th>\n",
              "      <th>Store Key</th>\n",
              "      <th>Stores</th>\n",
              "    </tr>\n",
              "  </thead>\n",
              "  <tbody>\n",
              "    <tr>\n",
              "      <th>0</th>\n",
              "      <td>T-3626-22001</td>\n",
              "      <td>Tienda Abiego</td>\n",
              "    </tr>\n",
              "    <tr>\n",
              "      <th>1</th>\n",
              "      <td>T-0447-1051</td>\n",
              "      <td>Tienda Agurain/Salvatierra</td>\n",
              "    </tr>\n",
              "    <tr>\n",
              "      <th>2</th>\n",
              "      <td>T-3792-28003</td>\n",
              "      <td>Tienda Alameda del Valle</td>\n",
              "    </tr>\n",
              "    <tr>\n",
              "      <th>3</th>\n",
              "      <td>T-8895-13008</td>\n",
              "      <td>Tienda Alcubillas</td>\n",
              "    </tr>\n",
              "    <tr>\n",
              "      <th>4</th>\n",
              "      <td>T-4230-39001</td>\n",
              "      <td>Tienda Alfoz de Lloredo</td>\n",
              "    </tr>\n",
              "  </tbody>\n",
              "</table>\n",
              "</div>"
            ],
            "text/plain": [
              "      Store Key                      Stores\n",
              "0  T-3626-22001               Tienda Abiego\n",
              "1   T-0447-1051  Tienda Agurain/Salvatierra\n",
              "2  T-3792-28003    Tienda Alameda del Valle\n",
              "3  T-8895-13008           Tienda Alcubillas\n",
              "4  T-4230-39001     Tienda Alfoz de Lloredo"
            ]
          },
          "execution_count": 29,
          "metadata": {},
          "output_type": "execute_result"
        }
      ],
      "source": [
        "df_5.head()"
      ]
    },
    {
      "cell_type": "code",
      "execution_count": 30,
      "metadata": {},
      "outputs": [
        {
          "name": "stdout",
          "output_type": "stream",
          "text": [
            "<class 'pandas.core.frame.DataFrame'>\n",
            "RangeIndex: 150 entries, 0 to 149\n",
            "Data columns (total 2 columns):\n",
            " #   Column     Non-Null Count  Dtype \n",
            "---  ------     --------------  ----- \n",
            " 0   Store Key  150 non-null    object\n",
            " 1   Stores     150 non-null    object\n",
            "dtypes: object(2)\n",
            "memory usage: 2.5+ KB\n"
          ]
        }
      ],
      "source": [
        "df_5.info()"
      ]
    },
    {
      "cell_type": "code",
      "execution_count": 31,
      "metadata": {},
      "outputs": [
        {
          "data": {
            "text/html": [
              "<div>\n",
              "<style scoped>\n",
              "    .dataframe tbody tr th:only-of-type {\n",
              "        vertical-align: middle;\n",
              "    }\n",
              "\n",
              "    .dataframe tbody tr th {\n",
              "        vertical-align: top;\n",
              "    }\n",
              "\n",
              "    .dataframe thead th {\n",
              "        text-align: right;\n",
              "    }\n",
              "</style>\n",
              "<table border=\"1\" class=\"dataframe\">\n",
              "  <thead>\n",
              "    <tr style=\"text-align: right;\">\n",
              "      <th></th>\n",
              "      <th>Store Key</th>\n",
              "      <th>Stores</th>\n",
              "    </tr>\n",
              "  </thead>\n",
              "  <tbody>\n",
              "    <tr>\n",
              "      <th>count</th>\n",
              "      <td>150</td>\n",
              "      <td>150</td>\n",
              "    </tr>\n",
              "    <tr>\n",
              "      <th>unique</th>\n",
              "      <td>150</td>\n",
              "      <td>149</td>\n",
              "    </tr>\n",
              "    <tr>\n",
              "      <th>top</th>\n",
              "      <td>T-3626-22001</td>\n",
              "      <td>Tienda Pueyo de Araguás, El</td>\n",
              "    </tr>\n",
              "    <tr>\n",
              "      <th>freq</th>\n",
              "      <td>1</td>\n",
              "      <td>2</td>\n",
              "    </tr>\n",
              "  </tbody>\n",
              "</table>\n",
              "</div>"
            ],
            "text/plain": [
              "           Store Key                       Stores\n",
              "count            150                          150\n",
              "unique           150                          149\n",
              "top     T-3626-22001  Tienda Pueyo de Araguás, El\n",
              "freq               1                            2"
            ]
          },
          "execution_count": 31,
          "metadata": {},
          "output_type": "execute_result"
        }
      ],
      "source": [
        "df_5.describe()"
      ]
    },
    {
      "cell_type": "code",
      "execution_count": 33,
      "metadata": {},
      "outputs": [
        {
          "data": {
            "text/html": [
              "<div>\n",
              "<style scoped>\n",
              "    .dataframe tbody tr th:only-of-type {\n",
              "        vertical-align: middle;\n",
              "    }\n",
              "\n",
              "    .dataframe tbody tr th {\n",
              "        vertical-align: top;\n",
              "    }\n",
              "\n",
              "    .dataframe thead th {\n",
              "        text-align: right;\n",
              "    }\n",
              "</style>\n",
              "<table border=\"1\" class=\"dataframe\">\n",
              "  <thead>\n",
              "    <tr style=\"text-align: right;\">\n",
              "      <th></th>\n",
              "      <th>Order Date</th>\n",
              "      <th>Shipping date</th>\n",
              "      <th>Invoice Date</th>\n",
              "      <th>Customer Key</th>\n",
              "      <th>Store Key</th>\n",
              "      <th>Region Key</th>\n",
              "      <th>Sales Agent Key</th>\n",
              "      <th>Product Key</th>\n",
              "      <th>Unit Price</th>\n",
              "      <th>Unit Cost</th>\n",
              "      <th>...</th>\n",
              "      <th>Profit</th>\n",
              "      <th>Customers</th>\n",
              "      <th>Region</th>\n",
              "      <th>Provincia</th>\n",
              "      <th>Town</th>\n",
              "      <th>Products Category</th>\n",
              "      <th>Products</th>\n",
              "      <th>Sales Agent Photo</th>\n",
              "      <th>Sales Agent Name</th>\n",
              "      <th>Stores</th>\n",
              "    </tr>\n",
              "  </thead>\n",
              "  <tbody>\n",
              "    <tr>\n",
              "      <th>0</th>\n",
              "      <td>2021-01-06</td>\n",
              "      <td>2021-01-08</td>\n",
              "      <td>2021-01-11</td>\n",
              "      <td>7424</td>\n",
              "      <td>T-1206-37059</td>\n",
              "      <td>37059</td>\n",
              "      <td>RZ-874</td>\n",
              "      <td>MOLR-67518667</td>\n",
              "      <td>3951.24</td>\n",
              "      <td>2923.92</td>\n",
              "      <td>...</td>\n",
              "      <td>1027.32</td>\n",
              "      <td>Jacinto Andrés Felipe Ribes Pou</td>\n",
              "      <td>Castilla y León</td>\n",
              "      <td>Salamanca</td>\n",
              "      <td>Buenamadre</td>\n",
              "      <td>BMX</td>\n",
              "      <td>BICICLETA MONTY 301 2020</td>\n",
              "      <td>http://farm4.staticflickr.com/3833/11549608016...</td>\n",
              "      <td>Juanito Pacheco Quintero</td>\n",
              "      <td>Tienda Buenamadre</td>\n",
              "    </tr>\n",
              "    <tr>\n",
              "      <th>1</th>\n",
              "      <td>2021-01-06</td>\n",
              "      <td>2021-01-08</td>\n",
              "      <td>2021-01-11</td>\n",
              "      <td>2571</td>\n",
              "      <td>T-7995-37115</td>\n",
              "      <td>37115</td>\n",
              "      <td>RZ-874</td>\n",
              "      <td>ZMMZ-20740480</td>\n",
              "      <td>820.89</td>\n",
              "      <td>714.17</td>\n",
              "      <td>...</td>\n",
              "      <td>106.72</td>\n",
              "      <td>Albino Francisco Javier Barros Alvarez</td>\n",
              "      <td>Castilla y León</td>\n",
              "      <td>Salamanca</td>\n",
              "      <td>Dios le Guarde</td>\n",
              "      <td>Carretera</td>\n",
              "      <td>BICICLETA CONOR SPIRIT DISC TIAGRA 2021</td>\n",
              "      <td>http://farm4.staticflickr.com/3833/11549608016...</td>\n",
              "      <td>Juanito Pacheco Quintero</td>\n",
              "      <td>Tienda Dios le Guarde</td>\n",
              "    </tr>\n",
              "    <tr>\n",
              "      <th>2</th>\n",
              "      <td>2021-01-06</td>\n",
              "      <td>2021-01-08</td>\n",
              "      <td>2021-01-10</td>\n",
              "      <td>7916</td>\n",
              "      <td>T-7995-37115</td>\n",
              "      <td>37115</td>\n",
              "      <td>RZ-874</td>\n",
              "      <td>CJNM-24961101</td>\n",
              "      <td>3045.65</td>\n",
              "      <td>2071.04</td>\n",
              "      <td>...</td>\n",
              "      <td>974.61</td>\n",
              "      <td>Rafaela Manjón Bonet</td>\n",
              "      <td>Castilla y León</td>\n",
              "      <td>Salamanca</td>\n",
              "      <td>Dios le Guarde</td>\n",
              "      <td>Indoor</td>\n",
              "      <td>BICICLETA CICLISMO INDOOR FFITTECH GOLD</td>\n",
              "      <td>http://farm4.staticflickr.com/3833/11549608016...</td>\n",
              "      <td>Juanito Pacheco Quintero</td>\n",
              "      <td>Tienda Dios le Guarde</td>\n",
              "    </tr>\n",
              "    <tr>\n",
              "      <th>3</th>\n",
              "      <td>2021-01-06</td>\n",
              "      <td>2021-01-09</td>\n",
              "      <td>2021-01-09</td>\n",
              "      <td>7644</td>\n",
              "      <td>T-9008-37086</td>\n",
              "      <td>37086</td>\n",
              "      <td>RZ-874</td>\n",
              "      <td>KMCO-67815071</td>\n",
              "      <td>2857.20</td>\n",
              "      <td>1971.47</td>\n",
              "      <td>...</td>\n",
              "      <td>885.73</td>\n",
              "      <td>Tomasa Mayte Anglada Alcaraz</td>\n",
              "      <td>Castilla y León</td>\n",
              "      <td>Salamanca</td>\n",
              "      <td>Carpio de Azaba</td>\n",
              "      <td>Paseo</td>\n",
              "      <td>BICICLETA ORBEA CARPE 15 2021</td>\n",
              "      <td>http://farm4.staticflickr.com/3833/11549608016...</td>\n",
              "      <td>Juanito Pacheco Quintero</td>\n",
              "      <td>Tienda Carpio de Azaba</td>\n",
              "    </tr>\n",
              "    <tr>\n",
              "      <th>4</th>\n",
              "      <td>2021-01-06</td>\n",
              "      <td>2021-01-07</td>\n",
              "      <td>2021-01-10</td>\n",
              "      <td>1021</td>\n",
              "      <td>T-1856-37141</td>\n",
              "      <td>37141</td>\n",
              "      <td>RZ-874</td>\n",
              "      <td>GZCU-09475675</td>\n",
              "      <td>2230.99</td>\n",
              "      <td>1539.38</td>\n",
              "      <td>...</td>\n",
              "      <td>691.61</td>\n",
              "      <td>Estefanía Carpio Seco</td>\n",
              "      <td>Castilla y León</td>\n",
              "      <td>Salamanca</td>\n",
              "      <td>Gajates</td>\n",
              "      <td>Paseo</td>\n",
              "      <td>BICICLETA CONOR SOHO ALUMINIO 6V 2021</td>\n",
              "      <td>http://farm4.staticflickr.com/3833/11549608016...</td>\n",
              "      <td>Juanito Pacheco Quintero</td>\n",
              "      <td>Tienda Gajates</td>\n",
              "    </tr>\n",
              "  </tbody>\n",
              "</table>\n",
              "<p>5 rows × 23 columns</p>\n",
              "</div>"
            ],
            "text/plain": [
              "  Order Date Shipping date Invoice Date  Customer Key     Store Key  \\\n",
              "0 2021-01-06    2021-01-08   2021-01-11          7424  T-1206-37059   \n",
              "1 2021-01-06    2021-01-08   2021-01-11          2571  T-7995-37115   \n",
              "2 2021-01-06    2021-01-08   2021-01-10          7916  T-7995-37115   \n",
              "3 2021-01-06    2021-01-09   2021-01-09          7644  T-9008-37086   \n",
              "4 2021-01-06    2021-01-07   2021-01-10          1021  T-1856-37141   \n",
              "\n",
              "   Region Key Sales Agent Key    Product Key  Unit Price  Unit Cost  ...  \\\n",
              "0       37059          RZ-874  MOLR-67518667     3951.24    2923.92  ...   \n",
              "1       37115          RZ-874  ZMMZ-20740480      820.89     714.17  ...   \n",
              "2       37115          RZ-874  CJNM-24961101     3045.65    2071.04  ...   \n",
              "3       37086          RZ-874  KMCO-67815071     2857.20    1971.47  ...   \n",
              "4       37141          RZ-874  GZCU-09475675     2230.99    1539.38  ...   \n",
              "\n",
              "    Profit                               Customers           Region  \\\n",
              "0  1027.32         Jacinto Andrés Felipe Ribes Pou  Castilla y León   \n",
              "1   106.72  Albino Francisco Javier Barros Alvarez  Castilla y León   \n",
              "2   974.61                    Rafaela Manjón Bonet  Castilla y León   \n",
              "3   885.73            Tomasa Mayte Anglada Alcaraz  Castilla y León   \n",
              "4   691.61                   Estefanía Carpio Seco  Castilla y León   \n",
              "\n",
              "   Provincia             Town Products Category  \\\n",
              "0  Salamanca       Buenamadre               BMX   \n",
              "1  Salamanca   Dios le Guarde         Carretera   \n",
              "2  Salamanca   Dios le Guarde            Indoor   \n",
              "3  Salamanca  Carpio de Azaba             Paseo   \n",
              "4  Salamanca          Gajates             Paseo   \n",
              "\n",
              "                                  Products  \\\n",
              "0                 BICICLETA MONTY 301 2020   \n",
              "1  BICICLETA CONOR SPIRIT DISC TIAGRA 2021   \n",
              "2  BICICLETA CICLISMO INDOOR FFITTECH GOLD   \n",
              "3            BICICLETA ORBEA CARPE 15 2021   \n",
              "4    BICICLETA CONOR SOHO ALUMINIO 6V 2021   \n",
              "\n",
              "                                   Sales Agent Photo  \\\n",
              "0  http://farm4.staticflickr.com/3833/11549608016...   \n",
              "1  http://farm4.staticflickr.com/3833/11549608016...   \n",
              "2  http://farm4.staticflickr.com/3833/11549608016...   \n",
              "3  http://farm4.staticflickr.com/3833/11549608016...   \n",
              "4  http://farm4.staticflickr.com/3833/11549608016...   \n",
              "\n",
              "           Sales Agent Name                  Stores  \n",
              "0  Juanito Pacheco Quintero       Tienda Buenamadre  \n",
              "1  Juanito Pacheco Quintero   Tienda Dios le Guarde  \n",
              "2  Juanito Pacheco Quintero   Tienda Dios le Guarde  \n",
              "3  Juanito Pacheco Quintero  Tienda Carpio de Azaba  \n",
              "4  Juanito Pacheco Quintero          Tienda Gajates  \n",
              "\n",
              "[5 rows x 23 columns]"
            ]
          },
          "execution_count": 33,
          "metadata": {},
          "output_type": "execute_result"
        }
      ],
      "source": [
        "# merge the df, df_1, df_2, df_3,  df_5 with df_4 \n",
        "\n",
        "df_6 = pd.merge(df_4, df, on='Customer Key', how='left')\n",
        "df_7 = pd.merge(df_6, df_1, on='Region Key', how='left')\n",
        "df_8 = pd.merge(df_7, df_2, on='Product Key', how='left')\n",
        "df_9 = pd.merge(df_8, df_3, on='Sales Agent Key', how='left')\n",
        "df_10 = pd.merge(df_9, df_5, on='Store Key', how='left')\n",
        "\n",
        "df_10.head()"
      ]
    },
    {
      "cell_type": "code",
      "execution_count": 34,
      "metadata": {},
      "outputs": [
        {
          "name": "stdout",
          "output_type": "stream",
          "text": [
            "<class 'pandas.core.frame.DataFrame'>\n",
            "Int64Index: 14059 entries, 0 to 14058\n",
            "Data columns (total 23 columns):\n",
            " #   Column             Non-Null Count  Dtype         \n",
            "---  ------             --------------  -----         \n",
            " 0   Order Date         14059 non-null  datetime64[ns]\n",
            " 1   Shipping date      14059 non-null  datetime64[ns]\n",
            " 2   Invoice Date       14059 non-null  datetime64[ns]\n",
            " 3   Customer Key       14059 non-null  int64         \n",
            " 4   Store Key          14059 non-null  object        \n",
            " 5   Region Key         14059 non-null  int64         \n",
            " 6   Sales Agent Key    14059 non-null  object        \n",
            " 7   Product Key        14059 non-null  object        \n",
            " 8   Unit Price         14059 non-null  float64       \n",
            " 9   Unit Cost          14059 non-null  float64       \n",
            " 10  Quanttity          14059 non-null  int64         \n",
            " 11  Sales              14059 non-null  float64       \n",
            " 12  Cost               14059 non-null  float64       \n",
            " 13  Profit             14059 non-null  float64       \n",
            " 14  Customers          14059 non-null  object        \n",
            " 15  Region             14059 non-null  object        \n",
            " 16  Provincia          14059 non-null  object        \n",
            " 17  Town               14059 non-null  object        \n",
            " 18  Products Category  14059 non-null  object        \n",
            " 19  Products           14059 non-null  object        \n",
            " 20  Sales Agent Photo  14059 non-null  object        \n",
            " 21  Sales Agent Name   14059 non-null  object        \n",
            " 22  Stores             14059 non-null  object        \n",
            "dtypes: datetime64[ns](3), float64(5), int64(3), object(12)\n",
            "memory usage: 2.6+ MB\n"
          ]
        }
      ],
      "source": [
        "df_10.info()"
      ]
    },
    {
      "cell_type": "code",
      "execution_count": 35,
      "metadata": {},
      "outputs": [
        {
          "data": {
            "text/plain": [
              "Index(['Order Date', 'Shipping date', 'Invoice Date', 'Customer Key',\n",
              "       'Store Key', 'Region Key', 'Sales Agent Key', 'Product Key',\n",
              "       'Unit Price', 'Unit Cost', 'Quanttity', 'Sales', 'Cost', 'Profit',\n",
              "       'Customers', 'Region', 'Provincia', 'Town', 'Products Category',\n",
              "       'Products', 'Sales Agent Photo', 'Sales Agent Name', 'Stores'],\n",
              "      dtype='object')"
            ]
          },
          "execution_count": 35,
          "metadata": {},
          "output_type": "execute_result"
        }
      ],
      "source": [
        "# EDA \n",
        "\n",
        "df_10.columns\n"
      ]
    },
    {
      "cell_type": "code",
      "execution_count": 36,
      "metadata": {},
      "outputs": [
        {
          "data": {
            "text/html": [
              "<div>\n",
              "<style scoped>\n",
              "    .dataframe tbody tr th:only-of-type {\n",
              "        vertical-align: middle;\n",
              "    }\n",
              "\n",
              "    .dataframe tbody tr th {\n",
              "        vertical-align: top;\n",
              "    }\n",
              "\n",
              "    .dataframe thead th {\n",
              "        text-align: right;\n",
              "    }\n",
              "</style>\n",
              "<table border=\"1\" class=\"dataframe\">\n",
              "  <thead>\n",
              "    <tr style=\"text-align: right;\">\n",
              "      <th></th>\n",
              "      <th>Customer Key</th>\n",
              "      <th>Region Key</th>\n",
              "      <th>Unit Price</th>\n",
              "      <th>Unit Cost</th>\n",
              "      <th>Quanttity</th>\n",
              "      <th>Sales</th>\n",
              "      <th>Cost</th>\n",
              "      <th>Profit</th>\n",
              "    </tr>\n",
              "  </thead>\n",
              "  <tbody>\n",
              "    <tr>\n",
              "      <th>count</th>\n",
              "      <td>14059.000000</td>\n",
              "      <td>14059.000000</td>\n",
              "      <td>14059.000000</td>\n",
              "      <td>14059.000000</td>\n",
              "      <td>14059.000000</td>\n",
              "      <td>14059.000000</td>\n",
              "      <td>14059.000000</td>\n",
              "      <td>14059.000000</td>\n",
              "    </tr>\n",
              "    <tr>\n",
              "      <th>mean</th>\n",
              "      <td>5003.333238</td>\n",
              "      <td>28819.266662</td>\n",
              "      <td>2136.931452</td>\n",
              "      <td>1530.821287</td>\n",
              "      <td>1.304787</td>\n",
              "      <td>2788.415184</td>\n",
              "      <td>1996.680337</td>\n",
              "      <td>791.734847</td>\n",
              "    </tr>\n",
              "    <tr>\n",
              "      <th>std</th>\n",
              "      <td>2888.486732</td>\n",
              "      <td>14759.255720</td>\n",
              "      <td>1012.256452</td>\n",
              "      <td>768.732168</td>\n",
              "      <td>0.645028</td>\n",
              "      <td>2022.343203</td>\n",
              "      <td>1488.098068</td>\n",
              "      <td>644.473451</td>\n",
              "    </tr>\n",
              "    <tr>\n",
              "      <th>min</th>\n",
              "      <td>2.000000</td>\n",
              "      <td>1051.000000</td>\n",
              "      <td>214.600000</td>\n",
              "      <td>134.480000</td>\n",
              "      <td>1.000000</td>\n",
              "      <td>214.600000</td>\n",
              "      <td>134.480000</td>\n",
              "      <td>41.320000</td>\n",
              "    </tr>\n",
              "    <tr>\n",
              "      <th>25%</th>\n",
              "      <td>2467.000000</td>\n",
              "      <td>17205.000000</td>\n",
              "      <td>1268.900000</td>\n",
              "      <td>930.050000</td>\n",
              "      <td>1.000000</td>\n",
              "      <td>1476.690000</td>\n",
              "      <td>1032.440000</td>\n",
              "      <td>376.770000</td>\n",
              "    </tr>\n",
              "    <tr>\n",
              "      <th>50%</th>\n",
              "      <td>4997.000000</td>\n",
              "      <td>31060.000000</td>\n",
              "      <td>2172.780000</td>\n",
              "      <td>1481.670000</td>\n",
              "      <td>1.000000</td>\n",
              "      <td>2424.980000</td>\n",
              "      <td>1689.960000</td>\n",
              "      <td>659.250000</td>\n",
              "    </tr>\n",
              "    <tr>\n",
              "      <th>75%</th>\n",
              "      <td>7537.000000</td>\n",
              "      <td>43036.000000</td>\n",
              "      <td>2987.320000</td>\n",
              "      <td>2141.900000</td>\n",
              "      <td>1.000000</td>\n",
              "      <td>3321.950000</td>\n",
              "      <td>2461.120000</td>\n",
              "      <td>985.640000</td>\n",
              "    </tr>\n",
              "    <tr>\n",
              "      <th>max</th>\n",
              "      <td>9999.000000</td>\n",
              "      <td>50211.000000</td>\n",
              "      <td>3997.870000</td>\n",
              "      <td>3470.690000</td>\n",
              "      <td>3.000000</td>\n",
              "      <td>11993.610000</td>\n",
              "      <td>10412.070000</td>\n",
              "      <td>4797.450000</td>\n",
              "    </tr>\n",
              "  </tbody>\n",
              "</table>\n",
              "</div>"
            ],
            "text/plain": [
              "       Customer Key    Region Key    Unit Price     Unit Cost     Quanttity  \\\n",
              "count  14059.000000  14059.000000  14059.000000  14059.000000  14059.000000   \n",
              "mean    5003.333238  28819.266662   2136.931452   1530.821287      1.304787   \n",
              "std     2888.486732  14759.255720   1012.256452    768.732168      0.645028   \n",
              "min        2.000000   1051.000000    214.600000    134.480000      1.000000   \n",
              "25%     2467.000000  17205.000000   1268.900000    930.050000      1.000000   \n",
              "50%     4997.000000  31060.000000   2172.780000   1481.670000      1.000000   \n",
              "75%     7537.000000  43036.000000   2987.320000   2141.900000      1.000000   \n",
              "max     9999.000000  50211.000000   3997.870000   3470.690000      3.000000   \n",
              "\n",
              "              Sales          Cost        Profit  \n",
              "count  14059.000000  14059.000000  14059.000000  \n",
              "mean    2788.415184   1996.680337    791.734847  \n",
              "std     2022.343203   1488.098068    644.473451  \n",
              "min      214.600000    134.480000     41.320000  \n",
              "25%     1476.690000   1032.440000    376.770000  \n",
              "50%     2424.980000   1689.960000    659.250000  \n",
              "75%     3321.950000   2461.120000    985.640000  \n",
              "max    11993.610000  10412.070000   4797.450000  "
            ]
          },
          "execution_count": 36,
          "metadata": {},
          "output_type": "execute_result"
        }
      ],
      "source": [
        "df_10.describe()"
      ]
    },
    {
      "cell_type": "code",
      "execution_count": 37,
      "metadata": {},
      "outputs": [
        {
          "data": {
            "text/plain": [
              "Order Date           0\n",
              "Shipping date        0\n",
              "Invoice Date         0\n",
              "Customer Key         0\n",
              "Store Key            0\n",
              "Region Key           0\n",
              "Sales Agent Key      0\n",
              "Product Key          0\n",
              "Unit Price           0\n",
              "Unit Cost            0\n",
              "Quanttity            0\n",
              "Sales                0\n",
              "Cost                 0\n",
              "Profit               0\n",
              "Customers            0\n",
              "Region               0\n",
              "Provincia            0\n",
              "Town                 0\n",
              "Products Category    0\n",
              "Products             0\n",
              "Sales Agent Photo    0\n",
              "Sales Agent Name     0\n",
              "Stores               0\n",
              "dtype: int64"
            ]
          },
          "execution_count": 37,
          "metadata": {},
          "output_type": "execute_result"
        }
      ],
      "source": [
        "df_10.isnull().sum()"
      ]
    },
    {
      "cell_type": "code",
      "execution_count": 58,
      "metadata": {},
      "outputs": [],
      "source": [
        "# convert date columns to datetime format\n",
        "df_10['Order Date'] = pd.to_datetime(df_10['Order Date'])\n",
        "df_10['Shipping date'] = pd.to_datetime(df_10['Shipping date'])\n",
        "df_10['Invoice Date'] = pd.to_datetime(df_10['Invoice Date'])"
      ]
    },
    {
      "cell_type": "code",
      "execution_count": 60,
      "metadata": {},
      "outputs": [],
      "source": [
        "# create new column 'Order Processing Time' by subtracting 'Order Date' from 'Shipping date'\n",
        "df_10['Order Processing Time'] = df_10['Shipping date'] - df_10['Order Date']\n"
      ]
    },
    {
      "cell_type": "code",
      "execution_count": 61,
      "metadata": {},
      "outputs": [],
      "source": [
        "# create new column 'Invoice Processing Time' by subtracting 'Order Date' from 'Invoice Date'\n",
        "df_10['Invoice Processing Time'] = df_10['Invoice Date'] - df_10['Order Date']"
      ]
    },
    {
      "cell_type": "code",
      "execution_count": 62,
      "metadata": {},
      "outputs": [],
      "source": [
        "# create new column 'Profit Ratio' by dividing 'Profit' by 'Sales'\n",
        "df_10['Profit Ratio'] = df_10['Profit'] / df_10['Sales']"
      ]
    },
    {
      "cell_type": "code",
      "execution_count": 63,
      "metadata": {},
      "outputs": [
        {
          "data": {
            "image/png": "[encoded data removed]",
            "text/plain": [
              "<Figure size 432x288 with 1 Axes>"
            ]
          },
          "metadata": {
            "needs_background": "light"
          },
          "output_type": "display_data"
        }
      ],
      "source": [
        "# create a scatter plot of 'Unit Price' vs 'Unit Cost'\n",
        "plt.scatter(x=df_10['Unit Price'], y=df_10['Unit Cost'])\n",
        "plt.xlabel('Unit Price')\n",
        "plt.ylabel('Unit Cost')\n",
        "plt.show()"
      ]
    },
    {
      "cell_type": "code",
      "execution_count": 66,
      "metadata": {},
      "outputs": [
        {
          "data": {
            "image/png": "[encoded data removed]",
            "text/plain": [
              "<Figure size 1152x360 with 1 Axes>"
            ]
          },
          "metadata": {
            "needs_background": "light"
          },
          "output_type": "display_data"
        }
      ],
      "source": [
        "# create a line plot of 'Profit Ratio' by 'Region'\n",
        "df_10.groupby(by='Region')['Profit Ratio'].mean().plot(kind='line', color='red', marker='o', linestyle='dashed', linewidth=2, markersize=12, figsize=(16, 5))\n",
        "plt.xlabel('Region')\n",
        "plt.ylabel('Profit Ratio')\n",
        "plt.show()"
      ]
    },
    {
      "cell_type": "code",
      "execution_count": 68,
      "metadata": {},
      "outputs": [
        {
          "data": {
            "image/png": "[encoded data removed]",
            "text/plain": [
              "<Figure size 432x288 with 1 Axes>"
            ]
          },
          "metadata": {
            "needs_background": "light"
          },
          "output_type": "display_data"
        }
      ],
      "source": [
        "# create a bar plot of 'Profit' by 'Products Category'\n",
        "df_10.groupby(by='Products Category')['Profit'].mean().plot(kind='bar')\n",
        "plt.xlabel('Products Category')\n",
        "plt.ylabel('Profit')\n",
        "plt.show()"
      ]
    },
    {
      "cell_type": "code",
      "execution_count": 70,
      "metadata": {},
      "outputs": [
        {
          "name": "stdout",
          "output_type": "stream",
          "text": [
            "<class 'pandas.core.frame.DataFrame'>\n",
            "Int64Index: 14059 entries, 0 to 14058\n",
            "Data columns (total 26 columns):\n",
            " #   Column                   Non-Null Count  Dtype          \n",
            "---  ------                   --------------  -----          \n",
            " 0   Order Date               14059 non-null  datetime64[ns] \n",
            " 1   Shipping date            14059 non-null  datetime64[ns] \n",
            " 2   Invoice Date             14059 non-null  datetime64[ns] \n",
            " 3   Customer Key             14059 non-null  int64          \n",
            " 4   Store Key                14059 non-null  object         \n",
            " 5   Region Key               14059 non-null  int64          \n",
            " 6   Sales Agent Key          14059 non-null  object         \n",
            " 7   Product Key              14059 non-null  object         \n",
            " 8   Unit Price               14059 non-null  float64        \n",
            " 9   Unit Cost                14059 non-null  float64        \n",
            " 10  Quanttity                14059 non-null  int64          \n",
            " 11  Sales                    14059 non-null  float64        \n",
            " 12  Cost                     14059 non-null  float64        \n",
            " 13  Profit                   14059 non-null  float64        \n",
            " 14  Customers                14059 non-null  object         \n",
            " 15  Region                   14059 non-null  object         \n",
            " 16  Provincia                14059 non-null  object         \n",
            " 17  Town                     14059 non-null  object         \n",
            " 18  Products Category        14059 non-null  object         \n",
            " 19  Products                 14059 non-null  object         \n",
            " 20  Sales Agent Photo        14059 non-null  object         \n",
            " 21  Sales Agent Name         14059 non-null  object         \n",
            " 22  Stores                   14059 non-null  object         \n",
            " 23  Order Processing Time    14059 non-null  timedelta64[ns]\n",
            " 24  Invoice Processing Time  14059 non-null  timedelta64[ns]\n",
            " 25  Profit Ratio             14059 non-null  float64        \n",
            "dtypes: datetime64[ns](3), float64(6), int64(3), object(12), timedelta64[ns](2)\n",
            "memory usage: 2.9+ MB\n"
          ]
        }
      ],
      "source": [
        "df_10.info()"
      ]
    },
    {
      "cell_type": "code",
      "execution_count": 71,
      "metadata": {},
      "outputs": [],
      "source": [
        "# create new column 'Order Week' by extracting the week of the year from 'Order Date'\n",
        "df_10['Order Week'] = df_10['Order Date'].dt.week"
      ]
    },
    {
      "cell_type": "code",
      "execution_count": 72,
      "metadata": {},
      "outputs": [],
      "source": [
        "# create new column 'Shipping Week' by extracting the week of the year from 'Shipping date'\n",
        "df_10['Shipping Week'] = df_10['Shipping date'].dt.week"
      ]
    },
    {
      "cell_type": "code",
      "execution_count": 73,
      "metadata": {},
      "outputs": [],
      "source": [
        "# create new column 'Invoice Week' by extracting the week of the year from 'Invoice Date'\n",
        "df_10['Invoice Week'] = df_10['Invoice Date'].dt.week"
      ]
    },
    {
      "cell_type": "code",
      "execution_count": 74,
      "metadata": {},
      "outputs": [
        {
          "data": {
            "text/plain": [
              "Order Week\n",
              "1     3147513.94\n",
              "2     2907642.63\n",
              "3     2896237.01\n",
              "4     1185714.28\n",
              "53     993892.35\n",
              "Name: Profit, dtype: float64"
            ]
          },
          "execution_count": 74,
          "metadata": {},
          "output_type": "execute_result"
        }
      ],
      "source": [
        "# group the data by 'Order Week' and calculate the sum of 'Profit'\n",
        "df_10.groupby(by='Order Week')['Profit'].sum()"
      ]
    },
    {
      "cell_type": "code",
      "execution_count": 75,
      "metadata": {},
      "outputs": [
        {
          "data": {
            "image/png": "[encoded data removed]",
            "text/plain": [
              "<Figure size 432x288 with 1 Axes>"
            ]
          },
          "metadata": {
            "needs_background": "light"
          },
          "output_type": "display_data"
        }
      ],
      "source": [
        "# create a line plot of 'Profit' by 'Order Week'\n",
        "df_10.groupby(by='Order Week')['Profit'].sum().plot(kind='line')\n",
        "plt.xlabel('Order Week')\n",
        "plt.ylabel('Profit')\n",
        "plt.show()"
      ]
    },
    {
      "cell_type": "code",
      "execution_count": 76,
      "metadata": {},
      "outputs": [
        {
          "name": "stdout",
          "output_type": "stream",
          "text": [
            "Region      Andalucía    Aragón  Asturias, Principado de  Balears, Illes  \\\n",
            "Order Week                                                                 \n",
            "1            0.290129  0.288701                 0.296207        0.268696   \n",
            "2            0.288518  0.285000                 0.304284        0.276000   \n",
            "3            0.289685  0.290568                 0.296818        0.294999   \n",
            "4            0.288000  0.281822                 0.335999        0.237272   \n",
            "53           0.293206  0.276649                 0.316002        0.295000   \n",
            "\n",
            "Region      Canarias  Cantabria  Castilla - La Mancha  Castilla y León  \\\n",
            "Order Week                                                               \n",
            "1           0.277500   0.284464              0.287368         0.289337   \n",
            "2           0.288841   0.291765              0.285941         0.287331   \n",
            "3           0.303281   0.290400              0.287594         0.289056   \n",
            "4           0.284242   0.279688              0.292679         0.281913   \n",
            "53          0.297000   0.274445              0.284500         0.288878   \n",
            "\n",
            "Region      Cataluña  Comunitat Valenciana  Extremadura   Galicia  \\\n",
            "Order Week                                                          \n",
            "1           0.287551              0.290930     0.292868  0.297698   \n",
            "2           0.286275              0.284044     0.285129  0.284058   \n",
            "3           0.282493              0.286256     0.291032  0.278166   \n",
            "4           0.284752              0.280421     0.307089  0.277555   \n",
            "53          0.283672              0.291231     0.291025  0.280811   \n",
            "\n",
            "Region      Madrid, Comunidad de  Navarra, Comunidad Foral de  País Vasco  \\\n",
            "Order Week                                                                  \n",
            "1                       0.298750                     0.286153    0.288972   \n",
            "2                       0.276585                     0.291111    0.288723   \n",
            "3                       0.297067                     0.301290    0.300805   \n",
            "4                       0.315238                     0.298095    0.295854   \n",
            "53                      0.302000                     0.283571    0.293929   \n",
            "\n",
            "Region      Rioja, La  \n",
            "Order Week             \n",
            "1            0.288197  \n",
            "2            0.281628  \n",
            "3            0.281250  \n",
            "4            0.296153  \n",
            "53           0.271666  \n"
          ]
        }
      ],
      "source": [
        "# group the data by 'Order Week' and 'Region' and calculate the mean of 'Profit Ratio'\n",
        "table = df_10.pivot_table(values='Profit Ratio', index='Order Week', columns='Region', aggfunc='mean')\n",
        "print(table)"
      ]
    },
    {
      "cell_type": "code",
      "execution_count": 38,
      "metadata": {},
      "outputs": [
        {
          "name": "stdout",
          "output_type": "stream",
          "text": [
            "Castilla y León                3828\n",
            "Aragón                         2064\n",
            "Cataluña                       1511\n",
            "Andalucía                      1308\n",
            "Castilla - La Mancha           1033\n",
            "Extremadura                     945\n",
            "Comunitat Valenciana            875\n",
            "Galicia                         466\n",
            "Cantabria                       382\n",
            "Navarra, Comunidad Foral de     366\n",
            "País Vasco                      357\n",
            "Canarias                        280\n",
            "Madrid, Comunidad de            280\n",
            "Rioja, La                       191\n",
            "Asturias, Principado de          87\n",
            "Balears, Illes                   86\n",
            "Name: Region, dtype: int64\n"
          ]
        }
      ],
      "source": [
        "print(df_10['Region'].value_counts())"
      ]
    },
    {
      "cell_type": "code",
      "execution_count": 44,
      "metadata": {},
      "outputs": [
        {
          "name": "stdout",
          "output_type": "stream",
          "text": [
            "Region\n",
            "Andalucía                      1059540.83\n",
            "Aragón                         1675106.21\n",
            "Asturias, Principado de          76162.09\n",
            "Balears, Illes                   64289.86\n",
            "Canarias                        223177.63\n",
            "Cantabria                       320552.01\n",
            "Castilla - La Mancha            792622.93\n",
            "Castilla y León                2977571.61\n",
            "Cataluña                       1186886.48\n",
            "Comunitat Valenciana            702501.63\n",
            "Extremadura                     751433.06\n",
            "Galicia                         362643.45\n",
            "Madrid, Comunidad de            218708.71\n",
            "Navarra, Comunidad Foral de     295958.38\n",
            "País Vasco                      276303.64\n",
            "Rioja, La                       147541.69\n",
            "Name: Profit, dtype: float64\n"
          ]
        }
      ],
      "source": [
        "print(df_10.groupby('Region')[\"Profit\"].sum())  "
      ]
    },
    {
      "cell_type": "code",
      "execution_count": 45,
      "metadata": {},
      "outputs": [
        {
          "name": "stdout",
          "output_type": "stream",
          "text": [
            "Region\n",
            "Andalucía                      810.046506\n",
            "Aragón                         811.582466\n",
            "Asturias, Principado de        875.426322\n",
            "Balears, Illes                 747.556512\n",
            "Canarias                       797.062964\n",
            "Cantabria                      839.141387\n",
            "Castilla - La Mancha           767.301965\n",
            "Castilla y León                777.840024\n",
            "Cataluña                       785.497340\n",
            "Comunitat Valenciana           802.859006\n",
            "Extremadura                    795.167259\n",
            "Galicia                        778.204828\n",
            "Madrid, Comunidad de           781.102536\n",
            "Navarra, Comunidad Foral de    808.629454\n",
            "País Vasco                     773.959776\n",
            "Rioja, La                      772.469581\n",
            "Name: Profit, dtype: float64\n"
          ]
        }
      ],
      "source": [
        "print(df_10.groupby('Region')[\"Profit\"].mean())"
      ]
    },
    {
      "cell_type": "code",
      "execution_count": 46,
      "metadata": {},
      "outputs": [
        {
          "data": {
            "text/html": [
              "<div>\n",
              "<style scoped>\n",
              "    .dataframe tbody tr th:only-of-type {\n",
              "        vertical-align: middle;\n",
              "    }\n",
              "\n",
              "    .dataframe tbody tr th {\n",
              "        vertical-align: top;\n",
              "    }\n",
              "\n",
              "    .dataframe thead th {\n",
              "        text-align: right;\n",
              "    }\n",
              "</style>\n",
              "<table border=\"1\" class=\"dataframe\">\n",
              "  <thead>\n",
              "    <tr style=\"text-align: right;\">\n",
              "      <th>Products Category</th>\n",
              "      <th>BMX</th>\n",
              "      <th>Carretera</th>\n",
              "      <th>Cicloturismo</th>\n",
              "      <th>Indoor</th>\n",
              "      <th>Montaña</th>\n",
              "      <th>Paseo</th>\n",
              "      <th>Plegables</th>\n",
              "    </tr>\n",
              "    <tr>\n",
              "      <th>Region</th>\n",
              "      <th></th>\n",
              "      <th></th>\n",
              "      <th></th>\n",
              "      <th></th>\n",
              "      <th></th>\n",
              "      <th></th>\n",
              "      <th></th>\n",
              "    </tr>\n",
              "  </thead>\n",
              "  <tbody>\n",
              "    <tr>\n",
              "      <th>Andalucía</th>\n",
              "      <td>641.484022</td>\n",
              "      <td>401.268520</td>\n",
              "      <td>1039.617477</td>\n",
              "      <td>930.927337</td>\n",
              "      <td>815.259333</td>\n",
              "      <td>947.974681</td>\n",
              "      <td>979.095177</td>\n",
              "    </tr>\n",
              "    <tr>\n",
              "      <th>Aragón</th>\n",
              "      <td>778.508830</td>\n",
              "      <td>415.293893</td>\n",
              "      <td>993.087389</td>\n",
              "      <td>903.386806</td>\n",
              "      <td>815.277125</td>\n",
              "      <td>835.796618</td>\n",
              "      <td>1121.445617</td>\n",
              "    </tr>\n",
              "    <tr>\n",
              "      <th>Asturias, Principado de</th>\n",
              "      <td>797.448000</td>\n",
              "      <td>453.487778</td>\n",
              "      <td>1239.493333</td>\n",
              "      <td>1132.641667</td>\n",
              "      <td>724.326667</td>\n",
              "      <td>699.746250</td>\n",
              "      <td>1177.733750</td>\n",
              "    </tr>\n",
              "    <tr>\n",
              "      <th>Balears, Illes</th>\n",
              "      <td>462.565000</td>\n",
              "      <td>385.478947</td>\n",
              "      <td>873.785000</td>\n",
              "      <td>1155.601111</td>\n",
              "      <td>356.754444</td>\n",
              "      <td>687.271111</td>\n",
              "      <td>1478.057778</td>\n",
              "    </tr>\n",
              "    <tr>\n",
              "      <th>Canarias</th>\n",
              "      <td>647.187500</td>\n",
              "      <td>389.016122</td>\n",
              "      <td>905.765263</td>\n",
              "      <td>854.669000</td>\n",
              "      <td>811.864098</td>\n",
              "      <td>791.759167</td>\n",
              "      <td>1203.643617</td>\n",
              "    </tr>\n",
              "    <tr>\n",
              "      <th>Cantabria</th>\n",
              "      <td>801.801563</td>\n",
              "      <td>386.331781</td>\n",
              "      <td>898.223793</td>\n",
              "      <td>1166.878205</td>\n",
              "      <td>873.915294</td>\n",
              "      <td>927.128852</td>\n",
              "      <td>1020.599048</td>\n",
              "    </tr>\n",
              "    <tr>\n",
              "      <th>Castilla - La Mancha</th>\n",
              "      <td>607.833636</td>\n",
              "      <td>385.175248</td>\n",
              "      <td>935.795914</td>\n",
              "      <td>895.195973</td>\n",
              "      <td>862.725028</td>\n",
              "      <td>774.937816</td>\n",
              "      <td>995.812327</td>\n",
              "    </tr>\n",
              "    <tr>\n",
              "      <th>Castilla y León</th>\n",
              "      <td>619.084701</td>\n",
              "      <td>406.731349</td>\n",
              "      <td>1052.282334</td>\n",
              "      <td>897.328497</td>\n",
              "      <td>809.925976</td>\n",
              "      <td>798.129503</td>\n",
              "      <td>999.694319</td>\n",
              "    </tr>\n",
              "    <tr>\n",
              "      <th>Cataluña</th>\n",
              "      <td>571.128393</td>\n",
              "      <td>391.146987</td>\n",
              "      <td>1071.202033</td>\n",
              "      <td>877.382030</td>\n",
              "      <td>800.726596</td>\n",
              "      <td>844.206442</td>\n",
              "      <td>1095.917333</td>\n",
              "    </tr>\n",
              "    <tr>\n",
              "      <th>Comunitat Valenciana</th>\n",
              "      <td>633.551579</td>\n",
              "      <td>396.072294</td>\n",
              "      <td>1147.262048</td>\n",
              "      <td>1011.656783</td>\n",
              "      <td>763.491807</td>\n",
              "      <td>779.406000</td>\n",
              "      <td>1097.169516</td>\n",
              "    </tr>\n",
              "    <tr>\n",
              "      <th>Extremadura</th>\n",
              "      <td>643.884697</td>\n",
              "      <td>373.633239</td>\n",
              "      <td>1068.825165</td>\n",
              "      <td>937.645145</td>\n",
              "      <td>781.040449</td>\n",
              "      <td>905.318038</td>\n",
              "      <td>947.728375</td>\n",
              "    </tr>\n",
              "    <tr>\n",
              "      <th>Galicia</th>\n",
              "      <td>746.140667</td>\n",
              "      <td>379.378404</td>\n",
              "      <td>996.452093</td>\n",
              "      <td>933.713830</td>\n",
              "      <td>815.751977</td>\n",
              "      <td>856.094545</td>\n",
              "      <td>939.666269</td>\n",
              "    </tr>\n",
              "    <tr>\n",
              "      <th>Madrid, Comunidad de</th>\n",
              "      <td>416.493158</td>\n",
              "      <td>456.682889</td>\n",
              "      <td>1038.865000</td>\n",
              "      <td>857.153111</td>\n",
              "      <td>926.586415</td>\n",
              "      <td>816.060000</td>\n",
              "      <td>805.403846</td>\n",
              "    </tr>\n",
              "    <tr>\n",
              "      <th>Navarra, Comunidad Foral de</th>\n",
              "      <td>716.792857</td>\n",
              "      <td>430.400149</td>\n",
              "      <td>922.600882</td>\n",
              "      <td>769.238723</td>\n",
              "      <td>770.209571</td>\n",
              "      <td>960.444918</td>\n",
              "      <td>1091.582727</td>\n",
              "    </tr>\n",
              "    <tr>\n",
              "      <th>País Vasco</th>\n",
              "      <td>555.117879</td>\n",
              "      <td>363.810364</td>\n",
              "      <td>1042.805278</td>\n",
              "      <td>993.918723</td>\n",
              "      <td>807.160154</td>\n",
              "      <td>697.214648</td>\n",
              "      <td>1035.047200</td>\n",
              "    </tr>\n",
              "    <tr>\n",
              "      <th>Rioja, La</th>\n",
              "      <td>492.642857</td>\n",
              "      <td>425.856190</td>\n",
              "      <td>882.131739</td>\n",
              "      <td>904.519286</td>\n",
              "      <td>799.730370</td>\n",
              "      <td>832.338065</td>\n",
              "      <td>1144.152308</td>\n",
              "    </tr>\n",
              "  </tbody>\n",
              "</table>\n",
              "</div>"
            ],
            "text/plain": [
              "Products Category                   BMX   Carretera  Cicloturismo  \\\n",
              "Region                                                              \n",
              "Andalucía                    641.484022  401.268520   1039.617477   \n",
              "Aragón                       778.508830  415.293893    993.087389   \n",
              "Asturias, Principado de      797.448000  453.487778   1239.493333   \n",
              "Balears, Illes               462.565000  385.478947    873.785000   \n",
              "Canarias                     647.187500  389.016122    905.765263   \n",
              "Cantabria                    801.801563  386.331781    898.223793   \n",
              "Castilla - La Mancha         607.833636  385.175248    935.795914   \n",
              "Castilla y León              619.084701  406.731349   1052.282334   \n",
              "Cataluña                     571.128393  391.146987   1071.202033   \n",
              "Comunitat Valenciana         633.551579  396.072294   1147.262048   \n",
              "Extremadura                  643.884697  373.633239   1068.825165   \n",
              "Galicia                      746.140667  379.378404    996.452093   \n",
              "Madrid, Comunidad de         416.493158  456.682889   1038.865000   \n",
              "Navarra, Comunidad Foral de  716.792857  430.400149    922.600882   \n",
              "País Vasco                   555.117879  363.810364   1042.805278   \n",
              "Rioja, La                    492.642857  425.856190    882.131739   \n",
              "\n",
              "Products Category                 Indoor     Montaña       Paseo    Plegables  \n",
              "Region                                                                         \n",
              "Andalucía                     930.927337  815.259333  947.974681   979.095177  \n",
              "Aragón                        903.386806  815.277125  835.796618  1121.445617  \n",
              "Asturias, Principado de      1132.641667  724.326667  699.746250  1177.733750  \n",
              "Balears, Illes               1155.601111  356.754444  687.271111  1478.057778  \n",
              "Canarias                      854.669000  811.864098  791.759167  1203.643617  \n",
              "Cantabria                    1166.878205  873.915294  927.128852  1020.599048  \n",
              "Castilla - La Mancha          895.195973  862.725028  774.937816   995.812327  \n",
              "Castilla y León               897.328497  809.925976  798.129503   999.694319  \n",
              "Cataluña                      877.382030  800.726596  844.206442  1095.917333  \n",
              "Comunitat Valenciana         1011.656783  763.491807  779.406000  1097.169516  \n",
              "Extremadura                   937.645145  781.040449  905.318038   947.728375  \n",
              "Galicia                       933.713830  815.751977  856.094545   939.666269  \n",
              "Madrid, Comunidad de          857.153111  926.586415  816.060000   805.403846  \n",
              "Navarra, Comunidad Foral de   769.238723  770.209571  960.444918  1091.582727  \n",
              "País Vasco                    993.918723  807.160154  697.214648  1035.047200  \n",
              "Rioja, La                     904.519286  799.730370  832.338065  1144.152308  "
            ]
          },
          "execution_count": 46,
          "metadata": {},
          "output_type": "execute_result"
        }
      ],
      "source": [
        "# create a pivot table to see the profit by region and product\n",
        "\n",
        "df_10.pivot_table(index='Region', columns='Products Category', values='Profit', aggfunc='mean')"
      ]
    },
    {
      "cell_type": "code",
      "execution_count": 47,
      "metadata": {},
      "outputs": [
        {
          "name": "stdout",
          "output_type": "stream",
          "text": [
            "              Customer Key  Region Key  Unit Price  Unit Cost  Quanttity  \\\n",
            "Customer Key      1.000000    0.015943    0.016938   0.014301   0.003533   \n",
            "Region Key        0.015943    1.000000   -0.007073  -0.005674   0.009824   \n",
            "Unit Price        0.016938   -0.007073    1.000000   0.960937   0.000268   \n",
            "Unit Cost         0.014301   -0.005674    0.960937   1.000000  -0.001443   \n",
            "Quanttity         0.003533    0.009824    0.000268  -0.001443   1.000000   \n",
            "Sales             0.013881    0.001563    0.656129   0.627919   0.680604   \n",
            "Cost              0.012118    0.002931    0.649247   0.672682   0.659699   \n",
            "Profit            0.015578   -0.001864    0.559798   0.417164   0.612466   \n",
            "\n",
            "                 Sales      Cost    Profit  \n",
            "Customer Key  0.013881  0.012118  0.015578  \n",
            "Region Key    0.001563  0.002931 -0.001864  \n",
            "Unit Price    0.656129  0.649247  0.559798  \n",
            "Unit Cost     0.627919  0.672682  0.417164  \n",
            "Quanttity     0.680604  0.659699  0.612466  \n",
            "Sales         1.000000  0.978413  0.878808  \n",
            "Cost          0.978413  1.000000  0.761225  \n",
            "Profit        0.878808  0.761225  1.000000  \n"
          ]
        }
      ],
      "source": [
        "# calculate correlation between numerical columns\n",
        "print(df_10.corr())"
      ]
    },
    {
      "cell_type": "code",
      "execution_count": 48,
      "metadata": {},
      "outputs": [
        {
          "data": {
            "image/png": "[encoded data removed]",
            "text/plain": [
              "<Figure size 432x288 with 1 Axes>"
            ]
          },
          "metadata": {
            "needs_background": "light"
          },
          "output_type": "display_data"
        }
      ],
      "source": [
        "# create a histogram of column 'Profit'\n",
        "df_10['Profit'].plot(kind='hist')\n",
        "plt.show()"
      ]
    },
    {
      "cell_type": "code",
      "execution_count": 53,
      "metadata": {},
      "outputs": [
        {
          "data": {
            "image/png": "[encoded data removed]",
            "text/plain": [
              "<Figure size 1800x432 with 1 Axes>"
            ]
          },
          "metadata": {
            "needs_background": "light"
          },
          "output_type": "display_data"
        }
      ],
      "source": [
        "# create a boxplot of column 'Profit' grouped by 'Region'\n",
        "plt.figure(figsize=(25, 6))\n",
        "sns.boxplot(x='Region', y='Profit', data=df_10)\n",
        "plt.show()"
      ]
    },
    {
      "cell_type": "code",
      "execution_count": 56,
      "metadata": {},
      "outputs": [
        {
          "data": {
            "image/png": "[encoded data removed]",
            "text/plain": [
              "<Figure size 720x720 with 2 Axes>"
            ]
          },
          "metadata": {
            "needs_background": "light"
          },
          "output_type": "display_data"
        }
      ],
      "source": [
        "# create a heatmap of correlation between columns\n",
        "plt.figure(figsize=(10, 10))\n",
        "sns.heatmap(df_10.corr(),annot=True, cmap='coolwarm', linewidths=0.2, annot_kws={'size':10}, square=True, fmt='.2f', linecolor='white', mask=np.zeros_like(df_10.corr(), dtype=np.bool), cbar_kws={\"shrink\": .9})\n",
        "plt.show()"
      ]
    },
    {
      "cell_type": "markdown",
      "metadata": {},
      "source": [
        "### Customer"
      ]
    },
    {
      "cell_type": "code",
      "execution_count": 77,
      "metadata": {},
      "outputs": [
        {
          "data": {
            "text/plain": [
              "Customer Key\n",
              "2        631.335\n",
              "4        670.450\n",
              "5       1035.855\n",
              "6        674.875\n",
              "7        185.530\n",
              "          ...   \n",
              "9993     876.410\n",
              "9995     432.380\n",
              "9997     828.300\n",
              "9998     363.070\n",
              "9999     408.965\n",
              "Name: Profit, Length: 6954, dtype: float64"
            ]
          },
          "execution_count": 77,
          "metadata": {},
          "output_type": "execute_result"
        }
      ],
      "source": [
        "# group the data by Customer Key and calculate the mean of 'Profit'\n",
        "\n",
        "df_10.groupby(by='Customer Key')['Profit'].mean()"
      ]
    },
    {
      "cell_type": "code",
      "execution_count": 83,
      "metadata": {},
      "outputs": [
        {
          "data": {
            "image/png": "[encoded data removed]",
            "text/plain": [
              "<Figure size 1152x360 with 1 Axes>"
            ]
          },
          "metadata": {
            "needs_background": "light"
          },
          "output_type": "display_data"
        }
      ],
      "source": [
        "# create a histogram of 'Profit' by 'Customer Key'\n",
        "df_10.groupby(by='Customer Key')['Profit'].mean().plot(kind='hist', bins=50, figsize=(16, 5))\n",
        "plt.xlabel('Profit')\n",
        "plt.ylabel('Customer Key')\n",
        "plt.show()"
      ]
    },
    {
      "cell_type": "code",
      "execution_count": 88,
      "metadata": {},
      "outputs": [],
      "source": [
        "# group the data by 'Order Week' and calculate the sum of 'Sales', 'Cost' and 'Profit'\n",
        "weekly_sales = df_10.groupby(by='Order Week')[['Sales','Cost','Profit']].sum()"
      ]
    },
    {
      "cell_type": "code",
      "execution_count": 89,
      "metadata": {},
      "outputs": [
        {
          "data": {
            "text/html": [
              "<div>\n",
              "<style scoped>\n",
              "    .dataframe tbody tr th:only-of-type {\n",
              "        vertical-align: middle;\n",
              "    }\n",
              "\n",
              "    .dataframe tbody tr th {\n",
              "        vertical-align: top;\n",
              "    }\n",
              "\n",
              "    .dataframe thead th {\n",
              "        text-align: right;\n",
              "    }\n",
              "</style>\n",
              "<table border=\"1\" class=\"dataframe\">\n",
              "  <thead>\n",
              "    <tr style=\"text-align: right;\">\n",
              "      <th></th>\n",
              "      <th>Sales</th>\n",
              "      <th>Cost</th>\n",
              "      <th>Profit</th>\n",
              "    </tr>\n",
              "    <tr>\n",
              "      <th>Order Week</th>\n",
              "      <th></th>\n",
              "      <th></th>\n",
              "      <th></th>\n",
              "    </tr>\n",
              "  </thead>\n",
              "  <tbody>\n",
              "    <tr>\n",
              "      <th>1</th>\n",
              "      <td>11042277.81</td>\n",
              "      <td>7894763.87</td>\n",
              "      <td>3147513.94</td>\n",
              "    </tr>\n",
              "    <tr>\n",
              "      <th>2</th>\n",
              "      <td>10345380.45</td>\n",
              "      <td>7437737.82</td>\n",
              "      <td>2907642.63</td>\n",
              "    </tr>\n",
              "    <tr>\n",
              "      <th>3</th>\n",
              "      <td>10135000.60</td>\n",
              "      <td>7238763.59</td>\n",
              "      <td>2896237.01</td>\n",
              "    </tr>\n",
              "    <tr>\n",
              "      <th>4</th>\n",
              "      <td>4202398.95</td>\n",
              "      <td>3016684.67</td>\n",
              "      <td>1185714.28</td>\n",
              "    </tr>\n",
              "    <tr>\n",
              "      <th>53</th>\n",
              "      <td>3477271.26</td>\n",
              "      <td>2483378.91</td>\n",
              "      <td>993892.35</td>\n",
              "    </tr>\n",
              "  </tbody>\n",
              "</table>\n",
              "</div>"
            ],
            "text/plain": [
              "                  Sales        Cost      Profit\n",
              "Order Week                                     \n",
              "1           11042277.81  7894763.87  3147513.94\n",
              "2           10345380.45  7437737.82  2907642.63\n",
              "3           10135000.60  7238763.59  2896237.01\n",
              "4            4202398.95  3016684.67  1185714.28\n",
              "53           3477271.26  2483378.91   993892.35"
            ]
          },
          "execution_count": 89,
          "metadata": {},
          "output_type": "execute_result"
        }
      ],
      "source": [
        "weekly_sales"
      ]
    },
    {
      "cell_type": "code",
      "execution_count": 90,
      "metadata": {},
      "outputs": [
        {
          "data": {
            "image/png": "[encoded data removed]",
            "text/plain": [
              "<Figure size 432x288 with 1 Axes>"
            ]
          },
          "metadata": {
            "needs_background": "light"
          },
          "output_type": "display_data"
        }
      ],
      "source": [
        "#create line plot of 'Sales', 'Cost' and 'Profit' by 'Order Week'\n",
        "ax = weekly_sales.plot(kind='line')\n",
        "plt.xlabel('Order Week')\n",
        "plt.ylabel('Value')\n",
        "plt.title('Weekly Sales,Cost and Profit')\n",
        "plt.show()"
      ]
    },
    {
      "cell_type": "code",
      "execution_count": 92,
      "metadata": {},
      "outputs": [
        {
          "data": {
            "image/png": "[encoded data removed]",
            "text/plain": [
              "<Figure size 432x288 with 1 Axes>"
            ]
          },
          "metadata": {
            "needs_background": "light"
          },
          "output_type": "display_data"
        }
      ],
      "source": [
        "#create scatter plot of 'Profit' by 'Sales'\n",
        "plt.scatter(x=df_10.groupby(by='Order Week')['Sales'].sum(), y=df_10.groupby(by='Order Week')['Profit'].sum())\n",
        "plt.xlabel('Sales')\n",
        "plt.ylabel('Profit')\n",
        "plt.title('Profit by Sales')\n",
        "plt.show()"
      ]
    }
  ],
  "metadata": {
    "colab": {
      "collapsed_sections": [],
      "provenance": []
    },
    "kernelspec": {
      "display_name": "Python 3.9.12 ('base')",
      "language": "python",
      "name": "python3"
    },
    "language_info": {
      "codemirror_mode": {
        "name": "ipython",
        "version": 3
      },
      "file_extension": ".py",
      "mimetype": "text/x-python",
      "name": "python",
      "nbconvert_exporter": "python",
      "pygments_lexer": "ipython3",
      "version": "3.9.12"
    },
    "vscode": {
      "interpreter": {
        "hash": "a2ab3825ac7005fb7b26f112e9c99ae62f464c629e30b0d534c3b931b6cbc3ff"
      }
    }
  },
  "nbformat": 4,
  "nbformat_minor": 0
}
