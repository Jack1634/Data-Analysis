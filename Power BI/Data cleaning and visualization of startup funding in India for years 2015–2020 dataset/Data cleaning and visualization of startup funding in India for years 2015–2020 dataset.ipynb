{
 "cells": [
  {
   "cell_type": "code",
   "execution_count": 2,
   "metadata": {},
   "outputs": [],
   "source": [
    "import pandas as pd\n",
    "import numpy as np\n",
    "import matplotlib.pyplot as plt\n",
    "import seaborn as sns\n",
    "import warnings\n",
    "warnings.filterwarnings('ignore')"
   ]
  },
  {
   "cell_type": "code",
   "execution_count": 4,
   "metadata": {},
   "outputs": [],
   "source": [
    "df = pd.read_csv(\"startup_funding.csv\")"
   ]
  },
  {
   "cell_type": "code",
   "execution_count": 5,
   "metadata": {},
   "outputs": [
    {
     "name": "stdout",
     "output_type": "stream",
     "text": [
      "<class 'pandas.core.frame.DataFrame'>\n",
      "RangeIndex: 3044 entries, 0 to 3043\n",
      "Data columns (total 10 columns):\n",
      " #   Column             Non-Null Count  Dtype \n",
      "---  ------             --------------  ----- \n",
      " 0   Sr No              3044 non-null   int64 \n",
      " 1   Date dd/mm/yyyy    3044 non-null   object\n",
      " 2   Startup Name       3044 non-null   object\n",
      " 3   Industry Vertical  2873 non-null   object\n",
      " 4   SubVertical        2108 non-null   object\n",
      " 5   City  Location     2864 non-null   object\n",
      " 6   Investors Name     3020 non-null   object\n",
      " 7   InvestmentnType    3040 non-null   object\n",
      " 8   Amount in USD      2084 non-null   object\n",
      " 9   Remarks            419 non-null    object\n",
      "dtypes: int64(1), object(9)\n",
      "memory usage: 237.9+ KB\n"
     ]
    }
   ],
   "source": [
    "df.info()"
   ]
  },
  {
   "cell_type": "code",
   "execution_count": 7,
   "metadata": {},
   "outputs": [
    {
     "data": {
      "text/html": [
       "<div>\n",
       "<style scoped>\n",
       "    .dataframe tbody tr th:only-of-type {\n",
       "        vertical-align: middle;\n",
       "    }\n",
       "\n",
       "    .dataframe tbody tr th {\n",
       "        vertical-align: top;\n",
       "    }\n",
       "\n",
       "    .dataframe thead th {\n",
       "        text-align: right;\n",
       "    }\n",
       "</style>\n",
       "<table border=\"1\" class=\"dataframe\">\n",
       "  <thead>\n",
       "    <tr style=\"text-align: right;\">\n",
       "      <th></th>\n",
       "      <th>Sr No</th>\n",
       "      <th>Date dd/mm/yyyy</th>\n",
       "      <th>Startup Name</th>\n",
       "      <th>Industry Vertical</th>\n",
       "      <th>SubVertical</th>\n",
       "      <th>City  Location</th>\n",
       "      <th>Investors Name</th>\n",
       "      <th>InvestmentnType</th>\n",
       "      <th>Amount in USD</th>\n",
       "      <th>Remarks</th>\n",
       "    </tr>\n",
       "  </thead>\n",
       "  <tbody>\n",
       "    <tr>\n",
       "      <th>0</th>\n",
       "      <td>1</td>\n",
       "      <td>09/01/2020</td>\n",
       "      <td>BYJU’S</td>\n",
       "      <td>E-Tech</td>\n",
       "      <td>E-learning</td>\n",
       "      <td>Bengaluru</td>\n",
       "      <td>Tiger Global Management</td>\n",
       "      <td>Private Equity Round</td>\n",
       "      <td>20,00,00,000</td>\n",
       "      <td>NaN</td>\n",
       "    </tr>\n",
       "    <tr>\n",
       "      <th>1</th>\n",
       "      <td>2</td>\n",
       "      <td>13/01/2020</td>\n",
       "      <td>Shuttl</td>\n",
       "      <td>Transportation</td>\n",
       "      <td>App based shuttle service</td>\n",
       "      <td>Gurgaon</td>\n",
       "      <td>Susquehanna Growth Equity</td>\n",
       "      <td>Series C</td>\n",
       "      <td>80,48,394</td>\n",
       "      <td>NaN</td>\n",
       "    </tr>\n",
       "    <tr>\n",
       "      <th>2</th>\n",
       "      <td>3</td>\n",
       "      <td>09/01/2020</td>\n",
       "      <td>Mamaearth</td>\n",
       "      <td>E-commerce</td>\n",
       "      <td>Retailer of baby and toddler products</td>\n",
       "      <td>Bengaluru</td>\n",
       "      <td>Sequoia Capital India</td>\n",
       "      <td>Series B</td>\n",
       "      <td>1,83,58,860</td>\n",
       "      <td>NaN</td>\n",
       "    </tr>\n",
       "    <tr>\n",
       "      <th>3</th>\n",
       "      <td>4</td>\n",
       "      <td>02/01/2020</td>\n",
       "      <td>https://www.wealthbucket.in/</td>\n",
       "      <td>FinTech</td>\n",
       "      <td>Online Investment</td>\n",
       "      <td>New Delhi</td>\n",
       "      <td>Vinod Khatumal</td>\n",
       "      <td>Pre-series A</td>\n",
       "      <td>30,00,000</td>\n",
       "      <td>NaN</td>\n",
       "    </tr>\n",
       "    <tr>\n",
       "      <th>4</th>\n",
       "      <td>5</td>\n",
       "      <td>02/01/2020</td>\n",
       "      <td>Fashor</td>\n",
       "      <td>Fashion and Apparel</td>\n",
       "      <td>Embroiled Clothes For Women</td>\n",
       "      <td>Mumbai</td>\n",
       "      <td>Sprout Venture Partners</td>\n",
       "      <td>Seed Round</td>\n",
       "      <td>18,00,000</td>\n",
       "      <td>NaN</td>\n",
       "    </tr>\n",
       "  </tbody>\n",
       "</table>\n",
       "</div>"
      ],
      "text/plain": [
       "   Sr No Date dd/mm/yyyy                  Startup Name    Industry Vertical  \\\n",
       "0      1      09/01/2020                        BYJU’S               E-Tech   \n",
       "1      2      13/01/2020                        Shuttl       Transportation   \n",
       "2      3      09/01/2020                     Mamaearth           E-commerce   \n",
       "3      4      02/01/2020  https://www.wealthbucket.in/              FinTech   \n",
       "4      5      02/01/2020                        Fashor  Fashion and Apparel   \n",
       "\n",
       "                             SubVertical City  Location  \\\n",
       "0                             E-learning      Bengaluru   \n",
       "1              App based shuttle service        Gurgaon   \n",
       "2  Retailer of baby and toddler products      Bengaluru   \n",
       "3                      Online Investment      New Delhi   \n",
       "4            Embroiled Clothes For Women         Mumbai   \n",
       "\n",
       "              Investors Name       InvestmentnType Amount in USD Remarks  \n",
       "0    Tiger Global Management  Private Equity Round  20,00,00,000     NaN  \n",
       "1  Susquehanna Growth Equity              Series C     80,48,394     NaN  \n",
       "2      Sequoia Capital India              Series B   1,83,58,860     NaN  \n",
       "3             Vinod Khatumal          Pre-series A     30,00,000     NaN  \n",
       "4    Sprout Venture Partners            Seed Round     18,00,000     NaN  "
      ]
     },
     "execution_count": 7,
     "metadata": {},
     "output_type": "execute_result"
    }
   ],
   "source": [
    "df.head()"
   ]
  },
  {
   "cell_type": "code",
   "execution_count": 8,
   "metadata": {},
   "outputs": [
    {
     "data": {
      "text/plain": [
       "(3044, 10)"
      ]
     },
     "execution_count": 8,
     "metadata": {},
     "output_type": "execute_result"
    }
   ],
   "source": [
    "df.shape"
   ]
  },
  {
   "cell_type": "code",
   "execution_count": 10,
   "metadata": {},
   "outputs": [],
   "source": [
    "df.rename(columns={'Date dd/mm/yyyy':'Date'}, inplace=True)"
   ]
  },
  {
   "cell_type": "code",
   "execution_count": 11,
   "metadata": {},
   "outputs": [
    {
     "data": {
      "text/plain": [
       "Sr No                   0\n",
       "Date                    0\n",
       "Startup Name            0\n",
       "Industry Vertical     171\n",
       "SubVertical           936\n",
       "City  Location        180\n",
       "Investors Name         24\n",
       "InvestmentnType         4\n",
       "Amount in USD         960\n",
       "Remarks              2625\n",
       "dtype: int64"
      ]
     },
     "execution_count": 11,
     "metadata": {},
     "output_type": "execute_result"
    }
   ],
   "source": [
    "df.isnull().sum()"
   ]
  },
  {
   "cell_type": "code",
   "execution_count": 21,
   "metadata": {},
   "outputs": [
    {
     "data": {
      "text/plain": [
       "02/02/2015    11\n",
       "08/07/2015    11\n",
       "30/11/2016    11\n",
       "04/10/2016    10\n",
       "23/07/2015     9\n",
       "              ..\n",
       "29/04/2018     1\n",
       "03/03/2018     1\n",
       "31/10/2015     1\n",
       "03/02/2017     1\n",
       "31/01/2015     1\n",
       "Name: Date, Length: 1035, dtype: int64"
      ]
     },
     "execution_count": 21,
     "metadata": {},
     "output_type": "execute_result"
    }
   ],
   "source": [
    "df[\"Date\"].value_counts()"
   ]
  },
  {
   "cell_type": "code",
   "execution_count": 12,
   "metadata": {},
   "outputs": [
    {
     "data": {
      "text/plain": [
       "Ola Cabs            8\n",
       "Swiggy              8\n",
       "Paytm               7\n",
       "Meesho              6\n",
       "Nykaa               6\n",
       "                   ..\n",
       "ChipperSage         1\n",
       "CRON Systems        1\n",
       "SmartHi             1\n",
       "MessaGif            1\n",
       "couponmachine.in    1\n",
       "Name: Startup Name, Length: 2459, dtype: int64"
      ]
     },
     "execution_count": 12,
     "metadata": {},
     "output_type": "execute_result"
    }
   ],
   "source": [
    "df[\"Startup Name\"].value_counts()"
   ]
  },
  {
   "cell_type": "code",
   "execution_count": 13,
   "metadata": {},
   "outputs": [
    {
     "data": {
      "text/plain": [
       "Consumer Internet                        941\n",
       "Technology                               478\n",
       "eCommerce                                186\n",
       "Healthcare                                70\n",
       "Finance                                   62\n",
       "                                        ... \n",
       "Developer Portfolio Showcase platform      1\n",
       "Doctors Network Mobile App                 1\n",
       "End-to-End Lending platform                1\n",
       "on-demand healthcare marketplace           1\n",
       "Online Travel Marketplace                  1\n",
       "Name: Industry Vertical, Length: 821, dtype: int64"
      ]
     },
     "execution_count": 13,
     "metadata": {},
     "output_type": "execute_result"
    }
   ],
   "source": [
    "df[\"Industry Vertical\"].value_counts()"
   ]
  },
  {
   "cell_type": "code",
   "execution_count": 14,
   "metadata": {},
   "outputs": [
    {
     "data": {
      "text/plain": [
       "Online Lending Platform                       11\n",
       "Online Pharmacy                               10\n",
       "Food Delivery Platform                         8\n",
       "Online Education Platform                      5\n",
       "Education                                      5\n",
       "                                              ..\n",
       "CSR and sustainability management platform     1\n",
       "Location tracking solutions                    1\n",
       "Online insurance brokerage platform            1\n",
       "Online rooms aggregation platform              1\n",
       "Interior Design Marketplace                    1\n",
       "Name: SubVertical, Length: 1942, dtype: int64"
      ]
     },
     "execution_count": 14,
     "metadata": {},
     "output_type": "execute_result"
    }
   ],
   "source": [
    "df[\"SubVertical\"].value_counts()"
   ]
  },
  {
   "cell_type": "code",
   "execution_count": 15,
   "metadata": {},
   "outputs": [
    {
     "data": {
      "text/plain": [
       "Bangalore             700\n",
       "Mumbai                567\n",
       "New Delhi             421\n",
       "Gurgaon               287\n",
       "Bengaluru             141\n",
       "                     ... \n",
       "Delhi & Cambridge       1\n",
       "Bhubneswar              1\n",
       "Srinagar                1\n",
       "Rourkela                1\n",
       "Dallas / Hyderabad      1\n",
       "Name: City  Location, Length: 112, dtype: int64"
      ]
     },
     "execution_count": 15,
     "metadata": {},
     "output_type": "execute_result"
    }
   ],
   "source": [
    "df[\"City  Location\"].value_counts()"
   ]
  },
  {
   "cell_type": "code",
   "execution_count": 16,
   "metadata": {},
   "outputs": [
    {
     "data": {
      "text/plain": [
       "Undisclosed Investors                                        39\n",
       "Undisclosed investors                                        30\n",
       "Ratan Tata                                                   25\n",
       "Indian Angel Network                                         23\n",
       "Kalaari Capital                                              16\n",
       "                                                             ..\n",
       "Intex Technologies                                            1\n",
       "Samridhi Fund                                                 1\n",
       "Malini Patel, Stelcore Management Services, Anjani Prasad     1\n",
       "Om Chaudhry                                                   1\n",
       "UK based Group of Angel Investors                             1\n",
       "Name: Investors Name, Length: 2412, dtype: int64"
      ]
     },
     "execution_count": 16,
     "metadata": {},
     "output_type": "execute_result"
    }
   ],
   "source": [
    "df[\"Investors Name\"].value_counts()"
   ]
  },
  {
   "cell_type": "code",
   "execution_count": 17,
   "metadata": {},
   "outputs": [
    {
     "data": {
      "text/plain": [
       "Private Equity                 1356\n",
       "Seed Funding                   1355\n",
       "Seed/ Angel Funding              60\n",
       "Seed / Angel Funding             47\n",
       "Seed\\\\nFunding                   30\n",
       "Debt Funding                     25\n",
       "Series A                         24\n",
       "Seed/Angel Funding               23\n",
       "Series B                         20\n",
       "Series C                         14\n",
       "Series D                         12\n",
       "Angel / Seed Funding              8\n",
       "Seed Round                        7\n",
       "Pre-Series A                      4\n",
       "Private Equity Round              4\n",
       "Seed                              4\n",
       "Seed / Angle Funding              3\n",
       "pre-Series A                      2\n",
       "Venture Round                     2\n",
       "Equity                            2\n",
       "Corporate Round                   2\n",
       "Series E                          2\n",
       "Series F                          2\n",
       "Private                           1\n",
       "Debt-Funding                      1\n",
       "Term Loan                         1\n",
       "Seed funding                      1\n",
       "PrivateEquity                     1\n",
       "Angel Funding                     1\n",
       "Private\\\\nEquity                  1\n",
       "Private Funding                   1\n",
       "Equity Based Funding              1\n",
       "Crowd funding                     1\n",
       "Series B (Extension)              1\n",
       "Mezzanine                         1\n",
       "Structured Debt                   1\n",
       "Venture - Series Unknown          1\n",
       "Pre Series A                      1\n",
       "Debt                              1\n",
       "Pre-series A                      1\n",
       "Series G                          1\n",
       "Series H                          1\n",
       "Venture                           1\n",
       "Funding Round                     1\n",
       "Maiden Round                      1\n",
       "pre-series A                      1\n",
       "Seed Funding Round                1\n",
       "Single Venture                    1\n",
       "Angel                             1\n",
       "Series J                          1\n",
       "Angel Round                       1\n",
       "Bridge Round                      1\n",
       "Debt and Preference capital       1\n",
       "Inhouse Funding                   1\n",
       "Crowd Funding                     1\n",
       "Name: InvestmentnType, dtype: int64"
      ]
     },
     "execution_count": 17,
     "metadata": {},
     "output_type": "execute_result"
    }
   ],
   "source": [
    "df[\"InvestmentnType\"].value_counts()"
   ]
  },
  {
   "cell_type": "code",
   "execution_count": 18,
   "metadata": {},
   "outputs": [
    {
     "data": {
      "text/plain": [
       "Index(['Sr No', 'Date', 'Startup Name', 'Industry Vertical', 'SubVertical',\n",
       "       'City  Location', 'Investors Name', 'InvestmentnType', 'Amount in USD',\n",
       "       'Remarks'],\n",
       "      dtype='object')"
      ]
     },
     "execution_count": 18,
     "metadata": {},
     "output_type": "execute_result"
    }
   ],
   "source": [
    "df.columns"
   ]
  },
  {
   "cell_type": "code",
   "execution_count": 19,
   "metadata": {},
   "outputs": [
    {
     "data": {
      "text/plain": [
       "10,00,000    165\n",
       "5,00,000     108\n",
       "20,00,000     69\n",
       "50,00,000     66\n",
       "30,00,000     66\n",
       "            ... \n",
       "82,50,000      1\n",
       "8,72,000       1\n",
       "5,70,000       1\n",
       "5,37,000       1\n",
       "32,50,000      1\n",
       "Name: Amount in USD, Length: 471, dtype: int64"
      ]
     },
     "execution_count": 19,
     "metadata": {},
     "output_type": "execute_result"
    }
   ],
   "source": [
    "df[\"Amount in USD\"].value_counts()"
   ]
  },
  {
   "cell_type": "code",
   "execution_count": 20,
   "metadata": {},
   "outputs": [
    {
     "data": {
      "text/plain": [
       "Series A                             175\n",
       "Series B                              63\n",
       "Pre-Series A                          37\n",
       "Series C                              28\n",
       "Series D                              11\n",
       "                                    ... \n",
       "Pre Series-A                           1\n",
       "QPrize Contest Winners                 1\n",
       "pre-series A                           1\n",
       "Personal Investment                    1\n",
       "Strategic Funding, Minority stake      1\n",
       "Name: Remarks, Length: 72, dtype: int64"
      ]
     },
     "execution_count": 20,
     "metadata": {},
     "output_type": "execute_result"
    }
   ],
   "source": [
    "df[\"Remarks\"].value_counts()"
   ]
  }
 ],
 "metadata": {
  "kernelspec": {
   "display_name": "Python 3.9.12 ('base')",
   "language": "python",
   "name": "python3"
  },
  "language_info": {
   "codemirror_mode": {
    "name": "ipython",
    "version": 3
   },
   "file_extension": ".py",
   "mimetype": "text/x-python",
   "name": "python",
   "nbconvert_exporter": "python",
   "pygments_lexer": "ipython3",
   "version": "3.9.12"
  },
  "orig_nbformat": 4,
  "vscode": {
   "interpreter": {
    "hash": "ff2dc1df189c1b1602dd347d9550404970c4e10c3dcf67379d391965d4def2fd"
   }
  }
 },
 "nbformat": 4,
 "nbformat_minor": 2
}
