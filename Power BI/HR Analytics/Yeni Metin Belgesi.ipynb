{
 "cells": [
  {
   "cell_type": "code",
   "execution_count": 1,
   "metadata": {},
   "outputs": [],
   "source": [
    "import pandas as pd\n",
    "import numpy as np"
   ]
  },
  {
   "cell_type": "code",
   "execution_count": 15,
   "metadata": {},
   "outputs": [],
   "source": [
    "df= pd.read_csv(\"Human Resources.csv\")"
   ]
  },
  {
   "cell_type": "code",
   "execution_count": 16,
   "metadata": {},
   "outputs": [
    {
     "name": "stdout",
     "output_type": "stream",
     "text": [
      "<class 'pandas.core.frame.DataFrame'>\n",
      "RangeIndex: 37408 entries, 0 to 37407\n",
      "Data columns (total 13 columns):\n",
      " #   Column          Non-Null Count  Dtype \n",
      "---  ------          --------------  ----- \n",
      " 0   id              22214 non-null  object\n",
      " 1   first_name      22214 non-null  object\n",
      " 2   last_name       22214 non-null  object\n",
      " 3   birthdate       22214 non-null  object\n",
      " 4   gender          22214 non-null  object\n",
      " 5   race            22214 non-null  object\n",
      " 6   department      22214 non-null  object\n",
      " 7   jobtitle        22267 non-null  object\n",
      " 8   location        22214 non-null  object\n",
      " 9   hire_date       22214 non-null  object\n",
      " 10  termdate        3929 non-null   object\n",
      " 11  location_city   22214 non-null  object\n",
      " 12  location_state  22214 non-null  object\n",
      "dtypes: object(13)\n",
      "memory usage: 3.7+ MB\n"
     ]
    }
   ],
   "source": [
    "df.info()"
   ]
  },
  {
   "cell_type": "code",
   "execution_count": 17,
   "metadata": {},
   "outputs": [],
   "source": [
    "df.birthdate = pd.to_datetime(df.birthdate)\n",
    "df.termdate = pd.to_datetime(df.termdate) \n",
    "df.hire_date = pd.to_datetime(df.hire_date)      "
   ]
  },
  {
   "cell_type": "code",
   "execution_count": 18,
   "metadata": {},
   "outputs": [
    {
     "name": "stdout",
     "output_type": "stream",
     "text": [
      "<class 'pandas.core.frame.DataFrame'>\n",
      "RangeIndex: 37408 entries, 0 to 37407\n",
      "Data columns (total 13 columns):\n",
      " #   Column          Non-Null Count  Dtype              \n",
      "---  ------          --------------  -----              \n",
      " 0   id              22214 non-null  object             \n",
      " 1   first_name      22214 non-null  object             \n",
      " 2   last_name       22214 non-null  object             \n",
      " 3   birthdate       22214 non-null  datetime64[ns]     \n",
      " 4   gender          22214 non-null  object             \n",
      " 5   race            22214 non-null  object             \n",
      " 6   department      22214 non-null  object             \n",
      " 7   jobtitle        22267 non-null  object             \n",
      " 8   location        22214 non-null  object             \n",
      " 9   hire_date       22214 non-null  datetime64[ns]     \n",
      " 10  termdate        3929 non-null   datetime64[ns, UTC]\n",
      " 11  location_city   22214 non-null  object             \n",
      " 12  location_state  22214 non-null  object             \n",
      "dtypes: datetime64[ns, UTC](1), datetime64[ns](2), object(10)\n",
      "memory usage: 3.7+ MB\n"
     ]
    }
   ],
   "source": [
    "df.info()"
   ]
  },
  {
   "cell_type": "code",
   "execution_count": 19,
   "metadata": {},
   "outputs": [
    {
     "data": {
      "text/plain": [
       "(37408, 13)"
      ]
     },
     "execution_count": 19,
     "metadata": {},
     "output_type": "execute_result"
    }
   ],
   "source": [
    "df.shape"
   ]
  },
  {
   "cell_type": "code",
   "execution_count": 11,
   "metadata": {},
   "outputs": [],
   "source": [
    "df.to_csv(\"Human Resources1.csv\")"
   ]
  }
 ],
 "metadata": {
  "kernelspec": {
   "display_name": "Python 3.9.12 ('base')",
   "language": "python",
   "name": "python3"
  },
  "language_info": {
   "codemirror_mode": {
    "name": "ipython",
    "version": 3
   },
   "file_extension": ".py",
   "mimetype": "text/x-python",
   "name": "python",
   "nbconvert_exporter": "python",
   "pygments_lexer": "ipython3",
   "version": "3.9.12"
  },
  "orig_nbformat": 4,
  "vscode": {
   "interpreter": {
    "hash": "ff2dc1df189c1b1602dd347d9550404970c4e10c3dcf67379d391965d4def2fd"
   }
  }
 },
 "nbformat": 4,
 "nbformat_minor": 2
}
