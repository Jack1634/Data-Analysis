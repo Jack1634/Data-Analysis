{
  "cells": [
    {
      "cell_type": "code",
      "execution_count": 2,
      "metadata": {},
      "outputs": [],
      "source": [
        "import pandas as pd\n",
        "import numpy as np\n",
        "import matplotlib.pyplot as plt\n",
        "import seaborn as sns\n",
        "import warnings\n",
        "warnings.filterwarnings('ignore')\n",
        "%matplotlib inline\n"
      ]
    },
    {
      "cell_type": "code",
      "execution_count": 3,
      "metadata": {},
      "outputs": [],
      "source": [
        "df = pd.read_csv('scanner_data.csv')"
      ]
    },
    {
      "cell_type": "code",
      "execution_count": 4,
      "metadata": {},
      "outputs": [
        {
          "data": {
            "text/html": [
              "<div>\n",
              "<style scoped>\n",
              "    .dataframe tbody tr th:only-of-type {\n",
              "        vertical-align: middle;\n",
              "    }\n",
              "\n",
              "    .dataframe tbody tr th {\n",
              "        vertical-align: top;\n",
              "    }\n",
              "\n",
              "    .dataframe thead th {\n",
              "        text-align: right;\n",
              "    }\n",
              "</style>\n",
              "<table border=\"1\" class=\"dataframe\">\n",
              "  <thead>\n",
              "    <tr style=\"text-align: right;\">\n",
              "      <th></th>\n",
              "      <th>Unnamed: 0</th>\n",
              "      <th>Date</th>\n",
              "      <th>Customer_ID</th>\n",
              "      <th>Transaction_ID</th>\n",
              "      <th>SKU_Category</th>\n",
              "      <th>SKU</th>\n",
              "      <th>Quantity</th>\n",
              "      <th>Sales_Amount</th>\n",
              "    </tr>\n",
              "  </thead>\n",
              "  <tbody>\n",
              "    <tr>\n",
              "      <th>0</th>\n",
              "      <td>1</td>\n",
              "      <td>2/1/2016</td>\n",
              "      <td>2547</td>\n",
              "      <td>1</td>\n",
              "      <td>X52</td>\n",
              "      <td>0EM7L</td>\n",
              "      <td>1.0</td>\n",
              "      <td>3.13</td>\n",
              "    </tr>\n",
              "    <tr>\n",
              "      <th>1</th>\n",
              "      <td>2</td>\n",
              "      <td>2/1/2016</td>\n",
              "      <td>822</td>\n",
              "      <td>2</td>\n",
              "      <td>2ML</td>\n",
              "      <td>68BRQ</td>\n",
              "      <td>1.0</td>\n",
              "      <td>5.46</td>\n",
              "    </tr>\n",
              "    <tr>\n",
              "      <th>2</th>\n",
              "      <td>3</td>\n",
              "      <td>2/1/2016</td>\n",
              "      <td>3686</td>\n",
              "      <td>3</td>\n",
              "      <td>0H2</td>\n",
              "      <td>CZUZX</td>\n",
              "      <td>1.0</td>\n",
              "      <td>6.35</td>\n",
              "    </tr>\n",
              "    <tr>\n",
              "      <th>3</th>\n",
              "      <td>4</td>\n",
              "      <td>2/1/2016</td>\n",
              "      <td>3719</td>\n",
              "      <td>4</td>\n",
              "      <td>0H2</td>\n",
              "      <td>549KK</td>\n",
              "      <td>1.0</td>\n",
              "      <td>5.59</td>\n",
              "    </tr>\n",
              "    <tr>\n",
              "      <th>4</th>\n",
              "      <td>5</td>\n",
              "      <td>2/1/2016</td>\n",
              "      <td>9200</td>\n",
              "      <td>5</td>\n",
              "      <td>0H2</td>\n",
              "      <td>K8EHH</td>\n",
              "      <td>1.0</td>\n",
              "      <td>6.88</td>\n",
              "    </tr>\n",
              "  </tbody>\n",
              "</table>\n",
              "</div>"
            ],
            "text/plain": [
              "   Unnamed: 0      Date  Customer_ID  Transaction_ID SKU_Category    SKU  \\\n",
              "0           1  2/1/2016         2547               1          X52  0EM7L   \n",
              "1           2  2/1/2016          822               2          2ML  68BRQ   \n",
              "2           3  2/1/2016         3686               3          0H2  CZUZX   \n",
              "3           4  2/1/2016         3719               4          0H2  549KK   \n",
              "4           5  2/1/2016         9200               5          0H2  K8EHH   \n",
              "\n",
              "   Quantity  Sales_Amount  \n",
              "0       1.0          3.13  \n",
              "1       1.0          5.46  \n",
              "2       1.0          6.35  \n",
              "3       1.0          5.59  \n",
              "4       1.0          6.88  "
            ]
          },
          "execution_count": 4,
          "metadata": {},
          "output_type": "execute_result"
        }
      ],
      "source": [
        "df.head()"
      ]
    },
    {
      "cell_type": "code",
      "execution_count": 5,
      "metadata": {},
      "outputs": [],
      "source": [
        "del df['Unnamed: 0']"
      ]
    },
    {
      "cell_type": "code",
      "execution_count": 6,
      "metadata": {},
      "outputs": [
        {
          "data": {
            "text/html": [
              "<div>\n",
              "<style scoped>\n",
              "    .dataframe tbody tr th:only-of-type {\n",
              "        vertical-align: middle;\n",
              "    }\n",
              "\n",
              "    .dataframe tbody tr th {\n",
              "        vertical-align: top;\n",
              "    }\n",
              "\n",
              "    .dataframe thead th {\n",
              "        text-align: right;\n",
              "    }\n",
              "</style>\n",
              "<table border=\"1\" class=\"dataframe\">\n",
              "  <thead>\n",
              "    <tr style=\"text-align: right;\">\n",
              "      <th></th>\n",
              "      <th>Date</th>\n",
              "      <th>Customer_ID</th>\n",
              "      <th>Transaction_ID</th>\n",
              "      <th>SKU_Category</th>\n",
              "      <th>SKU</th>\n",
              "      <th>Quantity</th>\n",
              "      <th>Sales_Amount</th>\n",
              "    </tr>\n",
              "  </thead>\n",
              "  <tbody>\n",
              "    <tr>\n",
              "      <th>0</th>\n",
              "      <td>2/1/2016</td>\n",
              "      <td>2547</td>\n",
              "      <td>1</td>\n",
              "      <td>X52</td>\n",
              "      <td>0EM7L</td>\n",
              "      <td>1.0</td>\n",
              "      <td>3.13</td>\n",
              "    </tr>\n",
              "    <tr>\n",
              "      <th>1</th>\n",
              "      <td>2/1/2016</td>\n",
              "      <td>822</td>\n",
              "      <td>2</td>\n",
              "      <td>2ML</td>\n",
              "      <td>68BRQ</td>\n",
              "      <td>1.0</td>\n",
              "      <td>5.46</td>\n",
              "    </tr>\n",
              "    <tr>\n",
              "      <th>2</th>\n",
              "      <td>2/1/2016</td>\n",
              "      <td>3686</td>\n",
              "      <td>3</td>\n",
              "      <td>0H2</td>\n",
              "      <td>CZUZX</td>\n",
              "      <td>1.0</td>\n",
              "      <td>6.35</td>\n",
              "    </tr>\n",
              "    <tr>\n",
              "      <th>3</th>\n",
              "      <td>2/1/2016</td>\n",
              "      <td>3719</td>\n",
              "      <td>4</td>\n",
              "      <td>0H2</td>\n",
              "      <td>549KK</td>\n",
              "      <td>1.0</td>\n",
              "      <td>5.59</td>\n",
              "    </tr>\n",
              "    <tr>\n",
              "      <th>4</th>\n",
              "      <td>2/1/2016</td>\n",
              "      <td>9200</td>\n",
              "      <td>5</td>\n",
              "      <td>0H2</td>\n",
              "      <td>K8EHH</td>\n",
              "      <td>1.0</td>\n",
              "      <td>6.88</td>\n",
              "    </tr>\n",
              "  </tbody>\n",
              "</table>\n",
              "</div>"
            ],
            "text/plain": [
              "       Date  Customer_ID  Transaction_ID SKU_Category    SKU  Quantity  \\\n",
              "0  2/1/2016         2547               1          X52  0EM7L       1.0   \n",
              "1  2/1/2016          822               2          2ML  68BRQ       1.0   \n",
              "2  2/1/2016         3686               3          0H2  CZUZX       1.0   \n",
              "3  2/1/2016         3719               4          0H2  549KK       1.0   \n",
              "4  2/1/2016         9200               5          0H2  K8EHH       1.0   \n",
              "\n",
              "   Sales_Amount  \n",
              "0          3.13  \n",
              "1          5.46  \n",
              "2          6.35  \n",
              "3          5.59  \n",
              "4          6.88  "
            ]
          },
          "execution_count": 6,
          "metadata": {},
          "output_type": "execute_result"
        }
      ],
      "source": [
        "df.head()"
      ]
    },
    {
      "cell_type": "code",
      "execution_count": 7,
      "metadata": {},
      "outputs": [
        {
          "name": "stdout",
          "output_type": "stream",
          "text": [
            "<class 'pandas.core.frame.DataFrame'>\n",
            "RangeIndex: 131706 entries, 0 to 131705\n",
            "Data columns (total 7 columns):\n",
            " #   Column          Non-Null Count   Dtype  \n",
            "---  ------          --------------   -----  \n",
            " 0   Date            131706 non-null  object \n",
            " 1   Customer_ID     131706 non-null  int64  \n",
            " 2   Transaction_ID  131706 non-null  int64  \n",
            " 3   SKU_Category    131706 non-null  object \n",
            " 4   SKU             131706 non-null  object \n",
            " 5   Quantity        131706 non-null  float64\n",
            " 6   Sales_Amount    131706 non-null  float64\n",
            "dtypes: float64(2), int64(2), object(3)\n",
            "memory usage: 7.0+ MB\n"
          ]
        }
      ],
      "source": [
        "df.info()"
      ]
    },
    {
      "cell_type": "code",
      "execution_count": 9,
      "metadata": {},
      "outputs": [],
      "source": [
        "# Convert the date column to datetime\n",
        "\n",
        "df['Date'] = pd.to_datetime(df['Date'])"
      ]
    },
    {
      "cell_type": "code",
      "execution_count": 11,
      "metadata": {},
      "outputs": [
        {
          "name": "stdout",
          "output_type": "stream",
          "text": [
            "<class 'pandas.core.frame.DataFrame'>\n",
            "RangeIndex: 131706 entries, 0 to 131705\n",
            "Data columns (total 7 columns):\n",
            " #   Column          Non-Null Count   Dtype         \n",
            "---  ------          --------------   -----         \n",
            " 0   Date            131706 non-null  datetime64[ns]\n",
            " 1   Customer_ID     131706 non-null  int64         \n",
            " 2   Transaction_ID  131706 non-null  int64         \n",
            " 3   SKU_Category    131706 non-null  object        \n",
            " 4   SKU             131706 non-null  object        \n",
            " 5   Quantity        131706 non-null  float64       \n",
            " 6   Sales_Amount    131706 non-null  float64       \n",
            "dtypes: datetime64[ns](1), float64(2), int64(2), object(2)\n",
            "memory usage: 7.0+ MB\n"
          ]
        }
      ],
      "source": [
        "df.info()"
      ]
    },
    {
      "cell_type": "code",
      "execution_count": 12,
      "metadata": {},
      "outputs": [],
      "source": [
        "# format date colum to mm/dd/yyyy\n",
        "\n",
        "df['Date'] = df['Date'].dt.strftime('%m/%d/%Y')"
      ]
    },
    {
      "cell_type": "code",
      "execution_count": 16,
      "metadata": {},
      "outputs": [
        {
          "data": {
            "text/plain": [
              "09/23/2016    638\n",
              "12/15/2016    614\n",
              "09/22/2016    606\n",
              "05/13/2016    602\n",
              "12/16/2016    594\n",
              "             ... \n",
              "07/31/2016    128\n",
              "03/01/2016    111\n",
              "08/28/2016    107\n",
              "12/24/2016    100\n",
              "03/28/2016     73\n",
              "Name: Date, Length: 363, dtype: int64"
            ]
          },
          "execution_count": 16,
          "metadata": {},
          "output_type": "execute_result"
        }
      ],
      "source": [
        "df.Date.value_counts()"
      ]
    },
    {
      "cell_type": "code",
      "execution_count": 17,
      "metadata": {},
      "outputs": [],
      "source": [
        "df.to_csv('scanner.csv', index=False)"
      ]
    }
  ],
  "metadata": {
    "colab": {
      "collapsed_sections": [],
      "provenance": []
    },
    "kernelspec": {
      "display_name": "Python 3.9.12 ('base')",
      "language": "python",
      "name": "python3"
    },
    "language_info": {
      "codemirror_mode": {
        "name": "ipython",
        "version": 3
      },
      "file_extension": ".py",
      "mimetype": "text/x-python",
      "name": "python",
      "nbconvert_exporter": "python",
      "pygments_lexer": "ipython3",
      "version": "3.9.12"
    },
    "vscode": {
      "interpreter": {
        "hash": "a2ab3825ac7005fb7b26f112e9c99ae62f464c629e30b0d534c3b931b6cbc3ff"
      }
    }
  },
  "nbformat": 4,
  "nbformat_minor": 0
}
