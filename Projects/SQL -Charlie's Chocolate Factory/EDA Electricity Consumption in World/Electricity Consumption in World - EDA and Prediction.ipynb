{
 "cells": [
  {
   "cell_type": "code",
   "execution_count": 1,
   "metadata": {},
   "outputs": [],
   "source": [
    "import pandas as pd\n",
    "import numpy as np\n",
    "import matplotlib.pyplot as plt\n",
    "import seaborn as sns\n",
    "import warnings\n",
    "warnings.filterwarnings(\"ignore\")\n",
    "%matplotlib inline\n",
    "pd.set_option('display.max_columns', None)\n",
    "pd.set_option('display.max_rows', None)\n",
    "pd.set_option('display.width', None)\n",
    "pd.set_option('display.max_colwidth', -1)\n",
    "pd.set_option('display.precision', 2)\n",
    "pd.set_option('display.float_format', '{:.2f}'.format)"
   ]
  },
  {
   "cell_type": "code",
   "execution_count": 2,
   "metadata": {},
   "outputs": [],
   "source": [
    "df =pd.read_csv(\"World_Per_Capita_Electricity_Consumption.csv\")"
   ]
  },
  {
   "cell_type": "code",
   "execution_count": 3,
   "metadata": {},
   "outputs": [
    {
     "data": {
      "text/html": [
       "<div>\n",
       "<style scoped>\n",
       "    .dataframe tbody tr th:only-of-type {\n",
       "        vertical-align: middle;\n",
       "    }\n",
       "\n",
       "    .dataframe tbody tr th {\n",
       "        vertical-align: top;\n",
       "    }\n",
       "\n",
       "    .dataframe thead th {\n",
       "        text-align: right;\n",
       "    }\n",
       "</style>\n",
       "<table border=\"1\" class=\"dataframe\">\n",
       "  <thead>\n",
       "    <tr style=\"text-align: right;\">\n",
       "      <th></th>\n",
       "      <th>Entity</th>\n",
       "      <th>Year</th>\n",
       "      <th>Per capita electricity (kWh)</th>\n",
       "    </tr>\n",
       "  </thead>\n",
       "  <tbody>\n",
       "    <tr>\n",
       "      <th>0</th>\n",
       "      <td>Afghanistan</td>\n",
       "      <td>2000</td>\n",
       "      <td>22.47</td>\n",
       "    </tr>\n",
       "    <tr>\n",
       "      <th>1</th>\n",
       "      <td>Afghanistan</td>\n",
       "      <td>2001</td>\n",
       "      <td>27.40</td>\n",
       "    </tr>\n",
       "    <tr>\n",
       "      <th>2</th>\n",
       "      <td>Afghanistan</td>\n",
       "      <td>2002</td>\n",
       "      <td>30.40</td>\n",
       "    </tr>\n",
       "    <tr>\n",
       "      <th>3</th>\n",
       "      <td>Afghanistan</td>\n",
       "      <td>2003</td>\n",
       "      <td>39.65</td>\n",
       "    </tr>\n",
       "    <tr>\n",
       "      <th>4</th>\n",
       "      <td>Afghanistan</td>\n",
       "      <td>2004</td>\n",
       "      <td>36.16</td>\n",
       "    </tr>\n",
       "  </tbody>\n",
       "</table>\n",
       "</div>"
      ],
      "text/plain": [
       "        Entity  Year  Per capita electricity (kWh)\n",
       "0  Afghanistan  2000 22.47                        \n",
       "1  Afghanistan  2001 27.40                        \n",
       "2  Afghanistan  2002 30.40                        \n",
       "3  Afghanistan  2003 39.65                        \n",
       "4  Afghanistan  2004 36.16                        "
      ]
     },
     "execution_count": 3,
     "metadata": {},
     "output_type": "execute_result"
    }
   ],
   "source": [
    "df.head()"
   ]
  },
  {
   "cell_type": "code",
   "execution_count": 4,
   "metadata": {},
   "outputs": [
    {
     "data": {
      "text/html": [
       "<div>\n",
       "<style scoped>\n",
       "    .dataframe tbody tr th:only-of-type {\n",
       "        vertical-align: middle;\n",
       "    }\n",
       "\n",
       "    .dataframe tbody tr th {\n",
       "        vertical-align: top;\n",
       "    }\n",
       "\n",
       "    .dataframe thead th {\n",
       "        text-align: right;\n",
       "    }\n",
       "</style>\n",
       "<table border=\"1\" class=\"dataframe\">\n",
       "  <thead>\n",
       "    <tr style=\"text-align: right;\">\n",
       "      <th></th>\n",
       "      <th>Entity</th>\n",
       "      <th>Year</th>\n",
       "      <th>Per capita electricity (kWh)</th>\n",
       "    </tr>\n",
       "  </thead>\n",
       "  <tbody>\n",
       "    <tr>\n",
       "      <th>5615</th>\n",
       "      <td>Zimbabwe</td>\n",
       "      <td>2015</td>\n",
       "      <td>679.55</td>\n",
       "    </tr>\n",
       "    <tr>\n",
       "      <th>5616</th>\n",
       "      <td>Zimbabwe</td>\n",
       "      <td>2016</td>\n",
       "      <td>486.51</td>\n",
       "    </tr>\n",
       "    <tr>\n",
       "      <th>5617</th>\n",
       "      <td>Zimbabwe</td>\n",
       "      <td>2017</td>\n",
       "      <td>513.43</td>\n",
       "    </tr>\n",
       "    <tr>\n",
       "      <th>5618</th>\n",
       "      <td>Zimbabwe</td>\n",
       "      <td>2018</td>\n",
       "      <td>632.53</td>\n",
       "    </tr>\n",
       "    <tr>\n",
       "      <th>5619</th>\n",
       "      <td>Zimbabwe</td>\n",
       "      <td>2019</td>\n",
       "      <td>617.67</td>\n",
       "    </tr>\n",
       "  </tbody>\n",
       "</table>\n",
       "</div>"
      ],
      "text/plain": [
       "        Entity  Year  Per capita electricity (kWh)\n",
       "5615  Zimbabwe  2015 679.55                       \n",
       "5616  Zimbabwe  2016 486.51                       \n",
       "5617  Zimbabwe  2017 513.43                       \n",
       "5618  Zimbabwe  2018 632.53                       \n",
       "5619  Zimbabwe  2019 617.67                       "
      ]
     },
     "execution_count": 4,
     "metadata": {},
     "output_type": "execute_result"
    }
   ],
   "source": [
    "df.tail()"
   ]
  },
  {
   "cell_type": "code",
   "execution_count": 5,
   "metadata": {},
   "outputs": [
    {
     "data": {
      "text/plain": [
       "(5620, 3)"
      ]
     },
     "execution_count": 5,
     "metadata": {},
     "output_type": "execute_result"
    }
   ],
   "source": [
    "df.shape"
   ]
  },
  {
   "cell_type": "code",
   "execution_count": 6,
   "metadata": {},
   "outputs": [
    {
     "data": {
      "text/plain": [
       "Index(['Entity', 'Year', 'Per capita electricity (kWh)'], dtype='object')"
      ]
     },
     "execution_count": 6,
     "metadata": {},
     "output_type": "execute_result"
    }
   ],
   "source": [
    "df.columns"
   ]
  },
  {
   "cell_type": "code",
   "execution_count": 7,
   "metadata": {},
   "outputs": [
    {
     "name": "stdout",
     "output_type": "stream",
     "text": [
      "<class 'pandas.core.frame.DataFrame'>\n",
      "RangeIndex: 5620 entries, 0 to 5619\n",
      "Data columns (total 3 columns):\n",
      " #   Column                        Non-Null Count  Dtype  \n",
      "---  ------                        --------------  -----  \n",
      " 0   Entity                        5620 non-null   object \n",
      " 1   Year                          5620 non-null   int64  \n",
      " 2   Per capita electricity (kWh)  5620 non-null   float64\n",
      "dtypes: float64(1), int64(1), object(1)\n",
      "memory usage: 131.8+ KB\n"
     ]
    }
   ],
   "source": [
    "df.info()"
   ]
  },
  {
   "cell_type": "code",
   "execution_count": 8,
   "metadata": {},
   "outputs": [
    {
     "data": {
      "text/html": [
       "<div>\n",
       "<style scoped>\n",
       "    .dataframe tbody tr th:only-of-type {\n",
       "        vertical-align: middle;\n",
       "    }\n",
       "\n",
       "    .dataframe tbody tr th {\n",
       "        vertical-align: top;\n",
       "    }\n",
       "\n",
       "    .dataframe thead th {\n",
       "        text-align: right;\n",
       "    }\n",
       "</style>\n",
       "<table border=\"1\" class=\"dataframe\">\n",
       "  <thead>\n",
       "    <tr style=\"text-align: right;\">\n",
       "      <th></th>\n",
       "      <th>Year</th>\n",
       "      <th>Per capita electricity (kWh)</th>\n",
       "    </tr>\n",
       "  </thead>\n",
       "  <tbody>\n",
       "    <tr>\n",
       "      <th>count</th>\n",
       "      <td>5620.00</td>\n",
       "      <td>5620.00</td>\n",
       "    </tr>\n",
       "    <tr>\n",
       "      <th>mean</th>\n",
       "      <td>2005.83</td>\n",
       "      <td>4095.89</td>\n",
       "    </tr>\n",
       "    <tr>\n",
       "      <th>std</th>\n",
       "      <td>9.24</td>\n",
       "      <td>5403.91</td>\n",
       "    </tr>\n",
       "    <tr>\n",
       "      <th>min</th>\n",
       "      <td>1985.00</td>\n",
       "      <td>0.00</td>\n",
       "    </tr>\n",
       "    <tr>\n",
       "      <th>25%</th>\n",
       "      <td>2000.00</td>\n",
       "      <td>646.12</td>\n",
       "    </tr>\n",
       "    <tr>\n",
       "      <th>50%</th>\n",
       "      <td>2007.00</td>\n",
       "      <td>2555.82</td>\n",
       "    </tr>\n",
       "    <tr>\n",
       "      <th>75%</th>\n",
       "      <td>2013.00</td>\n",
       "      <td>5561.17</td>\n",
       "    </tr>\n",
       "    <tr>\n",
       "      <th>max</th>\n",
       "      <td>2021.00</td>\n",
       "      <td>58863.36</td>\n",
       "    </tr>\n",
       "  </tbody>\n",
       "</table>\n",
       "</div>"
      ],
      "text/plain": [
       "         Year  Per capita electricity (kWh)\n",
       "count 5620.00 5620.00                      \n",
       "mean  2005.83 4095.89                      \n",
       "std   9.24    5403.91                      \n",
       "min   1985.00 0.00                         \n",
       "25%   2000.00 646.12                       \n",
       "50%   2007.00 2555.82                      \n",
       "75%   2013.00 5561.17                      \n",
       "max   2021.00 58863.36                     "
      ]
     },
     "execution_count": 8,
     "metadata": {},
     "output_type": "execute_result"
    }
   ],
   "source": [
    "df.describe()"
   ]
  },
  {
   "cell_type": "code",
   "execution_count": 9,
   "metadata": {},
   "outputs": [
    {
     "data": {
      "text/plain": [
       "Entity                          0\n",
       "Year                            0\n",
       "Per capita electricity (kWh)    0\n",
       "dtype: int64"
      ]
     },
     "execution_count": 9,
     "metadata": {},
     "output_type": "execute_result"
    }
   ],
   "source": [
    "df.isnull().sum()"
   ]
  },
  {
   "cell_type": "code",
   "execution_count": 10,
   "metadata": {},
   "outputs": [
    {
     "data": {
      "text/plain": [
       "213"
      ]
     },
     "execution_count": 10,
     "metadata": {},
     "output_type": "execute_result"
    }
   ],
   "source": [
    "df[\"Entity\"].nunique()"
   ]
  },
  {
   "cell_type": "code",
   "execution_count": 11,
   "metadata": {},
   "outputs": [
    {
     "data": {
      "text/plain": [
       "array(['Afghanistan', 'Africa', 'Albania', 'Algeria', 'American Samoa',\n",
       "       'Angola', 'Antigua and Barbuda', 'Argentina', 'Armenia', 'Aruba',\n",
       "       'Australia', 'Austria', 'Azerbaijan', 'Bahamas', 'Bahrain',\n",
       "       'Bangladesh', 'Barbados', 'Belarus', 'Belgium', 'Belize', 'Benin',\n",
       "       'Bermuda', 'Bhutan', 'Bolivia', 'Bosnia and Herzegovina',\n",
       "       'Botswana', 'Brazil', 'British Virgin Islands', 'Brunei',\n",
       "       'Bulgaria', 'Burkina Faso', 'Burundi', 'Cambodia', 'Cameroon',\n",
       "       'Canada', 'Cape Verde', 'Cayman Islands',\n",
       "       'Central African Republic', 'Chad', 'Chile', 'China', 'Colombia',\n",
       "       'Comoros', 'Congo', 'Cook Islands', 'Costa Rica', 'Croatia',\n",
       "       'Cuba', 'Cyprus', 'Czechia', 'Democratic Republic of Congo',\n",
       "       'Denmark', 'Djibouti', 'Dominica', 'Dominican Republic', 'Ecuador',\n",
       "       'Egypt', 'El Salvador', 'Equatorial Guinea', 'Eritrea', 'Estonia',\n",
       "       'Ethiopia', 'Europe', 'European Union (27)', 'Falkland Islands',\n",
       "       'Fiji', 'Finland', 'France', 'French Guiana', 'French Polynesia',\n",
       "       'Gabon', 'Gambia', 'Georgia', 'Germany', 'Ghana', 'Gibraltar',\n",
       "       'Greece', 'Greenland', 'Grenada', 'Guadeloupe', 'Guam',\n",
       "       'Guatemala', 'Guinea', 'Guinea-Bissau', 'Guyana', 'Haiti',\n",
       "       'Honduras', 'Hong Kong', 'Hungary', 'Iceland', 'India',\n",
       "       'Indonesia', 'Iran', 'Iraq', 'Ireland', 'Israel', 'Italy',\n",
       "       'Jamaica', 'Japan', 'Jordan', 'Kazakhstan', 'Kenya', 'Kiribati',\n",
       "       'Kuwait', 'Kyrgyzstan', 'Laos', 'Latvia', 'Lebanon', 'Lesotho',\n",
       "       'Liberia', 'Libya', 'Lithuania', 'Luxembourg', 'Madagascar',\n",
       "       'Malawi', 'Malaysia', 'Maldives', 'Mali', 'Malta', 'Martinique',\n",
       "       'Mauritania', 'Mauritius', 'Mexico', 'Mongolia', 'Montenegro',\n",
       "       'Montserrat', 'Morocco', 'Mozambique', 'Myanmar', 'Namibia',\n",
       "       'Nauru', 'Nepal', 'Netherlands', 'Netherlands Antilles',\n",
       "       'New Caledonia', 'New Zealand', 'Nicaragua', 'Niger', 'Nigeria',\n",
       "       'Niue', 'North Korea', 'North Macedonia', 'Norway', 'Oman',\n",
       "       'Pakistan', 'Palestine', 'Panama', 'Papua New Guinea', 'Paraguay',\n",
       "       'Peru', 'Philippines', 'Poland', 'Portugal', 'Puerto Rico',\n",
       "       'Qatar', 'Reunion', 'Romania', 'Russia', 'Rwanda', 'Saint Helena',\n",
       "       'Saint Kitts and Nevis', 'Saint Lucia',\n",
       "       'Saint Pierre and Miquelon', 'Saint Vincent and the Grenadines',\n",
       "       'Samoa', 'Sao Tome and Principe', 'Saudi Arabia', 'Senegal',\n",
       "       'Serbia', 'Seychelles', 'Sierra Leone', 'Singapore', 'Slovakia',\n",
       "       'Slovenia', 'Solomon Islands', 'Somalia', 'South Africa',\n",
       "       'South Korea', 'South Sudan', 'Spain', 'Sri Lanka', 'Sudan',\n",
       "       'Suriname', 'Sweden', 'Switzerland', 'Syria', 'Taiwan',\n",
       "       'Tajikistan', 'Tanzania', 'Thailand', 'Togo', 'Tonga',\n",
       "       'Trinidad and Tobago', 'Tunisia', 'Turkey', 'Turkmenistan',\n",
       "       'Turks and Caicos Islands', 'Uganda', 'Ukraine',\n",
       "       'United Arab Emirates', 'United Kingdom', 'United States',\n",
       "       'United States Virgin Islands', 'Uruguay', 'Uzbekistan', 'Vanuatu',\n",
       "       'Venezuela', 'Vietnam', 'Western Sahara', 'World', 'Yemen',\n",
       "       'Zambia', 'Zimbabwe'], dtype=object)"
      ]
     },
     "execution_count": 11,
     "metadata": {},
     "output_type": "execute_result"
    }
   ],
   "source": [
    "df[\"Entity\"].unique()"
   ]
  },
  {
   "cell_type": "code",
   "execution_count": 12,
   "metadata": {},
   "outputs": [
    {
     "data": {
      "text/plain": [
       "Latvia                              37\n",
       "Bulgaria                            37\n",
       "Cyprus                              37\n",
       "Czechia                             37\n",
       "Denmark                             37\n",
       "Sweden                              37\n",
       "Spain                               37\n",
       "Estonia                             37\n",
       "France                              37\n",
       "Slovakia                            37\n",
       "Germany                             37\n",
       "Greece                              37\n",
       "Hungary                             37\n",
       "Ireland                             37\n",
       "Italy                               37\n",
       "Romania                             37\n",
       "Portugal                            37\n",
       "Poland                              37\n",
       "Lithuania                           37\n",
       "Luxembourg                          37\n",
       "Norway                              37\n",
       "Turkey                              37\n",
       "Finland                             37\n",
       "Netherlands                         37\n",
       "Austria                             37\n",
       "United Kingdom                      37\n",
       "Belgium                             37\n",
       "Vietnam                             36\n",
       "Kazakhstan                          36\n",
       "Argentina                           36\n",
       "Switzerland                         36\n",
       "Belarus                             36\n",
       "Japan                               36\n",
       "Russia                              36\n",
       "Iran                                36\n",
       "Taiwan                              36\n",
       "Bangladesh                          36\n",
       "South Korea                         36\n",
       "India                               36\n",
       "South Africa                        36\n",
       "Australia                           36\n",
       "Azerbaijan                          36\n",
       "World                               36\n",
       "Singapore                           36\n",
       "Peru                                36\n",
       "Thailand                            36\n",
       "Pakistan                            36\n",
       "Philippines                         36\n",
       "Canada                              36\n",
       "Ukraine                             36\n",
       "Mexico                              36\n",
       "United States                       36\n",
       "Chile                               36\n",
       "China                               36\n",
       "Colombia                            36\n",
       "Brazil                              36\n",
       "New Zealand                         36\n",
       "Hong Kong                           35\n",
       "Morocco                             35\n",
       "Iceland                             35\n",
       "Africa                              35\n",
       "Iraq                                35\n",
       "Oman                                35\n",
       "Indonesia                           35\n",
       "Israel                              35\n",
       "Malaysia                            35\n",
       "Algeria                             35\n",
       "Qatar                               35\n",
       "Venezuela                           35\n",
       "Kuwait                              35\n",
       "Saudi Arabia                        35\n",
       "Sri Lanka                           35\n",
       "Turkmenistan                        35\n",
       "United Arab Emirates                35\n",
       "Uzbekistan                          35\n",
       "Ecuador                             35\n",
       "Europe                              35\n",
       "Trinidad and Tobago                 35\n",
       "Egypt                               35\n",
       "European Union (27)                 32\n",
       "Croatia                             32\n",
       "Slovenia                            32\n",
       "North Macedonia                     32\n",
       "Serbia                              32\n",
       "Malta                               32\n",
       "Albania                             30\n",
       "Bosnia and Herzegovina              22\n",
       "Montenegro                          22\n",
       "Tunisia                             21\n",
       "Tajikistan                          21\n",
       "Costa Rica                          21\n",
       "Uruguay                             21\n",
       "Mongolia                            21\n",
       "Nigeria                             21\n",
       "Bolivia                             21\n",
       "South Sudan                         20\n",
       "Senegal                             20\n",
       "Palestine                           20\n",
       "Saint Lucia                         20\n",
       "Saint Pierre and Miquelon           20\n",
       "Saint Vincent and the Grenadines    20\n",
       "Samoa                               20\n",
       "Sao Tome and Principe               20\n",
       "Turks and Caicos Islands            20\n",
       "Vanuatu                             20\n",
       "Western Sahara                      20\n",
       "North Korea                         20\n",
       "Uganda                              20\n",
       "Niue                                20\n",
       "Seychelles                          20\n",
       "Niger                               20\n",
       "Nicaragua                           20\n",
       "Solomon Islands                     20\n",
       "Saint Kitts and Nevis               20\n",
       "Panama                              20\n",
       "Papua New Guinea                    20\n",
       "Tonga                               20\n",
       "Sudan                               20\n",
       "Suriname                            20\n",
       "Somalia                             20\n",
       "United States Virgin Islands        20\n",
       "Reunion                             20\n",
       "Sierra Leone                        20\n",
       "New Caledonia                       20\n",
       "Puerto Rico                         20\n",
       "Rwanda                              20\n",
       "Saint Helena                        20\n",
       "Yemen                               20\n",
       "Tanzania                            20\n",
       "Togo                                20\n",
       "Paraguay                            20\n",
       "Zambia                              20\n",
       "Syria                               20\n",
       "Afghanistan                         20\n",
       "French Polynesia                    20\n",
       "Democratic Republic of Congo        20\n",
       "Cayman Islands                      20\n",
       "Central African Republic            20\n",
       "Chad                                20\n",
       "Comoros                             20\n",
       "Congo                               20\n",
       "Cook Islands                        20\n",
       "Cuba                                20\n",
       "Djibouti                            20\n",
       "Cameroon                            20\n",
       "Dominica                            20\n",
       "Dominican Republic                  20\n",
       "El Salvador                         20\n",
       "Equatorial Guinea                   20\n",
       "Eritrea                             20\n",
       "Ethiopia                            20\n",
       "Falkland Islands                    20\n",
       "Cape Verde                          20\n",
       "Cambodia                            20\n",
       "French Guiana                       20\n",
       "Barbados                            20\n",
       "American Samoa                      20\n",
       "Angola                              20\n",
       "Antigua and Barbuda                 20\n",
       "Armenia                             20\n",
       "Aruba                               20\n",
       "Bahamas                             20\n",
       "Bahrain                             20\n",
       "Belize                              20\n",
       "Burundi                             20\n",
       "Benin                               20\n",
       "Bermuda                             20\n",
       "Bhutan                              20\n",
       "Botswana                            20\n",
       "British Virgin Islands              20\n",
       "Brunei                              20\n",
       "Burkina Faso                        20\n",
       "Fiji                                20\n",
       "Zimbabwe                            20\n",
       "Nepal                               20\n",
       "Mali                                20\n",
       "Lebanon                             20\n",
       "Lesotho                             20\n",
       "Liberia                             20\n",
       "Libya                               20\n",
       "Madagascar                          20\n",
       "Malawi                              20\n",
       "Maldives                            20\n",
       "Martinique                          20\n",
       "Kyrgyzstan                          20\n",
       "Mauritania                          20\n",
       "Mauritius                           20\n",
       "Montserrat                          20\n",
       "Mozambique                          20\n",
       "Myanmar                             20\n",
       "Namibia                             20\n",
       "Nauru                               20\n",
       "Laos                                20\n",
       "Kiribati                            20\n",
       "Gabon                               20\n",
       "Guam                                20\n",
       "Gambia                              20\n",
       "Georgia                             20\n",
       "Ghana                               20\n",
       "Gibraltar                           20\n",
       "Greenland                           20\n",
       "Grenada                             20\n",
       "Guadeloupe                          20\n",
       "Guatemala                           20\n",
       "Kenya                               20\n",
       "Guinea                              20\n",
       "Guinea-Bissau                       20\n",
       "Guyana                              20\n",
       "Haiti                               20\n",
       "Honduras                            20\n",
       "Jamaica                             20\n",
       "Jordan                              20\n",
       "Netherlands Antilles                18\n",
       "Name: Entity, dtype: int64"
      ]
     },
     "execution_count": 12,
     "metadata": {},
     "output_type": "execute_result"
    }
   ],
   "source": [
    "df[\"Entity\"].value_counts()"
   ]
  },
  {
   "cell_type": "code",
   "execution_count": 13,
   "metadata": {},
   "outputs": [],
   "source": [
    "Turkey_electricity_consumption = df[df[\"Entity\"] == \"Turkey\"]"
   ]
  },
  {
   "cell_type": "code",
   "execution_count": 14,
   "metadata": {},
   "outputs": [
    {
     "data": {
      "text/html": [
       "<div>\n",
       "<style scoped>\n",
       "    .dataframe tbody tr th:only-of-type {\n",
       "        vertical-align: middle;\n",
       "    }\n",
       "\n",
       "    .dataframe tbody tr th {\n",
       "        vertical-align: top;\n",
       "    }\n",
       "\n",
       "    .dataframe thead th {\n",
       "        text-align: right;\n",
       "    }\n",
       "</style>\n",
       "<table border=\"1\" class=\"dataframe\">\n",
       "  <thead>\n",
       "    <tr style=\"text-align: right;\">\n",
       "      <th></th>\n",
       "      <th>Entity</th>\n",
       "      <th>Year</th>\n",
       "      <th>Per capita electricity (kWh)</th>\n",
       "    </tr>\n",
       "  </thead>\n",
       "  <tbody>\n",
       "    <tr>\n",
       "      <th>5081</th>\n",
       "      <td>Turkey</td>\n",
       "      <td>1985</td>\n",
       "      <td>696.44</td>\n",
       "    </tr>\n",
       "    <tr>\n",
       "      <th>5082</th>\n",
       "      <td>Turkey</td>\n",
       "      <td>1986</td>\n",
       "      <td>791.86</td>\n",
       "    </tr>\n",
       "    <tr>\n",
       "      <th>5083</th>\n",
       "      <td>Turkey</td>\n",
       "      <td>1987</td>\n",
       "      <td>867.95</td>\n",
       "    </tr>\n",
       "    <tr>\n",
       "      <th>5084</th>\n",
       "      <td>Turkey</td>\n",
       "      <td>1988</td>\n",
       "      <td>923.06</td>\n",
       "    </tr>\n",
       "    <tr>\n",
       "      <th>5085</th>\n",
       "      <td>Turkey</td>\n",
       "      <td>1989</td>\n",
       "      <td>982.09</td>\n",
       "    </tr>\n",
       "  </tbody>\n",
       "</table>\n",
       "</div>"
      ],
      "text/plain": [
       "      Entity  Year  Per capita electricity (kWh)\n",
       "5081  Turkey  1985 696.44                       \n",
       "5082  Turkey  1986 791.86                       \n",
       "5083  Turkey  1987 867.95                       \n",
       "5084  Turkey  1988 923.06                       \n",
       "5085  Turkey  1989 982.09                       "
      ]
     },
     "execution_count": 14,
     "metadata": {},
     "output_type": "execute_result"
    }
   ],
   "source": [
    "Turkey_electricity_consumption.head()"
   ]
  },
  {
   "cell_type": "code",
   "execution_count": 15,
   "metadata": {},
   "outputs": [
    {
     "data": {
      "text/html": [
       "<div>\n",
       "<style scoped>\n",
       "    .dataframe tbody tr th:only-of-type {\n",
       "        vertical-align: middle;\n",
       "    }\n",
       "\n",
       "    .dataframe tbody tr th {\n",
       "        vertical-align: top;\n",
       "    }\n",
       "\n",
       "    .dataframe thead th {\n",
       "        text-align: right;\n",
       "    }\n",
       "</style>\n",
       "<table border=\"1\" class=\"dataframe\">\n",
       "  <thead>\n",
       "    <tr style=\"text-align: right;\">\n",
       "      <th></th>\n",
       "      <th>Entity</th>\n",
       "      <th>Year</th>\n",
       "      <th>Per capita electricity (kWh)</th>\n",
       "    </tr>\n",
       "  </thead>\n",
       "  <tbody>\n",
       "    <tr>\n",
       "      <th>5113</th>\n",
       "      <td>Turkey</td>\n",
       "      <td>2017</td>\n",
       "      <td>3654.38</td>\n",
       "    </tr>\n",
       "    <tr>\n",
       "      <th>5114</th>\n",
       "      <td>Turkey</td>\n",
       "      <td>2018</td>\n",
       "      <td>3690.30</td>\n",
       "    </tr>\n",
       "    <tr>\n",
       "      <th>5115</th>\n",
       "      <td>Turkey</td>\n",
       "      <td>2019</td>\n",
       "      <td>3629.29</td>\n",
       "    </tr>\n",
       "    <tr>\n",
       "      <th>5116</th>\n",
       "      <td>Turkey</td>\n",
       "      <td>2020</td>\n",
       "      <td>3611.97</td>\n",
       "    </tr>\n",
       "    <tr>\n",
       "      <th>5117</th>\n",
       "      <td>Turkey</td>\n",
       "      <td>2021</td>\n",
       "      <td>3886.16</td>\n",
       "    </tr>\n",
       "  </tbody>\n",
       "</table>\n",
       "</div>"
      ],
      "text/plain": [
       "      Entity  Year  Per capita electricity (kWh)\n",
       "5113  Turkey  2017 3654.38                      \n",
       "5114  Turkey  2018 3690.30                      \n",
       "5115  Turkey  2019 3629.29                      \n",
       "5116  Turkey  2020 3611.97                      \n",
       "5117  Turkey  2021 3886.16                      "
      ]
     },
     "execution_count": 15,
     "metadata": {},
     "output_type": "execute_result"
    }
   ],
   "source": [
    "Turkey_electricity_consumption.tail()"
   ]
  },
  {
   "cell_type": "code",
   "execution_count": 16,
   "metadata": {},
   "outputs": [
    {
     "data": {
      "text/plain": [
       "array([1985, 1986, 1987, 1988, 1989, 1990, 1991, 1992, 1993, 1994, 1995,\n",
       "       1996, 1997, 1998, 1999, 2000, 2001, 2002, 2003, 2004, 2005, 2006,\n",
       "       2007, 2008, 2009, 2010, 2011, 2012, 2013, 2014, 2015, 2016, 2017,\n",
       "       2018, 2019, 2020, 2021], dtype=int64)"
      ]
     },
     "execution_count": 16,
     "metadata": {},
     "output_type": "execute_result"
    }
   ],
   "source": [
    "Turkey_electricity_consumption[\"Year\"].unique()"
   ]
  },
  {
   "cell_type": "code",
   "execution_count": 17,
   "metadata": {},
   "outputs": [
    {
     "data": {
      "image/png": "[encoded data removed]",
      "text/plain": [
       "<Figure size 864x432 with 1 Axes>"
      ]
     },
     "metadata": {
      "needs_background": "light"
     },
     "output_type": "display_data"
    }
   ],
   "source": [
    "plt.figure(figsize=(12,6))\n",
    "plt.plot(Turkey_electricity_consumption[\"Year\"], Turkey_electricity_consumption[\"Per capita electricity (kWh)\"])\n",
    "plt.title(\"Electricity Consumption in Turkey\")\n",
    "plt.xlabel(\"Year\")\n",
    "plt.ylabel(\"Electricity Consumption (in million kWh)\")\n",
    "plt.show()"
   ]
  },
  {
   "cell_type": "code",
   "execution_count": 18,
   "metadata": {},
   "outputs": [
    {
     "data": {
      "image/png": "[encoded data removed]",
      "text/plain": [
       "<Figure size 864x432 with 1 Axes>"
      ]
     },
     "metadata": {
      "needs_background": "light"
     },
     "output_type": "display_data"
    }
   ],
   "source": [
    "plt.figure(figsize=(12,6))\n",
    "sns.barplot(x=\"Year\", y = \"Per capita electricity (kWh)\",data=Turkey_electricity_consumption, hue=\"Entity\")\n",
    "plt.title(\"Electricity Consumption in Turkey\")\n",
    "plt.xlabel(\"Year\")\n",
    "plt.xticks(rotation=90)\n",
    "plt.ylabel(\"Count\")\n",
    "plt.show()"
   ]
  },
  {
   "cell_type": "code",
   "execution_count": 19,
   "metadata": {},
   "outputs": [],
   "source": [
    "china_electricity_consumption = df[df[\"Entity\"] == \"China\"]"
   ]
  },
  {
   "cell_type": "code",
   "execution_count": 20,
   "metadata": {},
   "outputs": [
    {
     "data": {
      "text/html": [
       "<div>\n",
       "<style scoped>\n",
       "    .dataframe tbody tr th:only-of-type {\n",
       "        vertical-align: middle;\n",
       "    }\n",
       "\n",
       "    .dataframe tbody tr th {\n",
       "        vertical-align: top;\n",
       "    }\n",
       "\n",
       "    .dataframe thead th {\n",
       "        text-align: right;\n",
       "    }\n",
       "</style>\n",
       "<table border=\"1\" class=\"dataframe\">\n",
       "  <thead>\n",
       "    <tr style=\"text-align: right;\">\n",
       "      <th></th>\n",
       "      <th>Entity</th>\n",
       "      <th>Year</th>\n",
       "      <th>Per capita electricity (kWh)</th>\n",
       "    </tr>\n",
       "  </thead>\n",
       "  <tbody>\n",
       "    <tr>\n",
       "      <th>1022</th>\n",
       "      <td>China</td>\n",
       "      <td>1985</td>\n",
       "      <td>381.83</td>\n",
       "    </tr>\n",
       "    <tr>\n",
       "      <th>1023</th>\n",
       "      <td>China</td>\n",
       "      <td>1986</td>\n",
       "      <td>410.52</td>\n",
       "    </tr>\n",
       "    <tr>\n",
       "      <th>1024</th>\n",
       "      <td>China</td>\n",
       "      <td>1987</td>\n",
       "      <td>445.54</td>\n",
       "    </tr>\n",
       "    <tr>\n",
       "      <th>1025</th>\n",
       "      <td>China</td>\n",
       "      <td>1988</td>\n",
       "      <td>479.21</td>\n",
       "    </tr>\n",
       "    <tr>\n",
       "      <th>1026</th>\n",
       "      <td>China</td>\n",
       "      <td>1989</td>\n",
       "      <td>504.86</td>\n",
       "    </tr>\n",
       "  </tbody>\n",
       "</table>\n",
       "</div>"
      ],
      "text/plain": [
       "     Entity  Year  Per capita electricity (kWh)\n",
       "1022  China  1985 381.83                       \n",
       "1023  China  1986 410.52                       \n",
       "1024  China  1987 445.54                       \n",
       "1025  China  1988 479.21                       \n",
       "1026  China  1989 504.86                       "
      ]
     },
     "execution_count": 20,
     "metadata": {},
     "output_type": "execute_result"
    }
   ],
   "source": [
    "china_electricity_consumption.head()"
   ]
  },
  {
   "cell_type": "code",
   "execution_count": 21,
   "metadata": {},
   "outputs": [
    {
     "data": {
      "text/html": [
       "<div>\n",
       "<style scoped>\n",
       "    .dataframe tbody tr th:only-of-type {\n",
       "        vertical-align: middle;\n",
       "    }\n",
       "\n",
       "    .dataframe tbody tr th {\n",
       "        vertical-align: top;\n",
       "    }\n",
       "\n",
       "    .dataframe thead th {\n",
       "        text-align: right;\n",
       "    }\n",
       "</style>\n",
       "<table border=\"1\" class=\"dataframe\">\n",
       "  <thead>\n",
       "    <tr style=\"text-align: right;\">\n",
       "      <th></th>\n",
       "      <th>Entity</th>\n",
       "      <th>Year</th>\n",
       "      <th>Per capita electricity (kWh)</th>\n",
       "    </tr>\n",
       "  </thead>\n",
       "  <tbody>\n",
       "    <tr>\n",
       "      <th>1053</th>\n",
       "      <td>China</td>\n",
       "      <td>2016</td>\n",
       "      <td>4259.26</td>\n",
       "    </tr>\n",
       "    <tr>\n",
       "      <th>1054</th>\n",
       "      <td>China</td>\n",
       "      <td>2017</td>\n",
       "      <td>4538.07</td>\n",
       "    </tr>\n",
       "    <tr>\n",
       "      <th>1055</th>\n",
       "      <td>China</td>\n",
       "      <td>2018</td>\n",
       "      <td>4900.51</td>\n",
       "    </tr>\n",
       "    <tr>\n",
       "      <th>1056</th>\n",
       "      <td>China</td>\n",
       "      <td>2019</td>\n",
       "      <td>5110.05</td>\n",
       "    </tr>\n",
       "    <tr>\n",
       "      <th>1057</th>\n",
       "      <td>China</td>\n",
       "      <td>2020</td>\n",
       "      <td>5296.72</td>\n",
       "    </tr>\n",
       "  </tbody>\n",
       "</table>\n",
       "</div>"
      ],
      "text/plain": [
       "     Entity  Year  Per capita electricity (kWh)\n",
       "1053  China  2016 4259.26                      \n",
       "1054  China  2017 4538.07                      \n",
       "1055  China  2018 4900.51                      \n",
       "1056  China  2019 5110.05                      \n",
       "1057  China  2020 5296.72                      "
      ]
     },
     "execution_count": 21,
     "metadata": {},
     "output_type": "execute_result"
    }
   ],
   "source": [
    "china_electricity_consumption.tail()"
   ]
  },
  {
   "cell_type": "code",
   "execution_count": 22,
   "metadata": {},
   "outputs": [
    {
     "data": {
      "image/png": "[encoded data removed]",
      "text/plain": [
       "<Figure size 864x432 with 1 Axes>"
      ]
     },
     "metadata": {
      "needs_background": "light"
     },
     "output_type": "display_data"
    }
   ],
   "source": [
    "plt.figure(figsize=(12,6))\n",
    "plt.plot(china_electricity_consumption[\"Year\"], china_electricity_consumption[\"Per capita electricity (kWh)\"])\n",
    "plt.title(\"Electricity Consumption in China\")\n",
    "plt.xlabel(\"Year\")\n",
    "plt.ylabel(\"Electricity Consumption (in million kWh)\")\n",
    "plt.show()"
   ]
  },
  {
   "cell_type": "code",
   "execution_count": 23,
   "metadata": {},
   "outputs": [
    {
     "data": {
      "image/png": "[encoded data removed]",
      "text/plain": [
       "<Figure size 864x432 with 1 Axes>"
      ]
     },
     "metadata": {
      "needs_background": "light"
     },
     "output_type": "display_data"
    }
   ],
   "source": [
    "plt.figure(figsize=(12,6))\n",
    "sns.barplot(x=\"Year\", y = \"Per capita electricity (kWh)\",data=china_electricity_consumption, hue=\"Entity\")\n",
    "plt.title(\"Electricity Consumption in China\")\n",
    "plt.xlabel(\"Year\")\n",
    "plt.xticks(rotation=90)\n",
    "plt.ylabel(\"Count\")\n",
    "plt.show()\n"
   ]
  },
  {
   "cell_type": "code",
   "execution_count": 24,
   "metadata": {},
   "outputs": [],
   "source": [
    "US_electricity_consumption = df[df[\"Entity\"] == \"United States\"]"
   ]
  },
  {
   "cell_type": "code",
   "execution_count": 25,
   "metadata": {},
   "outputs": [
    {
     "data": {
      "text/html": [
       "<div>\n",
       "<style scoped>\n",
       "    .dataframe tbody tr th:only-of-type {\n",
       "        vertical-align: middle;\n",
       "    }\n",
       "\n",
       "    .dataframe tbody tr th {\n",
       "        vertical-align: top;\n",
       "    }\n",
       "\n",
       "    .dataframe thead th {\n",
       "        text-align: right;\n",
       "    }\n",
       "</style>\n",
       "<table border=\"1\" class=\"dataframe\">\n",
       "  <thead>\n",
       "    <tr style=\"text-align: right;\">\n",
       "      <th></th>\n",
       "      <th>Entity</th>\n",
       "      <th>Year</th>\n",
       "      <th>Per capita electricity (kWh)</th>\n",
       "    </tr>\n",
       "  </thead>\n",
       "  <tbody>\n",
       "    <tr>\n",
       "      <th>5301</th>\n",
       "      <td>United States</td>\n",
       "      <td>1985</td>\n",
       "      <td>11048.45</td>\n",
       "    </tr>\n",
       "    <tr>\n",
       "      <th>5302</th>\n",
       "      <td>United States</td>\n",
       "      <td>1986</td>\n",
       "      <td>11023.56</td>\n",
       "    </tr>\n",
       "    <tr>\n",
       "      <th>5303</th>\n",
       "      <td>United States</td>\n",
       "      <td>1987</td>\n",
       "      <td>11312.69</td>\n",
       "    </tr>\n",
       "    <tr>\n",
       "      <th>5304</th>\n",
       "      <td>United States</td>\n",
       "      <td>1988</td>\n",
       "      <td>11781.62</td>\n",
       "    </tr>\n",
       "    <tr>\n",
       "      <th>5305</th>\n",
       "      <td>United States</td>\n",
       "      <td>1989</td>\n",
       "      <td>12635.66</td>\n",
       "    </tr>\n",
       "  </tbody>\n",
       "</table>\n",
       "</div>"
      ],
      "text/plain": [
       "             Entity  Year  Per capita electricity (kWh)\n",
       "5301  United States  1985 11048.45                     \n",
       "5302  United States  1986 11023.56                     \n",
       "5303  United States  1987 11312.69                     \n",
       "5304  United States  1988 11781.62                     \n",
       "5305  United States  1989 12635.66                     "
      ]
     },
     "execution_count": 25,
     "metadata": {},
     "output_type": "execute_result"
    }
   ],
   "source": [
    "US_electricity_consumption.head()"
   ]
  },
  {
   "cell_type": "code",
   "execution_count": 26,
   "metadata": {},
   "outputs": [
    {
     "data": {
      "text/html": [
       "<div>\n",
       "<style scoped>\n",
       "    .dataframe tbody tr th:only-of-type {\n",
       "        vertical-align: middle;\n",
       "    }\n",
       "\n",
       "    .dataframe tbody tr th {\n",
       "        vertical-align: top;\n",
       "    }\n",
       "\n",
       "    .dataframe thead th {\n",
       "        text-align: right;\n",
       "    }\n",
       "</style>\n",
       "<table border=\"1\" class=\"dataframe\">\n",
       "  <thead>\n",
       "    <tr style=\"text-align: right;\">\n",
       "      <th></th>\n",
       "      <th>Entity</th>\n",
       "      <th>Year</th>\n",
       "      <th>Per capita electricity (kWh)</th>\n",
       "    </tr>\n",
       "  </thead>\n",
       "  <tbody>\n",
       "    <tr>\n",
       "      <th>5332</th>\n",
       "      <td>United States</td>\n",
       "      <td>2016</td>\n",
       "      <td>12678.90</td>\n",
       "    </tr>\n",
       "    <tr>\n",
       "      <th>5333</th>\n",
       "      <td>United States</td>\n",
       "      <td>2017</td>\n",
       "      <td>12483.70</td>\n",
       "    </tr>\n",
       "    <tr>\n",
       "      <th>5334</th>\n",
       "      <td>United States</td>\n",
       "      <td>2018</td>\n",
       "      <td>12852.29</td>\n",
       "    </tr>\n",
       "    <tr>\n",
       "      <th>5335</th>\n",
       "      <td>United States</td>\n",
       "      <td>2019</td>\n",
       "      <td>12647.46</td>\n",
       "    </tr>\n",
       "    <tr>\n",
       "      <th>5336</th>\n",
       "      <td>United States</td>\n",
       "      <td>2020</td>\n",
       "      <td>12235.09</td>\n",
       "    </tr>\n",
       "  </tbody>\n",
       "</table>\n",
       "</div>"
      ],
      "text/plain": [
       "             Entity  Year  Per capita electricity (kWh)\n",
       "5332  United States  2016 12678.90                     \n",
       "5333  United States  2017 12483.70                     \n",
       "5334  United States  2018 12852.29                     \n",
       "5335  United States  2019 12647.46                     \n",
       "5336  United States  2020 12235.09                     "
      ]
     },
     "execution_count": 26,
     "metadata": {},
     "output_type": "execute_result"
    }
   ],
   "source": [
    "US_electricity_consumption.tail()"
   ]
  },
  {
   "cell_type": "code",
   "execution_count": 27,
   "metadata": {},
   "outputs": [
    {
     "data": {
      "image/png": "[encoded data removed]",
      "text/plain": [
       "<Figure size 864x432 with 1 Axes>"
      ]
     },
     "metadata": {
      "needs_background": "light"
     },
     "output_type": "display_data"
    }
   ],
   "source": [
    "plt.figure(figsize=(12,6))\n",
    "plt.plot(US_electricity_consumption[\"Year\"], US_electricity_consumption[\"Per capita electricity (kWh)\"])\n",
    "plt.title(\"Electricity Consumption in US\")\n",
    "plt.xlabel(\"Year\")\n",
    "plt.ylabel(\"Electricity Consumption (in million kWh)\")\n",
    "plt.show()\n"
   ]
  },
  {
   "cell_type": "code",
   "execution_count": 28,
   "metadata": {},
   "outputs": [
    {
     "data": {
      "image/png": "[encoded data removed]",
      "text/plain": [
       "<Figure size 864x432 with 1 Axes>"
      ]
     },
     "metadata": {
      "needs_background": "light"
     },
     "output_type": "display_data"
    }
   ],
   "source": [
    "plt.figure(figsize=(12,6))\n",
    "sns.barplot(x=\"Year\", y = \"Per capita electricity (kWh)\",data=US_electricity_consumption, hue=\"Entity\")\n",
    "plt.title(\"Electricity Consumption in US\")\n",
    "plt.xlabel(\"Year\")\n",
    "plt.xticks(rotation=90)\n",
    "plt.ylabel(\"Count\")\n",
    "plt.show()"
   ]
  },
  {
   "cell_type": "code",
   "execution_count": 29,
   "metadata": {},
   "outputs": [
    {
     "data": {
      "text/html": [
       "<div>\n",
       "<style scoped>\n",
       "    .dataframe tbody tr th:only-of-type {\n",
       "        vertical-align: middle;\n",
       "    }\n",
       "\n",
       "    .dataframe tbody tr th {\n",
       "        vertical-align: top;\n",
       "    }\n",
       "\n",
       "    .dataframe thead th {\n",
       "        text-align: right;\n",
       "    }\n",
       "</style>\n",
       "<table border=\"1\" class=\"dataframe\">\n",
       "  <thead>\n",
       "    <tr style=\"text-align: right;\">\n",
       "      <th></th>\n",
       "      <th>Entity</th>\n",
       "      <th>Year</th>\n",
       "      <th>Per capita electricity (kWh)</th>\n",
       "    </tr>\n",
       "  </thead>\n",
       "  <tbody>\n",
       "    <tr>\n",
       "      <th>5081</th>\n",
       "      <td>Turkey</td>\n",
       "      <td>1985</td>\n",
       "      <td>696.44</td>\n",
       "    </tr>\n",
       "    <tr>\n",
       "      <th>5082</th>\n",
       "      <td>Turkey</td>\n",
       "      <td>1986</td>\n",
       "      <td>791.86</td>\n",
       "    </tr>\n",
       "    <tr>\n",
       "      <th>5083</th>\n",
       "      <td>Turkey</td>\n",
       "      <td>1987</td>\n",
       "      <td>867.95</td>\n",
       "    </tr>\n",
       "    <tr>\n",
       "      <th>5084</th>\n",
       "      <td>Turkey</td>\n",
       "      <td>1988</td>\n",
       "      <td>923.06</td>\n",
       "    </tr>\n",
       "    <tr>\n",
       "      <th>5085</th>\n",
       "      <td>Turkey</td>\n",
       "      <td>1989</td>\n",
       "      <td>982.09</td>\n",
       "    </tr>\n",
       "  </tbody>\n",
       "</table>\n",
       "</div>"
      ],
      "text/plain": [
       "      Entity  Year  Per capita electricity (kWh)\n",
       "5081  Turkey  1985 696.44                       \n",
       "5082  Turkey  1986 791.86                       \n",
       "5083  Turkey  1987 867.95                       \n",
       "5084  Turkey  1988 923.06                       \n",
       "5085  Turkey  1989 982.09                       "
      ]
     },
     "execution_count": 29,
     "metadata": {},
     "output_type": "execute_result"
    }
   ],
   "source": [
    "Turkey_electricity_consumption.head()"
   ]
  },
  {
   "cell_type": "code",
   "execution_count": 30,
   "metadata": {},
   "outputs": [],
   "source": [
    "x = Turkey_electricity_consumption.drop([\"Per capita electricity (kWh)\",\"Entity\"], axis=1)\n",
    "y = Turkey_electricity_consumption[\"Per capita electricity (kWh)\"]"
   ]
  },
  {
   "cell_type": "code",
   "execution_count": 31,
   "metadata": {},
   "outputs": [
    {
     "data": {
      "text/plain": [
       "(37, 1)"
      ]
     },
     "execution_count": 31,
     "metadata": {},
     "output_type": "execute_result"
    }
   ],
   "source": [
    "x.shape"
   ]
  },
  {
   "cell_type": "code",
   "execution_count": 32,
   "metadata": {},
   "outputs": [
    {
     "data": {
      "text/plain": [
       "(37,)"
      ]
     },
     "execution_count": 32,
     "metadata": {},
     "output_type": "execute_result"
    }
   ],
   "source": [
    "y.shape"
   ]
  },
  {
   "cell_type": "code",
   "execution_count": 33,
   "metadata": {},
   "outputs": [],
   "source": [
    "from sklearn.linear_model import LinearRegression\n",
    "from sklearn.model_selection import train_test_split\n"
   ]
  },
  {
   "cell_type": "code",
   "execution_count": 37,
   "metadata": {},
   "outputs": [],
   "source": [
    "X_train, X_test, y_train, y_test = train_test_split(x, y, test_size=0.2, random_state=42)"
   ]
  },
  {
   "cell_type": "code",
   "execution_count": 38,
   "metadata": {},
   "outputs": [
    {
     "data": {
      "text/plain": [
       "LinearRegression()"
      ]
     },
     "execution_count": 38,
     "metadata": {},
     "output_type": "execute_result"
    }
   ],
   "source": [
    "model_Turkey = LinearRegression()\n",
    "model_Turkey.fit(X_train, y_train)"
   ]
  },
  {
   "cell_type": "code",
   "execution_count": 39,
   "metadata": {},
   "outputs": [
    {
     "name": "stdout",
     "output_type": "stream",
     "text": [
      "Coefficients:  [91.26353241]\n",
      "Intercept:  -180548.81683654842\n"
     ]
    }
   ],
   "source": [
    "print(\"Coefficients: \", model_Turkey.coef_)\n",
    "print(\"Intercept: \", model_Turkey.intercept_)\n",
    "pre = model_Turkey.predict(X_test)"
   ]
  },
  {
   "cell_type": "code",
   "execution_count": 42,
   "metadata": {},
   "outputs": [
    {
     "name": "stdout",
     "output_type": "stream",
     "text": [
      "2021 [3894.78216464]\n",
      "2022 [3986.04569705]\n",
      "2023 [4077.30922946]\n",
      "2024 [4168.57276188]\n",
      "2025 [4259.83629429]\n"
     ]
    }
   ],
   "source": [
    "years = [2021,2022,2023,2024,2025]\n",
    "for i in years:\n",
    "    print(i, model_Turkey.predict([[i]]))"
   ]
  },
  {
   "cell_type": "code",
   "execution_count": 43,
   "metadata": {},
   "outputs": [],
   "source": [
    "from sklearn.metrics import mean_squared_error "
   ]
  },
  {
   "cell_type": "code",
   "execution_count": 44,
   "metadata": {},
   "outputs": [
    {
     "name": "stdout",
     "output_type": "stream",
     "text": [
      "By function mean_squared_error:  7412.916854822096\n"
     ]
    }
   ],
   "source": [
    "print(\"By function mean_squared_error: \", mean_squared_error(y, model_Turkey.predict(x)))"
   ]
  },
  {
   "cell_type": "code",
   "execution_count": null,
   "metadata": {},
   "outputs": [],
   "source": []
  },
  {
   "cell_type": "code",
   "execution_count": null,
   "metadata": {},
   "outputs": [],
   "source": []
  },
  {
   "cell_type": "code",
   "execution_count": null,
   "metadata": {},
   "outputs": [],
   "source": []
  },
  {
   "cell_type": "code",
   "execution_count": null,
   "metadata": {},
   "outputs": [],
   "source": []
  },
  {
   "cell_type": "code",
   "execution_count": null,
   "metadata": {},
   "outputs": [],
   "source": []
  },
  {
   "cell_type": "code",
   "execution_count": null,
   "metadata": {},
   "outputs": [],
   "source": []
  }
 ],
 "metadata": {
  "interpreter": {
   "hash": "ff2dc1df189c1b1602dd347d9550404970c4e10c3dcf67379d391965d4def2fd"
  },
  "kernelspec": {
   "display_name": "Python 3.9.7 ('base')",
   "language": "python",
   "name": "python3"
  },
  "language_info": {
   "codemirror_mode": {
    "name": "ipython",
    "version": 3
   },
   "file_extension": ".py",
   "mimetype": "text/x-python",
   "name": "python",
   "nbconvert_exporter": "python",
   "pygments_lexer": "ipython3",
   "version": "3.9.7"
  },
  "orig_nbformat": 4
 },
 "nbformat": 4,
 "nbformat_minor": 2
}
