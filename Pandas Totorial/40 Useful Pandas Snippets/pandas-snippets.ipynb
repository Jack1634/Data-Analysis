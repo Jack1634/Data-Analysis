{
 "cells": [
  {
   "cell_type": "code",
   "execution_count": 1,
   "metadata": {
    "cell_id": "b932c157-6d13-42ff-ba16-8bf5e0f63fbb",
    "deepnote_app_coordinates": {
     "h": 5,
     "w": 12,
     "x": 0,
     "y": null
    },
    "deepnote_cell_height": 135,
    "deepnote_cell_type": "code",
    "deepnote_to_be_reexecuted": false,
    "execution_millis": 4,
    "execution_start": 1650415388569,
    "source_hash": "f64f7b4d"
   },
   "outputs": [],
   "source": [
    "import pandas as pd\n",
    "import numpy as np\n",
    "import datetime\n",
    "from datetime import date"
   ]
  },
  {
   "cell_type": "code",
   "execution_count": 2,
   "metadata": {
    "allow_embed": true,
    "cell_id": "00001-f4d2106e-03d6-4b57-bb21-525c64625652",
    "deepnote_app_coordinates": {
     "h": 5,
     "w": 12,
     "x": 0,
     "y": 6
    },
    "deepnote_cell_height": 118.1875,
    "deepnote_cell_type": "code",
    "deepnote_output_heights": [
     21.1875
    ],
    "deepnote_to_be_reexecuted": false,
    "execution_millis": 9,
    "execution_start": 1650415389422,
    "source_hash": "16f9467b"
   },
   "outputs": [
    {
     "data": {
      "text/plain": [
       "'1.4.1'"
      ]
     },
     "execution_count": 2,
     "metadata": {},
     "output_type": "execute_result"
    }
   ],
   "source": [
    "pd.__version__"
   ]
  },
  {
   "cell_type": "code",
   "execution_count": 3,
   "metadata": {
    "cell_id": "00002-676ba067-d1d2-4d5f-ae16-7126cbd06d8f",
    "deepnote_app_coordinates": {
     "h": 5,
     "w": 12,
     "x": 0,
     "y": 12
    },
    "deepnote_cell_height": 81,
    "deepnote_cell_type": "code",
    "deepnote_to_be_reexecuted": false,
    "execution_millis": 4,
    "execution_start": 1650415390018,
    "source_hash": "dd0f855c"
   },
   "outputs": [],
   "source": [
    "df = pd.DataFrame()"
   ]
  },
  {
   "cell_type": "code",
   "execution_count": 4,
   "metadata": {
    "cell_id": "733b2b52571845e6acc255bf764c23c5",
    "deepnote_app_coordinates": {
     "h": 5,
     "w": 12,
     "x": 0,
     "y": 18
    },
    "deepnote_cell_height": 81,
    "deepnote_cell_type": "code",
    "deepnote_to_be_reexecuted": false,
    "execution_millis": 39,
    "execution_start": 1650415390830,
    "source_hash": "cbd2164f",
    "tags": []
   },
   "outputs": [],
   "source": [
    "df = pd.read_csv(\"house_price.csv\", nrows=100)"
   ]
  },
  {
   "cell_type": "markdown",
   "metadata": {
    "cell_id": "00003-d042bcbe-afec-4377-8aa1-5ebea5add29a",
    "deepnote_app_coordinates": {
     "h": 5,
     "w": 12,
     "x": 0,
     "y": 24
    },
    "deepnote_cell_height": 70,
    "deepnote_cell_type": "markdown"
   },
   "source": [
    "## Reading data"
   ]
  },
  {
   "cell_type": "markdown",
   "metadata": {
    "cell_id": "00004-fb7bf1c6-74ed-4018-8c1a-0370aa7b64f5",
    "deepnote_app_coordinates": {
     "h": 5,
     "w": 12,
     "x": 0,
     "y": 30
    },
    "deepnote_cell_height": 88.796875,
    "deepnote_cell_type": "markdown"
   },
   "source": [
    "useful `read_csv` parameters\n",
    "\n",
    "https://pandas.pydata.org/pandas-docs/stable/reference/api/pandas.read_csv.html"
   ]
  },
  {
   "cell_type": "code",
   "execution_count": null,
   "metadata": {
    "allow_embed": true,
    "cell_id": "8db5e14fd7274a97bf82100f12fa5406",
    "deepnote_app_coordinates": {
     "h": 5,
     "w": 12,
     "x": 0,
     "y": 36
    },
    "deepnote_cell_height": 66,
    "deepnote_cell_type": "code",
    "tags": []
   },
   "outputs": [],
   "source": [
    "pd.read_csv(\"data.csv\")"
   ]
  },
  {
   "cell_type": "code",
   "execution_count": null,
   "metadata": {
    "allow_embed": true,
    "cell_id": "30c1e96197d14abebd4a0a6432ebaaca",
    "deepnote_app_coordinates": {
     "h": 5,
     "w": 12,
     "x": 0,
     "y": 42
    },
    "deepnote_cell_height": 395,
    "deepnote_cell_type": "code",
    "deepnote_to_be_reexecuted": false,
    "execution_millis": 232,
    "execution_start": 1650240586024,
    "source_hash": "c085b6ba",
    "tags": []
   },
   "outputs": [
    {
     "data": {
      "application/vnd.deepnote.dataframe.v3+json": {
       "column_count": 81,
       "columns": [
        {
         "dtype": "int64",
         "name": "Id",
         "stats": {
          "histogram": [
           {
            "bin_end": 1.4,
            "bin_start": 1,
            "count": 1
           },
           {
            "bin_end": 1.8,
            "bin_start": 1.4,
            "count": 0
           },
           {
            "bin_end": 2.2,
            "bin_start": 1.8,
            "count": 1
           },
           {
            "bin_end": 2.6,
            "bin_start": 2.2,
            "count": 0
           },
           {
            "bin_end": 3,
            "bin_start": 2.6,
            "count": 0
           },
           {
            "bin_end": 3.4000000000000004,
            "bin_start": 3,
            "count": 1
           },
           {
            "bin_end": 3.8000000000000003,
            "bin_start": 3.4000000000000004,
            "count": 0
           },
           {
            "bin_end": 4.2,
            "bin_start": 3.8000000000000003,
            "count": 1
           },
           {
            "bin_end": 4.6,
            "bin_start": 4.2,
            "count": 0
           },
           {
            "bin_end": 5,
            "bin_start": 4.6,
            "count": 1
           }
          ],
          "max": "5",
          "min": "1",
          "nan_count": 0,
          "unique_count": 5
         }
        },
        {
         "dtype": "int64",
         "name": "MSSubClass",
         "stats": {
          "histogram": [
           {
            "bin_end": 25,
            "bin_start": 20,
            "count": 1
           },
           {
            "bin_end": 30,
            "bin_start": 25,
            "count": 0
           },
           {
            "bin_end": 35,
            "bin_start": 30,
            "count": 0
           },
           {
            "bin_end": 40,
            "bin_start": 35,
            "count": 0
           },
           {
            "bin_end": 45,
            "bin_start": 40,
            "count": 0
           },
           {
            "bin_end": 50,
            "bin_start": 45,
            "count": 0
           },
           {
            "bin_end": 55,
            "bin_start": 50,
            "count": 0
           },
           {
            "bin_end": 60,
            "bin_start": 55,
            "count": 0
           },
           {
            "bin_end": 65,
            "bin_start": 60,
            "count": 3
           },
           {
            "bin_end": 70,
            "bin_start": 65,
            "count": 1
           }
          ],
          "max": "70",
          "min": "20",
          "nan_count": 0,
          "unique_count": 3
         }
        },
        {
         "dtype": "object",
         "name": "MSZoning",
         "stats": {
          "categories": [
           {
            "count": 5,
            "name": "RL"
           }
          ],
          "nan_count": 0,
          "unique_count": 1
         }
        },
        {
         "dtype": "float64",
         "name": "LotFrontage",
         "stats": {
          "histogram": [
           {
            "bin_end": 62.4,
            "bin_start": 60,
            "count": 1
           },
           {
            "bin_end": 64.8,
            "bin_start": 62.4,
            "count": 0
           },
           {
            "bin_end": 67.2,
            "bin_start": 64.8,
            "count": 1
           },
           {
            "bin_end": 69.6,
            "bin_start": 67.2,
            "count": 1
           },
           {
            "bin_end": 72,
            "bin_start": 69.6,
            "count": 0
           },
           {
            "bin_end": 74.4,
            "bin_start": 72,
            "count": 0
           },
           {
            "bin_end": 76.8,
            "bin_start": 74.4,
            "count": 0
           },
           {
            "bin_end": 79.2,
            "bin_start": 76.8,
            "count": 0
           },
           {
            "bin_end": 81.6,
            "bin_start": 79.2,
            "count": 1
           },
           {
            "bin_end": 84,
            "bin_start": 81.6,
            "count": 1
           }
          ],
          "max": "84.0",
          "min": "60.0",
          "nan_count": 0,
          "unique_count": 5
         }
        },
        {
         "dtype": "int64",
         "name": "LotArea",
         "stats": {
          "histogram": [
           {
            "bin_end": 9031,
            "bin_start": 8450,
            "count": 1
           },
           {
            "bin_end": 9612,
            "bin_start": 9031,
            "count": 2
           },
           {
            "bin_end": 10193,
            "bin_start": 9612,
            "count": 0
           },
           {
            "bin_end": 10774,
            "bin_start": 10193,
            "count": 0
           },
           {
            "bin_end": 11355,
            "bin_start": 10774,
            "count": 1
           },
           {
            "bin_end": 11936,
            "bin_start": 11355,
            "count": 0
           },
           {
            "bin_end": 12517,
            "bin_start": 11936,
            "count": 0
           },
           {
            "bin_end": 13098,
            "bin_start": 12517,
            "count": 0
           },
           {
            "bin_end": 13679,
            "bin_start": 13098,
            "count": 0
           },
           {
            "bin_end": 14260,
            "bin_start": 13679,
            "count": 1
           }
          ],
          "max": "14260",
          "min": "8450",
          "nan_count": 0,
          "unique_count": 5
         }
        },
        {
         "dtype": "object",
         "name": "Street",
         "stats": {
          "categories": [
           {
            "count": 5,
            "name": "Pave"
           }
          ],
          "nan_count": 0,
          "unique_count": 1
         }
        },
        {
         "dtype": "object",
         "name": "Alley",
         "stats": {
          "categories": [
           {
            "count": 5,
            "name": "Missing"
           }
          ],
          "nan_count": 5,
          "unique_count": 0
         }
        },
        {
         "dtype": "object",
         "name": "LotShape",
         "stats": {
          "categories": [
           {
            "count": 3,
            "name": "IR1"
           },
           {
            "count": 2,
            "name": "Reg"
           }
          ],
          "nan_count": 0,
          "unique_count": 2
         }
        },
        {
         "dtype": "object",
         "name": "LandContour",
         "stats": {
          "categories": [
           {
            "count": 5,
            "name": "Lvl"
           }
          ],
          "nan_count": 0,
          "unique_count": 1
         }
        },
        {
         "dtype": "object",
         "name": "Utilities",
         "stats": {
          "categories": [
           {
            "count": 5,
            "name": "AllPub"
           }
          ],
          "nan_count": 0,
          "unique_count": 1
         }
        },
        {
         "dtype": "object",
         "name": "LotConfig",
         "stats": {
          "categories": [
           {
            "count": 2,
            "name": "Inside"
           },
           {
            "count": 2,
            "name": "FR2"
           },
           {
            "count": 1,
            "name": "Corner"
           }
          ],
          "nan_count": 0,
          "unique_count": 3
         }
        },
        {
         "dtype": "object",
         "name": "LandSlope",
         "stats": {
          "categories": [
           {
            "count": 5,
            "name": "Gtl"
           }
          ],
          "nan_count": 0,
          "unique_count": 1
         }
        },
        {
         "dtype": "object",
         "name": "Neighborhood",
         "stats": {
          "categories": [
           {
            "count": 2,
            "name": "CollgCr"
           },
           {
            "count": 1,
            "name": "Veenker"
           },
           {
            "count": 2,
            "name": "2 others"
           }
          ],
          "nan_count": 0,
          "unique_count": 4
         }
        },
        {
         "dtype": "object",
         "name": "Condition1",
         "stats": {
          "categories": [
           {
            "count": 4,
            "name": "Norm"
           },
           {
            "count": 1,
            "name": "Feedr"
           }
          ],
          "nan_count": 0,
          "unique_count": 2
         }
        },
        {
         "dtype": "object",
         "name": "Condition2",
         "stats": {
          "categories": [
           {
            "count": 5,
            "name": "Norm"
           }
          ],
          "nan_count": 0,
          "unique_count": 1
         }
        },
        {
         "dtype": "object",
         "name": "BldgType",
         "stats": {
          "categories": [
           {
            "count": 5,
            "name": "1Fam"
           }
          ],
          "nan_count": 0,
          "unique_count": 1
         }
        },
        {
         "dtype": "object",
         "name": "HouseStyle",
         "stats": {
          "categories": [
           {
            "count": 4,
            "name": "2Story"
           },
           {
            "count": 1,
            "name": "1Story"
           }
          ],
          "nan_count": 0,
          "unique_count": 2
         }
        },
        {
         "dtype": "int64",
         "name": "OverallQual",
         "stats": {
          "histogram": [
           {
            "bin_end": 6.2,
            "bin_start": 6,
            "count": 1
           },
           {
            "bin_end": 6.4,
            "bin_start": 6.2,
            "count": 0
           },
           {
            "bin_end": 6.6,
            "bin_start": 6.4,
            "count": 0
           },
           {
            "bin_end": 6.8,
            "bin_start": 6.6,
            "count": 0
           },
           {
            "bin_end": 7,
            "bin_start": 6.8,
            "count": 0
           },
           {
            "bin_end": 7.2,
            "bin_start": 7,
            "count": 3
           },
           {
            "bin_end": 7.4,
            "bin_start": 7.2,
            "count": 0
           },
           {
            "bin_end": 7.6,
            "bin_start": 7.4,
            "count": 0
           },
           {
            "bin_end": 7.8,
            "bin_start": 7.6,
            "count": 0
           },
           {
            "bin_end": 8,
            "bin_start": 7.8,
            "count": 1
           }
          ],
          "max": "8",
          "min": "6",
          "nan_count": 0,
          "unique_count": 3
         }
        },
        {
         "dtype": "int64",
         "name": "OverallCond",
         "stats": {
          "histogram": [
           {
            "bin_end": 5.3,
            "bin_start": 5,
            "count": 4
           },
           {
            "bin_end": 5.6,
            "bin_start": 5.3,
            "count": 0
           },
           {
            "bin_end": 5.9,
            "bin_start": 5.6,
            "count": 0
           },
           {
            "bin_end": 6.2,
            "bin_start": 5.9,
            "count": 0
           },
           {
            "bin_end": 6.5,
            "bin_start": 6.2,
            "count": 0
           },
           {
            "bin_end": 6.8,
            "bin_start": 6.5,
            "count": 0
           },
           {
            "bin_end": 7.1,
            "bin_start": 6.8,
            "count": 0
           },
           {
            "bin_end": 7.4,
            "bin_start": 7.1,
            "count": 0
           },
           {
            "bin_end": 7.699999999999999,
            "bin_start": 7.4,
            "count": 0
           },
           {
            "bin_end": 8,
            "bin_start": 7.699999999999999,
            "count": 1
           }
          ],
          "max": "8",
          "min": "5",
          "nan_count": 0,
          "unique_count": 2
         }
        },
        {
         "dtype": "int64",
         "name": "YearBuilt",
         "stats": {
          "histogram": [
           {
            "bin_end": 1923.8,
            "bin_start": 1915,
            "count": 1
           },
           {
            "bin_end": 1932.6,
            "bin_start": 1923.8,
            "count": 0
           },
           {
            "bin_end": 1941.4,
            "bin_start": 1932.6,
            "count": 0
           },
           {
            "bin_end": 1950.2,
            "bin_start": 1941.4,
            "count": 0
           },
           {
            "bin_end": 1959,
            "bin_start": 1950.2,
            "count": 0
           },
           {
            "bin_end": 1967.8,
            "bin_start": 1959,
            "count": 0
           },
           {
            "bin_end": 1976.6,
            "bin_start": 1967.8,
            "count": 1
           },
           {
            "bin_end": 1985.4,
            "bin_start": 1976.6,
            "count": 0
           },
           {
            "bin_end": 1994.2,
            "bin_start": 1985.4,
            "count": 0
           },
           {
            "bin_end": 2003,
            "bin_start": 1994.2,
            "count": 3
           }
          ],
          "max": "2003",
          "min": "1915",
          "nan_count": 0,
          "unique_count": 5
         }
        },
        {
         "dtype": "int64",
         "name": "YearRemodAdd",
         "stats": {
          "histogram": [
           {
            "bin_end": 1973.3,
            "bin_start": 1970,
            "count": 1
           },
           {
            "bin_end": 1976.6,
            "bin_start": 1973.3,
            "count": 1
           },
           {
            "bin_end": 1979.9,
            "bin_start": 1976.6,
            "count": 0
           },
           {
            "bin_end": 1983.2,
            "bin_start": 1979.9,
            "count": 0
           },
           {
            "bin_end": 1986.5,
            "bin_start": 1983.2,
            "count": 0
           },
           {
            "bin_end": 1989.8,
            "bin_start": 1986.5,
            "count": 0
           },
           {
            "bin_end": 1993.1,
            "bin_start": 1989.8,
            "count": 0
           },
           {
            "bin_end": 1996.4,
            "bin_start": 1993.1,
            "count": 0
           },
           {
            "bin_end": 1999.7,
            "bin_start": 1996.4,
            "count": 0
           },
           {
            "bin_end": 2003,
            "bin_start": 1999.7,
            "count": 3
           }
          ],
          "max": "2003",
          "min": "1970",
          "nan_count": 0,
          "unique_count": 5
         }
        },
        {
         "dtype": "object",
         "name": "RoofStyle",
         "stats": {
          "categories": [
           {
            "count": 5,
            "name": "Gable"
           }
          ],
          "nan_count": 0,
          "unique_count": 1
         }
        },
        {
         "dtype": "object",
         "name": "RoofMatl",
         "stats": {
          "categories": [
           {
            "count": 5,
            "name": "CompShg"
           }
          ],
          "nan_count": 0,
          "unique_count": 1
         }
        },
        {
         "dtype": "object",
         "name": "Exterior1st",
         "stats": {
          "categories": [
           {
            "count": 3,
            "name": "VinylSd"
           },
           {
            "count": 1,
            "name": "MetalSd"
           },
           {
            "count": 1,
            "name": "Wd Sdng"
           }
          ],
          "nan_count": 0,
          "unique_count": 3
         }
        },
        {
         "dtype": "object",
         "name": "Exterior2nd",
         "stats": {
          "categories": [
           {
            "count": 3,
            "name": "VinylSd"
           },
           {
            "count": 1,
            "name": "MetalSd"
           },
           {
            "count": 1,
            "name": "Wd Shng"
           }
          ],
          "nan_count": 0,
          "unique_count": 3
         }
        },
        {
         "dtype": "object",
         "name": "MasVnrType",
         "stats": {
          "categories": [
           {
            "count": 3,
            "name": "BrkFace"
           },
           {
            "count": 2,
            "name": "None"
           }
          ],
          "nan_count": 0,
          "unique_count": 2
         }
        },
        {
         "dtype": "float64",
         "name": "MasVnrArea",
         "stats": {
          "histogram": [
           {
            "bin_end": 35,
            "bin_start": 0,
            "count": 2
           },
           {
            "bin_end": 70,
            "bin_start": 35,
            "count": 0
           },
           {
            "bin_end": 105,
            "bin_start": 70,
            "count": 0
           },
           {
            "bin_end": 140,
            "bin_start": 105,
            "count": 0
           },
           {
            "bin_end": 175,
            "bin_start": 140,
            "count": 1
           },
           {
            "bin_end": 210,
            "bin_start": 175,
            "count": 1
           },
           {
            "bin_end": 245,
            "bin_start": 210,
            "count": 0
           },
           {
            "bin_end": 280,
            "bin_start": 245,
            "count": 0
           },
           {
            "bin_end": 315,
            "bin_start": 280,
            "count": 0
           },
           {
            "bin_end": 350,
            "bin_start": 315,
            "count": 1
           }
          ],
          "max": "350.0",
          "min": "0.0",
          "nan_count": 0,
          "unique_count": 4
         }
        },
        {
         "dtype": "object",
         "name": "ExterQual",
         "stats": {
          "categories": [
           {
            "count": 3,
            "name": "Gd"
           },
           {
            "count": 2,
            "name": "TA"
           }
          ],
          "nan_count": 0,
          "unique_count": 2
         }
        },
        {
         "dtype": "object",
         "name": "ExterCond",
         "stats": {
          "categories": [
           {
            "count": 5,
            "name": "TA"
           }
          ],
          "nan_count": 0,
          "unique_count": 1
         }
        },
        {
         "dtype": "object",
         "name": "Foundation",
         "stats": {
          "categories": [
           {
            "count": 3,
            "name": "PConc"
           },
           {
            "count": 1,
            "name": "CBlock"
           },
           {
            "count": 1,
            "name": "BrkTil"
           }
          ],
          "nan_count": 0,
          "unique_count": 3
         }
        },
        {
         "dtype": "object",
         "name": "BsmtQual",
         "stats": {
          "categories": [
           {
            "count": 4,
            "name": "Gd"
           },
           {
            "count": 1,
            "name": "TA"
           }
          ],
          "nan_count": 0,
          "unique_count": 2
         }
        },
        {
         "dtype": "object",
         "name": "BsmtCond",
         "stats": {
          "categories": [
           {
            "count": 4,
            "name": "TA"
           },
           {
            "count": 1,
            "name": "Gd"
           }
          ],
          "nan_count": 0,
          "unique_count": 2
         }
        },
        {
         "dtype": "object",
         "name": "BsmtExposure",
         "stats": {
          "categories": [
           {
            "count": 2,
            "name": "No"
           },
           {
            "count": 1,
            "name": "Gd"
           },
           {
            "count": 2,
            "name": "2 others"
           }
          ],
          "nan_count": 0,
          "unique_count": 4
         }
        },
        {
         "dtype": "object",
         "name": "BsmtFinType1",
         "stats": {
          "categories": [
           {
            "count": 3,
            "name": "GLQ"
           },
           {
            "count": 2,
            "name": "ALQ"
           }
          ],
          "nan_count": 0,
          "unique_count": 2
         }
        },
        {
         "dtype": "int64",
         "name": "BsmtFinSF1",
         "stats": {
          "histogram": [
           {
            "bin_end": 292.2,
            "bin_start": 216,
            "count": 1
           },
           {
            "bin_end": 368.4,
            "bin_start": 292.2,
            "count": 0
           },
           {
            "bin_end": 444.6,
            "bin_start": 368.4,
            "count": 0
           },
           {
            "bin_end": 520.8,
            "bin_start": 444.6,
            "count": 1
           },
           {
            "bin_end": 597,
            "bin_start": 520.8,
            "count": 0
           },
           {
            "bin_end": 673.2,
            "bin_start": 597,
            "count": 1
           },
           {
            "bin_end": 749.4,
            "bin_start": 673.2,
            "count": 1
           },
           {
            "bin_end": 825.6,
            "bin_start": 749.4,
            "count": 0
           },
           {
            "bin_end": 901.8000000000001,
            "bin_start": 825.6,
            "count": 0
           },
           {
            "bin_end": 978,
            "bin_start": 901.8000000000001,
            "count": 1
           }
          ],
          "max": "978",
          "min": "216",
          "nan_count": 0,
          "unique_count": 5
         }
        },
        {
         "dtype": "object",
         "name": "BsmtFinType2",
         "stats": {
          "categories": [
           {
            "count": 5,
            "name": "Unf"
           }
          ],
          "nan_count": 0,
          "unique_count": 1
         }
        },
        {
         "dtype": "int64",
         "name": "BsmtFinSF2",
         "stats": {
          "histogram": [
           {
            "bin_end": -0.4,
            "bin_start": -0.5,
            "count": 0
           },
           {
            "bin_end": -0.3,
            "bin_start": -0.4,
            "count": 0
           },
           {
            "bin_end": -0.19999999999999996,
            "bin_start": -0.3,
            "count": 0
           },
           {
            "bin_end": -0.09999999999999998,
            "bin_start": -0.19999999999999996,
            "count": 0
           },
           {
            "bin_end": 0,
            "bin_start": -0.09999999999999998,
            "count": 0
           },
           {
            "bin_end": 0.10000000000000009,
            "bin_start": 0,
            "count": 5
           },
           {
            "bin_end": 0.20000000000000007,
            "bin_start": 0.10000000000000009,
            "count": 0
           },
           {
            "bin_end": 0.30000000000000004,
            "bin_start": 0.20000000000000007,
            "count": 0
           },
           {
            "bin_end": 0.4,
            "bin_start": 0.30000000000000004,
            "count": 0
           },
           {
            "bin_end": 0.5,
            "bin_start": 0.4,
            "count": 0
           }
          ],
          "max": "0",
          "min": "0",
          "nan_count": 0,
          "unique_count": 1
         }
        },
        {
         "dtype": "int64",
         "name": "BsmtUnfSF",
         "stats": {
          "histogram": [
           {
            "bin_end": 189,
            "bin_start": 150,
            "count": 1
           },
           {
            "bin_end": 228,
            "bin_start": 189,
            "count": 0
           },
           {
            "bin_end": 267,
            "bin_start": 228,
            "count": 0
           },
           {
            "bin_end": 306,
            "bin_start": 267,
            "count": 1
           },
           {
            "bin_end": 345,
            "bin_start": 306,
            "count": 0
           },
           {
            "bin_end": 384,
            "bin_start": 345,
            "count": 0
           },
           {
            "bin_end": 423,
            "bin_start": 384,
            "count": 0
           },
           {
            "bin_end": 462,
            "bin_start": 423,
            "count": 1
           },
           {
            "bin_end": 501,
            "bin_start": 462,
            "count": 1
           },
           {
            "bin_end": 540,
            "bin_start": 501,
            "count": 1
           }
          ],
          "max": "540",
          "min": "150",
          "nan_count": 0,
          "unique_count": 5
         }
        },
        {
         "dtype": "int64",
         "name": "TotalBsmtSF",
         "stats": {
          "histogram": [
           {
            "bin_end": 806.6,
            "bin_start": 756,
            "count": 1
           },
           {
            "bin_end": 857.2,
            "bin_start": 806.6,
            "count": 1
           },
           {
            "bin_end": 907.8,
            "bin_start": 857.2,
            "count": 0
           },
           {
            "bin_end": 958.4,
            "bin_start": 907.8,
            "count": 1
           },
           {
            "bin_end": 1009,
            "bin_start": 958.4,
            "count": 0
           },
           {
            "bin_end": 1059.6,
            "bin_start": 1009,
            "count": 0
           },
           {
            "bin_end": 1110.2,
            "bin_start": 1059.6,
            "count": 0
           },
           {
            "bin_end": 1160.8,
            "bin_start": 1110.2,
            "count": 1
           },
           {
            "bin_end": 1211.4,
            "bin_start": 1160.8,
            "count": 0
           },
           {
            "bin_end": 1262,
            "bin_start": 1211.4,
            "count": 1
           }
          ],
          "max": "1262",
          "min": "756",
          "nan_count": 0,
          "unique_count": 5
         }
        },
        {
         "dtype": "object",
         "name": "Heating",
         "stats": {
          "categories": [
           {
            "count": 5,
            "name": "GasA"
           }
          ],
          "nan_count": 0,
          "unique_count": 1
         }
        },
        {
         "dtype": "object",
         "name": "HeatingQC",
         "stats": {
          "categories": [
           {
            "count": 4,
            "name": "Ex"
           },
           {
            "count": 1,
            "name": "Gd"
           }
          ],
          "nan_count": 0,
          "unique_count": 2
         }
        },
        {
         "dtype": "object",
         "name": "CentralAir",
         "stats": {
          "categories": [
           {
            "count": 5,
            "name": "Y"
           }
          ],
          "nan_count": 0,
          "unique_count": 1
         }
        },
        {
         "dtype": "object",
         "name": "Electrical",
         "stats": {
          "categories": [
           {
            "count": 5,
            "name": "SBrkr"
           }
          ],
          "nan_count": 0,
          "unique_count": 1
         }
        },
        {
         "dtype": "int64",
         "name": "1stFlrSF",
         "stats": {
          "histogram": [
           {
            "bin_end": 896.6,
            "bin_start": 856,
            "count": 1
           },
           {
            "bin_end": 937.2,
            "bin_start": 896.6,
            "count": 1
           },
           {
            "bin_end": 977.8,
            "bin_start": 937.2,
            "count": 1
           },
           {
            "bin_end": 1018.4,
            "bin_start": 977.8,
            "count": 0
           },
           {
            "bin_end": 1059,
            "bin_start": 1018.4,
            "count": 0
           },
           {
            "bin_end": 1099.6,
            "bin_start": 1059,
            "count": 0
           },
           {
            "bin_end": 1140.2,
            "bin_start": 1099.6,
            "count": 0
           },
           {
            "bin_end": 1180.8,
            "bin_start": 1140.2,
            "count": 1
           },
           {
            "bin_end": 1221.4,
            "bin_start": 1180.8,
            "count": 0
           },
           {
            "bin_end": 1262,
            "bin_start": 1221.4,
            "count": 1
           }
          ],
          "max": "1262",
          "min": "856",
          "nan_count": 0,
          "unique_count": 5
         }
        },
        {
         "dtype": "int64",
         "name": "2ndFlrSF",
         "stats": {
          "histogram": [
           {
            "bin_end": 105.3,
            "bin_start": 0,
            "count": 1
           },
           {
            "bin_end": 210.6,
            "bin_start": 105.3,
            "count": 0
           },
           {
            "bin_end": 315.9,
            "bin_start": 210.6,
            "count": 0
           },
           {
            "bin_end": 421.2,
            "bin_start": 315.9,
            "count": 0
           },
           {
            "bin_end": 526.5,
            "bin_start": 421.2,
            "count": 0
           },
           {
            "bin_end": 631.8,
            "bin_start": 526.5,
            "count": 0
           },
           {
            "bin_end": 737.1,
            "bin_start": 631.8,
            "count": 0
           },
           {
            "bin_end": 842.4,
            "bin_start": 737.1,
            "count": 1
           },
           {
            "bin_end": 947.6999999999999,
            "bin_start": 842.4,
            "count": 2
           },
           {
            "bin_end": 1053,
            "bin_start": 947.6999999999999,
            "count": 1
           }
          ],
          "max": "1053",
          "min": "0",
          "nan_count": 0,
          "unique_count": 5
         }
        },
        {
         "dtype": "int64",
         "name": "LowQualFinSF",
         "stats": {
          "histogram": [
           {
            "bin_end": -0.4,
            "bin_start": -0.5,
            "count": 0
           },
           {
            "bin_end": -0.3,
            "bin_start": -0.4,
            "count": 0
           },
           {
            "bin_end": -0.19999999999999996,
            "bin_start": -0.3,
            "count": 0
           },
           {
            "bin_end": -0.09999999999999998,
            "bin_start": -0.19999999999999996,
            "count": 0
           },
           {
            "bin_end": 0,
            "bin_start": -0.09999999999999998,
            "count": 0
           },
           {
            "bin_end": 0.10000000000000009,
            "bin_start": 0,
            "count": 5
           },
           {
            "bin_end": 0.20000000000000007,
            "bin_start": 0.10000000000000009,
            "count": 0
           },
           {
            "bin_end": 0.30000000000000004,
            "bin_start": 0.20000000000000007,
            "count": 0
           },
           {
            "bin_end": 0.4,
            "bin_start": 0.30000000000000004,
            "count": 0
           },
           {
            "bin_end": 0.5,
            "bin_start": 0.4,
            "count": 0
           }
          ],
          "max": "0",
          "min": "0",
          "nan_count": 0,
          "unique_count": 1
         }
        },
        {
         "dtype": "int64",
         "name": "GrLivArea",
         "stats": {
          "histogram": [
           {
            "bin_end": 1355.6,
            "bin_start": 1262,
            "count": 1
           },
           {
            "bin_end": 1449.2,
            "bin_start": 1355.6,
            "count": 0
           },
           {
            "bin_end": 1542.8,
            "bin_start": 1449.2,
            "count": 0
           },
           {
            "bin_end": 1636.4,
            "bin_start": 1542.8,
            "count": 0
           },
           {
            "bin_end": 1730,
            "bin_start": 1636.4,
            "count": 2
           },
           {
            "bin_end": 1823.6,
            "bin_start": 1730,
            "count": 1
           },
           {
            "bin_end": 1917.1999999999998,
            "bin_start": 1823.6,
            "count": 0
           },
           {
            "bin_end": 2010.8,
            "bin_start": 1917.1999999999998,
            "count": 0
           },
           {
            "bin_end": 2104.4,
            "bin_start": 2010.8,
            "count": 0
           },
           {
            "bin_end": 2198,
            "bin_start": 2104.4,
            "count": 1
           }
          ],
          "max": "2198",
          "min": "1262",
          "nan_count": 0,
          "unique_count": 5
         }
        },
        {
         "dtype": "int64",
         "name": "BsmtFullBath",
         "stats": {
          "histogram": [
           {
            "bin_end": 0.1,
            "bin_start": 0,
            "count": 1
           },
           {
            "bin_end": 0.2,
            "bin_start": 0.1,
            "count": 0
           },
           {
            "bin_end": 0.30000000000000004,
            "bin_start": 0.2,
            "count": 0
           },
           {
            "bin_end": 0.4,
            "bin_start": 0.30000000000000004,
            "count": 0
           },
           {
            "bin_end": 0.5,
            "bin_start": 0.4,
            "count": 0
           },
           {
            "bin_end": 0.6000000000000001,
            "bin_start": 0.5,
            "count": 0
           },
           {
            "bin_end": 0.7000000000000001,
            "bin_start": 0.6000000000000001,
            "count": 0
           },
           {
            "bin_end": 0.8,
            "bin_start": 0.7000000000000001,
            "count": 0
           },
           {
            "bin_end": 0.9,
            "bin_start": 0.8,
            "count": 0
           },
           {
            "bin_end": 1,
            "bin_start": 0.9,
            "count": 4
           }
          ],
          "max": "1",
          "min": "0",
          "nan_count": 0,
          "unique_count": 2
         }
        },
        {
         "dtype": "int64",
         "name": "BsmtHalfBath",
         "stats": {
          "histogram": [
           {
            "bin_end": 0.1,
            "bin_start": 0,
            "count": 4
           },
           {
            "bin_end": 0.2,
            "bin_start": 0.1,
            "count": 0
           },
           {
            "bin_end": 0.30000000000000004,
            "bin_start": 0.2,
            "count": 0
           },
           {
            "bin_end": 0.4,
            "bin_start": 0.30000000000000004,
            "count": 0
           },
           {
            "bin_end": 0.5,
            "bin_start": 0.4,
            "count": 0
           },
           {
            "bin_end": 0.6000000000000001,
            "bin_start": 0.5,
            "count": 0
           },
           {
            "bin_end": 0.7000000000000001,
            "bin_start": 0.6000000000000001,
            "count": 0
           },
           {
            "bin_end": 0.8,
            "bin_start": 0.7000000000000001,
            "count": 0
           },
           {
            "bin_end": 0.9,
            "bin_start": 0.8,
            "count": 0
           },
           {
            "bin_end": 1,
            "bin_start": 0.9,
            "count": 1
           }
          ],
          "max": "1",
          "min": "0",
          "nan_count": 0,
          "unique_count": 2
         }
        },
        {
         "dtype": "int64",
         "name": "FullBath",
         "stats": {
          "histogram": [
           {
            "bin_end": 1.1,
            "bin_start": 1,
            "count": 1
           },
           {
            "bin_end": 1.2,
            "bin_start": 1.1,
            "count": 0
           },
           {
            "bin_end": 1.3,
            "bin_start": 1.2,
            "count": 0
           },
           {
            "bin_end": 1.4,
            "bin_start": 1.3,
            "count": 0
           },
           {
            "bin_end": 1.5,
            "bin_start": 1.4,
            "count": 0
           },
           {
            "bin_end": 1.6,
            "bin_start": 1.5,
            "count": 0
           },
           {
            "bin_end": 1.7000000000000002,
            "bin_start": 1.6,
            "count": 0
           },
           {
            "bin_end": 1.8,
            "bin_start": 1.7000000000000002,
            "count": 0
           },
           {
            "bin_end": 1.9,
            "bin_start": 1.8,
            "count": 0
           },
           {
            "bin_end": 2,
            "bin_start": 1.9,
            "count": 4
           }
          ],
          "max": "2",
          "min": "1",
          "nan_count": 0,
          "unique_count": 2
         }
        },
        {
         "dtype": "int64",
         "name": "HalfBath",
         "stats": {
          "histogram": [
           {
            "bin_end": 0.1,
            "bin_start": 0,
            "count": 2
           },
           {
            "bin_end": 0.2,
            "bin_start": 0.1,
            "count": 0
           },
           {
            "bin_end": 0.30000000000000004,
            "bin_start": 0.2,
            "count": 0
           },
           {
            "bin_end": 0.4,
            "bin_start": 0.30000000000000004,
            "count": 0
           },
           {
            "bin_end": 0.5,
            "bin_start": 0.4,
            "count": 0
           },
           {
            "bin_end": 0.6000000000000001,
            "bin_start": 0.5,
            "count": 0
           },
           {
            "bin_end": 0.7000000000000001,
            "bin_start": 0.6000000000000001,
            "count": 0
           },
           {
            "bin_end": 0.8,
            "bin_start": 0.7000000000000001,
            "count": 0
           },
           {
            "bin_end": 0.9,
            "bin_start": 0.8,
            "count": 0
           },
           {
            "bin_end": 1,
            "bin_start": 0.9,
            "count": 3
           }
          ],
          "max": "1",
          "min": "0",
          "nan_count": 0,
          "unique_count": 2
         }
        },
        {
         "dtype": "int64",
         "name": "BedroomAbvGr",
         "stats": {
          "histogram": [
           {
            "bin_end": 3.1,
            "bin_start": 3,
            "count": 4
           },
           {
            "bin_end": 3.2,
            "bin_start": 3.1,
            "count": 0
           },
           {
            "bin_end": 3.3,
            "bin_start": 3.2,
            "count": 0
           },
           {
            "bin_end": 3.4,
            "bin_start": 3.3,
            "count": 0
           },
           {
            "bin_end": 3.5,
            "bin_start": 3.4,
            "count": 0
           },
           {
            "bin_end": 3.6,
            "bin_start": 3.5,
            "count": 0
           },
           {
            "bin_end": 3.7,
            "bin_start": 3.6,
            "count": 0
           },
           {
            "bin_end": 3.8,
            "bin_start": 3.7,
            "count": 0
           },
           {
            "bin_end": 3.9,
            "bin_start": 3.8,
            "count": 0
           },
           {
            "bin_end": 4,
            "bin_start": 3.9,
            "count": 1
           }
          ],
          "max": "4",
          "min": "3",
          "nan_count": 0,
          "unique_count": 2
         }
        },
        {
         "dtype": "int64",
         "name": "KitchenAbvGr",
         "stats": {
          "histogram": [
           {
            "bin_end": 0.6,
            "bin_start": 0.5,
            "count": 0
           },
           {
            "bin_end": 0.7,
            "bin_start": 0.6,
            "count": 0
           },
           {
            "bin_end": 0.8,
            "bin_start": 0.7,
            "count": 0
           },
           {
            "bin_end": 0.9,
            "bin_start": 0.8,
            "count": 0
           },
           {
            "bin_end": 1,
            "bin_start": 0.9,
            "count": 0
           },
           {
            "bin_end": 1.1,
            "bin_start": 1,
            "count": 5
           },
           {
            "bin_end": 1.2000000000000002,
            "bin_start": 1.1,
            "count": 0
           },
           {
            "bin_end": 1.3,
            "bin_start": 1.2000000000000002,
            "count": 0
           },
           {
            "bin_end": 1.4,
            "bin_start": 1.3,
            "count": 0
           },
           {
            "bin_end": 1.5,
            "bin_start": 1.4,
            "count": 0
           }
          ],
          "max": "1",
          "min": "1",
          "nan_count": 0,
          "unique_count": 1
         }
        },
        {
         "dtype": "object",
         "name": "KitchenQual",
         "stats": {
          "categories": [
           {
            "count": 4,
            "name": "Gd"
           },
           {
            "count": 1,
            "name": "TA"
           }
          ],
          "nan_count": 0,
          "unique_count": 2
         }
        },
        {
         "dtype": "int64",
         "name": "TotRmsAbvGrd",
         "stats": {
          "histogram": [
           {
            "bin_end": 6.3,
            "bin_start": 6,
            "count": 2
           },
           {
            "bin_end": 6.6,
            "bin_start": 6.3,
            "count": 0
           },
           {
            "bin_end": 6.9,
            "bin_start": 6.6,
            "count": 0
           },
           {
            "bin_end": 7.2,
            "bin_start": 6.9,
            "count": 1
           },
           {
            "bin_end": 7.5,
            "bin_start": 7.2,
            "count": 0
           },
           {
            "bin_end": 7.8,
            "bin_start": 7.5,
            "count": 0
           },
           {
            "bin_end": 8.1,
            "bin_start": 7.8,
            "count": 1
           },
           {
            "bin_end": 8.4,
            "bin_start": 8.1,
            "count": 0
           },
           {
            "bin_end": 8.7,
            "bin_start": 8.4,
            "count": 0
           },
           {
            "bin_end": 9,
            "bin_start": 8.7,
            "count": 1
           }
          ],
          "max": "9",
          "min": "6",
          "nan_count": 0,
          "unique_count": 4
         }
        },
        {
         "dtype": "object",
         "name": "Functional",
         "stats": {
          "categories": [
           {
            "count": 5,
            "name": "Typ"
           }
          ],
          "nan_count": 0,
          "unique_count": 1
         }
        },
        {
         "dtype": "int64",
         "name": "Fireplaces",
         "stats": {
          "histogram": [
           {
            "bin_end": 0.1,
            "bin_start": 0,
            "count": 1
           },
           {
            "bin_end": 0.2,
            "bin_start": 0.1,
            "count": 0
           },
           {
            "bin_end": 0.30000000000000004,
            "bin_start": 0.2,
            "count": 0
           },
           {
            "bin_end": 0.4,
            "bin_start": 0.30000000000000004,
            "count": 0
           },
           {
            "bin_end": 0.5,
            "bin_start": 0.4,
            "count": 0
           },
           {
            "bin_end": 0.6000000000000001,
            "bin_start": 0.5,
            "count": 0
           },
           {
            "bin_end": 0.7000000000000001,
            "bin_start": 0.6000000000000001,
            "count": 0
           },
           {
            "bin_end": 0.8,
            "bin_start": 0.7000000000000001,
            "count": 0
           },
           {
            "bin_end": 0.9,
            "bin_start": 0.8,
            "count": 0
           },
           {
            "bin_end": 1,
            "bin_start": 0.9,
            "count": 4
           }
          ],
          "max": "1",
          "min": "0",
          "nan_count": 0,
          "unique_count": 2
         }
        },
        {
         "dtype": "object",
         "name": "FireplaceQu",
         "stats": {
          "categories": [
           {
            "count": 3,
            "name": "TA"
           },
           {
            "count": 1,
            "name": "Gd"
           },
           {
            "count": 1,
            "name": "Missing"
           }
          ],
          "nan_count": 1,
          "unique_count": 2
         }
        },
        {
         "dtype": "object",
         "name": "GarageType",
         "stats": {
          "categories": [
           {
            "count": 4,
            "name": "Attchd"
           },
           {
            "count": 1,
            "name": "Detchd"
           }
          ],
          "nan_count": 0,
          "unique_count": 2
         }
        },
        {
         "dtype": "float64",
         "name": "GarageYrBlt",
         "stats": {
          "histogram": [
           {
            "bin_end": 1978.7,
            "bin_start": 1976,
            "count": 1
           },
           {
            "bin_end": 1981.4,
            "bin_start": 1978.7,
            "count": 0
           },
           {
            "bin_end": 1984.1,
            "bin_start": 1981.4,
            "count": 0
           },
           {
            "bin_end": 1986.8,
            "bin_start": 1984.1,
            "count": 0
           },
           {
            "bin_end": 1989.5,
            "bin_start": 1986.8,
            "count": 0
           },
           {
            "bin_end": 1992.2,
            "bin_start": 1989.5,
            "count": 0
           },
           {
            "bin_end": 1994.9,
            "bin_start": 1992.2,
            "count": 0
           },
           {
            "bin_end": 1997.6,
            "bin_start": 1994.9,
            "count": 0
           },
           {
            "bin_end": 2000.3,
            "bin_start": 1997.6,
            "count": 2
           },
           {
            "bin_end": 2003,
            "bin_start": 2000.3,
            "count": 2
           }
          ],
          "max": "2003.0",
          "min": "1976.0",
          "nan_count": 0,
          "unique_count": 5
         }
        },
        {
         "dtype": "object",
         "name": "GarageFinish",
         "stats": {
          "categories": [
           {
            "count": 4,
            "name": "RFn"
           },
           {
            "count": 1,
            "name": "Unf"
           }
          ],
          "nan_count": 0,
          "unique_count": 2
         }
        },
        {
         "dtype": "int64",
         "name": "GarageCars",
         "stats": {
          "histogram": [
           {
            "bin_end": 2.1,
            "bin_start": 2,
            "count": 3
           },
           {
            "bin_end": 2.2,
            "bin_start": 2.1,
            "count": 0
           },
           {
            "bin_end": 2.3,
            "bin_start": 2.2,
            "count": 0
           },
           {
            "bin_end": 2.4,
            "bin_start": 2.3,
            "count": 0
           },
           {
            "bin_end": 2.5,
            "bin_start": 2.4,
            "count": 0
           },
           {
            "bin_end": 2.6,
            "bin_start": 2.5,
            "count": 0
           },
           {
            "bin_end": 2.7,
            "bin_start": 2.6,
            "count": 0
           },
           {
            "bin_end": 2.8,
            "bin_start": 2.7,
            "count": 0
           },
           {
            "bin_end": 2.9,
            "bin_start": 2.8,
            "count": 0
           },
           {
            "bin_end": 3,
            "bin_start": 2.9,
            "count": 2
           }
          ],
          "max": "3",
          "min": "2",
          "nan_count": 0,
          "unique_count": 2
         }
        },
        {
         "dtype": "int64",
         "name": "GarageArea",
         "stats": {
          "histogram": [
           {
            "bin_end": 497.6,
            "bin_start": 460,
            "count": 1
           },
           {
            "bin_end": 535.2,
            "bin_start": 497.6,
            "count": 0
           },
           {
            "bin_end": 572.8,
            "bin_start": 535.2,
            "count": 1
           },
           {
            "bin_end": 610.4,
            "bin_start": 572.8,
            "count": 1
           },
           {
            "bin_end": 648,
            "bin_start": 610.4,
            "count": 1
           },
           {
            "bin_end": 685.6,
            "bin_start": 648,
            "count": 0
           },
           {
            "bin_end": 723.2,
            "bin_start": 685.6,
            "count": 0
           },
           {
            "bin_end": 760.8,
            "bin_start": 723.2,
            "count": 0
           },
           {
            "bin_end": 798.4000000000001,
            "bin_start": 760.8,
            "count": 0
           },
           {
            "bin_end": 836,
            "bin_start": 798.4000000000001,
            "count": 1
           }
          ],
          "max": "836",
          "min": "460",
          "nan_count": 0,
          "unique_count": 5
         }
        },
        {
         "dtype": "object",
         "name": "GarageQual",
         "stats": {
          "categories": [
           {
            "count": 5,
            "name": "TA"
           }
          ],
          "nan_count": 0,
          "unique_count": 1
         }
        },
        {
         "dtype": "object",
         "name": "GarageCond",
         "stats": {
          "categories": [
           {
            "count": 5,
            "name": "TA"
           }
          ],
          "nan_count": 0,
          "unique_count": 1
         }
        },
        {
         "dtype": "object",
         "name": "PavedDrive",
         "stats": {
          "categories": [
           {
            "count": 5,
            "name": "Y"
           }
          ],
          "nan_count": 0,
          "unique_count": 1
         }
        },
        {
         "dtype": "int64",
         "name": "WoodDeckSF",
         "stats": {
          "histogram": [
           {
            "bin_end": 29.8,
            "bin_start": 0,
            "count": 3
           },
           {
            "bin_end": 59.6,
            "bin_start": 29.8,
            "count": 0
           },
           {
            "bin_end": 89.4,
            "bin_start": 59.6,
            "count": 0
           },
           {
            "bin_end": 119.2,
            "bin_start": 89.4,
            "count": 0
           },
           {
            "bin_end": 149,
            "bin_start": 119.2,
            "count": 0
           },
           {
            "bin_end": 178.8,
            "bin_start": 149,
            "count": 0
           },
           {
            "bin_end": 208.6,
            "bin_start": 178.8,
            "count": 1
           },
           {
            "bin_end": 238.4,
            "bin_start": 208.6,
            "count": 0
           },
           {
            "bin_end": 268.2,
            "bin_start": 238.4,
            "count": 0
           },
           {
            "bin_end": 298,
            "bin_start": 268.2,
            "count": 1
           }
          ],
          "max": "298",
          "min": "0",
          "nan_count": 0,
          "unique_count": 3
         }
        },
        {
         "dtype": "int64",
         "name": "OpenPorchSF",
         "stats": {
          "histogram": [
           {
            "bin_end": 8.4,
            "bin_start": 0,
            "count": 1
           },
           {
            "bin_end": 16.8,
            "bin_start": 8.4,
            "count": 0
           },
           {
            "bin_end": 25.200000000000003,
            "bin_start": 16.8,
            "count": 0
           },
           {
            "bin_end": 33.6,
            "bin_start": 25.200000000000003,
            "count": 0
           },
           {
            "bin_end": 42,
            "bin_start": 33.6,
            "count": 1
           },
           {
            "bin_end": 50.400000000000006,
            "bin_start": 42,
            "count": 1
           },
           {
            "bin_end": 58.800000000000004,
            "bin_start": 50.400000000000006,
            "count": 0
           },
           {
            "bin_end": 67.2,
            "bin_start": 58.800000000000004,
            "count": 1
           },
           {
            "bin_end": 75.60000000000001,
            "bin_start": 67.2,
            "count": 0
           },
           {
            "bin_end": 84,
            "bin_start": 75.60000000000001,
            "count": 1
           }
          ],
          "max": "84",
          "min": "0",
          "nan_count": 0,
          "unique_count": 5
         }
        },
        {
         "dtype": "int64",
         "name": "EnclosedPorch",
         "stats": {
          "histogram": [
           {
            "bin_end": 27.2,
            "bin_start": 0,
            "count": 4
           },
           {
            "bin_end": 54.4,
            "bin_start": 27.2,
            "count": 0
           },
           {
            "bin_end": 81.6,
            "bin_start": 54.4,
            "count": 0
           },
           {
            "bin_end": 108.8,
            "bin_start": 81.6,
            "count": 0
           },
           {
            "bin_end": 136,
            "bin_start": 108.8,
            "count": 0
           },
           {
            "bin_end": 163.2,
            "bin_start": 136,
            "count": 0
           },
           {
            "bin_end": 190.4,
            "bin_start": 163.2,
            "count": 0
           },
           {
            "bin_end": 217.6,
            "bin_start": 190.4,
            "count": 0
           },
           {
            "bin_end": 244.79999999999998,
            "bin_start": 217.6,
            "count": 0
           },
           {
            "bin_end": 272,
            "bin_start": 244.79999999999998,
            "count": 1
           }
          ],
          "max": "272",
          "min": "0",
          "nan_count": 0,
          "unique_count": 2
         }
        },
        {
         "dtype": "int64",
         "name": "3SsnPorch",
         "stats": {
          "histogram": [
           {
            "bin_end": -0.4,
            "bin_start": -0.5,
            "count": 0
           },
           {
            "bin_end": -0.3,
            "bin_start": -0.4,
            "count": 0
           },
           {
            "bin_end": -0.19999999999999996,
            "bin_start": -0.3,
            "count": 0
           },
           {
            "bin_end": -0.09999999999999998,
            "bin_start": -0.19999999999999996,
            "count": 0
           },
           {
            "bin_end": 0,
            "bin_start": -0.09999999999999998,
            "count": 0
           },
           {
            "bin_end": 0.10000000000000009,
            "bin_start": 0,
            "count": 5
           },
           {
            "bin_end": 0.20000000000000007,
            "bin_start": 0.10000000000000009,
            "count": 0
           },
           {
            "bin_end": 0.30000000000000004,
            "bin_start": 0.20000000000000007,
            "count": 0
           },
           {
            "bin_end": 0.4,
            "bin_start": 0.30000000000000004,
            "count": 0
           },
           {
            "bin_end": 0.5,
            "bin_start": 0.4,
            "count": 0
           }
          ],
          "max": "0",
          "min": "0",
          "nan_count": 0,
          "unique_count": 1
         }
        },
        {
         "dtype": "int64",
         "name": "ScreenPorch",
         "stats": {
          "histogram": [
           {
            "bin_end": -0.4,
            "bin_start": -0.5,
            "count": 0
           },
           {
            "bin_end": -0.3,
            "bin_start": -0.4,
            "count": 0
           },
           {
            "bin_end": -0.19999999999999996,
            "bin_start": -0.3,
            "count": 0
           },
           {
            "bin_end": -0.09999999999999998,
            "bin_start": -0.19999999999999996,
            "count": 0
           },
           {
            "bin_end": 0,
            "bin_start": -0.09999999999999998,
            "count": 0
           },
           {
            "bin_end": 0.10000000000000009,
            "bin_start": 0,
            "count": 5
           },
           {
            "bin_end": 0.20000000000000007,
            "bin_start": 0.10000000000000009,
            "count": 0
           },
           {
            "bin_end": 0.30000000000000004,
            "bin_start": 0.20000000000000007,
            "count": 0
           },
           {
            "bin_end": 0.4,
            "bin_start": 0.30000000000000004,
            "count": 0
           },
           {
            "bin_end": 0.5,
            "bin_start": 0.4,
            "count": 0
           }
          ],
          "max": "0",
          "min": "0",
          "nan_count": 0,
          "unique_count": 1
         }
        },
        {
         "dtype": "int64",
         "name": "PoolArea",
         "stats": {
          "histogram": [
           {
            "bin_end": -0.4,
            "bin_start": -0.5,
            "count": 0
           },
           {
            "bin_end": -0.3,
            "bin_start": -0.4,
            "count": 0
           },
           {
            "bin_end": -0.19999999999999996,
            "bin_start": -0.3,
            "count": 0
           },
           {
            "bin_end": -0.09999999999999998,
            "bin_start": -0.19999999999999996,
            "count": 0
           },
           {
            "bin_end": 0,
            "bin_start": -0.09999999999999998,
            "count": 0
           },
           {
            "bin_end": 0.10000000000000009,
            "bin_start": 0,
            "count": 5
           },
           {
            "bin_end": 0.20000000000000007,
            "bin_start": 0.10000000000000009,
            "count": 0
           },
           {
            "bin_end": 0.30000000000000004,
            "bin_start": 0.20000000000000007,
            "count": 0
           },
           {
            "bin_end": 0.4,
            "bin_start": 0.30000000000000004,
            "count": 0
           },
           {
            "bin_end": 0.5,
            "bin_start": 0.4,
            "count": 0
           }
          ],
          "max": "0",
          "min": "0",
          "nan_count": 0,
          "unique_count": 1
         }
        },
        {
         "dtype": "object",
         "name": "PoolQC",
         "stats": {
          "categories": [
           {
            "count": 5,
            "name": "Missing"
           }
          ],
          "nan_count": 5,
          "unique_count": 0
         }
        },
        {
         "dtype": "object",
         "name": "Fence",
         "stats": {
          "categories": [
           {
            "count": 5,
            "name": "Missing"
           }
          ],
          "nan_count": 5,
          "unique_count": 0
         }
        },
        {
         "dtype": "object",
         "name": "MiscFeature",
         "stats": {
          "categories": [
           {
            "count": 5,
            "name": "Missing"
           }
          ],
          "nan_count": 5,
          "unique_count": 0
         }
        },
        {
         "dtype": "int64",
         "name": "MiscVal",
         "stats": {
          "histogram": [
           {
            "bin_end": -0.4,
            "bin_start": -0.5,
            "count": 0
           },
           {
            "bin_end": -0.3,
            "bin_start": -0.4,
            "count": 0
           },
           {
            "bin_end": -0.19999999999999996,
            "bin_start": -0.3,
            "count": 0
           },
           {
            "bin_end": -0.09999999999999998,
            "bin_start": -0.19999999999999996,
            "count": 0
           },
           {
            "bin_end": 0,
            "bin_start": -0.09999999999999998,
            "count": 0
           },
           {
            "bin_end": 0.10000000000000009,
            "bin_start": 0,
            "count": 5
           },
           {
            "bin_end": 0.20000000000000007,
            "bin_start": 0.10000000000000009,
            "count": 0
           },
           {
            "bin_end": 0.30000000000000004,
            "bin_start": 0.20000000000000007,
            "count": 0
           },
           {
            "bin_end": 0.4,
            "bin_start": 0.30000000000000004,
            "count": 0
           },
           {
            "bin_end": 0.5,
            "bin_start": 0.4,
            "count": 0
           }
          ],
          "max": "0",
          "min": "0",
          "nan_count": 0,
          "unique_count": 1
         }
        },
        {
         "dtype": "int64",
         "name": "MoSold",
         "stats": {
          "histogram": [
           {
            "bin_end": 3,
            "bin_start": 2,
            "count": 2
           },
           {
            "bin_end": 4,
            "bin_start": 3,
            "count": 0
           },
           {
            "bin_end": 5,
            "bin_start": 4,
            "count": 0
           },
           {
            "bin_end": 6,
            "bin_start": 5,
            "count": 1
           },
           {
            "bin_end": 7,
            "bin_start": 6,
            "count": 0
           },
           {
            "bin_end": 8,
            "bin_start": 7,
            "count": 0
           },
           {
            "bin_end": 9,
            "bin_start": 8,
            "count": 0
           },
           {
            "bin_end": 10,
            "bin_start": 9,
            "count": 1
           },
           {
            "bin_end": 11,
            "bin_start": 10,
            "count": 0
           },
           {
            "bin_end": 12,
            "bin_start": 11,
            "count": 1
           }
          ],
          "max": "12",
          "min": "2",
          "nan_count": 0,
          "unique_count": 4
         }
        },
        {
         "dtype": "int64",
         "name": "YrSold",
         "stats": {
          "histogram": [
           {
            "bin_end": 2006.2,
            "bin_start": 2006,
            "count": 1
           },
           {
            "bin_end": 2006.4,
            "bin_start": 2006.2,
            "count": 0
           },
           {
            "bin_end": 2006.6,
            "bin_start": 2006.4,
            "count": 0
           },
           {
            "bin_end": 2006.8,
            "bin_start": 2006.6,
            "count": 0
           },
           {
            "bin_end": 2007,
            "bin_start": 2006.8,
            "count": 0
           },
           {
            "bin_end": 2007.2,
            "bin_start": 2007,
            "count": 1
           },
           {
            "bin_end": 2007.4,
            "bin_start": 2007.2,
            "count": 0
           },
           {
            "bin_end": 2007.6,
            "bin_start": 2007.4,
            "count": 0
           },
           {
            "bin_end": 2007.8,
            "bin_start": 2007.6,
            "count": 0
           },
           {
            "bin_end": 2008,
            "bin_start": 2007.8,
            "count": 3
           }
          ],
          "max": "2008",
          "min": "2006",
          "nan_count": 0,
          "unique_count": 3
         }
        },
        {
         "dtype": "object",
         "name": "SaleType",
         "stats": {
          "categories": [
           {
            "count": 5,
            "name": "WD"
           }
          ],
          "nan_count": 0,
          "unique_count": 1
         }
        },
        {
         "dtype": "object",
         "name": "SaleCondition",
         "stats": {
          "categories": [
           {
            "count": 4,
            "name": "Normal"
           },
           {
            "count": 1,
            "name": "Abnorml"
           }
          ],
          "nan_count": 0,
          "unique_count": 2
         }
        },
        {
         "dtype": "int64",
         "name": "SalePrice",
         "stats": {
          "histogram": [
           {
            "bin_end": 151000,
            "bin_start": 140000,
            "count": 1
           },
           {
            "bin_end": 162000,
            "bin_start": 151000,
            "count": 0
           },
           {
            "bin_end": 173000,
            "bin_start": 162000,
            "count": 0
           },
           {
            "bin_end": 184000,
            "bin_start": 173000,
            "count": 1
           },
           {
            "bin_end": 195000,
            "bin_start": 184000,
            "count": 0
           },
           {
            "bin_end": 206000,
            "bin_start": 195000,
            "count": 0
           },
           {
            "bin_end": 217000,
            "bin_start": 206000,
            "count": 1
           },
           {
            "bin_end": 228000,
            "bin_start": 217000,
            "count": 1
           },
           {
            "bin_end": 239000,
            "bin_start": 228000,
            "count": 0
           },
           {
            "bin_end": 250000,
            "bin_start": 239000,
            "count": 1
           }
          ],
          "max": "250000",
          "min": "140000",
          "nan_count": 0,
          "unique_count": 5
         }
        },
        {
         "dtype": "int64",
         "name": "_deepnote_index_column"
        }
       ],
       "row_count": 5,
       "rows": [
        {
         "1stFlrSF": 856,
         "2ndFlrSF": 854,
         "3SsnPorch": 0,
         "Alley": "nan",
         "BedroomAbvGr": 3,
         "BldgType": "1Fam",
         "BsmtCond": "TA",
         "BsmtExposure": "No",
         "BsmtFinSF1": 706,
         "BsmtFinSF2": 0,
         "BsmtFinType1": "GLQ",
         "BsmtFinType2": "Unf",
         "BsmtFullBath": 1,
         "BsmtHalfBath": 0,
         "BsmtQual": "Gd",
         "BsmtUnfSF": 150,
         "CentralAir": "Y",
         "Condition1": "Norm",
         "Condition2": "Norm",
         "Electrical": "SBrkr",
         "EnclosedPorch": 0,
         "ExterCond": "TA",
         "ExterQual": "Gd",
         "Exterior1st": "VinylSd",
         "Exterior2nd": "VinylSd",
         "Fence": "nan",
         "FireplaceQu": "nan",
         "Fireplaces": 0,
         "Foundation": "PConc",
         "FullBath": 2,
         "Functional": "Typ",
         "GarageArea": 548,
         "GarageCars": 2,
         "GarageCond": "TA",
         "GarageFinish": "RFn",
         "GarageQual": "TA",
         "GarageType": "Attchd",
         "GarageYrBlt": 2003,
         "GrLivArea": 1710,
         "HalfBath": 1,
         "Heating": "GasA",
         "HeatingQC": "Ex",
         "HouseStyle": "2Story",
         "Id": 1,
         "KitchenAbvGr": 1,
         "KitchenQual": "Gd",
         "LandContour": "Lvl",
         "LandSlope": "Gtl",
         "LotArea": 8450,
         "LotConfig": "Inside",
         "LotFrontage": 65,
         "LotShape": "Reg",
         "LowQualFinSF": 0,
         "MSSubClass": 60,
         "MSZoning": "RL",
         "MasVnrArea": 196,
         "MasVnrType": "BrkFace",
         "MiscFeature": "nan",
         "MiscVal": 0,
         "MoSold": 2,
         "Neighborhood": "CollgCr",
         "OpenPorchSF": 61,
         "OverallCond": 5,
         "OverallQual": 7,
         "PavedDrive": "Y",
         "PoolArea": 0,
         "PoolQC": "nan",
         "RoofMatl": "CompShg",
         "RoofStyle": "Gable",
         "SaleCondition": "Normal",
         "SalePrice": 208500,
         "SaleType": "WD",
         "ScreenPorch": 0,
         "Street": "Pave",
         "TotRmsAbvGrd": 8,
         "TotalBsmtSF": 856,
         "Utilities": "AllPub",
         "WoodDeckSF": 0,
         "YearBuilt": 2003,
         "YearRemodAdd": 2003,
         "YrSold": 2008,
         "_deepnote_index_column": 0
        },
        {
         "1stFlrSF": 1262,
         "2ndFlrSF": 0,
         "3SsnPorch": 0,
         "Alley": "nan",
         "BedroomAbvGr": 3,
         "BldgType": "1Fam",
         "BsmtCond": "TA",
         "BsmtExposure": "Gd",
         "BsmtFinSF1": 978,
         "BsmtFinSF2": 0,
         "BsmtFinType1": "ALQ",
         "BsmtFinType2": "Unf",
         "BsmtFullBath": 0,
         "BsmtHalfBath": 1,
         "BsmtQual": "Gd",
         "BsmtUnfSF": 284,
         "CentralAir": "Y",
         "Condition1": "Feedr",
         "Condition2": "Norm",
         "Electrical": "SBrkr",
         "EnclosedPorch": 0,
         "ExterCond": "TA",
         "ExterQual": "TA",
         "Exterior1st": "MetalSd",
         "Exterior2nd": "MetalSd",
         "Fence": "nan",
         "FireplaceQu": "TA",
         "Fireplaces": 1,
         "Foundation": "CBlock",
         "FullBath": 2,
         "Functional": "Typ",
         "GarageArea": 460,
         "GarageCars": 2,
         "GarageCond": "TA",
         "GarageFinish": "RFn",
         "GarageQual": "TA",
         "GarageType": "Attchd",
         "GarageYrBlt": 1976,
         "GrLivArea": 1262,
         "HalfBath": 0,
         "Heating": "GasA",
         "HeatingQC": "Ex",
         "HouseStyle": "1Story",
         "Id": 2,
         "KitchenAbvGr": 1,
         "KitchenQual": "TA",
         "LandContour": "Lvl",
         "LandSlope": "Gtl",
         "LotArea": 9600,
         "LotConfig": "FR2",
         "LotFrontage": 80,
         "LotShape": "Reg",
         "LowQualFinSF": 0,
         "MSSubClass": 20,
         "MSZoning": "RL",
         "MasVnrArea": 0,
         "MasVnrType": "None",
         "MiscFeature": "nan",
         "MiscVal": 0,
         "MoSold": 5,
         "Neighborhood": "Veenker",
         "OpenPorchSF": 0,
         "OverallCond": 8,
         "OverallQual": 6,
         "PavedDrive": "Y",
         "PoolArea": 0,
         "PoolQC": "nan",
         "RoofMatl": "CompShg",
         "RoofStyle": "Gable",
         "SaleCondition": "Normal",
         "SalePrice": 181500,
         "SaleType": "WD",
         "ScreenPorch": 0,
         "Street": "Pave",
         "TotRmsAbvGrd": 6,
         "TotalBsmtSF": 1262,
         "Utilities": "AllPub",
         "WoodDeckSF": 298,
         "YearBuilt": 1976,
         "YearRemodAdd": 1976,
         "YrSold": 2007,
         "_deepnote_index_column": 1
        },
        {
         "1stFlrSF": 920,
         "2ndFlrSF": 866,
         "3SsnPorch": 0,
         "Alley": "nan",
         "BedroomAbvGr": 3,
         "BldgType": "1Fam",
         "BsmtCond": "TA",
         "BsmtExposure": "Mn",
         "BsmtFinSF1": 486,
         "BsmtFinSF2": 0,
         "BsmtFinType1": "GLQ",
         "BsmtFinType2": "Unf",
         "BsmtFullBath": 1,
         "BsmtHalfBath": 0,
         "BsmtQual": "Gd",
         "BsmtUnfSF": 434,
         "CentralAir": "Y",
         "Condition1": "Norm",
         "Condition2": "Norm",
         "Electrical": "SBrkr",
         "EnclosedPorch": 0,
         "ExterCond": "TA",
         "ExterQual": "Gd",
         "Exterior1st": "VinylSd",
         "Exterior2nd": "VinylSd",
         "Fence": "nan",
         "FireplaceQu": "TA",
         "Fireplaces": 1,
         "Foundation": "PConc",
         "FullBath": 2,
         "Functional": "Typ",
         "GarageArea": 608,
         "GarageCars": 2,
         "GarageCond": "TA",
         "GarageFinish": "RFn",
         "GarageQual": "TA",
         "GarageType": "Attchd",
         "GarageYrBlt": 2001,
         "GrLivArea": 1786,
         "HalfBath": 1,
         "Heating": "GasA",
         "HeatingQC": "Ex",
         "HouseStyle": "2Story",
         "Id": 3,
         "KitchenAbvGr": 1,
         "KitchenQual": "Gd",
         "LandContour": "Lvl",
         "LandSlope": "Gtl",
         "LotArea": 11250,
         "LotConfig": "Inside",
         "LotFrontage": 68,
         "LotShape": "IR1",
         "LowQualFinSF": 0,
         "MSSubClass": 60,
         "MSZoning": "RL",
         "MasVnrArea": 162,
         "MasVnrType": "BrkFace",
         "MiscFeature": "nan",
         "MiscVal": 0,
         "MoSold": 9,
         "Neighborhood": "CollgCr",
         "OpenPorchSF": 42,
         "OverallCond": 5,
         "OverallQual": 7,
         "PavedDrive": "Y",
         "PoolArea": 0,
         "PoolQC": "nan",
         "RoofMatl": "CompShg",
         "RoofStyle": "Gable",
         "SaleCondition": "Normal",
         "SalePrice": 223500,
         "SaleType": "WD",
         "ScreenPorch": 0,
         "Street": "Pave",
         "TotRmsAbvGrd": 6,
         "TotalBsmtSF": 920,
         "Utilities": "AllPub",
         "WoodDeckSF": 0,
         "YearBuilt": 2001,
         "YearRemodAdd": 2002,
         "YrSold": 2008,
         "_deepnote_index_column": 2
        },
        {
         "1stFlrSF": 961,
         "2ndFlrSF": 756,
         "3SsnPorch": 0,
         "Alley": "nan",
         "BedroomAbvGr": 3,
         "BldgType": "1Fam",
         "BsmtCond": "Gd",
         "BsmtExposure": "No",
         "BsmtFinSF1": 216,
         "BsmtFinSF2": 0,
         "BsmtFinType1": "ALQ",
         "BsmtFinType2": "Unf",
         "BsmtFullBath": 1,
         "BsmtHalfBath": 0,
         "BsmtQual": "TA",
         "BsmtUnfSF": 540,
         "CentralAir": "Y",
         "Condition1": "Norm",
         "Condition2": "Norm",
         "Electrical": "SBrkr",
         "EnclosedPorch": 272,
         "ExterCond": "TA",
         "ExterQual": "TA",
         "Exterior1st": "Wd Sdng",
         "Exterior2nd": "Wd Shng",
         "Fence": "nan",
         "FireplaceQu": "Gd",
         "Fireplaces": 1,
         "Foundation": "BrkTil",
         "FullBath": 1,
         "Functional": "Typ",
         "GarageArea": 642,
         "GarageCars": 3,
         "GarageCond": "TA",
         "GarageFinish": "Unf",
         "GarageQual": "TA",
         "GarageType": "Detchd",
         "GarageYrBlt": 1998,
         "GrLivArea": 1717,
         "HalfBath": 0,
         "Heating": "GasA",
         "HeatingQC": "Gd",
         "HouseStyle": "2Story",
         "Id": 4,
         "KitchenAbvGr": 1,
         "KitchenQual": "Gd",
         "LandContour": "Lvl",
         "LandSlope": "Gtl",
         "LotArea": 9550,
         "LotConfig": "Corner",
         "LotFrontage": 60,
         "LotShape": "IR1",
         "LowQualFinSF": 0,
         "MSSubClass": 70,
         "MSZoning": "RL",
         "MasVnrArea": 0,
         "MasVnrType": "None",
         "MiscFeature": "nan",
         "MiscVal": 0,
         "MoSold": 2,
         "Neighborhood": "Crawfor",
         "OpenPorchSF": 35,
         "OverallCond": 5,
         "OverallQual": 7,
         "PavedDrive": "Y",
         "PoolArea": 0,
         "PoolQC": "nan",
         "RoofMatl": "CompShg",
         "RoofStyle": "Gable",
         "SaleCondition": "Abnorml",
         "SalePrice": 140000,
         "SaleType": "WD",
         "ScreenPorch": 0,
         "Street": "Pave",
         "TotRmsAbvGrd": 7,
         "TotalBsmtSF": 756,
         "Utilities": "AllPub",
         "WoodDeckSF": 0,
         "YearBuilt": 1915,
         "YearRemodAdd": 1970,
         "YrSold": 2006,
         "_deepnote_index_column": 3
        },
        {
         "1stFlrSF": 1145,
         "2ndFlrSF": 1053,
         "3SsnPorch": 0,
         "Alley": "nan",
         "BedroomAbvGr": 4,
         "BldgType": "1Fam",
         "BsmtCond": "TA",
         "BsmtExposure": "Av",
         "BsmtFinSF1": 655,
         "BsmtFinSF2": 0,
         "BsmtFinType1": "GLQ",
         "BsmtFinType2": "Unf",
         "BsmtFullBath": 1,
         "BsmtHalfBath": 0,
         "BsmtQual": "Gd",
         "BsmtUnfSF": 490,
         "CentralAir": "Y",
         "Condition1": "Norm",
         "Condition2": "Norm",
         "Electrical": "SBrkr",
         "EnclosedPorch": 0,
         "ExterCond": "TA",
         "ExterQual": "Gd",
         "Exterior1st": "VinylSd",
         "Exterior2nd": "VinylSd",
         "Fence": "nan",
         "FireplaceQu": "TA",
         "Fireplaces": 1,
         "Foundation": "PConc",
         "FullBath": 2,
         "Functional": "Typ",
         "GarageArea": 836,
         "GarageCars": 3,
         "GarageCond": "TA",
         "GarageFinish": "RFn",
         "GarageQual": "TA",
         "GarageType": "Attchd",
         "GarageYrBlt": 2000,
         "GrLivArea": 2198,
         "HalfBath": 1,
         "Heating": "GasA",
         "HeatingQC": "Ex",
         "HouseStyle": "2Story",
         "Id": 5,
         "KitchenAbvGr": 1,
         "KitchenQual": "Gd",
         "LandContour": "Lvl",
         "LandSlope": "Gtl",
         "LotArea": 14260,
         "LotConfig": "FR2",
         "LotFrontage": 84,
         "LotShape": "IR1",
         "LowQualFinSF": 0,
         "MSSubClass": 60,
         "MSZoning": "RL",
         "MasVnrArea": 350,
         "MasVnrType": "BrkFace",
         "MiscFeature": "nan",
         "MiscVal": 0,
         "MoSold": 12,
         "Neighborhood": "NoRidge",
         "OpenPorchSF": 84,
         "OverallCond": 5,
         "OverallQual": 8,
         "PavedDrive": "Y",
         "PoolArea": 0,
         "PoolQC": "nan",
         "RoofMatl": "CompShg",
         "RoofStyle": "Gable",
         "SaleCondition": "Normal",
         "SalePrice": 250000,
         "SaleType": "WD",
         "ScreenPorch": 0,
         "Street": "Pave",
         "TotRmsAbvGrd": 9,
         "TotalBsmtSF": 1145,
         "Utilities": "AllPub",
         "WoodDeckSF": 192,
         "YearBuilt": 2000,
         "YearRemodAdd": 2000,
         "YrSold": 2008,
         "_deepnote_index_column": 4
        }
       ]
      },
      "text/html": [
       "<div>\n",
       "<style scoped>\n",
       "    .dataframe tbody tr th:only-of-type {\n",
       "        vertical-align: middle;\n",
       "    }\n",
       "\n",
       "    .dataframe tbody tr th {\n",
       "        vertical-align: top;\n",
       "    }\n",
       "\n",
       "    .dataframe thead th {\n",
       "        text-align: right;\n",
       "    }\n",
       "</style>\n",
       "<table border=\"1\" class=\"dataframe\">\n",
       "  <thead>\n",
       "    <tr style=\"text-align: right;\">\n",
       "      <th></th>\n",
       "      <th>Id</th>\n",
       "      <th>MSSubClass</th>\n",
       "      <th>MSZoning</th>\n",
       "      <th>LotFrontage</th>\n",
       "      <th>LotArea</th>\n",
       "      <th>Street</th>\n",
       "      <th>Alley</th>\n",
       "      <th>LotShape</th>\n",
       "      <th>LandContour</th>\n",
       "      <th>Utilities</th>\n",
       "      <th>...</th>\n",
       "      <th>PoolArea</th>\n",
       "      <th>PoolQC</th>\n",
       "      <th>Fence</th>\n",
       "      <th>MiscFeature</th>\n",
       "      <th>MiscVal</th>\n",
       "      <th>MoSold</th>\n",
       "      <th>YrSold</th>\n",
       "      <th>SaleType</th>\n",
       "      <th>SaleCondition</th>\n",
       "      <th>SalePrice</th>\n",
       "    </tr>\n",
       "  </thead>\n",
       "  <tbody>\n",
       "    <tr>\n",
       "      <th>0</th>\n",
       "      <td>1</td>\n",
       "      <td>60</td>\n",
       "      <td>RL</td>\n",
       "      <td>65.0</td>\n",
       "      <td>8450</td>\n",
       "      <td>Pave</td>\n",
       "      <td>NaN</td>\n",
       "      <td>Reg</td>\n",
       "      <td>Lvl</td>\n",
       "      <td>AllPub</td>\n",
       "      <td>...</td>\n",
       "      <td>0</td>\n",
       "      <td>NaN</td>\n",
       "      <td>NaN</td>\n",
       "      <td>NaN</td>\n",
       "      <td>0</td>\n",
       "      <td>2</td>\n",
       "      <td>2008</td>\n",
       "      <td>WD</td>\n",
       "      <td>Normal</td>\n",
       "      <td>208500</td>\n",
       "    </tr>\n",
       "    <tr>\n",
       "      <th>1</th>\n",
       "      <td>2</td>\n",
       "      <td>20</td>\n",
       "      <td>RL</td>\n",
       "      <td>80.0</td>\n",
       "      <td>9600</td>\n",
       "      <td>Pave</td>\n",
       "      <td>NaN</td>\n",
       "      <td>Reg</td>\n",
       "      <td>Lvl</td>\n",
       "      <td>AllPub</td>\n",
       "      <td>...</td>\n",
       "      <td>0</td>\n",
       "      <td>NaN</td>\n",
       "      <td>NaN</td>\n",
       "      <td>NaN</td>\n",
       "      <td>0</td>\n",
       "      <td>5</td>\n",
       "      <td>2007</td>\n",
       "      <td>WD</td>\n",
       "      <td>Normal</td>\n",
       "      <td>181500</td>\n",
       "    </tr>\n",
       "    <tr>\n",
       "      <th>2</th>\n",
       "      <td>3</td>\n",
       "      <td>60</td>\n",
       "      <td>RL</td>\n",
       "      <td>68.0</td>\n",
       "      <td>11250</td>\n",
       "      <td>Pave</td>\n",
       "      <td>NaN</td>\n",
       "      <td>IR1</td>\n",
       "      <td>Lvl</td>\n",
       "      <td>AllPub</td>\n",
       "      <td>...</td>\n",
       "      <td>0</td>\n",
       "      <td>NaN</td>\n",
       "      <td>NaN</td>\n",
       "      <td>NaN</td>\n",
       "      <td>0</td>\n",
       "      <td>9</td>\n",
       "      <td>2008</td>\n",
       "      <td>WD</td>\n",
       "      <td>Normal</td>\n",
       "      <td>223500</td>\n",
       "    </tr>\n",
       "    <tr>\n",
       "      <th>3</th>\n",
       "      <td>4</td>\n",
       "      <td>70</td>\n",
       "      <td>RL</td>\n",
       "      <td>60.0</td>\n",
       "      <td>9550</td>\n",
       "      <td>Pave</td>\n",
       "      <td>NaN</td>\n",
       "      <td>IR1</td>\n",
       "      <td>Lvl</td>\n",
       "      <td>AllPub</td>\n",
       "      <td>...</td>\n",
       "      <td>0</td>\n",
       "      <td>NaN</td>\n",
       "      <td>NaN</td>\n",
       "      <td>NaN</td>\n",
       "      <td>0</td>\n",
       "      <td>2</td>\n",
       "      <td>2006</td>\n",
       "      <td>WD</td>\n",
       "      <td>Abnorml</td>\n",
       "      <td>140000</td>\n",
       "    </tr>\n",
       "    <tr>\n",
       "      <th>4</th>\n",
       "      <td>5</td>\n",
       "      <td>60</td>\n",
       "      <td>RL</td>\n",
       "      <td>84.0</td>\n",
       "      <td>14260</td>\n",
       "      <td>Pave</td>\n",
       "      <td>NaN</td>\n",
       "      <td>IR1</td>\n",
       "      <td>Lvl</td>\n",
       "      <td>AllPub</td>\n",
       "      <td>...</td>\n",
       "      <td>0</td>\n",
       "      <td>NaN</td>\n",
       "      <td>NaN</td>\n",
       "      <td>NaN</td>\n",
       "      <td>0</td>\n",
       "      <td>12</td>\n",
       "      <td>2008</td>\n",
       "      <td>WD</td>\n",
       "      <td>Normal</td>\n",
       "      <td>250000</td>\n",
       "    </tr>\n",
       "  </tbody>\n",
       "</table>\n",
       "<p>5 rows × 81 columns</p>\n",
       "</div>"
      ],
      "text/plain": [
       "   Id  MSSubClass MSZoning  LotFrontage  LotArea Street Alley LotShape  \\\n",
       "0   1          60       RL         65.0     8450   Pave   NaN      Reg   \n",
       "1   2          20       RL         80.0     9600   Pave   NaN      Reg   \n",
       "2   3          60       RL         68.0    11250   Pave   NaN      IR1   \n",
       "3   4          70       RL         60.0     9550   Pave   NaN      IR1   \n",
       "4   5          60       RL         84.0    14260   Pave   NaN      IR1   \n",
       "\n",
       "  LandContour Utilities  ... PoolArea PoolQC Fence MiscFeature MiscVal MoSold  \\\n",
       "0         Lvl    AllPub  ...        0    NaN   NaN         NaN       0      2   \n",
       "1         Lvl    AllPub  ...        0    NaN   NaN         NaN       0      5   \n",
       "2         Lvl    AllPub  ...        0    NaN   NaN         NaN       0      9   \n",
       "3         Lvl    AllPub  ...        0    NaN   NaN         NaN       0      2   \n",
       "4         Lvl    AllPub  ...        0    NaN   NaN         NaN       0     12   \n",
       "\n",
       "  YrSold  SaleType  SaleCondition  SalePrice  \n",
       "0   2008        WD         Normal     208500  \n",
       "1   2007        WD         Normal     181500  \n",
       "2   2008        WD         Normal     223500  \n",
       "3   2006        WD        Abnorml     140000  \n",
       "4   2008        WD         Normal     250000  \n",
       "\n",
       "[5 rows x 81 columns]"
      ]
     },
     "execution_count": 6,
     "metadata": {},
     "output_type": "execute_result"
    }
   ],
   "source": [
    "df.head()"
   ]
  },
  {
   "cell_type": "code",
   "execution_count": null,
   "metadata": {
    "allow_embed": true,
    "cell_id": "1ce9e06e413649a0ace2a3309024ea74",
    "deepnote_app_coordinates": {
     "h": 5,
     "w": 12,
     "x": 0,
     "y": 48
    },
    "deepnote_cell_height": 66,
    "deepnote_cell_type": "code",
    "tags": []
   },
   "outputs": [],
   "source": [
    "pd.read_csv(\"data.csv\", usecols=[\"date\", \"price\"])"
   ]
  },
  {
   "cell_type": "code",
   "execution_count": null,
   "metadata": {
    "allow_embed": true,
    "cell_id": "59c89aaa160b4ac0b9eb6ff31b57856e",
    "deepnote_app_coordinates": {
     "h": 5,
     "w": 12,
     "x": 0,
     "y": 54
    },
    "deepnote_cell_height": 66,
    "deepnote_cell_type": "code",
    "tags": []
   },
   "outputs": [],
   "source": [
    "pd.read_csv(\"data.csv\", parse_dates=[\"date\"])"
   ]
  },
  {
   "cell_type": "code",
   "execution_count": null,
   "metadata": {
    "allow_embed": true,
    "cell_id": "b049615ed4fb4f58a7f18c8ed73476c6",
    "deepnote_app_coordinates": {
     "h": 5,
     "w": 12,
     "x": 0,
     "y": 60
    },
    "deepnote_cell_height": 66,
    "deepnote_cell_type": "code",
    "tags": []
   },
   "outputs": [],
   "source": [
    "pd.read_csv(\"data.csv\", dtype={\"house_type\": \"category\"})"
   ]
  },
  {
   "cell_type": "code",
   "execution_count": null,
   "metadata": {
    "allow_embed": true,
    "cell_id": "aae8366664e345649e2ab47b04053104",
    "deepnote_app_coordinates": {
     "h": 5,
     "w": 12,
     "x": 0,
     "y": 66
    },
    "deepnote_cell_height": 66,
    "deepnote_cell_type": "code",
    "tags": []
   },
   "outputs": [],
   "source": [
    "pd.read_csv(\"data.csv\", index_col=\"date\")"
   ]
  },
  {
   "cell_type": "code",
   "execution_count": null,
   "metadata": {
    "allow_embed": true,
    "cell_id": "397f2dc2367c4928a044fa24d7afbca5",
    "deepnote_app_coordinates": {
     "h": 5,
     "w": 12,
     "x": 0,
     "y": 72
    },
    "deepnote_cell_height": 120,
    "deepnote_cell_type": "code",
    "tags": []
   },
   "outputs": [],
   "source": [
    "pd.read_csv(\"data.csv\", skiprows=[1, 5])  # skips line 1 and 5\n",
    "pd.read_csv(\"data.csv\", skiprows=100)  # skips the first 100 lines\n",
    "pd.read_csv(\"data.csv\", skiprows=lambda x: x > 0 and np.random.rand() > 0.1) # skip 90% of the rows\n"
   ]
  },
  {
   "cell_type": "code",
   "execution_count": null,
   "metadata": {
    "allow_embed": true,
    "cell_id": "5408f90ab36b4535ab849834cf1fe51c",
    "deepnote_app_coordinates": {
     "h": 5,
     "w": 12,
     "x": 0,
     "y": 78
    },
    "deepnote_cell_height": 66,
    "deepnote_cell_type": "code",
    "tags": []
   },
   "outputs": [],
   "source": [
    "pd.read_csv(\"data.csv\", nrows=100)"
   ]
  },
  {
   "cell_type": "code",
   "execution_count": null,
   "metadata": {
    "allow_embed": true,
    "cell_id": "1ec7665ff2aa4c58993b6993365b428e",
    "deepnote_app_coordinates": {
     "h": 5,
     "w": 12,
     "x": 0,
     "y": 84
    },
    "deepnote_cell_height": 66,
    "deepnote_cell_type": "code",
    "tags": []
   },
   "outputs": [],
   "source": [
    "pd.read_csv(\"data.csv\", na_values=[\"?\"])"
   ]
  },
  {
   "cell_type": "code",
   "execution_count": null,
   "metadata": {
    "allow_embed": true,
    "cell_id": "00005-a36464c4-26df-41a7-9133-6951be600817",
    "deepnote_app_coordinates": {
     "h": 5,
     "w": 12,
     "x": 0,
     "y": 90
    },
    "deepnote_cell_height": 66,
    "deepnote_cell_type": "code"
   },
   "outputs": [],
   "source": [
    "pd.read_csv(\"data.csv\", true_values=[\"yes\"], false_values=[\"no\"])"
   ]
  },
  {
   "cell_type": "markdown",
   "metadata": {
    "cell_id": "25db6b2f476949ad9953412bfd2fc54d",
    "deepnote_app_coordinates": {
     "h": 5,
     "w": 12,
     "x": 0,
     "y": 96
    },
    "deepnote_cell_height": 52.390625,
    "deepnote_cell_type": "markdown",
    "tags": []
   },
   "source": [
    "Read from multiple files"
   ]
  },
  {
   "cell_type": "code",
   "execution_count": null,
   "metadata": {
    "allow_embed": true,
    "cell_id": "00006-b27a647a-02d6-4b2b-9d97-7cd38e282add",
    "deepnote_app_coordinates": {
     "h": 5,
     "w": 12,
     "x": 0,
     "y": 102
    },
    "deepnote_cell_height": 174,
    "deepnote_cell_type": "code"
   },
   "outputs": [],
   "source": [
    "import glob\n",
    "import os\n",
    "\n",
    "files = glob.glob(\"file_*.csv\")\n",
    "\n",
    "result = pd.concat([pd.read_csv(f) for f in files], ignore_index=True)\n"
   ]
  },
  {
   "cell_type": "markdown",
   "metadata": {
    "cell_id": "725f7fa7911e41bc8f6544801857e6e7",
    "deepnote_app_coordinates": {
     "h": 5,
     "w": 12,
     "x": 0,
     "y": 108
    },
    "deepnote_cell_height": 52.390625,
    "deepnote_cell_type": "markdown",
    "tags": []
   },
   "source": [
    "copy from excel, read into pandas data frame"
   ]
  },
  {
   "cell_type": "code",
   "execution_count": null,
   "metadata": {
    "allow_embed": true,
    "cell_id": "00052-4e1e1757-1aa9-4ef3-9e38-2877e323a34c",
    "deepnote_app_coordinates": {
     "h": 5,
     "w": 12,
     "x": 0,
     "y": 114
    },
    "deepnote_cell_height": 66,
    "deepnote_cell_type": "code"
   },
   "outputs": [],
   "source": [
    "df = pd.read_clipboard() "
   ]
  },
  {
   "cell_type": "markdown",
   "metadata": {
    "cell_id": "c961b5673aea425f9ecd0d728542c630",
    "deepnote_app_coordinates": {
     "h": 5,
     "w": 12,
     "x": 0,
     "y": 120
    },
    "deepnote_cell_height": 88.796875,
    "deepnote_cell_type": "markdown",
    "tags": []
   },
   "source": [
    "read tables from pdf\n",
    "\n",
    "https://github.com/chezou/tabula-py"
   ]
  },
  {
   "cell_type": "code",
   "execution_count": null,
   "metadata": {
    "allow_embed": "code_output",
    "cell_id": "9a658ad192594981b119555714321af5",
    "deepnote_app_coordinates": {
     "h": 5,
     "w": 12,
     "x": 0,
     "y": 126
    },
    "deepnote_cell_height": 138,
    "deepnote_cell_type": "code",
    "tags": []
   },
   "outputs": [],
   "source": [
    "# %pip install tabula-py\n",
    "\n",
    "from tabula import read_pdf\n",
    "# Read pdf into list of DataFrame\n",
    "df = read_pdf('test.pdf', pages='all')"
   ]
  },
  {
   "cell_type": "markdown",
   "metadata": {
    "cell_id": "00009-82a7d96d-1d6f-4dff-8feb-227d3f551520",
    "deepnote_app_coordinates": {
     "h": 5,
     "w": 12,
     "x": 0,
     "y": 132
    },
    "deepnote_cell_height": 70,
    "deepnote_cell_type": "markdown"
   },
   "source": [
    "## EDA cheat"
   ]
  },
  {
   "cell_type": "code",
   "execution_count": null,
   "metadata": {
    "allow_embed": true,
    "cell_id": "00010-f69f4f87-867a-4571-9bcb-e0f9ac17d219",
    "deepnote_app_coordinates": {
     "h": 5,
     "w": 12,
     "x": 0,
     "y": 138
    },
    "deepnote_cell_type": "code"
   },
   "outputs": [],
   "source": [
    "# %pip install pandas-profiling\n",
    "\n",
    "import pandas_profiling\n",
    "\n",
    "df = pd.read_csv(\"data.csv\")\n",
    "profile = df.profile_report(title=\"Pandas Profiling Report\")\n",
    "profile.to_file(output_file=\"output.html\")"
   ]
  },
  {
   "cell_type": "markdown",
   "metadata": {
    "cell_id": "00016-44c38ec9-3764-4bd7-8be9-a1df190faa48",
    "deepnote_app_coordinates": {
     "h": 5,
     "w": 12,
     "x": 0,
     "y": 144
    },
    "deepnote_cell_type": "markdown"
   },
   "source": [
    "## Data Types"
   ]
  },
  {
   "cell_type": "markdown",
   "metadata": {
    "cell_id": "00017-71bc93df-e33b-410c-af75-ae67b5efaf08",
    "deepnote_app_coordinates": {
     "h": 5,
     "w": 12,
     "x": 0,
     "y": 150
    },
    "deepnote_cell_type": "markdown"
   },
   "source": [
    "filtering"
   ]
  },
  {
   "cell_type": "code",
   "execution_count": null,
   "metadata": {
    "allow_embed": true,
    "cell_id": "00018-0021dab1-e5dc-4b7b-aaad-62a7ea45c85e",
    "deepnote_app_coordinates": {
     "h": 5,
     "w": 12,
     "x": 0,
     "y": 156
    },
    "deepnote_cell_type": "code"
   },
   "outputs": [],
   "source": [
    "# selecting\n",
    "df.select_dtypes(include=\"number\")\n",
    "df.select_dtypes(include=[\"category\", \"datetime\"])\n",
    "\n",
    "# exluding\n",
    "df.select_dtypes(exclude=\"object\")"
   ]
  },
  {
   "cell_type": "markdown",
   "metadata": {
    "cell_id": "00019-1445657d-1b3f-43fb-9277-56d8ab560a8e",
    "deepnote_app_coordinates": {
     "h": 5,
     "w": 12,
     "x": 0,
     "y": 162
    },
    "deepnote_cell_type": "markdown"
   },
   "source": [
    "conversions"
   ]
  },
  {
   "cell_type": "code",
   "execution_count": null,
   "metadata": {
    "allow_embed": true,
    "cell_id": "494c2ead165042c79d52f986f860ed2e",
    "deepnote_app_coordinates": {
     "h": 5,
     "w": 12,
     "x": 0,
     "y": 168
    },
    "deepnote_cell_type": "code",
    "deepnote_to_be_reexecuted": false,
    "execution_millis": 2,
    "execution_start": 1650260562456,
    "output_cleared": true,
    "source_hash": "d74ead7e",
    "tags": []
   },
   "outputs": [],
   "source": [
    "df.infer_objects().dtypes"
   ]
  },
  {
   "cell_type": "code",
   "execution_count": null,
   "metadata": {
    "allow_embed": true,
    "cell_id": "b42040a952fa46d8bb879e08e13a87d4",
    "deepnote_app_coordinates": {
     "h": 5,
     "w": 12,
     "x": 0,
     "y": 174
    },
    "deepnote_cell_type": "code",
    "tags": []
   },
   "outputs": [],
   "source": [
    "pd.to_numeric(df.numeric_col, downcast=\"integer\") # smallest signed int dtype\n",
    "pd.to_numeric(df.numeric_col, downcast=\"float\")  # smallest float dtype"
   ]
  },
  {
   "cell_type": "code",
   "execution_count": null,
   "metadata": {
    "allow_embed": true,
    "cell_id": "00021-897735d6-e43d-41b2-bd4d-f6319857c0ba",
    "deepnote_app_coordinates": {
     "h": 5,
     "w": 12,
     "x": 0,
     "y": 180
    },
    "deepnote_cell_type": "code"
   },
   "outputs": [],
   "source": [
    "# apply to whole data frame\n",
    "df = df.apply(pd.to_numeric, errors=\"coerce\")\n",
    "\n",
    "# apply to specific columns\n",
    "pd.to_numeric(df.numeric_column, errors=\"coerce\")\n",
    "\n",
    "# filling NA values with zero\n",
    "pd.to_numeric(df.numeric_column, errors=\"coerce\").fillna(0)\n"
   ]
  },
  {
   "cell_type": "markdown",
   "metadata": {
    "cell_id": "00022-c378bc0a-92ac-4a72-a672-a4a46abc8de5",
    "deepnote_app_coordinates": {
     "h": 5,
     "w": 12,
     "x": 0,
     "y": 186
    },
    "deepnote_cell_type": "markdown"
   },
   "source": [
    "converting all columns at once"
   ]
  },
  {
   "cell_type": "code",
   "execution_count": null,
   "metadata": {
    "allow_embed": "code_output",
    "cell_id": "00023-bf532f69-1ff7-485c-a282-256031c817d9",
    "deepnote_app_coordinates": {
     "h": 5,
     "w": 12,
     "x": 0,
     "y": 192
    },
    "deepnote_cell_type": "code",
    "deepnote_to_be_reexecuted": false,
    "execution_millis": 16,
    "execution_start": 1650261718342,
    "output_cleared": true,
    "source_hash": "943bc7d"
   },
   "outputs": [],
   "source": [
    "df = df.astype(\n",
    "    {\n",
    "        \"date\": \"datetime64[ns]\",\n",
    "        \"price\": \"int\",\n",
    "        \"is_weekend\": \"bool\",\n",
    "        \"status\": \"category\",\n",
    "    }\n",
    ")"
   ]
  },
  {
   "cell_type": "markdown",
   "metadata": {
    "cell_id": "00011-5d06678c-90ed-46b1-b733-c29b478cf505",
    "deepnote_app_coordinates": {
     "h": 5,
     "w": 12,
     "x": 0,
     "y": 198
    },
    "deepnote_cell_type": "markdown"
   },
   "source": [
    "## Column operations"
   ]
  },
  {
   "cell_type": "markdown",
   "metadata": {
    "cell_id": "bba7bfe0cd9a47ed88992b7ac717cf60",
    "deepnote_app_coordinates": {
     "h": 5,
     "w": 12,
     "x": 0,
     "y": 204
    },
    "deepnote_cell_type": "markdown",
    "tags": []
   },
   "source": [
    "rename columns"
   ]
  },
  {
   "cell_type": "code",
   "execution_count": null,
   "metadata": {
    "allow_embed": true,
    "cell_id": "87d0b5609bd34bd6afe5c94ef1446f93",
    "deepnote_app_coordinates": {
     "h": 5,
     "w": 12,
     "x": 0,
     "y": 210
    },
    "deepnote_cell_type": "code",
    "tags": []
   },
   "outputs": [],
   "source": [
    "df = df.rename({\"PRICE\": \"price\", \"Date (mm/dd/yyyy)\": \"date\"}, axis=1)"
   ]
  },
  {
   "cell_type": "code",
   "execution_count": null,
   "metadata": {
    "allow_embed": true,
    "cell_id": "00012-6a072881-8071-46d3-8a6a-f13149b2f20e",
    "deepnote_app_coordinates": {
     "h": 5,
     "w": 12,
     "x": 0,
     "y": 216
    },
    "deepnote_cell_type": "code"
   },
   "outputs": [],
   "source": [
    "df.add_prefix(\"pre_\")\n",
    "df.add_suffix(\"_suf\")"
   ]
  },
  {
   "cell_type": "markdown",
   "metadata": {
    "cell_id": "c77cabb29a984daeaa583e9e7c78e6e1",
    "deepnote_app_coordinates": {
     "h": 5,
     "w": 12,
     "x": 0,
     "y": 222
    },
    "deepnote_cell_type": "markdown",
    "tags": []
   },
   "source": [
    "create new columns"
   ]
  },
  {
   "cell_type": "code",
   "execution_count": null,
   "metadata": {
    "allow_embed": "code",
    "cell_id": "f0d40ee03735460ea507aac413ece9e2",
    "deepnote_app_coordinates": {
     "h": 5,
     "w": 12,
     "x": 0,
     "y": 228
    },
    "deepnote_cell_type": "code",
    "deepnote_to_be_reexecuted": false,
    "execution_millis": 296,
    "execution_start": 1650412082674,
    "output_cleared": true,
    "source_hash": "f3bc4d",
    "tags": []
   },
   "outputs": [],
   "source": [
    "# create new column of Fahrenheit values from Celcius\n",
    "df.assign(temp_f=lambda x: x.temp_c * 9 / 5 + 32)"
   ]
  },
  {
   "cell_type": "code",
   "execution_count": null,
   "metadata": {
    "allow_embed": "code",
    "cell_id": "00042-4e931d08-6fc9-470f-9562-c597fcc06945",
    "deepnote_app_coordinates": {
     "h": 5,
     "w": 12,
     "x": 0,
     "y": 234
    },
    "deepnote_cell_type": "code"
   },
   "outputs": [],
   "source": [
    "random_col = np.random.randint(10, size=len(df))\n",
    "df.insert(3, 'random_col', random_col) # inserts at third column"
   ]
  },
  {
   "cell_type": "markdown",
   "metadata": {
    "cell_id": "00050-a8c388e4-9bc5-4ffd-933c-63d3020cd0a1",
    "deepnote_app_coordinates": {
     "h": 5,
     "w": 12,
     "x": 0,
     "y": 240
    },
    "deepnote_cell_type": "markdown"
   },
   "source": [
    "if-then-else using NumPy’s where()"
   ]
  },
  {
   "cell_type": "code",
   "execution_count": null,
   "metadata": {
    "allow_embed": "code",
    "cell_id": "00051-cfc66b94-9352-4a9e-8e20-165d8b091af3",
    "deepnote_app_coordinates": {
     "h": 5,
     "w": 12,
     "x": 0,
     "y": 246
    },
    "deepnote_cell_type": "code"
   },
   "outputs": [],
   "source": [
    "df[\"logic\"] = np.where(df[\"price\"] > 5, \"high\", \"low\")"
   ]
  },
  {
   "cell_type": "markdown",
   "metadata": {
    "cell_id": "055483e984cb44ae8d1b3c485b5eef5e",
    "deepnote_app_coordinates": {
     "h": 5,
     "w": 12,
     "x": 0,
     "y": 252
    },
    "deepnote_cell_type": "markdown",
    "tags": []
   },
   "source": [
    "dropping columns"
   ]
  },
  {
   "cell_type": "code",
   "execution_count": null,
   "metadata": {
    "allow_embed": true,
    "cell_id": "451b3506196144e4ac40ef0b4880f852",
    "deepnote_app_coordinates": {
     "h": 5,
     "w": 12,
     "x": 0,
     "y": 258
    },
    "deepnote_cell_type": "code",
    "tags": []
   },
   "outputs": [],
   "source": [
    "df.drop('col1', axis=1, inplace=True)\n",
    "df = df.drop(['col1','col2'], axis=1)\n",
    "s = df.pop('col')\n",
    "del df['col']\n",
    "df.drop(df.columns[0], inplace=True)"
   ]
  },
  {
   "cell_type": "markdown",
   "metadata": {
    "cell_id": "00024-51bc63af-7cea-4877-9077-6c28965ebf30",
    "deepnote_app_coordinates": {
     "h": 5,
     "w": 12,
     "x": 0,
     "y": 264
    },
    "deepnote_cell_type": "markdown"
   },
   "source": [
    "## String operations"
   ]
  },
  {
   "cell_type": "code",
   "execution_count": null,
   "metadata": {
    "allow_embed": true,
    "cell_id": "57958197ba194d2ca4af41d6e7a47983",
    "deepnote_app_coordinates": {
     "h": 5,
     "w": 12,
     "x": 0,
     "y": 270
    },
    "deepnote_cell_type": "code",
    "tags": []
   },
   "outputs": [],
   "source": [
    "# on column names\n",
    "df.columns = df.columns.str.lower()\n",
    "df.columns = df.columns.str.replace(' ', '_')"
   ]
  },
  {
   "cell_type": "code",
   "execution_count": null,
   "metadata": {
    "allow_embed": true,
    "cell_id": "7bc3751c335c499d980a5acc724b8c38",
    "deepnote_app_coordinates": {
     "h": 5,
     "w": 12,
     "x": 0,
     "y": 276
    },
    "deepnote_cell_type": "code",
    "tags": []
   },
   "outputs": [],
   "source": [
    "df['name'].str.contains(\"John\")\n",
    "\n",
    "df['phone_num'].str.contains('...-...-....', regex=True)  # regex\n",
    "\n",
    "df['email'].str.contains('gmail')"
   ]
  },
  {
   "cell_type": "code",
   "execution_count": null,
   "metadata": {
    "allow_embed": true,
    "cell_id": "486d007a7f7f401fbaf0bdb3bfff1d28",
    "deepnote_app_coordinates": {
     "h": 5,
     "w": 12,
     "x": 0,
     "y": 282
    },
    "deepnote_cell_type": "code",
    "tags": []
   },
   "outputs": [],
   "source": [
    "pattern = '([A-Z0-9._%+-]+)@([A-Z0-9.-]+)\\\\.([A-Z]{2,4})'\n",
    "\n",
    "df['email'].str.findall(pattern, flags=re.IGNORECASE)"
   ]
  },
  {
   "cell_type": "markdown",
   "metadata": {
    "cell_id": "00027-81d128be-c76f-4c5c-8c73-69c51290260b",
    "deepnote_app_coordinates": {
     "h": 5,
     "w": 12,
     "x": 0,
     "y": 288
    },
    "deepnote_cell_type": "markdown"
   },
   "source": [
    "remove non-numeric values throughout df"
   ]
  },
  {
   "cell_type": "code",
   "execution_count": null,
   "metadata": {
    "cell_id": "00028-a210ac46-4f66-4014-a545-74b3eeb3c1f2",
    "deepnote_app_coordinates": {
     "h": 5,
     "w": 12,
     "x": 0,
     "y": 294
    },
    "deepnote_cell_type": "code"
   },
   "outputs": [],
   "source": [
    "for col in df.columns.values:\n",
    "    df[col] = df[col].replace(\"[^0-9]+.-\", \"\", regex=True)"
   ]
  },
  {
   "cell_type": "markdown",
   "metadata": {
    "cell_id": "00029-e186e832-9f69-4870-8cd3-20804b0e382c",
    "deepnote_app_coordinates": {
     "h": 5,
     "w": 12,
     "x": 0,
     "y": 300
    },
    "deepnote_cell_type": "markdown"
   },
   "source": [
    "## Missing values"
   ]
  },
  {
   "cell_type": "code",
   "execution_count": 5,
   "metadata": {
    "allow_embed": "code_output",
    "cell_id": "3d7844499a7d421085a1f1156e190e2f",
    "deepnote_app_coordinates": {
     "h": 5,
     "w": 12,
     "x": 0,
     "y": 306
    },
    "deepnote_cell_type": "code",
    "deepnote_to_be_reexecuted": false,
    "execution_millis": 639,
    "execution_start": 1650261987520,
    "source_hash": "5bd45e26",
    "tags": []
   },
   "outputs": [
    {
     "name": "stdout",
     "output_type": "stream",
     "text": [
      "There are a total of 16 variables with missing values\n",
      "\n",
      "PoolQC               => 100.0%\n",
      "Alley                => 94.0%\n",
      "MiscFeature          => 91.0%\n",
      "Fence                => 77.0%\n",
      "FireplaceQu          => 54.0%\n",
      "LotFrontage          => 14.0%\n",
      "GarageType           => 6.0%\n",
      "GarageYrBlt          => 6.0%\n",
      "GarageFinish         => 6.0%\n",
      "GarageQual           => 6.0%\n",
      "GarageCond           => 6.0%\n",
      "BsmtQual             => 3.0%\n",
      "BsmtCond             => 3.0%\n",
      "BsmtExposure         => 3.0%\n",
      "BsmtFinType1         => 3.0%\n",
      "BsmtFinType2         => 3.0%\n"
     ]
    }
   ],
   "source": [
    "def missing_vals(df):\n",
    "    \"\"\"prints out columns with perc of missing values\"\"\"\n",
    "    missing = [\n",
    "        (df.columns[idx], perc)\n",
    "        for idx, perc in enumerate(df.isna().mean() * 100)\n",
    "        if perc > 0\n",
    "    ]\n",
    "\n",
    "    if len(missing) == 0:\n",
    "        return \"no missing values\"\n",
    "        \n",
    "\n",
    "    # sort desc by perc\n",
    "    missing.sort(key=lambda x: x[1], reverse=True)\n",
    "\n",
    "    print(f\"There are a total of {len(missing)} variables with missing values\\n\")\n",
    "\n",
    "    for tup in missing:\n",
    "        print(str.ljust(f\"{tup[0]:<20} => {round(tup[1], 3)}%\", 1))\n",
    "\n",
    "\n",
    "missing_vals(df)"
   ]
  },
  {
   "cell_type": "code",
   "execution_count": 6,
   "metadata": {},
   "outputs": [],
   "source": [
    "def missing_cols(df):\n",
    "    '''prints out columns with its amount of missing values with its %'''\n",
    "    total = 0\n",
    "    for col in df.columns:\n",
    "        missing_vals = df[col].isnull().sum()\n",
    "        pct = df[col].isna().mean() * 100\n",
    "        total += missing_vals\n",
    "        if missing_vals != 0:\n",
    "          print('{} => {} [{}%]'.format(col, df[col].isnull().sum(), round(pct, 2)))\n",
    "    \n",
    "    if total == 0:\n",
    "        print(\"no missing values\")"
   ]
  },
  {
   "cell_type": "code",
   "execution_count": 7,
   "metadata": {},
   "outputs": [
    {
     "name": "stdout",
     "output_type": "stream",
     "text": [
      "LotFrontage => 14 [14.0%]\n",
      "Alley => 94 [94.0%]\n",
      "BsmtQual => 3 [3.0%]\n",
      "BsmtCond => 3 [3.0%]\n",
      "BsmtExposure => 3 [3.0%]\n",
      "BsmtFinType1 => 3 [3.0%]\n",
      "BsmtFinType2 => 3 [3.0%]\n",
      "FireplaceQu => 54 [54.0%]\n",
      "GarageType => 6 [6.0%]\n",
      "GarageYrBlt => 6 [6.0%]\n",
      "GarageFinish => 6 [6.0%]\n",
      "GarageQual => 6 [6.0%]\n",
      "GarageCond => 6 [6.0%]\n",
      "PoolQC => 100 [100.0%]\n",
      "Fence => 77 [77.0%]\n",
      "MiscFeature => 91 [91.0%]\n"
     ]
    }
   ],
   "source": [
    "missing_cols(df)"
   ]
  },
  {
   "cell_type": "markdown",
   "metadata": {
    "cell_id": "851d3820d6444ef48bf7f3426a262258",
    "deepnote_app_coordinates": {
     "h": 5,
     "w": 12,
     "x": 0,
     "y": 312
    },
    "deepnote_cell_type": "markdown",
    "tags": []
   },
   "source": [
    "dropping"
   ]
  },
  {
   "cell_type": "markdown",
   "metadata": {
    "cell_id": "62004cf4d17d411880f53e7bb1d065e4",
    "deepnote_app_coordinates": {
     "h": 5,
     "w": 12,
     "x": 0,
     "y": 318
    },
    "deepnote_cell_type": "markdown",
    "tags": []
   },
   "source": [
    "imputing"
   ]
  },
  {
   "cell_type": "code",
   "execution_count": null,
   "metadata": {
    "allow_embed": true,
    "cell_id": "87115d18b0d6467bb616c57ec4443e06",
    "deepnote_app_coordinates": {
     "h": 5,
     "w": 12,
     "x": 0,
     "y": 324
    },
    "deepnote_cell_type": "code",
    "deepnote_to_be_reexecuted": false,
    "execution_millis": 2,
    "execution_start": 1650413317255,
    "output_cleared": true,
    "source_hash": "5f7d921c",
    "tags": []
   },
   "outputs": [],
   "source": [
    "# drop \n",
    "df.dropna(axis=0)\n",
    "df.dropna(axis=1)\n",
    "\n",
    "# impute\n",
    "df.fillna(0)\n",
    "df.fillna(method=\"ffill\")\n",
    "df.fillna(method='bfill')\n",
    "\n",
    "# replace\n",
    "df.replace( -999, np.nan)\n",
    "df.replace(\"?\", np.nan)\n",
    "\n",
    "# interpolate\n",
    "ts.interpolate() # time series\n",
    "df.interpolate() # fill all consecutive values forward\n",
    "df.interpolate(limit=1) # fill one consecutive value forward\n",
    "df.interpolate(limit=1, limit_direction=\"backward\")\n",
    "df.interpolate(limit_direction=\"both\")"
   ]
  },
  {
   "cell_type": "markdown",
   "metadata": {
    "cell_id": "00031-d35b04be-74dd-4d25-a861-a204d0fd9683",
    "deepnote_app_coordinates": {
     "h": 5,
     "w": 12,
     "x": 0,
     "y": 330
    },
    "deepnote_cell_type": "markdown"
   },
   "source": [
    "## Date operations"
   ]
  },
  {
   "cell_type": "code",
   "execution_count": null,
   "metadata": {
    "cell_id": "9a696b42d233451a96057d595a7544a5",
    "deepnote_app_coordinates": {
     "h": 5,
     "w": 12,
     "x": 0,
     "y": 336
    },
    "deepnote_cell_type": "code",
    "deepnote_to_be_reexecuted": false,
    "execution_millis": 126,
    "execution_start": 1650238171199,
    "source_hash": "7de269f9",
    "tags": []
   },
   "outputs": [],
   "source": [
    "df = pd.read_csv(\"data/tesla.csv\", usecols=[\"Date\", \"Open\", \"Close\", \"Volume\"], parse_dates=['Date'])\n",
    "# https://www.kaggle.com/datasets/rpaguirre/tesla-stock-price"
   ]
  },
  {
   "cell_type": "markdown",
   "metadata": {
    "cell_id": "00033-8470c010-47ca-48ef-86c5-a337f25e94b8",
    "deepnote_app_coordinates": {
     "h": 5,
     "w": 12,
     "x": 0,
     "y": 342
    },
    "deepnote_cell_type": "markdown"
   },
   "source": [
    "Get X hours/days/weeks from today / ago"
   ]
  },
  {
   "cell_type": "code",
   "execution_count": null,
   "metadata": {
    "allow_embed": true,
    "cell_id": "00034-6f92d9a2-8d57-4811-844c-efde8fffc1f2",
    "deepnote_app_coordinates": {
     "h": 5,
     "w": 12,
     "x": 0,
     "y": 348
    },
    "deepnote_cell_type": "code",
    "deepnote_to_be_reexecuted": false,
    "execution_millis": 2,
    "execution_start": 1650262294267,
    "source_hash": "76ea2ec3"
   },
   "outputs": [
    {
     "data": {
      "text/plain": [
       "datetime.date(2021, 4, 18)"
      ]
     },
     "execution_count": 22,
     "metadata": {},
     "output_type": "execute_result"
    }
   ],
   "source": [
    "# from today\n",
    "date.today() + datetime.timedelta(hours=30)\n",
    "date.today() + datetime.timedelta(days=30)\n",
    "date.today() + datetime.timedelta(weeks=30)\n",
    "\n",
    "# ago\n",
    "date.today() - datetime.timedelta(days=365)"
   ]
  },
  {
   "cell_type": "markdown",
   "metadata": {
    "cell_id": "00035-ab46441d-70c5-44de-8579-d20292ae9939",
    "deepnote_app_coordinates": {
     "h": 5,
     "w": 12,
     "x": 0,
     "y": 354
    },
    "deepnote_cell_type": "markdown"
   },
   "source": [
    "filter between two dates"
   ]
  },
  {
   "cell_type": "code",
   "execution_count": null,
   "metadata": {
    "allow_embed": "code",
    "cell_id": "00036-ad71d4a7-d927-4c30-b47b-013eeacd820c",
    "deepnote_app_coordinates": {
     "h": 5,
     "w": 12,
     "x": 0,
     "y": 360
    },
    "deepnote_cell_type": "code",
    "deepnote_to_be_reexecuted": false,
    "execution_millis": 24,
    "execution_start": 1650238196136,
    "source_hash": "e589fff"
   },
   "outputs": [
    {
     "data": {
      "application/vnd.deepnote.dataframe.v3+json": {
       "column_count": 4,
       "columns": [
        {
         "dtype": "datetime64[ns]",
         "name": "Date",
         "stats": {
          "histogram": [
           {
            "bin_end": 1426446720000000000,
            "bin_start": 1420156800000000000,
            "count": 49
           },
           {
            "bin_end": 1432736640000000000,
            "bin_start": 1426446720000000000,
            "count": 51
           },
           {
            "bin_end": 1439026560000000000,
            "bin_start": 1432736640000000000,
            "count": 51
           },
           {
            "bin_end": 1445316480000000000,
            "bin_start": 1439026560000000000,
            "count": 51
           },
           {
            "bin_end": 1451606400000000000,
            "bin_start": 1445316480000000000,
            "count": 50
           },
           {
            "bin_end": 1457896320000000000,
            "bin_start": 1451606400000000000,
            "count": 48
           },
           {
            "bin_end": 1464186240000000000,
            "bin_start": 1457896320000000000,
            "count": 52
           },
           {
            "bin_end": 1470476160000000000,
            "bin_start": 1464186240000000000,
            "count": 50
           },
           {
            "bin_end": 1476766080000000000,
            "bin_start": 1470476160000000000,
            "count": 51
           },
           {
            "bin_end": 1483056000000000000,
            "bin_start": 1476766080000000000,
            "count": 51
           }
          ],
          "max": "2016-12-30 00:00:00",
          "min": "2015-01-02 00:00:00",
          "nan_count": 0,
          "unique_count": 504
         }
        },
        {
         "dtype": "float64",
         "name": "Open",
         "stats": {
          "histogram": [
           {
            "bin_end": 156.1080075,
            "bin_start": 142.320007,
            "count": 4
           },
           {
            "bin_end": 169.896008,
            "bin_start": 156.1080075,
            "count": 4
           },
           {
            "bin_end": 183.6840085,
            "bin_start": 169.896008,
            "count": 13
           },
           {
            "bin_end": 197.472009,
            "bin_start": 183.6840085,
            "count": 67
           },
           {
            "bin_end": 211.26000950000002,
            "bin_start": 197.472009,
            "count": 112
           },
           {
            "bin_end": 225.04801,
            "bin_start": 211.26000950000002,
            "count": 107
           },
           {
            "bin_end": 238.83601050000001,
            "bin_start": 225.04801,
            "count": 81
           },
           {
            "bin_end": 252.624011,
            "bin_start": 238.83601050000001,
            "count": 60
           },
           {
            "bin_end": 266.4120115,
            "bin_start": 252.624011,
            "count": 40
           },
           {
            "bin_end": 280.200012,
            "bin_start": 266.4120115,
            "count": 16
           }
          ],
          "max": "280.200012",
          "min": "142.320007",
          "nan_count": 0,
          "unique_count": 474
         }
        },
        {
         "dtype": "float64",
         "name": "Close",
         "stats": {
          "histogram": [
           {
            "bin_end": 157.5289992,
            "bin_start": 143.669998,
            "count": 6
           },
           {
            "bin_end": 171.3880004,
            "bin_start": 157.5289992,
            "count": 4
           },
           {
            "bin_end": 185.2470016,
            "bin_start": 171.3880004,
            "count": 14
           },
           {
            "bin_end": 199.1060028,
            "bin_start": 185.2470016,
            "count": 76
           },
           {
            "bin_end": 212.96500400000002,
            "bin_start": 199.1060028,
            "count": 117
           },
           {
            "bin_end": 226.82400520000002,
            "bin_start": 212.96500400000002,
            "count": 107
           },
           {
            "bin_end": 240.6830064,
            "bin_start": 226.82400520000002,
            "count": 64
           },
           {
            "bin_end": 254.54200760000003,
            "bin_start": 240.6830064,
            "count": 66
           },
           {
            "bin_end": 268.4010088,
            "bin_start": 254.54200760000003,
            "count": 43
           },
           {
            "bin_end": 282.26001,
            "bin_start": 268.4010088,
            "count": 7
           }
          ],
          "max": "282.26001",
          "min": "143.669998",
          "nan_count": 0,
          "unique_count": 488
         }
        },
        {
         "dtype": "int64",
         "name": "Volume",
         "stats": {
          "histogram": [
           {
            "bin_end": 3011440,
            "bin_start": 708000,
            "count": 129
           },
           {
            "bin_end": 5314880,
            "bin_start": 3011440,
            "count": 259
           },
           {
            "bin_end": 7618320,
            "bin_start": 5314880,
            "count": 77
           },
           {
            "bin_end": 9921760,
            "bin_start": 7618320,
            "count": 21
           },
           {
            "bin_end": 12225200,
            "bin_start": 9921760,
            "count": 8
           },
           {
            "bin_end": 14528640,
            "bin_start": 12225200,
            "count": 5
           },
           {
            "bin_end": 16832080,
            "bin_start": 14528640,
            "count": 4
           },
           {
            "bin_end": 19135520,
            "bin_start": 16832080,
            "count": 0
           },
           {
            "bin_end": 21438960,
            "bin_start": 19135520,
            "count": 0
           },
           {
            "bin_end": 23742400,
            "bin_start": 21438960,
            "count": 1
           }
          ],
          "max": "23742400",
          "min": "708000",
          "nan_count": 0,
          "unique_count": 504
         }
        },
        {
         "dtype": "int64",
         "name": "_deepnote_index_column"
        }
       ],
       "row_count": 504,
       "rows": [
        {
         "Close": 219.309998,
         "Date": "2015-01-02T00:00:00.000000",
         "Open": 222.869995,
         "Volume": 4764400,
         "_deepnote_index_column": 1136
        },
        {
         "Close": 210.089996,
         "Date": "2015-01-05T00:00:00.000000",
         "Open": 214.550003,
         "Volume": 5368500,
         "_deepnote_index_column": 1137
        },
        {
         "Close": 211.279999,
         "Date": "2015-01-06T00:00:00.000000",
         "Open": 210.059998,
         "Volume": 6261900,
         "_deepnote_index_column": 1138
        },
        {
         "Close": 210.949997,
         "Date": "2015-01-07T00:00:00.000000",
         "Open": 213.350006,
         "Volume": 2968400,
         "_deepnote_index_column": 1139
        },
        {
         "Close": 210.619995,
         "Date": "2015-01-08T00:00:00.000000",
         "Open": 212.809998,
         "Volume": 3442500,
         "_deepnote_index_column": 1140
        },
        {
         "Close": 206.660004,
         "Date": "2015-01-09T00:00:00.000000",
         "Open": 208.919998,
         "Volume": 4668300,
         "_deepnote_index_column": 1141
        },
        {
         "Close": 202.210007,
         "Date": "2015-01-12T00:00:00.000000",
         "Open": 203.050003,
         "Volume": 5950300,
         "_deepnote_index_column": 1142
        },
        {
         "Close": 204.25,
         "Date": "2015-01-13T00:00:00.000000",
         "Open": 203.320007,
         "Volume": 4477300,
         "_deepnote_index_column": 1143
        },
        {
         "Close": 192.690002,
         "Date": "2015-01-14T00:00:00.000000",
         "Open": 185.830002,
         "Volume": 11513900,
         "_deepnote_index_column": 1144
        },
        {
         "Close": 191.869995,
         "Date": "2015-01-15T00:00:00.000000",
         "Open": 194.490005,
         "Volume": 5216500,
         "_deepnote_index_column": 1145
        }
       ]
      },
      "text/html": [
       "<div>\n",
       "<style scoped>\n",
       "    .dataframe tbody tr th:only-of-type {\n",
       "        vertical-align: middle;\n",
       "    }\n",
       "\n",
       "    .dataframe tbody tr th {\n",
       "        vertical-align: top;\n",
       "    }\n",
       "\n",
       "    .dataframe thead th {\n",
       "        text-align: right;\n",
       "    }\n",
       "</style>\n",
       "<table border=\"1\" class=\"dataframe\">\n",
       "  <thead>\n",
       "    <tr style=\"text-align: right;\">\n",
       "      <th></th>\n",
       "      <th>Date</th>\n",
       "      <th>Open</th>\n",
       "      <th>Close</th>\n",
       "      <th>Volume</th>\n",
       "    </tr>\n",
       "  </thead>\n",
       "  <tbody>\n",
       "    <tr>\n",
       "      <th>1136</th>\n",
       "      <td>2015-01-02</td>\n",
       "      <td>222.869995</td>\n",
       "      <td>219.309998</td>\n",
       "      <td>4764400</td>\n",
       "    </tr>\n",
       "    <tr>\n",
       "      <th>1137</th>\n",
       "      <td>2015-01-05</td>\n",
       "      <td>214.550003</td>\n",
       "      <td>210.089996</td>\n",
       "      <td>5368500</td>\n",
       "    </tr>\n",
       "    <tr>\n",
       "      <th>1138</th>\n",
       "      <td>2015-01-06</td>\n",
       "      <td>210.059998</td>\n",
       "      <td>211.279999</td>\n",
       "      <td>6261900</td>\n",
       "    </tr>\n",
       "    <tr>\n",
       "      <th>1139</th>\n",
       "      <td>2015-01-07</td>\n",
       "      <td>213.350006</td>\n",
       "      <td>210.949997</td>\n",
       "      <td>2968400</td>\n",
       "    </tr>\n",
       "    <tr>\n",
       "      <th>1140</th>\n",
       "      <td>2015-01-08</td>\n",
       "      <td>212.809998</td>\n",
       "      <td>210.619995</td>\n",
       "      <td>3442500</td>\n",
       "    </tr>\n",
       "    <tr>\n",
       "      <th>...</th>\n",
       "      <td>...</td>\n",
       "      <td>...</td>\n",
       "      <td>...</td>\n",
       "      <td>...</td>\n",
       "    </tr>\n",
       "    <tr>\n",
       "      <th>1635</th>\n",
       "      <td>2016-12-23</td>\n",
       "      <td>208.000000</td>\n",
       "      <td>213.339996</td>\n",
       "      <td>4670500</td>\n",
       "    </tr>\n",
       "    <tr>\n",
       "      <th>1636</th>\n",
       "      <td>2016-12-27</td>\n",
       "      <td>214.880005</td>\n",
       "      <td>219.529999</td>\n",
       "      <td>5915700</td>\n",
       "    </tr>\n",
       "    <tr>\n",
       "      <th>1637</th>\n",
       "      <td>2016-12-28</td>\n",
       "      <td>221.529999</td>\n",
       "      <td>219.740005</td>\n",
       "      <td>3782500</td>\n",
       "    </tr>\n",
       "    <tr>\n",
       "      <th>1638</th>\n",
       "      <td>2016-12-29</td>\n",
       "      <td>218.559998</td>\n",
       "      <td>214.679993</td>\n",
       "      <td>4045000</td>\n",
       "    </tr>\n",
       "    <tr>\n",
       "      <th>1639</th>\n",
       "      <td>2016-12-30</td>\n",
       "      <td>216.300003</td>\n",
       "      <td>213.690002</td>\n",
       "      <td>4642600</td>\n",
       "    </tr>\n",
       "  </tbody>\n",
       "</table>\n",
       "<p>504 rows × 4 columns</p>\n",
       "</div>"
      ],
      "text/plain": [
       "           Date        Open       Close   Volume\n",
       "1136 2015-01-02  222.869995  219.309998  4764400\n",
       "1137 2015-01-05  214.550003  210.089996  5368500\n",
       "1138 2015-01-06  210.059998  211.279999  6261900\n",
       "1139 2015-01-07  213.350006  210.949997  2968400\n",
       "1140 2015-01-08  212.809998  210.619995  3442500\n",
       "...         ...         ...         ...      ...\n",
       "1635 2016-12-23  208.000000  213.339996  4670500\n",
       "1636 2016-12-27  214.880005  219.529999  5915700\n",
       "1637 2016-12-28  221.529999  219.740005  3782500\n",
       "1638 2016-12-29  218.559998  214.679993  4045000\n",
       "1639 2016-12-30  216.300003  213.690002  4642600\n",
       "\n",
       "[504 rows x 4 columns]"
      ]
     },
     "execution_count": 69,
     "metadata": {},
     "output_type": "execute_result"
    }
   ],
   "source": [
    "df[(df[\"Date\"] > \"2015-01-01\") & (df[\"Date\"] < \"2017-01-01\")]"
   ]
  },
  {
   "cell_type": "code",
   "execution_count": null,
   "metadata": {
    "allow_embed": "code",
    "cell_id": "73594388102944bf9126ae6f39a54b15",
    "deepnote_app_coordinates": {
     "h": 5,
     "w": 12,
     "x": 0,
     "y": 366
    },
    "deepnote_cell_type": "code",
    "deepnote_to_be_reexecuted": false,
    "execution_millis": 4,
    "execution_start": 1650238265081,
    "source_hash": "856a89f4",
    "tags": []
   },
   "outputs": [
    {
     "data": {
      "application/vnd.deepnote.dataframe.v3+json": {
       "column_count": 4,
       "columns": [
        {
         "dtype": "datetime64[ns]",
         "name": "Date",
         "stats": {
          "histogram": null,
          "max": "2017-03-01 00:00:00",
          "min": "2017-03-01 00:00:00",
          "nan_count": 0,
          "unique_count": 1
         }
        },
        {
         "dtype": "float64",
         "name": "Open",
         "stats": {
          "histogram": [
           {
            "bin_end": 253.779993,
            "bin_start": 253.679993,
            "count": 0
           },
           {
            "bin_end": 253.87999299999998,
            "bin_start": 253.779993,
            "count": 0
           },
           {
            "bin_end": 253.979993,
            "bin_start": 253.87999299999998,
            "count": 0
           },
           {
            "bin_end": 254.079993,
            "bin_start": 253.979993,
            "count": 0
           },
           {
            "bin_end": 254.179993,
            "bin_start": 254.079993,
            "count": 0
           },
           {
            "bin_end": 254.279993,
            "bin_start": 254.179993,
            "count": 1
           },
           {
            "bin_end": 254.37999299999998,
            "bin_start": 254.279993,
            "count": 0
           },
           {
            "bin_end": 254.479993,
            "bin_start": 254.37999299999998,
            "count": 0
           },
           {
            "bin_end": 254.579993,
            "bin_start": 254.479993,
            "count": 0
           },
           {
            "bin_end": 254.679993,
            "bin_start": 254.579993,
            "count": 0
           }
          ],
          "max": "254.179993",
          "min": "254.179993",
          "nan_count": 0,
          "unique_count": 1
         }
        },
        {
         "dtype": "float64",
         "name": "Close",
         "stats": {
          "histogram": [
           {
            "bin_end": 249.620004,
            "bin_start": 249.520004,
            "count": 0
           },
           {
            "bin_end": 249.720004,
            "bin_start": 249.620004,
            "count": 0
           },
           {
            "bin_end": 249.820004,
            "bin_start": 249.720004,
            "count": 0
           },
           {
            "bin_end": 249.920004,
            "bin_start": 249.820004,
            "count": 0
           },
           {
            "bin_end": 250.020004,
            "bin_start": 249.920004,
            "count": 0
           },
           {
            "bin_end": 250.120004,
            "bin_start": 250.020004,
            "count": 1
           },
           {
            "bin_end": 250.220004,
            "bin_start": 250.120004,
            "count": 0
           },
           {
            "bin_end": 250.320004,
            "bin_start": 250.220004,
            "count": 0
           },
           {
            "bin_end": 250.420004,
            "bin_start": 250.320004,
            "count": 0
           },
           {
            "bin_end": 250.520004,
            "bin_start": 250.420004,
            "count": 0
           }
          ],
          "max": "250.020004",
          "min": "250.020004",
          "nan_count": 0,
          "unique_count": 1
         }
        },
        {
         "dtype": "int64",
         "name": "Volume",
         "stats": {
          "histogram": [
           {
            "bin_end": 4800299.6,
            "bin_start": 4800299.5,
            "count": 0
           },
           {
            "bin_end": 4800299.7,
            "bin_start": 4800299.6,
            "count": 0
           },
           {
            "bin_end": 4800299.8,
            "bin_start": 4800299.7,
            "count": 0
           },
           {
            "bin_end": 4800299.9,
            "bin_start": 4800299.8,
            "count": 0
           },
           {
            "bin_end": 4800300,
            "bin_start": 4800299.9,
            "count": 0
           },
           {
            "bin_end": 4800300.1,
            "bin_start": 4800300,
            "count": 1
           },
           {
            "bin_end": 4800300.2,
            "bin_start": 4800300.1,
            "count": 0
           },
           {
            "bin_end": 4800300.3,
            "bin_start": 4800300.2,
            "count": 0
           },
           {
            "bin_end": 4800300.4,
            "bin_start": 4800300.3,
            "count": 0
           },
           {
            "bin_end": 4800300.5,
            "bin_start": 4800300.4,
            "count": 0
           }
          ],
          "max": "4800300",
          "min": "4800300",
          "nan_count": 0,
          "unique_count": 1
         }
        },
        {
         "dtype": "int64",
         "name": "_deepnote_index_column"
        }
       ],
       "row_count": 1,
       "rows": [
        {
         "Close": 250.020004,
         "Date": "2017-03-01T00:00:00.000000",
         "Open": 254.179993,
         "Volume": 4800300,
         "_deepnote_index_column": 1679
        }
       ]
      },
      "text/html": [
       "<div>\n",
       "<style scoped>\n",
       "    .dataframe tbody tr th:only-of-type {\n",
       "        vertical-align: middle;\n",
       "    }\n",
       "\n",
       "    .dataframe tbody tr th {\n",
       "        vertical-align: top;\n",
       "    }\n",
       "\n",
       "    .dataframe thead th {\n",
       "        text-align: right;\n",
       "    }\n",
       "</style>\n",
       "<table border=\"1\" class=\"dataframe\">\n",
       "  <thead>\n",
       "    <tr style=\"text-align: right;\">\n",
       "      <th></th>\n",
       "      <th>Date</th>\n",
       "      <th>Open</th>\n",
       "      <th>Close</th>\n",
       "      <th>Volume</th>\n",
       "    </tr>\n",
       "  </thead>\n",
       "  <tbody>\n",
       "    <tr>\n",
       "      <th>1679</th>\n",
       "      <td>2017-03-01</td>\n",
       "      <td>254.179993</td>\n",
       "      <td>250.020004</td>\n",
       "      <td>4800300</td>\n",
       "    </tr>\n",
       "  </tbody>\n",
       "</table>\n",
       "</div>"
      ],
      "text/plain": [
       "           Date        Open       Close   Volume\n",
       "1679 2017-03-01  254.179993  250.020004  4800300"
      ]
     },
     "execution_count": 71,
     "metadata": {},
     "output_type": "execute_result"
    }
   ],
   "source": [
    "# filter by single day\n",
    "df[df[\"Date\"].dt.strftime(\"%Y-%m-%d\") == \"2017-03-01\"]\n",
    "\n",
    "# filter by single month\n",
    "df[df[\"Date\"].dt.strftime(\"%m\") == \"12\"]\n",
    "\n",
    "# filter by single year\n",
    "df[df[\"Date\"].dt.strftime(\"%Y\") == \"2017\"]"
   ]
  },
  {
   "cell_type": "markdown",
   "metadata": {
    "cell_id": "00038-f5611d5d-8ccf-4ca7-81c7-3197b25275aa",
    "deepnote_app_coordinates": {
     "h": 5,
     "w": 12,
     "x": 0,
     "y": 372
    },
    "deepnote_cell_type": "markdown"
   },
   "source": [
    "Check out https://strftime.org/ for date string format in Python"
   ]
  },
  {
   "cell_type": "markdown",
   "metadata": {
    "cell_id": "00043-41d3ab5d-fe6f-4da2-ad78-4b5eb8779ac3",
    "deepnote_app_coordinates": {
     "h": 5,
     "w": 12,
     "x": 0,
     "y": 378
    },
    "deepnote_cell_type": "markdown"
   },
   "source": [
    "## Styling data frames\n",
    "\n",
    "https://pandas.pydata.org/pandas-docs/stable/user_guide/style.html"
   ]
  },
  {
   "cell_type": "code",
   "execution_count": null,
   "metadata": {
    "cell_id": "1a880deed023481e8785a67fb9b00025",
    "deepnote_app_coordinates": {
     "h": 5,
     "w": 12,
     "x": 0,
     "y": 384
    },
    "deepnote_cell_type": "code",
    "deepnote_to_be_reexecuted": false,
    "execution_millis": 2,
    "execution_start": 1650238385420,
    "source_hash": "6b9958ef",
    "tags": []
   },
   "outputs": [],
   "source": [
    "df = df.tail(10)"
   ]
  },
  {
   "cell_type": "code",
   "execution_count": null,
   "metadata": {
    "allow_embed": true,
    "cell_id": "00044-6d7c7c58-6561-4f03-a6d3-00d5e4996954",
    "deepnote_app_coordinates": {
     "h": 5,
     "w": 12,
     "x": 0,
     "y": 390
    },
    "deepnote_cell_type": "code",
    "deepnote_to_be_reexecuted": false,
    "execution_millis": 10,
    "execution_start": 1650238386426,
    "source_hash": "ae2c4e2b"
   },
   "outputs": [
    {
     "data": {
      "text/html": [
       "<style  type=\"text/css\" >\n",
       "</style><table id=\"T_02354_\" ><thead>    <tr>        <th class=\"blank level0\" ></th>        <th class=\"col_heading level0 col0\" >Date</th>        <th class=\"col_heading level0 col1\" >Open</th>        <th class=\"col_heading level0 col2\" >Close</th>        <th class=\"col_heading level0 col3\" >Volume</th>    </tr></thead><tbody>\n",
       "                <tr>\n",
       "                        <th id=\"T_02354_level0_row0\" class=\"row_heading level0 row0\" >1681</th>\n",
       "                        <td id=\"T_02354_row0_col0\" class=\"data row0 col0\" >03/03/17</td>\n",
       "                        <td id=\"T_02354_row0_col1\" class=\"data row0 col1\" >$250.74</td>\n",
       "                        <td id=\"T_02354_row0_col2\" class=\"data row0 col2\" >$251.57</td>\n",
       "                        <td id=\"T_02354_row0_col3\" class=\"data row0 col3\" >2,919,400</td>\n",
       "            </tr>\n",
       "            <tr>\n",
       "                        <th id=\"T_02354_level0_row1\" class=\"row_heading level0 row1\" >1686</th>\n",
       "                        <td id=\"T_02354_row1_col0\" class=\"data row1 col0\" >10/03/17</td>\n",
       "                        <td id=\"T_02354_row1_col1\" class=\"data row1 col1\" >$246.21</td>\n",
       "                        <td id=\"T_02354_row1_col2\" class=\"data row1 col2\" >$243.69</td>\n",
       "                        <td id=\"T_02354_row1_col3\" class=\"data row1 col3\" >3,057,000</td>\n",
       "            </tr>\n",
       "            <tr>\n",
       "                        <th id=\"T_02354_level0_row2\" class=\"row_heading level0 row2\" >1667</th>\n",
       "                        <td id=\"T_02354_row2_col0\" class=\"data row2 col0\" >10/02/17</td>\n",
       "                        <td id=\"T_02354_row2_col1\" class=\"data row2 col1\" >$269.79</td>\n",
       "                        <td id=\"T_02354_row2_col2\" class=\"data row2 col2\" >$269.23</td>\n",
       "                        <td id=\"T_02354_row2_col3\" class=\"data row2 col3\" >3,619,700</td>\n",
       "            </tr>\n",
       "            <tr>\n",
       "                        <th id=\"T_02354_level0_row3\" class=\"row_heading level0 row3\" >1642</th>\n",
       "                        <td id=\"T_02354_row3_col0\" class=\"data row3 col0\" >05/01/17</td>\n",
       "                        <td id=\"T_02354_row3_col1\" class=\"data row3 col1\" >$226.42</td>\n",
       "                        <td id=\"T_02354_row3_col2\" class=\"data row3 col2\" >$226.75</td>\n",
       "                        <td id=\"T_02354_row3_col3\" class=\"data row3 col3\" >5,911,700</td>\n",
       "            </tr>\n",
       "            <tr>\n",
       "                        <th id=\"T_02354_level0_row4\" class=\"row_heading level0 row4\" >1645</th>\n",
       "                        <td id=\"T_02354_row4_col0\" class=\"data row4 col0\" >10/01/17</td>\n",
       "                        <td id=\"T_02354_row4_col1\" class=\"data row4 col1\" >$232.00</td>\n",
       "                        <td id=\"T_02354_row4_col2\" class=\"data row4 col2\" >$229.87</td>\n",
       "                        <td id=\"T_02354_row4_col3\" class=\"data row4 col3\" >3,660,000</td>\n",
       "            </tr>\n",
       "            <tr>\n",
       "                        <th id=\"T_02354_level0_row5\" class=\"row_heading level0 row5\" >1655</th>\n",
       "                        <td id=\"T_02354_row5_col0\" class=\"data row5 col0\" >25/01/17</td>\n",
       "                        <td id=\"T_02354_row5_col1\" class=\"data row5 col1\" >$257.31</td>\n",
       "                        <td id=\"T_02354_row5_col2\" class=\"data row5 col2\" >$254.47</td>\n",
       "                        <td id=\"T_02354_row5_col3\" class=\"data row5 col3\" >5,142,600</td>\n",
       "            </tr>\n",
       "            <tr>\n",
       "                        <th id=\"T_02354_level0_row6\" class=\"row_heading level0 row6\" >1643</th>\n",
       "                        <td id=\"T_02354_row6_col0\" class=\"data row6 col0\" >06/01/17</td>\n",
       "                        <td id=\"T_02354_row6_col1\" class=\"data row6 col1\" >$226.93</td>\n",
       "                        <td id=\"T_02354_row6_col2\" class=\"data row6 col2\" >$229.01</td>\n",
       "                        <td id=\"T_02354_row6_col3\" class=\"data row6 col3\" >5,527,900</td>\n",
       "            </tr>\n",
       "            <tr>\n",
       "                        <th id=\"T_02354_level0_row7\" class=\"row_heading level0 row7\" >1666</th>\n",
       "                        <td id=\"T_02354_row7_col0\" class=\"data row7 col0\" >09/02/17</td>\n",
       "                        <td id=\"T_02354_row7_col1\" class=\"data row7 col1\" >$266.25</td>\n",
       "                        <td id=\"T_02354_row7_col2\" class=\"data row7 col2\" >$269.20</td>\n",
       "                        <td id=\"T_02354_row7_col3\" class=\"data row7 col3\" >7,820,200</td>\n",
       "            </tr>\n",
       "            <tr>\n",
       "                        <th id=\"T_02354_level0_row8\" class=\"row_heading level0 row8\" >1662</th>\n",
       "                        <td id=\"T_02354_row8_col0\" class=\"data row8 col0\" >03/02/17</td>\n",
       "                        <td id=\"T_02354_row8_col1\" class=\"data row8 col1\" >$251.91</td>\n",
       "                        <td id=\"T_02354_row8_col2\" class=\"data row8 col2\" >$251.33</td>\n",
       "                        <td id=\"T_02354_row8_col3\" class=\"data row8 col3\" >2,186,700</td>\n",
       "            </tr>\n",
       "            <tr>\n",
       "                        <th id=\"T_02354_level0_row9\" class=\"row_heading level0 row9\" >1679</th>\n",
       "                        <td id=\"T_02354_row9_col0\" class=\"data row9 col0\" >01/03/17</td>\n",
       "                        <td id=\"T_02354_row9_col1\" class=\"data row9 col1\" >$254.18</td>\n",
       "                        <td id=\"T_02354_row9_col2\" class=\"data row9 col2\" >$250.02</td>\n",
       "                        <td id=\"T_02354_row9_col3\" class=\"data row9 col3\" >4,800,300</td>\n",
       "            </tr>\n",
       "    </tbody></table>"
      ],
      "text/plain": [
       "<pandas.io.formats.style.Styler at 0x7f01f2243210>"
      ]
     },
     "execution_count": 81,
     "metadata": {},
     "output_type": "execute_result"
    }
   ],
   "source": [
    "format_dict = {\n",
    "    \"Date\": \"{:%d/%m/%y}\",\n",
    "    \"Open\": \"${:.2f}\",\n",
    "    \"Close\": \"${:.2f}\",\n",
    "    \"Volume\": \"{:,}\",\n",
    "}\n",
    "\n",
    "df.style.format(format_dict)\n"
   ]
  },
  {
   "cell_type": "code",
   "execution_count": null,
   "metadata": {
    "allow_embed": true,
    "cell_id": "00045-dae99294-b9a8-4f64-9a2b-b7986d267b89",
    "deepnote_app_coordinates": {
     "h": 5,
     "w": 12,
     "x": 0,
     "y": 396
    },
    "deepnote_cell_type": "code",
    "deepnote_to_be_reexecuted": false,
    "execution_millis": 42,
    "execution_start": 1650238861780,
    "source_hash": "69de93df"
   },
   "outputs": [
    {
     "data": {
      "text/html": [
       "<style  type=\"text/css\" >\n",
       "#T_bb688_row0_col2{\n",
       "            background-color:  #52b365;\n",
       "            color:  #000000;\n",
       "        }#T_bb688_row0_col3{\n",
       "            width:  10em;\n",
       "             height:  80%;\n",
       "            background:  linear-gradient(90deg, transparent 50.0%, lightblue 50.0%, lightblue 68.7%, transparent 68.7%);\n",
       "        }#T_bb688_row1_col2{\n",
       "            background-color:  #98d594;\n",
       "            color:  #000000;\n",
       "        }#T_bb688_row1_col3{\n",
       "            width:  10em;\n",
       "             height:  80%;\n",
       "            background:  linear-gradient(90deg, transparent 50.0%, lightblue 50.0%, lightblue 69.5%, transparent 69.5%);\n",
       "        }#T_bb688_row2_col1{\n",
       "            background-color:  green;\n",
       "        }#T_bb688_row2_col2,#T_bb688_row7_col2{\n",
       "            background-color:  #00441b;\n",
       "            color:  #f1f1f1;\n",
       "        }#T_bb688_row2_col3{\n",
       "            width:  10em;\n",
       "             height:  80%;\n",
       "            background:  linear-gradient(90deg, transparent 50.0%, lightblue 50.0%, lightblue 73.1%, transparent 73.1%);\n",
       "        }#T_bb688_row3_col1{\n",
       "            background-color:  red;\n",
       "        }#T_bb688_row3_col2{\n",
       "            background-color:  #f7fcf5;\n",
       "            color:  #000000;\n",
       "        }#T_bb688_row3_col3{\n",
       "            width:  10em;\n",
       "             height:  80%;\n",
       "            background:  linear-gradient(90deg, transparent 50.0%, lightblue 50.0%, lightblue 87.8%, transparent 87.8%);\n",
       "        }#T_bb688_row4_col2{\n",
       "            background-color:  #edf8e9;\n",
       "            color:  #000000;\n",
       "        }#T_bb688_row4_col3{\n",
       "            width:  10em;\n",
       "             height:  80%;\n",
       "            background:  linear-gradient(90deg, transparent 50.0%, lightblue 50.0%, lightblue 73.4%, transparent 73.4%);\n",
       "        }#T_bb688_row5_col2{\n",
       "            background-color:  #3aa357;\n",
       "            color:  #000000;\n",
       "        }#T_bb688_row5_col3{\n",
       "            width:  10em;\n",
       "             height:  80%;\n",
       "            background:  linear-gradient(90deg, transparent 50.0%, lightblue 50.0%, lightblue 82.9%, transparent 82.9%);\n",
       "        }#T_bb688_row6_col2{\n",
       "            background-color:  #f0f9ec;\n",
       "            color:  #000000;\n",
       "        }#T_bb688_row6_col3{\n",
       "            width:  10em;\n",
       "             height:  80%;\n",
       "            background:  linear-gradient(90deg, transparent 50.0%, lightblue 50.0%, lightblue 85.3%, transparent 85.3%);\n",
       "        }#T_bb688_row7_col3{\n",
       "            width:  10em;\n",
       "             height:  80%;\n",
       "            background:  linear-gradient(90deg, transparent 50.0%, lightblue 50.0%, lightblue 100.0%, transparent 100.0%);\n",
       "        }#T_bb688_row8_col2{\n",
       "            background-color:  #53b466;\n",
       "            color:  #000000;\n",
       "        }#T_bb688_row8_col3{\n",
       "            width:  10em;\n",
       "             height:  80%;\n",
       "            background:  linear-gradient(90deg, transparent 50.0%, lightblue 50.0%, lightblue 64.0%, transparent 64.0%);\n",
       "        }#T_bb688_row9_col2{\n",
       "            background-color:  #60ba6c;\n",
       "            color:  #000000;\n",
       "        }#T_bb688_row9_col3{\n",
       "            width:  10em;\n",
       "             height:  80%;\n",
       "            background:  linear-gradient(90deg, transparent 50.0%, lightblue 50.0%, lightblue 80.7%, transparent 80.7%);\n",
       "        }</style><table id=\"T_bb688_\" ><caption>Tesla Stock Prices in 2017</caption><thead>    <tr>        <th class=\"col_heading level0 col0\" >Date</th>        <th class=\"col_heading level0 col1\" >Open</th>        <th class=\"col_heading level0 col2\" >Close</th>        <th class=\"col_heading level0 col3\" >Volume</th>    </tr></thead><tbody>\n",
       "                <tr>\n",
       "                                <td id=\"T_bb688_row0_col0\" class=\"data row0 col0\" >03/03/17</td>\n",
       "                        <td id=\"T_bb688_row0_col1\" class=\"data row0 col1\" >$250.74</td>\n",
       "                        <td id=\"T_bb688_row0_col2\" class=\"data row0 col2\" >$251.57</td>\n",
       "                        <td id=\"T_bb688_row0_col3\" class=\"data row0 col3\" >2,919,400</td>\n",
       "            </tr>\n",
       "            <tr>\n",
       "                                <td id=\"T_bb688_row1_col0\" class=\"data row1 col0\" >10/03/17</td>\n",
       "                        <td id=\"T_bb688_row1_col1\" class=\"data row1 col1\" >$246.21</td>\n",
       "                        <td id=\"T_bb688_row1_col2\" class=\"data row1 col2\" >$243.69</td>\n",
       "                        <td id=\"T_bb688_row1_col3\" class=\"data row1 col3\" >3,057,000</td>\n",
       "            </tr>\n",
       "            <tr>\n",
       "                                <td id=\"T_bb688_row2_col0\" class=\"data row2 col0\" >10/02/17</td>\n",
       "                        <td id=\"T_bb688_row2_col1\" class=\"data row2 col1\" >$269.79</td>\n",
       "                        <td id=\"T_bb688_row2_col2\" class=\"data row2 col2\" >$269.23</td>\n",
       "                        <td id=\"T_bb688_row2_col3\" class=\"data row2 col3\" >3,619,700</td>\n",
       "            </tr>\n",
       "            <tr>\n",
       "                                <td id=\"T_bb688_row3_col0\" class=\"data row3 col0\" >05/01/17</td>\n",
       "                        <td id=\"T_bb688_row3_col1\" class=\"data row3 col1\" >$226.42</td>\n",
       "                        <td id=\"T_bb688_row3_col2\" class=\"data row3 col2\" >$226.75</td>\n",
       "                        <td id=\"T_bb688_row3_col3\" class=\"data row3 col3\" >5,911,700</td>\n",
       "            </tr>\n",
       "            <tr>\n",
       "                                <td id=\"T_bb688_row4_col0\" class=\"data row4 col0\" >10/01/17</td>\n",
       "                        <td id=\"T_bb688_row4_col1\" class=\"data row4 col1\" >$232.00</td>\n",
       "                        <td id=\"T_bb688_row4_col2\" class=\"data row4 col2\" >$229.87</td>\n",
       "                        <td id=\"T_bb688_row4_col3\" class=\"data row4 col3\" >3,660,000</td>\n",
       "            </tr>\n",
       "            <tr>\n",
       "                                <td id=\"T_bb688_row5_col0\" class=\"data row5 col0\" >25/01/17</td>\n",
       "                        <td id=\"T_bb688_row5_col1\" class=\"data row5 col1\" >$257.31</td>\n",
       "                        <td id=\"T_bb688_row5_col2\" class=\"data row5 col2\" >$254.47</td>\n",
       "                        <td id=\"T_bb688_row5_col3\" class=\"data row5 col3\" >5,142,600</td>\n",
       "            </tr>\n",
       "            <tr>\n",
       "                                <td id=\"T_bb688_row6_col0\" class=\"data row6 col0\" >06/01/17</td>\n",
       "                        <td id=\"T_bb688_row6_col1\" class=\"data row6 col1\" >$226.93</td>\n",
       "                        <td id=\"T_bb688_row6_col2\" class=\"data row6 col2\" >$229.01</td>\n",
       "                        <td id=\"T_bb688_row6_col3\" class=\"data row6 col3\" >5,527,900</td>\n",
       "            </tr>\n",
       "            <tr>\n",
       "                                <td id=\"T_bb688_row7_col0\" class=\"data row7 col0\" >09/02/17</td>\n",
       "                        <td id=\"T_bb688_row7_col1\" class=\"data row7 col1\" >$266.25</td>\n",
       "                        <td id=\"T_bb688_row7_col2\" class=\"data row7 col2\" >$269.20</td>\n",
       "                        <td id=\"T_bb688_row7_col3\" class=\"data row7 col3\" >7,820,200</td>\n",
       "            </tr>\n",
       "            <tr>\n",
       "                                <td id=\"T_bb688_row8_col0\" class=\"data row8 col0\" >03/02/17</td>\n",
       "                        <td id=\"T_bb688_row8_col1\" class=\"data row8 col1\" >$251.91</td>\n",
       "                        <td id=\"T_bb688_row8_col2\" class=\"data row8 col2\" >$251.33</td>\n",
       "                        <td id=\"T_bb688_row8_col3\" class=\"data row8 col3\" >2,186,700</td>\n",
       "            </tr>\n",
       "            <tr>\n",
       "                                <td id=\"T_bb688_row9_col0\" class=\"data row9 col0\" >01/03/17</td>\n",
       "                        <td id=\"T_bb688_row9_col1\" class=\"data row9 col1\" >$254.18</td>\n",
       "                        <td id=\"T_bb688_row9_col2\" class=\"data row9 col2\" >$250.02</td>\n",
       "                        <td id=\"T_bb688_row9_col3\" class=\"data row9 col3\" >4,800,300</td>\n",
       "            </tr>\n",
       "    </tbody></table>"
      ],
      "text/plain": [
       "<pandas.io.formats.style.Styler at 0x7f01f1014e50>"
      ]
     },
     "execution_count": 101,
     "metadata": {},
     "output_type": "execute_result"
    }
   ],
   "source": [
    "(\n",
    "    df.style.format(format_dict)\n",
    "    .hide_index()\n",
    "    .highlight_min([\"Open\"], color=\"red\")\n",
    "    .highlight_max([\"Open\"], color=\"green\")\n",
    "    .background_gradient(subset=\"Close\", cmap=\"Greens\")\n",
    "    .bar('Volume', color='lightblue', align='zero')\n",
    "    .set_caption('Tesla Stock Prices in 2017')\n",
    ")"
   ]
  },
  {
   "cell_type": "markdown",
   "metadata": {
    "cell_id": "00048-3508ae1b-80c5-4308-9201-d1fdc65db8a3",
    "deepnote_app_coordinates": {
     "h": 5,
     "w": 12,
     "x": 0,
     "y": 402
    },
    "deepnote_cell_type": "markdown"
   },
   "source": [
    "## Misc"
   ]
  },
  {
   "cell_type": "code",
   "execution_count": null,
   "metadata": {
    "allow_embed": true,
    "cell_id": "2910da02b6d5492fbdc11785354b96b6",
    "deepnote_app_coordinates": {
     "h": 5,
     "w": 12,
     "x": 0,
     "y": 408
    },
    "deepnote_cell_type": "code",
    "tags": []
   },
   "outputs": [],
   "source": [
    "df['col'].idxmin()\n",
    "df['col'].idxmax()"
   ]
  },
  {
   "cell_type": "markdown",
   "metadata": {
    "cell_id": "004a4b6ccb2047c584484504a5cfb49b",
    "deepnote_app_coordinates": {
     "h": 5,
     "w": 12,
     "x": 0,
     "y": 414
    },
    "deepnote_cell_type": "markdown",
    "tags": []
   },
   "source": [
    "apply function to entire data frame"
   ]
  },
  {
   "cell_type": "code",
   "execution_count": null,
   "metadata": {
    "allow_embed": "code",
    "cell_id": "00040-ed6feef9-0b0b-4e32-9880-696d0554b459",
    "deepnote_app_coordinates": {
     "h": 5,
     "w": 12,
     "x": 0,
     "y": 420
    },
    "deepnote_cell_type": "code"
   },
   "outputs": [],
   "source": [
    "df.applymap(lambda x: np.log(x))"
   ]
  },
  {
   "cell_type": "markdown",
   "metadata": {
    "cell_id": "00049-3887cc67-6562-4c01-835c-07f5c415cc3f",
    "deepnote_app_coordinates": {
     "h": 5,
     "w": 12,
     "x": 0,
     "y": 426
    },
    "deepnote_cell_type": "markdown"
   },
   "source": [
    "shuffle data frame"
   ]
  },
  {
   "cell_type": "code",
   "execution_count": null,
   "metadata": {
    "allow_embed": "code",
    "cell_id": "7332ec992f974448b9d4875c799819bc",
    "deepnote_app_coordinates": {
     "h": 5,
     "w": 12,
     "x": 0,
     "y": 432
    },
    "deepnote_cell_type": "code",
    "tags": []
   },
   "outputs": [],
   "source": [
    "df.sample(frac=1, random_state=7).reset_index(drop=True)"
   ]
  },
  {
   "cell_type": "markdown",
   "metadata": {
    "cell_id": "00053-f43b7f42-aa45-408d-8ff7-06525fafb44e",
    "deepnote_app_coordinates": {
     "h": 5,
     "w": 12,
     "x": 0,
     "y": 438
    },
    "deepnote_cell_type": "markdown"
   },
   "source": [
    "Percent changes\n",
    "\n",
    "ex: price of BTC over 3 days\n",
    "[30000, 33000, 31000] -> [NaN, 0.1, -0.06]"
   ]
  },
  {
   "cell_type": "code",
   "execution_count": null,
   "metadata": {
    "allow_embed": true,
    "cell_id": "00054-a9de4e81-c101-485b-8d63-0fac746af3dc",
    "deepnote_app_coordinates": {
     "h": 5,
     "w": 12,
     "x": 0,
     "y": 444
    },
    "deepnote_cell_type": "code"
   },
   "outputs": [],
   "source": [
    "df['col_name'].pct_change()"
   ]
  },
  {
   "cell_type": "markdown",
   "metadata": {
    "cell_id": "00055-6a7f916c-014e-4b6a-980e-c774882ffc11",
    "deepnote_app_coordinates": {
     "h": 5,
     "w": 12,
     "x": 0,
     "y": 450
    },
    "deepnote_cell_type": "markdown"
   },
   "source": [
    "Assign ranks to values"
   ]
  },
  {
   "cell_type": "code",
   "execution_count": null,
   "metadata": {
    "allow_embed": true,
    "cell_id": "00056-22dcec57-6570-495c-82c8-e18b820b5a6f",
    "deepnote_app_coordinates": {
     "h": 5,
     "w": 12,
     "x": 0,
     "y": 456
    },
    "deepnote_cell_type": "code"
   },
   "outputs": [],
   "source": [
    "df['rank'] = df['column_to_rank'].rank()"
   ]
  },
  {
   "cell_type": "markdown",
   "metadata": {
    "cell_id": "00057-91cb54d5-fa84-4cbe-a2b2-3088f7623d72",
    "deepnote_app_coordinates": {
     "h": 5,
     "w": 12,
     "x": 0,
     "y": 462
    },
    "deepnote_cell_type": "markdown"
   },
   "source": [
    "Explode list to rows"
   ]
  },
  {
   "cell_type": "code",
   "execution_count": null,
   "metadata": {
    "allow_embed": true,
    "cell_id": "00058-91901b38-b479-402a-b63a-344eed071bae",
    "deepnote_app_coordinates": {
     "h": 5,
     "w": 12,
     "x": 0,
     "y": 468
    },
    "deepnote_cell_type": "code"
   },
   "outputs": [],
   "source": [
    "df.explode(\"col_name\").reset_index(drop=True)"
   ]
  },
  {
   "cell_type": "markdown",
   "metadata": {
    "cell_id": "00061-3258f3a8-8d5e-498d-b9a9-89ab65774aa6",
    "deepnote_app_coordinates": {
     "h": 5,
     "w": 12,
     "x": 0,
     "y": 474
    },
    "deepnote_cell_type": "markdown"
   },
   "source": [
    "Check Memory"
   ]
  },
  {
   "cell_type": "code",
   "execution_count": 8,
   "metadata": {
    "allow_embed": "code",
    "cell_id": "00062-648caf5b-9ce4-4168-90a8-d455287cf946",
    "deepnote_app_coordinates": {
     "h": 5,
     "w": 12,
     "x": 0,
     "y": 480
    },
    "deepnote_cell_type": "code",
    "deepnote_to_be_reexecuted": false,
    "execution_millis": 0,
    "execution_start": 1650262683071,
    "source_hash": "9cfc3d72"
   },
   "outputs": [
    {
     "data": {
      "text/plain": [
       "0.061920166015625"
      ]
     },
     "execution_count": 8,
     "metadata": {},
     "output_type": "execute_result"
    }
   ],
   "source": [
    "df.memory_usage().sum() / (1024**2) #converting to MB"
   ]
  },
  {
   "cell_type": "code",
   "execution_count": null,
   "metadata": {
    "cell_id": "f17d438b4c504bfdb5262e9840a31228",
    "deepnote_app_coordinates": {
     "h": 5,
     "w": 12,
     "x": 0,
     "y": 486
    },
    "deepnote_cell_type": "code",
    "deepnote_to_be_reexecuted": false,
    "execution_millis": 26,
    "execution_start": 1650415447333,
    "source_hash": "cbd2164f",
    "tags": []
   },
   "outputs": [],
   "source": [
    "df = pd.read_csv(\"data/house_price.csv\", nrows=100)"
   ]
  },
  {
   "cell_type": "code",
   "execution_count": null,
   "metadata": {
    "cell_id": "e631b601e14a4955af12515b7b45f844",
    "deepnote_app_coordinates": {
     "h": 5,
     "w": 12,
     "x": 0,
     "y": 492
    },
    "deepnote_cell_type": "code",
    "deepnote_to_be_reexecuted": false,
    "execution_millis": 5,
    "execution_start": 1650415597850,
    "source_hash": "25d43fa0",
    "tags": []
   },
   "outputs": [
    {
     "data": {
      "text/plain": [
       "Index(['Id', 'MSSubClass', 'MSZoning', 'LotFrontage', 'LotArea', 'Street',\n",
       "       'Alley', 'LotShape', 'LandContour', 'Utilities', 'LotConfig',\n",
       "       'LandSlope', 'Neighborhood', 'Condition1', 'Condition2', 'BldgType',\n",
       "       'HouseStyle', 'OverallQual', 'OverallCond', 'YearBuilt', 'YearRemodAdd',\n",
       "       'RoofStyle', 'RoofMatl', 'Exterior1st', 'Exterior2nd', 'MasVnrType',\n",
       "       'MasVnrArea', 'ExterQual', 'ExterCond', 'Foundation', 'BsmtQual',\n",
       "       'BsmtCond', 'BsmtExposure', 'BsmtFinType1', 'BsmtFinSF1',\n",
       "       'BsmtFinType2', 'BsmtFinSF2', 'BsmtUnfSF', 'TotalBsmtSF', 'Heating',\n",
       "       'HeatingQC', 'CentralAir', 'Electrical', '1stFlrSF', '2ndFlrSF',\n",
       "       'LowQualFinSF', 'GrLivArea', 'BsmtFullBath', 'BsmtHalfBath', 'FullBath',\n",
       "       'HalfBath', 'BedroomAbvGr', 'KitchenAbvGr', 'KitchenQual',\n",
       "       'TotRmsAbvGrd', 'Functional', 'Fireplaces', 'FireplaceQu', 'GarageType',\n",
       "       'GarageYrBlt', 'GarageFinish', 'GarageCars', 'GarageArea', 'GarageQual',\n",
       "       'GarageCond', 'PavedDrive', 'WoodDeckSF', 'OpenPorchSF',\n",
       "       'EnclosedPorch', '3SsnPorch', 'ScreenPorch', 'PoolArea', 'PoolQC',\n",
       "       'Fence', 'MiscFeature', 'MiscVal', 'MoSold', 'YrSold', 'SaleType',\n",
       "       'SaleCondition', 'SalePrice'],\n",
       "      dtype='object')"
      ]
     },
     "execution_count": 16,
     "metadata": {},
     "output_type": "execute_result"
    }
   ],
   "source": [
    "df.columns"
   ]
  },
  {
   "cell_type": "code",
   "execution_count": null,
   "metadata": {
    "allow_embed": true,
    "cell_id": "1d2668065880408aa36a6de32f00eb25",
    "deepnote_app_coordinates": {
     "h": 5,
     "w": 12,
     "x": 0,
     "y": 498
    },
    "deepnote_cell_height": 404.921875,
    "deepnote_cell_type": "code",
    "deepnote_output_heights": [
     289.921875
    ],
    "deepnote_to_be_reexecuted": false,
    "execution_millis": 5,
    "execution_start": 1650415635030,
    "source_hash": "7d60d873",
    "tags": []
   },
   "outputs": [
    {
     "data": {
      "text/plain": [
       "20     45\n",
       "60     18\n",
       "50      9\n",
       "120     5\n",
       "30      4\n",
       "90      4\n",
       "190     3\n",
       "70      3\n",
       "160     2\n",
       "45      2\n",
       "80      2\n",
       "180     1\n",
       "75      1\n",
       "85      1\n",
       "Name: MSSubClass, dtype: int64"
      ]
     },
     "execution_count": 20,
     "metadata": {},
     "output_type": "execute_result"
    }
   ],
   "source": [
    "subclass = df.MSSubClass\n",
    "subclass.value_counts()"
   ]
  },
  {
   "cell_type": "code",
   "execution_count": null,
   "metadata": {
    "allow_embed": true,
    "cell_id": "9bd7943d49be4edb98eb6d2595a14b69",
    "deepnote_app_coordinates": {
     "h": 5,
     "w": 12,
     "x": 0,
     "y": 504
    },
    "deepnote_cell_height": 269.359375,
    "deepnote_cell_type": "code",
    "deepnote_output_heights": [
     136.359375
    ],
    "deepnote_to_be_reexecuted": false,
    "execution_millis": 17,
    "execution_start": 1650415640273,
    "owner_user_id": "5692a501-1353-4e5f-a9de-6cc0c6555b4a",
    "source_hash": "f312dff4",
    "tags": []
   },
   "outputs": [
    {
     "data": {
      "text/plain": [
       "20       45\n",
       "Other    19\n",
       "60       18\n",
       "50        9\n",
       "120       5\n",
       "30        4\n",
       "Name: MSSubClass, dtype: int64"
      ]
     },
     "execution_count": 21,
     "metadata": {},
     "output_type": "execute_result"
    }
   ],
   "source": [
    "top_five = subclass.value_counts().nlargest(5).index\n",
    "mssubclass_new = subclass.where(subclass.isin(top_five), other=\"Other\")\n",
    "mssubclass_new.value_counts()"
   ]
  },
  {
   "cell_type": "code",
   "execution_count": null,
   "metadata": {
    "cell_id": "652b7fdb7d734ed1bee211d39b228b3c",
    "deepnote_app_coordinates": {
     "h": 5,
     "w": 12,
     "x": 0,
     "y": 510
    },
    "deepnote_cell_height": 66,
    "deepnote_cell_type": "code",
    "tags": []
   },
   "outputs": [],
   "source": []
  },
  {
   "cell_type": "markdown",
   "metadata": {
    "created_in_deepnote_cell": true,
    "deepnote_cell_type": "markdown",
    "tags": []
   },
   "source": [
    "<a style='text-decoration:none;line-height:16px;display:flex;color:#5B5B62;padding:10px;justify-content:end;' href='https://deepnote.com?utm_source=created-in-deepnote-cell&projectId=a605a3e6-1564-47b2-94e7-842290ba7692' target=\"_blank\">\n",
    "<img alt='Created in deepnote.com' style='display:inline;max-height:16px;margin:0px;margin-right:7.5px;' src='data:image/svg+xml;base64,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' > </img>\n",
    "Created in <span style='font-weight:600;margin-left:4px;'>Deepnote</span></a>"
   ]
  }
 ],
 "metadata": {
  "deepnote": {},
  "deepnote_app_layout": "article",
  "deepnote_execution_queue": [],
  "deepnote_notebook_id": "50952147-fca0-49ec-8200-037ce9ac42a7",
  "interpreter": {
   "hash": "0f1e841692445df6c0f476977380d4c26cc40d52508098a18c340919add514d9"
  },
  "kernelspec": {
   "display_name": "Python 3.9.10 ('base')",
   "language": "python",
   "name": "python3"
  },
  "language_info": {
   "codemirror_mode": {
    "name": "ipython",
    "version": 3
   },
   "file_extension": ".py",
   "mimetype": "text/x-python",
   "name": "python",
   "nbconvert_exporter": "python",
   "pygments_lexer": "ipython3",
   "version": "3.9.7"
  },
  "orig_nbformat": 4
 },
 "nbformat": 4,
 "nbformat_minor": 2
}
