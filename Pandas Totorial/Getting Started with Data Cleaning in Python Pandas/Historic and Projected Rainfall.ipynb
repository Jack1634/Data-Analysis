{
 "cells": [
  {
   "cell_type": "markdown",
   "metadata": {},
   "source": [
    "## Historic and Projected Rainfall and Runoff for 4 Lake Victoria Sub-Regions"
   ]
  },
  {
   "cell_type": "markdown",
   "metadata": {},
   "source": [
    "* Loading the Dataset\n",
    "\n",
    "* Missing values\n",
    "\n",
    "* Data standardization\n",
    "\n",
    "* Preliminary Exploratory Data Analysis."
   ]
  },
  {
   "cell_type": "code",
   "execution_count": 18,
   "metadata": {},
   "outputs": [],
   "source": [
    "import pandas as pd\n",
    "import numpy as np\n",
    "import matplotlib.pyplot as plt\n",
    "import seaborn as sns\n",
    "import warnings\n",
    "warnings.filterwarnings(\"ignore\")\n",
    "%matplotlib inline"
   ]
  },
  {
   "cell_type": "markdown",
   "metadata": {},
   "source": [
    "### Loading the Dataset"
   ]
  },
  {
   "cell_type": "code",
   "execution_count": 20,
   "metadata": {},
   "outputs": [
    {
     "data": {
      "text/html": [
       "<div>\n",
       "<style scoped>\n",
       "    .dataframe tbody tr th:only-of-type {\n",
       "        vertical-align: middle;\n",
       "    }\n",
       "\n",
       "    .dataframe tbody tr th {\n",
       "        vertical-align: top;\n",
       "    }\n",
       "\n",
       "    .dataframe thead th {\n",
       "        text-align: right;\n",
       "    }\n",
       "</style>\n",
       "<table border=\"1\" class=\"dataframe\">\n",
       "  <thead>\n",
       "    <tr style=\"text-align: right;\">\n",
       "      <th></th>\n",
       "      <th>Unnamed: 0</th>\n",
       "      <th>Seasonal rainfall in Lake Victoria and Simiyu</th>\n",
       "      <th>Unnamed: 2</th>\n",
       "      <th>Unnamed: 3</th>\n",
       "    </tr>\n",
       "  </thead>\n",
       "  <tbody>\n",
       "    <tr>\n",
       "      <th>0</th>\n",
       "      <td>NaN</td>\n",
       "      <td>NaN</td>\n",
       "      <td>NaN</td>\n",
       "      <td>NaN</td>\n",
       "    </tr>\n",
       "    <tr>\n",
       "      <th>1</th>\n",
       "      <td>NaN</td>\n",
       "      <td>Month, period</td>\n",
       "      <td>Lake Victoria</td>\n",
       "      <td>Simiyu</td>\n",
       "    </tr>\n",
       "    <tr>\n",
       "      <th>2</th>\n",
       "      <td>NaN</td>\n",
       "      <td>Jan,2001-2019</td>\n",
       "      <td>3.176mm</td>\n",
       "      <td>2.908474</td>\n",
       "    </tr>\n",
       "    <tr>\n",
       "      <th>3</th>\n",
       "      <td>NaN</td>\n",
       "      <td>Feb,2001-2019</td>\n",
       "      <td>3.477mm</td>\n",
       "      <td>1.8mm</td>\n",
       "    </tr>\n",
       "    <tr>\n",
       "      <th>4</th>\n",
       "      <td>NaN</td>\n",
       "      <td>Mar,2001-2019</td>\n",
       "      <td>4.687053</td>\n",
       "      <td>2.981053</td>\n",
       "    </tr>\n",
       "  </tbody>\n",
       "</table>\n",
       "</div>"
      ],
      "text/plain": [
       "   Unnamed: 0 Seasonal rainfall in Lake Victoria and Simiyu     Unnamed: 2  \\\n",
       "0         NaN                                           NaN            NaN   \n",
       "1         NaN                                 Month, period  Lake Victoria   \n",
       "2         NaN                                 Jan,2001-2019        3.176mm   \n",
       "3         NaN                                 Feb,2001-2019        3.477mm   \n",
       "4         NaN                                 Mar,2001-2019       4.687053   \n",
       "\n",
       "  Unnamed: 3  \n",
       "0        NaN  \n",
       "1     Simiyu  \n",
       "2   2.908474  \n",
       "3      1.8mm  \n",
       "4   2.981053  "
      ]
     },
     "execution_count": 20,
     "metadata": {},
     "output_type": "execute_result"
    }
   ],
   "source": [
    "df = pd.read_excel(\"messy-data.xlsx\")\n",
    "df.head()"
   ]
  },
  {
   "cell_type": "code",
   "execution_count": 21,
   "metadata": {},
   "outputs": [],
   "source": [
    "df = pd.read_excel(\"messy-data.xlsx\", skiprows=2)"
   ]
  },
  {
   "cell_type": "code",
   "execution_count": 22,
   "metadata": {},
   "outputs": [
    {
     "data": {
      "text/html": [
       "<div>\n",
       "<style scoped>\n",
       "    .dataframe tbody tr th:only-of-type {\n",
       "        vertical-align: middle;\n",
       "    }\n",
       "\n",
       "    .dataframe tbody tr th {\n",
       "        vertical-align: top;\n",
       "    }\n",
       "\n",
       "    .dataframe thead th {\n",
       "        text-align: right;\n",
       "    }\n",
       "</style>\n",
       "<table border=\"1\" class=\"dataframe\">\n",
       "  <thead>\n",
       "    <tr style=\"text-align: right;\">\n",
       "      <th></th>\n",
       "      <th>Unnamed: 0</th>\n",
       "      <th>Month, period</th>\n",
       "      <th>Lake Victoria</th>\n",
       "      <th>Simiyu</th>\n",
       "    </tr>\n",
       "  </thead>\n",
       "  <tbody>\n",
       "    <tr>\n",
       "      <th>0</th>\n",
       "      <td>NaN</td>\n",
       "      <td>Jan,2001-2019</td>\n",
       "      <td>3.176mm</td>\n",
       "      <td>2.908474</td>\n",
       "    </tr>\n",
       "    <tr>\n",
       "      <th>1</th>\n",
       "      <td>NaN</td>\n",
       "      <td>Feb,2001-2019</td>\n",
       "      <td>3.477mm</td>\n",
       "      <td>1.8mm</td>\n",
       "    </tr>\n",
       "    <tr>\n",
       "      <th>2</th>\n",
       "      <td>NaN</td>\n",
       "      <td>Mar,2001-2019</td>\n",
       "      <td>4.687053</td>\n",
       "      <td>2.981053</td>\n",
       "    </tr>\n",
       "    <tr>\n",
       "      <th>3</th>\n",
       "      <td>NaN</td>\n",
       "      <td>Apr,2001-2019</td>\n",
       "      <td>7.004526</td>\n",
       "      <td>4.753579</td>\n",
       "    </tr>\n",
       "    <tr>\n",
       "      <th>4</th>\n",
       "      <td>NaN</td>\n",
       "      <td>May,2001-2019</td>\n",
       "      <td>9.362789</td>\n",
       "      <td>4.077474</td>\n",
       "    </tr>\n",
       "  </tbody>\n",
       "</table>\n",
       "</div>"
      ],
      "text/plain": [
       "   Unnamed: 0  Month, period Lake Victoria    Simiyu\n",
       "0         NaN  Jan,2001-2019       3.176mm  2.908474\n",
       "1         NaN  Feb,2001-2019       3.477mm     1.8mm\n",
       "2         NaN  Mar,2001-2019      4.687053  2.981053\n",
       "3         NaN  Apr,2001-2019      7.004526  4.753579\n",
       "4         NaN  May,2001-2019      9.362789  4.077474"
      ]
     },
     "execution_count": 22,
     "metadata": {},
     "output_type": "execute_result"
    }
   ],
   "source": [
    "df.head()"
   ]
  },
  {
   "cell_type": "code",
   "execution_count": 23,
   "metadata": {},
   "outputs": [
    {
     "data": {
      "text/html": [
       "<div>\n",
       "<style scoped>\n",
       "    .dataframe tbody tr th:only-of-type {\n",
       "        vertical-align: middle;\n",
       "    }\n",
       "\n",
       "    .dataframe tbody tr th {\n",
       "        vertical-align: top;\n",
       "    }\n",
       "\n",
       "    .dataframe thead th {\n",
       "        text-align: right;\n",
       "    }\n",
       "</style>\n",
       "<table border=\"1\" class=\"dataframe\">\n",
       "  <thead>\n",
       "    <tr style=\"text-align: right;\">\n",
       "      <th></th>\n",
       "      <th>Month, period</th>\n",
       "      <th>Lake Victoria</th>\n",
       "      <th>Simiyu</th>\n",
       "    </tr>\n",
       "  </thead>\n",
       "  <tbody>\n",
       "    <tr>\n",
       "      <th>0</th>\n",
       "      <td>Jan,2001-2019</td>\n",
       "      <td>3.176mm</td>\n",
       "      <td>2.908474</td>\n",
       "    </tr>\n",
       "    <tr>\n",
       "      <th>1</th>\n",
       "      <td>Feb,2001-2019</td>\n",
       "      <td>3.477mm</td>\n",
       "      <td>1.8mm</td>\n",
       "    </tr>\n",
       "    <tr>\n",
       "      <th>2</th>\n",
       "      <td>Mar,2001-2019</td>\n",
       "      <td>4.687053</td>\n",
       "      <td>2.981053</td>\n",
       "    </tr>\n",
       "    <tr>\n",
       "      <th>3</th>\n",
       "      <td>Apr,2001-2019</td>\n",
       "      <td>7.004526</td>\n",
       "      <td>4.753579</td>\n",
       "    </tr>\n",
       "    <tr>\n",
       "      <th>4</th>\n",
       "      <td>May,2001-2019</td>\n",
       "      <td>9.362789</td>\n",
       "      <td>4.077474</td>\n",
       "    </tr>\n",
       "    <tr>\n",
       "      <th>5</th>\n",
       "      <td>Jun,2001-2019</td>\n",
       "      <td>3.430211</td>\n",
       "      <td>1.046947</td>\n",
       "    </tr>\n",
       "    <tr>\n",
       "      <th>6</th>\n",
       "      <td>Jul,2001-2019</td>\n",
       "      <td>1.764421</td>\n",
       "      <td>0.195211</td>\n",
       "    </tr>\n",
       "    <tr>\n",
       "      <th>7</th>\n",
       "      <td>Aug,2001-2019</td>\n",
       "      <td>2.812632</td>\n",
       "      <td>0.333632</td>\n",
       "    </tr>\n",
       "    <tr>\n",
       "      <th>8</th>\n",
       "      <td>Sep,2001-2019</td>\n",
       "      <td>3.978895</td>\n",
       "      <td>1.205842</td>\n",
       "    </tr>\n",
       "    <tr>\n",
       "      <th>9</th>\n",
       "      <td>Oct,2001-2019</td>\n",
       "      <td>5.318421</td>\n",
       "      <td>2.454737</td>\n",
       "    </tr>\n",
       "    <tr>\n",
       "      <th>10</th>\n",
       "      <td>Nov,2001-2019</td>\n",
       "      <td>5.118474</td>\n",
       "      <td>3.091421</td>\n",
       "    </tr>\n",
       "    <tr>\n",
       "      <th>11</th>\n",
       "      <td>Dec,2001-2019</td>\n",
       "      <td>4.168105</td>\n",
       "      <td>3.890053</td>\n",
       "    </tr>\n",
       "  </tbody>\n",
       "</table>\n",
       "</div>"
      ],
      "text/plain": [
       "    Month, period Lake Victoria    Simiyu\n",
       "0   Jan,2001-2019       3.176mm  2.908474\n",
       "1   Feb,2001-2019       3.477mm     1.8mm\n",
       "2   Mar,2001-2019      4.687053  2.981053\n",
       "3   Apr,2001-2019      7.004526  4.753579\n",
       "4   May,2001-2019      9.362789  4.077474\n",
       "5   Jun,2001-2019      3.430211  1.046947\n",
       "6   Jul,2001-2019      1.764421  0.195211\n",
       "7   Aug,2001-2019      2.812632  0.333632\n",
       "8   Sep,2001-2019      3.978895  1.205842\n",
       "9   Oct,2001-2019      5.318421  2.454737\n",
       "10  Nov,2001-2019      5.118474  3.091421\n",
       "11  Dec,2001-2019      4.168105  3.890053"
      ]
     },
     "execution_count": 23,
     "metadata": {},
     "output_type": "execute_result"
    }
   ],
   "source": [
    "df = pd.read_excel(\"messy-data.xlsx\", skiprows=2, usecols='B:D')\n",
    "df.head(100)"
   ]
  },
  {
   "cell_type": "markdown",
   "metadata": {},
   "source": [
    "### Missing value"
   ]
  },
  {
   "cell_type": "code",
   "execution_count": 24,
   "metadata": {},
   "outputs": [],
   "source": [
    "df.dropna(inplace = True, axis = 0)"
   ]
  },
  {
   "cell_type": "code",
   "execution_count": 25,
   "metadata": {},
   "outputs": [
    {
     "data": {
      "text/html": [
       "<div>\n",
       "<style scoped>\n",
       "    .dataframe tbody tr th:only-of-type {\n",
       "        vertical-align: middle;\n",
       "    }\n",
       "\n",
       "    .dataframe tbody tr th {\n",
       "        vertical-align: top;\n",
       "    }\n",
       "\n",
       "    .dataframe thead th {\n",
       "        text-align: right;\n",
       "    }\n",
       "</style>\n",
       "<table border=\"1\" class=\"dataframe\">\n",
       "  <thead>\n",
       "    <tr style=\"text-align: right;\">\n",
       "      <th></th>\n",
       "      <th>Month, period</th>\n",
       "      <th>Lake Victoria</th>\n",
       "      <th>Simiyu</th>\n",
       "    </tr>\n",
       "  </thead>\n",
       "  <tbody>\n",
       "    <tr>\n",
       "      <th>0</th>\n",
       "      <td>Jan,2001-2019</td>\n",
       "      <td>3.176mm</td>\n",
       "      <td>2.908474</td>\n",
       "    </tr>\n",
       "    <tr>\n",
       "      <th>1</th>\n",
       "      <td>Feb,2001-2019</td>\n",
       "      <td>3.477mm</td>\n",
       "      <td>1.8mm</td>\n",
       "    </tr>\n",
       "    <tr>\n",
       "      <th>2</th>\n",
       "      <td>Mar,2001-2019</td>\n",
       "      <td>4.687053</td>\n",
       "      <td>2.981053</td>\n",
       "    </tr>\n",
       "    <tr>\n",
       "      <th>3</th>\n",
       "      <td>Apr,2001-2019</td>\n",
       "      <td>7.004526</td>\n",
       "      <td>4.753579</td>\n",
       "    </tr>\n",
       "    <tr>\n",
       "      <th>4</th>\n",
       "      <td>May,2001-2019</td>\n",
       "      <td>9.362789</td>\n",
       "      <td>4.077474</td>\n",
       "    </tr>\n",
       "    <tr>\n",
       "      <th>5</th>\n",
       "      <td>Jun,2001-2019</td>\n",
       "      <td>3.430211</td>\n",
       "      <td>1.046947</td>\n",
       "    </tr>\n",
       "    <tr>\n",
       "      <th>6</th>\n",
       "      <td>Jul,2001-2019</td>\n",
       "      <td>1.764421</td>\n",
       "      <td>0.195211</td>\n",
       "    </tr>\n",
       "    <tr>\n",
       "      <th>7</th>\n",
       "      <td>Aug,2001-2019</td>\n",
       "      <td>2.812632</td>\n",
       "      <td>0.333632</td>\n",
       "    </tr>\n",
       "    <tr>\n",
       "      <th>8</th>\n",
       "      <td>Sep,2001-2019</td>\n",
       "      <td>3.978895</td>\n",
       "      <td>1.205842</td>\n",
       "    </tr>\n",
       "    <tr>\n",
       "      <th>9</th>\n",
       "      <td>Oct,2001-2019</td>\n",
       "      <td>5.318421</td>\n",
       "      <td>2.454737</td>\n",
       "    </tr>\n",
       "    <tr>\n",
       "      <th>10</th>\n",
       "      <td>Nov,2001-2019</td>\n",
       "      <td>5.118474</td>\n",
       "      <td>3.091421</td>\n",
       "    </tr>\n",
       "    <tr>\n",
       "      <th>11</th>\n",
       "      <td>Dec,2001-2019</td>\n",
       "      <td>4.168105</td>\n",
       "      <td>3.890053</td>\n",
       "    </tr>\n",
       "  </tbody>\n",
       "</table>\n",
       "</div>"
      ],
      "text/plain": [
       "    Month, period Lake Victoria    Simiyu\n",
       "0   Jan,2001-2019       3.176mm  2.908474\n",
       "1   Feb,2001-2019       3.477mm     1.8mm\n",
       "2   Mar,2001-2019      4.687053  2.981053\n",
       "3   Apr,2001-2019      7.004526  4.753579\n",
       "4   May,2001-2019      9.362789  4.077474\n",
       "5   Jun,2001-2019      3.430211  1.046947\n",
       "6   Jul,2001-2019      1.764421  0.195211\n",
       "7   Aug,2001-2019      2.812632  0.333632\n",
       "8   Sep,2001-2019      3.978895  1.205842\n",
       "9   Oct,2001-2019      5.318421  2.454737\n",
       "10  Nov,2001-2019      5.118474  3.091421\n",
       "11  Dec,2001-2019      4.168105  3.890053"
      ]
     },
     "execution_count": 25,
     "metadata": {},
     "output_type": "execute_result"
    }
   ],
   "source": [
    "df.head(20)"
   ]
  },
  {
   "cell_type": "code",
   "execution_count": 26,
   "metadata": {},
   "outputs": [
    {
     "data": {
      "text/plain": [
       "0"
      ]
     },
     "execution_count": 26,
     "metadata": {},
     "output_type": "execute_result"
    }
   ],
   "source": [
    "df.duplicated().sum()"
   ]
  },
  {
   "cell_type": "markdown",
   "metadata": {},
   "source": [
    "### Data standardization"
   ]
  },
  {
   "cell_type": "code",
   "execution_count": 28,
   "metadata": {},
   "outputs": [
    {
     "data": {
      "text/html": [
       "<div>\n",
       "<style scoped>\n",
       "    .dataframe tbody tr th:only-of-type {\n",
       "        vertical-align: middle;\n",
       "    }\n",
       "\n",
       "    .dataframe tbody tr th {\n",
       "        vertical-align: top;\n",
       "    }\n",
       "\n",
       "    .dataframe thead th {\n",
       "        text-align: right;\n",
       "    }\n",
       "</style>\n",
       "<table border=\"1\" class=\"dataframe\">\n",
       "  <thead>\n",
       "    <tr style=\"text-align: right;\">\n",
       "      <th></th>\n",
       "      <th>0</th>\n",
       "      <th>1</th>\n",
       "    </tr>\n",
       "  </thead>\n",
       "  <tbody>\n",
       "    <tr>\n",
       "      <th>0</th>\n",
       "      <td>Jan</td>\n",
       "      <td>2001-2019</td>\n",
       "    </tr>\n",
       "    <tr>\n",
       "      <th>1</th>\n",
       "      <td>Feb</td>\n",
       "      <td>2001-2019</td>\n",
       "    </tr>\n",
       "    <tr>\n",
       "      <th>2</th>\n",
       "      <td>Mar</td>\n",
       "      <td>2001-2019</td>\n",
       "    </tr>\n",
       "    <tr>\n",
       "      <th>3</th>\n",
       "      <td>Apr</td>\n",
       "      <td>2001-2019</td>\n",
       "    </tr>\n",
       "    <tr>\n",
       "      <th>4</th>\n",
       "      <td>May</td>\n",
       "      <td>2001-2019</td>\n",
       "    </tr>\n",
       "    <tr>\n",
       "      <th>5</th>\n",
       "      <td>Jun</td>\n",
       "      <td>2001-2019</td>\n",
       "    </tr>\n",
       "    <tr>\n",
       "      <th>6</th>\n",
       "      <td>Jul</td>\n",
       "      <td>2001-2019</td>\n",
       "    </tr>\n",
       "    <tr>\n",
       "      <th>7</th>\n",
       "      <td>Aug</td>\n",
       "      <td>2001-2019</td>\n",
       "    </tr>\n",
       "    <tr>\n",
       "      <th>8</th>\n",
       "      <td>Sep</td>\n",
       "      <td>2001-2019</td>\n",
       "    </tr>\n",
       "    <tr>\n",
       "      <th>9</th>\n",
       "      <td>Oct</td>\n",
       "      <td>2001-2019</td>\n",
       "    </tr>\n",
       "    <tr>\n",
       "      <th>10</th>\n",
       "      <td>Nov</td>\n",
       "      <td>2001-2019</td>\n",
       "    </tr>\n",
       "    <tr>\n",
       "      <th>11</th>\n",
       "      <td>Dec</td>\n",
       "      <td>2001-2019</td>\n",
       "    </tr>\n",
       "  </tbody>\n",
       "</table>\n",
       "</div>"
      ],
      "text/plain": [
       "      0          1\n",
       "0   Jan  2001-2019\n",
       "1   Feb  2001-2019\n",
       "2   Mar  2001-2019\n",
       "3   Apr  2001-2019\n",
       "4   May  2001-2019\n",
       "5   Jun  2001-2019\n",
       "6   Jul  2001-2019\n",
       "7   Aug  2001-2019\n",
       "8   Sep  2001-2019\n",
       "9   Oct  2001-2019\n",
       "10  Nov  2001-2019\n",
       "11  Dec  2001-2019"
      ]
     },
     "execution_count": 28,
     "metadata": {},
     "output_type": "execute_result"
    }
   ],
   "source": [
    "splitted_columns =df[\"Month, period\"].str.split(\",\",expand=True)\n",
    "splitted_columns"
   ]
  },
  {
   "cell_type": "code",
   "execution_count": 29,
   "metadata": {},
   "outputs": [
    {
     "data": {
      "text/html": [
       "<div>\n",
       "<style scoped>\n",
       "    .dataframe tbody tr th:only-of-type {\n",
       "        vertical-align: middle;\n",
       "    }\n",
       "\n",
       "    .dataframe tbody tr th {\n",
       "        vertical-align: top;\n",
       "    }\n",
       "\n",
       "    .dataframe thead th {\n",
       "        text-align: right;\n",
       "    }\n",
       "</style>\n",
       "<table border=\"1\" class=\"dataframe\">\n",
       "  <thead>\n",
       "    <tr style=\"text-align: right;\">\n",
       "      <th></th>\n",
       "      <th>Month, period</th>\n",
       "      <th>Lake Victoria</th>\n",
       "      <th>Simiyu</th>\n",
       "      <th>Month</th>\n",
       "      <th>Period</th>\n",
       "    </tr>\n",
       "  </thead>\n",
       "  <tbody>\n",
       "    <tr>\n",
       "      <th>0</th>\n",
       "      <td>Jan,2001-2019</td>\n",
       "      <td>3.176mm</td>\n",
       "      <td>2.908474</td>\n",
       "      <td>Jan</td>\n",
       "      <td>2001-2019</td>\n",
       "    </tr>\n",
       "    <tr>\n",
       "      <th>1</th>\n",
       "      <td>Feb,2001-2019</td>\n",
       "      <td>3.477mm</td>\n",
       "      <td>1.8mm</td>\n",
       "      <td>Feb</td>\n",
       "      <td>2001-2019</td>\n",
       "    </tr>\n",
       "    <tr>\n",
       "      <th>2</th>\n",
       "      <td>Mar,2001-2019</td>\n",
       "      <td>4.687053</td>\n",
       "      <td>2.981053</td>\n",
       "      <td>Mar</td>\n",
       "      <td>2001-2019</td>\n",
       "    </tr>\n",
       "    <tr>\n",
       "      <th>3</th>\n",
       "      <td>Apr,2001-2019</td>\n",
       "      <td>7.004526</td>\n",
       "      <td>4.753579</td>\n",
       "      <td>Apr</td>\n",
       "      <td>2001-2019</td>\n",
       "    </tr>\n",
       "    <tr>\n",
       "      <th>4</th>\n",
       "      <td>May,2001-2019</td>\n",
       "      <td>9.362789</td>\n",
       "      <td>4.077474</td>\n",
       "      <td>May</td>\n",
       "      <td>2001-2019</td>\n",
       "    </tr>\n",
       "  </tbody>\n",
       "</table>\n",
       "</div>"
      ],
      "text/plain": [
       "   Month, period Lake Victoria    Simiyu Month     Period\n",
       "0  Jan,2001-2019       3.176mm  2.908474   Jan  2001-2019\n",
       "1  Feb,2001-2019       3.477mm     1.8mm   Feb  2001-2019\n",
       "2  Mar,2001-2019      4.687053  2.981053   Mar  2001-2019\n",
       "3  Apr,2001-2019      7.004526  4.753579   Apr  2001-2019\n",
       "4  May,2001-2019      9.362789  4.077474   May  2001-2019"
      ]
     },
     "execution_count": 29,
     "metadata": {},
     "output_type": "execute_result"
    }
   ],
   "source": [
    "df[\"Month\"]  = splitted_columns[0]\n",
    "df[\"Period\"] = splitted_columns[1]\n",
    "df.head()"
   ]
  },
  {
   "cell_type": "code",
   "execution_count": 30,
   "metadata": {},
   "outputs": [],
   "source": [
    "# lets drop Month and Period columns \n",
    "df.drop(columns = [\"Month, period\"], inplace = True)"
   ]
  },
  {
   "cell_type": "code",
   "execution_count": 31,
   "metadata": {},
   "outputs": [
    {
     "data": {
      "text/html": [
       "<div>\n",
       "<style scoped>\n",
       "    .dataframe tbody tr th:only-of-type {\n",
       "        vertical-align: middle;\n",
       "    }\n",
       "\n",
       "    .dataframe tbody tr th {\n",
       "        vertical-align: top;\n",
       "    }\n",
       "\n",
       "    .dataframe thead th {\n",
       "        text-align: right;\n",
       "    }\n",
       "</style>\n",
       "<table border=\"1\" class=\"dataframe\">\n",
       "  <thead>\n",
       "    <tr style=\"text-align: right;\">\n",
       "      <th></th>\n",
       "      <th>Lake Victoria</th>\n",
       "      <th>Simiyu</th>\n",
       "      <th>Month</th>\n",
       "      <th>Period</th>\n",
       "    </tr>\n",
       "  </thead>\n",
       "  <tbody>\n",
       "    <tr>\n",
       "      <th>0</th>\n",
       "      <td>3.176mm</td>\n",
       "      <td>2.908474</td>\n",
       "      <td>Jan</td>\n",
       "      <td>2001-2019</td>\n",
       "    </tr>\n",
       "    <tr>\n",
       "      <th>1</th>\n",
       "      <td>3.477mm</td>\n",
       "      <td>1.8mm</td>\n",
       "      <td>Feb</td>\n",
       "      <td>2001-2019</td>\n",
       "    </tr>\n",
       "    <tr>\n",
       "      <th>2</th>\n",
       "      <td>4.687053</td>\n",
       "      <td>2.981053</td>\n",
       "      <td>Mar</td>\n",
       "      <td>2001-2019</td>\n",
       "    </tr>\n",
       "    <tr>\n",
       "      <th>3</th>\n",
       "      <td>7.004526</td>\n",
       "      <td>4.753579</td>\n",
       "      <td>Apr</td>\n",
       "      <td>2001-2019</td>\n",
       "    </tr>\n",
       "    <tr>\n",
       "      <th>4</th>\n",
       "      <td>9.362789</td>\n",
       "      <td>4.077474</td>\n",
       "      <td>May</td>\n",
       "      <td>2001-2019</td>\n",
       "    </tr>\n",
       "  </tbody>\n",
       "</table>\n",
       "</div>"
      ],
      "text/plain": [
       "  Lake Victoria    Simiyu Month     Period\n",
       "0       3.176mm  2.908474   Jan  2001-2019\n",
       "1       3.477mm     1.8mm   Feb  2001-2019\n",
       "2      4.687053  2.981053   Mar  2001-2019\n",
       "3      7.004526  4.753579   Apr  2001-2019\n",
       "4      9.362789  4.077474   May  2001-2019"
      ]
     },
     "execution_count": 31,
     "metadata": {},
     "output_type": "execute_result"
    }
   ],
   "source": [
    "df.head()"
   ]
  },
  {
   "cell_type": "code",
   "execution_count": 34,
   "metadata": {},
   "outputs": [],
   "source": [
    "# Some columns contain the string mm, so I define a function, which eliminates it.\n",
    "def remove_mm(x):\n",
    "    if type(x) is str:\n",
    "        return x.replace(\"mm\", \"\")\n",
    "    else:\n",
    "        return x\n",
    "\n",
    "# I apply the function to the columns\n",
    "\n",
    "df[\"Lake Victoria\"] = df[\"Lake Victoria\"].apply(remove_mm)\n",
    "df[\"Simiyu\"] = df[\"Simiyu\"].apply(remove_mm)"
   ]
  },
  {
   "cell_type": "code",
   "execution_count": 35,
   "metadata": {},
   "outputs": [
    {
     "data": {
      "text/html": [
       "<div>\n",
       "<style scoped>\n",
       "    .dataframe tbody tr th:only-of-type {\n",
       "        vertical-align: middle;\n",
       "    }\n",
       "\n",
       "    .dataframe tbody tr th {\n",
       "        vertical-align: top;\n",
       "    }\n",
       "\n",
       "    .dataframe thead th {\n",
       "        text-align: right;\n",
       "    }\n",
       "</style>\n",
       "<table border=\"1\" class=\"dataframe\">\n",
       "  <thead>\n",
       "    <tr style=\"text-align: right;\">\n",
       "      <th></th>\n",
       "      <th>Lake Victoria</th>\n",
       "      <th>Simiyu</th>\n",
       "      <th>Month</th>\n",
       "      <th>Period</th>\n",
       "    </tr>\n",
       "  </thead>\n",
       "  <tbody>\n",
       "    <tr>\n",
       "      <th>0</th>\n",
       "      <td>3.176</td>\n",
       "      <td>2.908474</td>\n",
       "      <td>Jan</td>\n",
       "      <td>2001-2019</td>\n",
       "    </tr>\n",
       "    <tr>\n",
       "      <th>1</th>\n",
       "      <td>3.477</td>\n",
       "      <td>1.8</td>\n",
       "      <td>Feb</td>\n",
       "      <td>2001-2019</td>\n",
       "    </tr>\n",
       "    <tr>\n",
       "      <th>2</th>\n",
       "      <td>4.687053</td>\n",
       "      <td>2.981053</td>\n",
       "      <td>Mar</td>\n",
       "      <td>2001-2019</td>\n",
       "    </tr>\n",
       "    <tr>\n",
       "      <th>3</th>\n",
       "      <td>7.004526</td>\n",
       "      <td>4.753579</td>\n",
       "      <td>Apr</td>\n",
       "      <td>2001-2019</td>\n",
       "    </tr>\n",
       "    <tr>\n",
       "      <th>4</th>\n",
       "      <td>9.362789</td>\n",
       "      <td>4.077474</td>\n",
       "      <td>May</td>\n",
       "      <td>2001-2019</td>\n",
       "    </tr>\n",
       "    <tr>\n",
       "      <th>5</th>\n",
       "      <td>3.430211</td>\n",
       "      <td>1.046947</td>\n",
       "      <td>Jun</td>\n",
       "      <td>2001-2019</td>\n",
       "    </tr>\n",
       "    <tr>\n",
       "      <th>6</th>\n",
       "      <td>1.764421</td>\n",
       "      <td>0.195211</td>\n",
       "      <td>Jul</td>\n",
       "      <td>2001-2019</td>\n",
       "    </tr>\n",
       "    <tr>\n",
       "      <th>7</th>\n",
       "      <td>2.812632</td>\n",
       "      <td>0.333632</td>\n",
       "      <td>Aug</td>\n",
       "      <td>2001-2019</td>\n",
       "    </tr>\n",
       "    <tr>\n",
       "      <th>8</th>\n",
       "      <td>3.978895</td>\n",
       "      <td>1.205842</td>\n",
       "      <td>Sep</td>\n",
       "      <td>2001-2019</td>\n",
       "    </tr>\n",
       "    <tr>\n",
       "      <th>9</th>\n",
       "      <td>5.318421</td>\n",
       "      <td>2.454737</td>\n",
       "      <td>Oct</td>\n",
       "      <td>2001-2019</td>\n",
       "    </tr>\n",
       "    <tr>\n",
       "      <th>10</th>\n",
       "      <td>5.118474</td>\n",
       "      <td>3.091421</td>\n",
       "      <td>Nov</td>\n",
       "      <td>2001-2019</td>\n",
       "    </tr>\n",
       "    <tr>\n",
       "      <th>11</th>\n",
       "      <td>4.168105</td>\n",
       "      <td>3.890053</td>\n",
       "      <td>Dec</td>\n",
       "      <td>2001-2019</td>\n",
       "    </tr>\n",
       "  </tbody>\n",
       "</table>\n",
       "</div>"
      ],
      "text/plain": [
       "   Lake Victoria    Simiyu Month     Period\n",
       "0          3.176  2.908474   Jan  2001-2019\n",
       "1          3.477       1.8   Feb  2001-2019\n",
       "2       4.687053  2.981053   Mar  2001-2019\n",
       "3       7.004526  4.753579   Apr  2001-2019\n",
       "4       9.362789  4.077474   May  2001-2019\n",
       "5       3.430211  1.046947   Jun  2001-2019\n",
       "6       1.764421  0.195211   Jul  2001-2019\n",
       "7       2.812632  0.333632   Aug  2001-2019\n",
       "8       3.978895  1.205842   Sep  2001-2019\n",
       "9       5.318421  2.454737   Oct  2001-2019\n",
       "10      5.118474  3.091421   Nov  2001-2019\n",
       "11      4.168105  3.890053   Dec  2001-2019"
      ]
     },
     "execution_count": 35,
     "metadata": {},
     "output_type": "execute_result"
    }
   ],
   "source": [
    "df.head(20)"
   ]
  },
  {
   "cell_type": "code",
   "execution_count": 37,
   "metadata": {},
   "outputs": [
    {
     "data": {
      "text/plain": [
       "Lake Victoria    object\n",
       "Simiyu           object\n",
       "Month            object\n",
       "Period           object\n",
       "dtype: object"
      ]
     },
     "execution_count": 37,
     "metadata": {},
     "output_type": "execute_result"
    }
   ],
   "source": [
    "# I describe type of each column\n",
    "\n",
    "df.dtypes"
   ]
  },
  {
   "cell_type": "code",
   "execution_count": 38,
   "metadata": {},
   "outputs": [],
   "source": [
    "# The Lake Victoria and Simiyu columns are of type object, so I convert them to type float\n",
    "\n",
    "df[\"Lake Victoria\"] = df[\"Lake Victoria\"].astype(float)\n",
    "df[\"Simiyu\"] = df[\"Simiyu\"].astype(float)\n",
    "\n",
    "#df[\"Lake Victoria\"] = pd.to_numeric(df[\"Lake Victoria\"])\n",
    "# df[\"Simiyu\"] = pd.to_numeric(df[\"Simiyu\"]\n"
   ]
  },
  {
   "cell_type": "code",
   "execution_count": 39,
   "metadata": {},
   "outputs": [
    {
     "data": {
      "text/plain": [
       "Lake Victoria    float64\n",
       "Simiyu           float64\n",
       "Month             object\n",
       "Period            object\n",
       "dtype: object"
      ]
     },
     "execution_count": 39,
     "metadata": {},
     "output_type": "execute_result"
    }
   ],
   "source": [
    "df.dtypes"
   ]
  },
  {
   "cell_type": "markdown",
   "metadata": {},
   "source": [
    "###  Preliminary Exploratory Data Analysis"
   ]
  },
  {
   "cell_type": "code",
   "execution_count": 40,
   "metadata": {},
   "outputs": [
    {
     "name": "stdout",
     "output_type": "stream",
     "text": [
      "<class 'pandas.core.frame.DataFrame'>\n",
      "Int64Index: 12 entries, 0 to 11\n",
      "Data columns (total 4 columns):\n",
      " #   Column         Non-Null Count  Dtype  \n",
      "---  ------         --------------  -----  \n",
      " 0   Lake Victoria  12 non-null     float64\n",
      " 1   Simiyu         12 non-null     float64\n",
      " 2   Month          12 non-null     object \n",
      " 3   Period         12 non-null     object \n",
      "dtypes: float64(2), object(2)\n",
      "memory usage: 480.0+ bytes\n"
     ]
    }
   ],
   "source": [
    "df.info()"
   ]
  },
  {
   "cell_type": "code",
   "execution_count": 41,
   "metadata": {},
   "outputs": [
    {
     "data": {
      "text/html": [
       "<div>\n",
       "<style scoped>\n",
       "    .dataframe tbody tr th:only-of-type {\n",
       "        vertical-align: middle;\n",
       "    }\n",
       "\n",
       "    .dataframe tbody tr th {\n",
       "        vertical-align: top;\n",
       "    }\n",
       "\n",
       "    .dataframe thead th {\n",
       "        text-align: right;\n",
       "    }\n",
       "</style>\n",
       "<table border=\"1\" class=\"dataframe\">\n",
       "  <thead>\n",
       "    <tr style=\"text-align: right;\">\n",
       "      <th></th>\n",
       "      <th>Lake Victoria</th>\n",
       "      <th>Simiyu</th>\n",
       "    </tr>\n",
       "  </thead>\n",
       "  <tbody>\n",
       "    <tr>\n",
       "      <th>count</th>\n",
       "      <td>12.000000</td>\n",
       "      <td>12.000000</td>\n",
       "    </tr>\n",
       "    <tr>\n",
       "      <th>mean</th>\n",
       "      <td>4.524877</td>\n",
       "      <td>2.394868</td>\n",
       "    </tr>\n",
       "    <tr>\n",
       "      <th>std</th>\n",
       "      <td>2.037278</td>\n",
       "      <td>1.489300</td>\n",
       "    </tr>\n",
       "    <tr>\n",
       "      <th>min</th>\n",
       "      <td>1.764421</td>\n",
       "      <td>0.195211</td>\n",
       "    </tr>\n",
       "    <tr>\n",
       "      <th>25%</th>\n",
       "      <td>3.366658</td>\n",
       "      <td>1.166118</td>\n",
       "    </tr>\n",
       "    <tr>\n",
       "      <th>50%</th>\n",
       "      <td>4.073500</td>\n",
       "      <td>2.681605</td>\n",
       "    </tr>\n",
       "    <tr>\n",
       "      <th>75%</th>\n",
       "      <td>5.168461</td>\n",
       "      <td>3.291079</td>\n",
       "    </tr>\n",
       "    <tr>\n",
       "      <th>max</th>\n",
       "      <td>9.362789</td>\n",
       "      <td>4.753579</td>\n",
       "    </tr>\n",
       "  </tbody>\n",
       "</table>\n",
       "</div>"
      ],
      "text/plain": [
       "       Lake Victoria     Simiyu\n",
       "count      12.000000  12.000000\n",
       "mean        4.524877   2.394868\n",
       "std         2.037278   1.489300\n",
       "min         1.764421   0.195211\n",
       "25%         3.366658   1.166118\n",
       "50%         4.073500   2.681605\n",
       "75%         5.168461   3.291079\n",
       "max         9.362789   4.753579"
      ]
     },
     "execution_count": 41,
     "metadata": {},
     "output_type": "execute_result"
    }
   ],
   "source": [
    "df.describe()"
   ]
  },
  {
   "cell_type": "code",
   "execution_count": 42,
   "metadata": {},
   "outputs": [
    {
     "data": {
      "text/plain": [
       "<AxesSubplot:>"
      ]
     },
     "execution_count": 42,
     "metadata": {},
     "output_type": "execute_result"
    },
    {
     "data": {
      "image/png": "[encoded data removed]",
      "text/plain": [
       "<Figure size 720x720 with 2 Axes>"
      ]
     },
     "metadata": {
      "needs_background": "light"
     },
     "output_type": "display_data"
    }
   ],
   "source": [
    "plt.figure(figsize=(10,10))\n",
    "sns.heatmap(df.corr(), annot=True)"
   ]
  },
  {
   "cell_type": "code",
   "execution_count": 45,
   "metadata": {},
   "outputs": [
    {
     "data": {
      "text/plain": [
       "<AxesSubplot:xlabel='Month', ylabel='Lake Victoria'>"
      ]
     },
     "execution_count": 45,
     "metadata": {},
     "output_type": "execute_result"
    },
    {
     "data": {
      "image/png": "[encoded data removed]",
      "text/plain": [
       "<Figure size 720x720 with 1 Axes>"
      ]
     },
     "metadata": {
      "needs_background": "light"
     },
     "output_type": "display_data"
    }
   ],
   "source": [
    "plt.figure(figsize=(10,10))\n",
    "sns.lineplot(x=\"Month\", y=\"Lake Victoria\", data=df)"
   ]
  },
  {
   "cell_type": "code",
   "execution_count": 48,
   "metadata": {},
   "outputs": [
    {
     "data": {
      "text/plain": [
       "Text(0, 0.5, 'Frequency')"
      ]
     },
     "execution_count": 48,
     "metadata": {},
     "output_type": "execute_result"
    },
    {
     "data": {
      "image/png": "[encoded data removed]",
      "text/plain": [
       "<Figure size 720x720 with 1 Axes>"
      ]
     },
     "metadata": {
      "needs_background": "light"
     },
     "output_type": "display_data"
    }
   ],
   "source": [
    "plt.figure(figsize=(10,10))\n",
    "sns.histplot(x=\"Lake Victoria\", data=df)\n",
    "plt.title(\"Histogram of Lake Victoria\")\n",
    "plt.xlabel(\"Rainfall\")\n",
    "plt.ylabel(\"Frequency\")"
   ]
  },
  {
   "cell_type": "code",
   "execution_count": 49,
   "metadata": {},
   "outputs": [
    {
     "data": {
      "text/plain": [
       "<AxesSubplot:xlabel='Month', ylabel='Simiyu'>"
      ]
     },
     "execution_count": 49,
     "metadata": {},
     "output_type": "execute_result"
    },
    {
     "data": {
      "image/png": "[encoded data removed]",
      "text/plain": [
       "<Figure size 720x720 with 1 Axes>"
      ]
     },
     "metadata": {
      "needs_background": "light"
     },
     "output_type": "display_data"
    }
   ],
   "source": [
    "plt.figure(figsize=(10,10))\n",
    "sns.lineplot(x=\"Month\", y=\"Simiyu\", data=df)\n"
   ]
  },
  {
   "cell_type": "code",
   "execution_count": 51,
   "metadata": {},
   "outputs": [
    {
     "data": {
      "text/plain": [
       "Text(0, 0.5, 'Rainfall')"
      ]
     },
     "execution_count": 51,
     "metadata": {},
     "output_type": "execute_result"
    },
    {
     "data": {
      "image/png": "[encoded data removed]",
      "text/plain": [
       "<Figure size 720x720 with 1 Axes>"
      ]
     },
     "metadata": {
      "needs_background": "light"
     },
     "output_type": "display_data"
    }
   ],
   "source": [
    "plt.figure(figsize=(10,10))\n",
    "ax = sns.barplot(x=\"Month\", y=\"Simiyu\", data=df)\n",
    "ax.bar_label(ax.containers[0], rotation=0)\n",
    "ax.set_title(\"Barplot of Simiyu\")\n",
    "ax.set_xlabel(\"Month\")\n",
    "ax.set_ylabel(\"Rainfall\")\n"
   ]
  },
  {
   "cell_type": "code",
   "execution_count": 52,
   "metadata": {},
   "outputs": [
    {
     "data": {
      "text/plain": [
       "Index(['Lake Victoria', 'Simiyu', 'Month', 'Period'], dtype='object')"
      ]
     },
     "execution_count": 52,
     "metadata": {},
     "output_type": "execute_result"
    }
   ],
   "source": [
    "df.columns"
   ]
  },
  {
   "cell_type": "code",
   "execution_count": 53,
   "metadata": {},
   "outputs": [
    {
     "data": {
      "image/png": "[encoded data removed]",
      "text/plain": [
       "<Figure size 720x720 with 1 Axes>"
      ]
     },
     "metadata": {
      "needs_background": "light"
     },
     "output_type": "display_data"
    }
   ],
   "source": [
    "plt.figure(figsize=(10,10))\n",
    "ax = sns.barplot(x=\"Month\", y=\"Lake Victoria\", data=df)\n",
    "ax.bar_label(ax.containers[0], rotation=0)\n",
    "ax.set_title(\"Barplot of Lake Victoria\")\n",
    "ax.set_xlabel(\"Month\")\n",
    "ax.set_ylabel(\"Rainfall\")\n",
    "plt.show()\n"
   ]
  },
  {
   "cell_type": "code",
   "execution_count": null,
   "metadata": {},
   "outputs": [],
   "source": []
  }
 ],
 "metadata": {
  "interpreter": {
   "hash": "f3db137f4133bde4c24e3265aaefd4f22d8d3fe3b2ca24b3ec106ae11e41954f"
  },
  "kernelspec": {
   "display_name": "Python 3.9.7 ('base')",
   "language": "python",
   "name": "python3"
  },
  "language_info": {
   "codemirror_mode": {
    "name": "ipython",
    "version": 3
   },
   "file_extension": ".py",
   "mimetype": "text/x-python",
   "name": "python",
   "nbconvert_exporter": "python",
   "pygments_lexer": "ipython3",
   "version": "3.9.7"
  },
  "orig_nbformat": 4
 },
 "nbformat": 4,
 "nbformat_minor": 2
}
