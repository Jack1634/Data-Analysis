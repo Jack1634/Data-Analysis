{
  "cells": [
    {
      "attachments": {},
      "cell_type": "markdown",
      "metadata": {},
      "source": [
        "### Creating a database"
      ]
    },
    {
      "attachments": {},
      "cell_type": "markdown",
      "metadata": {},
      "source": [
        "The first step is to create a database. We can use the connect function for this task. It is used for connecting to a database and if the database does not exist, the connect function also creates it."
      ]
    },
    {
      "cell_type": "code",
      "execution_count": 8,
      "metadata": {},
      "outputs": [],
      "source": [
        "import sqlite3\n",
        "import pandas as pd\n",
        "import numpy as np\n",
        "import matplotlib.pyplot as plt\n",
        "\n",
        "# Connect to the database\n",
        "\n",
        "conn = sqlite3.connect('sample.sqlite')"
      ]
    },
    {
      "cell_type": "code",
      "execution_count": 9,
      "metadata": {},
      "outputs": [],
      "source": [
        "# The next step is to create a database cursor, which is required for executing SQL statements and fetching results.\n",
        "cursor = conn.cursor()"
      ]
    },
    {
      "cell_type": "code",
      "execution_count": 10,
      "metadata": {},
      "outputs": [
        {
          "name": "stdout",
          "output_type": "stream",
          "text": [
            "[('products',)]\n"
          ]
        }
      ],
      "source": [
        "# We can see the tables in this database using the following query and the fetchall function. We are basically querying the built-in sqlite_master table.\n",
        "\n",
        "check_tables = \"SELECT name FROM sqlite_master WHERE type='table';\"\n",
        "cursor.execute(check_tables)\n",
        "print(cursor.fetchall())\n"
      ]
    },
    {
      "cell_type": "code",
      "execution_count": 4,
      "metadata": {},
      "outputs": [],
      "source": [
        "# We can see the tables in this database using the following query and the fetchall function. We are basically querying the built-in sqlite_master table."
      ]
    },
    {
      "attachments": {},
      "cell_type": "markdown",
      "metadata": {},
      "source": [
        "### Creating tables"
      ]
    },
    {
      "cell_type": "code",
      "execution_count": 11,
      "metadata": {},
      "outputs": [
        {
          "data": {
            "text/plain": [
              "<sqlite3.Cursor at 0x1925be0a570>"
            ]
          },
          "execution_count": 11,
          "metadata": {},
          "output_type": "execute_result"
        }
      ],
      "source": [
        "# Let’s create a table. We will write the query to create a table and then use the cursor to execute it.\n",
        "\n",
        "create_products_table = \"\"\"CREATE TABLE IF NOT EXISTS products (\n",
        "                                    id integer PRIMARY KEY,\n",
        "                                    category text NOT NULL,\n",
        "                                    price real,\n",
        "                                    cost real\n",
        "                                );\"\"\" \n",
        "\n",
        "cursor.execute(create_products_table)"
      ]
    },
    {
      "cell_type": "code",
      "execution_count": 12,
      "metadata": {},
      "outputs": [
        {
          "name": "stdout",
          "output_type": "stream",
          "text": [
            "[('products',)]\n"
          ]
        }
      ],
      "source": [
        "# Let’s check the tables in the sample database again.\n",
        "\n",
        "check_tables = \"SELECT name FROM sqlite_master WHERE type='table';\"\n",
        "cursor.execute(check_tables)\n",
        "print(cursor.fetchall())\n"
      ]
    },
    {
      "attachments": {},
      "cell_type": "markdown",
      "metadata": {},
      "source": [
        "We now see the products table exists in the database.\n",
        "\n",
        "We can execute any query using the cursor. For instance, the following code snippet executes the query to select all the rows in the products table and assigns the result to a variable called result. Then, the fetchall function is called on the result variable to see what it contains."
      ]
    },
    {
      "cell_type": "code",
      "execution_count": 13,
      "metadata": {},
      "outputs": [
        {
          "name": "stdout",
          "output_type": "stream",
          "text": [
            "[]\n"
          ]
        }
      ],
      "source": [
        "result = cursor.execute(\"SELECT * FROM products;\")\n",
        "print(result.fetchall())\n"
      ]
    },
    {
      "cell_type": "code",
      "execution_count": 8,
      "metadata": {},
      "outputs": [],
      "source": [
        "# It does not return anything since the products table is empty. Let’s populate it using the insert into statement."
      ]
    },
    {
      "cell_type": "code",
      "execution_count": 14,
      "metadata": {},
      "outputs": [
        {
          "data": {
            "text/plain": [
              "<sqlite3.Cursor at 0x1925be0a570>"
            ]
          },
          "execution_count": 14,
          "metadata": {},
          "output_type": "execute_result"
        }
      ],
      "source": [
        "populate_products_table = \"\"\"INSERT INTO products VALUES\n",
        "                            (1001, \"A\",15.9,12.9),\n",
        "                            (1002, \"B\",24.9,20.5),\n",
        "                            (1003, \"A\",13.5,10.6),\n",
        "                            (1004, \"A\",17.5,13.5),\n",
        "                            (1005, \"B\",28.9,23.5)\n",
        "                            ;\"\"\"\n",
        "\n",
        "cursor.execute(populate_products_table)\n",
        "\n",
        "                        "
      ]
    },
    {
      "cell_type": "code",
      "execution_count": 15,
      "metadata": {},
      "outputs": [
        {
          "data": {
            "text/plain": [
              "[(1001, 'A', 15.9, 12.9),\n",
              " (1002, 'B', 24.9, 20.5),\n",
              " (1003, 'A', 13.5, 10.6),\n",
              " (1004, 'A', 17.5, 13.5),\n",
              " (1005, 'B', 28.9, 23.5)]"
            ]
          },
          "execution_count": 15,
          "metadata": {},
          "output_type": "execute_result"
        }
      ],
      "source": [
        "# show the results\n",
        "result = cursor.execute(\"SELECT * FROM products;\")\n",
        "result.fetchall()"
      ]
    },
    {
      "cell_type": "code",
      "execution_count": 16,
      "metadata": {},
      "outputs": [],
      "source": [
        "# Note: The insert statement implicitly opens a transaction, which needs to be committed before changes are saved in the database."
      ]
    },
    {
      "cell_type": "code",
      "execution_count": 17,
      "metadata": {},
      "outputs": [
        {
          "name": "stdout",
          "output_type": "stream",
          "text": [
            "(1001, 'A', 15.9, 12.9)\n",
            "(1002, 'B', 24.9, 20.5)\n",
            "(1003, 'A', 13.5, 10.6)\n",
            "(1004, 'A', 17.5, 13.5)\n",
            "(1005, 'B', 28.9, 23.5)\n"
          ]
        }
      ],
      "source": [
        "# The products table should have 5 rows now. Let’s confirm by executing the select statement above.\n",
        "# print the result line by line\n",
        "\n",
        "result = cursor.execute(\"SELECT * FROM products;\")\n",
        "for row in result:\n",
        "    print(row)\n"
      ]
    },
    {
      "cell_type": "code",
      "execution_count": 18,
      "metadata": {},
      "outputs": [
        {
          "name": "stdout",
          "output_type": "stream",
          "text": [
            "[(1001, 'A', 15.9, 12.9), (1002, 'B', 24.9, 20.5), (1003, 'A', 13.5, 10.6), (1004, 'A', 17.5, 13.5), (1005, 'B', 28.9, 23.5)]\n"
          ]
        }
      ],
      "source": [
        "# or print the result as a list\n",
        "\n",
        "result = cursor.execute(\"SELECT * FROM products;\")\n",
        "print(result.fetchall())\n"
      ]
    },
    {
      "cell_type": "code",
      "execution_count": 19,
      "metadata": {},
      "outputs": [
        {
          "name": "stdout",
          "output_type": "stream",
          "text": [
            "[(1001, 'A', 15.9, 12.9), (1003, 'A', 13.5, 10.6), (1004, 'A', 17.5, 13.5)]\n"
          ]
        }
      ],
      "source": [
        "# We can, of course, write more advanced queries. For instance, the following query returns the rows that belong to category A.\n",
        "\n",
        "result = cursor.execute(\"SELECT * FROM products WHERE category = 'A';\")\n",
        "print(result.fetchall())"
      ]
    },
    {
      "attachments": {},
      "cell_type": "markdown",
      "metadata": {},
      "source": [
        "### One line of code to create a Pandas DataFrame"
      ]
    },
    {
      "attachments": {},
      "cell_type": "markdown",
      "metadata": {},
      "source": [
        "One of the nice things about sqlite3 module is that it is compatible with Pandas. Hence, we can easily write the results of a query into a Pandas DataFrame.\n",
        "\n",
        "We can call the read_sql_query function of Pandas with the query and connection object."
      ]
    },
    {
      "cell_type": "code",
      "execution_count": 20,
      "metadata": {},
      "outputs": [
        {
          "name": "stdout",
          "output_type": "stream",
          "text": [
            "     id category  price  cost\n",
            "0  1001        A   15.9  12.9\n",
            "1  1002        B   24.9  20.5\n",
            "2  1003        A   13.5  10.6\n",
            "3  1004        A   17.5  13.5\n",
            "4  1005        B   28.9  23.5\n"
          ]
        }
      ],
      "source": [
        "products = pd.read_sql_query(\"SELECT * FROM products;\", conn)\n",
        "print(products)"
      ]
    },
    {
      "cell_type": "code",
      "execution_count": null,
      "metadata": {},
      "outputs": [],
      "source": [
        "# Let’s create another table and populate it."
      ]
    },
    {
      "cell_type": "code",
      "execution_count": 21,
      "metadata": {},
      "outputs": [],
      "source": [
        "create_customers_table = \"\"\"CREATE TABLE IF NOT EXISTS customers (\n",
        "                                    id integer PRIMARY KEY,\n",
        "                                    customer_id integer NOT NULL,\n",
        "                                    ismember integer NOT NULL,\n",
        "                                    purchase_date text,\n",
        "                                    purchased_product integer,\n",
        "                                    purchase_quantity integer\n",
        "                                );\"\"\"\n",
        "\n",
        "populate_customer_table = \"\"\"INSERT INTO customers VALUES\n",
        "                                    (1, 110, 0, \"2022-12-23\", 1002, 5),\n",
        "                                    (2, 112, 0, \"2022-12-14\", 1001, 4),\n",
        "                                    (3, 113, 1, \"2022-12-08\", 1003, 6),\n",
        "                                    (4, 113, 1, \"2022-12-14\", 1002, 4),\n",
        "                                    (5, 114, 0, \"2022-12-21\", 1004, 10)\n",
        "                                ;\"\"\"\n",
        "\n",
        "cursor.execute(create_customers_table)\n",
        "cursor.execute(populate_customer_table)\n",
        "\n",
        "conn.commit()"
      ]
    },
    {
      "cell_type": "code",
      "execution_count": 22,
      "metadata": {},
      "outputs": [
        {
          "data": {
            "text/plain": [
              "[(1, 110, 0, '2022-12-23', 1002, 5),\n",
              " (2, 112, 0, '2022-12-14', 1001, 4),\n",
              " (3, 113, 1, '2022-12-08', 1003, 6),\n",
              " (4, 113, 1, '2022-12-14', 1002, 4),\n",
              " (5, 114, 0, '2022-12-21', 1004, 10)]"
            ]
          },
          "execution_count": 22,
          "metadata": {},
          "output_type": "execute_result"
        }
      ],
      "source": [
        "# show the results\n",
        "result = cursor.execute(\"SELECT * FROM customers;\")\n",
        "result.fetchall()\n"
      ]
    },
    {
      "cell_type": "code",
      "execution_count": 23,
      "metadata": {},
      "outputs": [
        {
          "data": {
            "text/html": [
              "<div>\n",
              "<style scoped>\n",
              "    .dataframe tbody tr th:only-of-type {\n",
              "        vertical-align: middle;\n",
              "    }\n",
              "\n",
              "    .dataframe tbody tr th {\n",
              "        vertical-align: top;\n",
              "    }\n",
              "\n",
              "    .dataframe thead th {\n",
              "        text-align: right;\n",
              "    }\n",
              "</style>\n",
              "<table border=\"1\" class=\"dataframe\">\n",
              "  <thead>\n",
              "    <tr style=\"text-align: right;\">\n",
              "      <th></th>\n",
              "      <th>id</th>\n",
              "      <th>customer_id</th>\n",
              "      <th>ismember</th>\n",
              "      <th>purchase_date</th>\n",
              "      <th>purchased_product</th>\n",
              "      <th>purchase_quantity</th>\n",
              "    </tr>\n",
              "  </thead>\n",
              "  <tbody>\n",
              "    <tr>\n",
              "      <th>0</th>\n",
              "      <td>1</td>\n",
              "      <td>110</td>\n",
              "      <td>0</td>\n",
              "      <td>2022-12-23</td>\n",
              "      <td>1002</td>\n",
              "      <td>5</td>\n",
              "    </tr>\n",
              "    <tr>\n",
              "      <th>1</th>\n",
              "      <td>2</td>\n",
              "      <td>112</td>\n",
              "      <td>0</td>\n",
              "      <td>2022-12-14</td>\n",
              "      <td>1001</td>\n",
              "      <td>4</td>\n",
              "    </tr>\n",
              "    <tr>\n",
              "      <th>2</th>\n",
              "      <td>3</td>\n",
              "      <td>113</td>\n",
              "      <td>1</td>\n",
              "      <td>2022-12-08</td>\n",
              "      <td>1003</td>\n",
              "      <td>6</td>\n",
              "    </tr>\n",
              "    <tr>\n",
              "      <th>3</th>\n",
              "      <td>4</td>\n",
              "      <td>113</td>\n",
              "      <td>1</td>\n",
              "      <td>2022-12-14</td>\n",
              "      <td>1002</td>\n",
              "      <td>4</td>\n",
              "    </tr>\n",
              "    <tr>\n",
              "      <th>4</th>\n",
              "      <td>5</td>\n",
              "      <td>114</td>\n",
              "      <td>0</td>\n",
              "      <td>2022-12-21</td>\n",
              "      <td>1004</td>\n",
              "      <td>10</td>\n",
              "    </tr>\n",
              "  </tbody>\n",
              "</table>\n",
              "</div>"
            ],
            "text/plain": [
              "   id  customer_id  ismember purchase_date  purchased_product  \\\n",
              "0   1          110         0    2022-12-23               1002   \n",
              "1   2          112         0    2022-12-14               1001   \n",
              "2   3          113         1    2022-12-08               1003   \n",
              "3   4          113         1    2022-12-14               1002   \n",
              "4   5          114         0    2022-12-21               1004   \n",
              "\n",
              "   purchase_quantity  \n",
              "0                  5  \n",
              "1                  4  \n",
              "2                  6  \n",
              "3                  4  \n",
              "4                 10  "
            ]
          },
          "execution_count": 23,
          "metadata": {},
          "output_type": "execute_result"
        }
      ],
      "source": [
        "customers = pd.read_sql_query(\"SELECT * FROM customers;\", conn)\n",
        "customers"
      ]
    },
    {
      "cell_type": "markdown",
      "metadata": {},
      "source": [
        "### More complex queries"
      ]
    },
    {
      "attachments": {},
      "cell_type": "markdown",
      "metadata": {},
      "source": [
        "Let’s write a query that retrieves data from both products and customers tables. It will include a join statement."
      ]
    },
    {
      "cell_type": "code",
      "execution_count": 25,
      "metadata": {},
      "outputs": [
        {
          "data": {
            "text/plain": [
              "[(110, 1002, 5),\n",
              " (112, 1001, 4),\n",
              " (113, 1003, 6),\n",
              " (113, 1002, 4),\n",
              " (114, 1004, 10)]"
            ]
          },
          "execution_count": 25,
          "metadata": {},
          "output_type": "execute_result"
        }
      ],
      "source": [
        "query = '''\n",
        "        SELECT\n",
        "            customer_id,\n",
        "            purchased_product,\n",
        "            purchase_quantity\n",
        "        FROM customers c\n",
        "        LEFT JOIN products p ON c.purchased_product = p.id\n",
        "        '''\n",
        "cursor.execute(query)\n",
        "cursor.fetchall()"
      ]
    },
    {
      "attachments": {},
      "cell_type": "markdown",
      "metadata": {},
      "source": [
        "You can use the description attribute to see the column names in the output of the query:"
      ]
    },
    {
      "cell_type": "code",
      "execution_count": 26,
      "metadata": {},
      "outputs": [
        {
          "data": {
            "text/plain": [
              "(('customer_id', None, None, None, None, None, None),\n",
              " ('purchased_product', None, None, None, None, None, None),\n",
              " ('purchase_quantity', None, None, None, None, None, None))"
            ]
          },
          "execution_count": 26,
          "metadata": {},
          "output_type": "execute_result"
        }
      ],
      "source": [
        "cursor.description\n",
        "\n"
      ]
    },
    {
      "cell_type": "code",
      "execution_count": 27,
      "metadata": {},
      "outputs": [
        {
          "data": {
            "text/plain": [
              "['customer_id', 'purchased_product', 'purchase_quantity']"
            ]
          },
          "execution_count": 27,
          "metadata": {},
          "output_type": "execute_result"
        }
      ],
      "source": [
        "# save the names in a Python list using list comprehension\n",
        "col_names = [description[0] for description in cursor.description]\n",
        "col_names"
      ]
    },
    {
      "attachments": {},
      "cell_type": "markdown",
      "metadata": {},
      "source": [
        "### Closing the connection\n",
        "We can use the close method to close the current connection to the database"
      ]
    },
    {
      "cell_type": "code",
      "execution_count": 28,
      "metadata": {},
      "outputs": [],
      "source": [
        "conn.close()\n"
      ]
    }
  ],
  "metadata": {
    "colab": {
      "collapsed_sections": [],
      "provenance": []
    },
    "kernelspec": {
      "display_name": "Python 3.9.12 ('base')",
      "language": "python",
      "name": "python3"
    },
    "language_info": {
      "codemirror_mode": {
        "name": "ipython",
        "version": 3
      },
      "file_extension": ".py",
      "mimetype": "text/x-python",
      "name": "python",
      "nbconvert_exporter": "python",
      "pygments_lexer": "ipython3",
      "version": "3.9.12"
    },
    "vscode": {
      "interpreter": {
        "hash": "a2ab3825ac7005fb7b26f112e9c99ae62f464c629e30b0d534c3b931b6cbc3ff"
      }
    }
  },
  "nbformat": 4,
  "nbformat_minor": 0
}
