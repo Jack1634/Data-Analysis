{
 "cells": [
  {
   "cell_type": "markdown",
   "metadata": {},
   "source": [
    "https://towardsdatascience.com/how-to-analyze-survey-data-with-python-84eff9cc9568"
   ]
  },
  {
   "cell_type": "code",
   "execution_count": 1,
   "metadata": {},
   "outputs": [],
   "source": [
    "import pandas as pd\n",
    "import numpy as np\n",
    "import matplotlib.pyplot as plt\n",
    "import seaborn as sns\n"
   ]
  },
  {
   "cell_type": "code",
   "execution_count": 2,
   "metadata": {},
   "outputs": [
    {
     "name": "stdout",
     "output_type": "stream",
     "text": [
      "Collecting pyreadstatNote: you may need to restart the kernel to use updated packages.\n",
      "  Downloading pyreadstat-1.1.9-cp39-cp39-win_amd64.whl (2.4 MB)\n",
      "Requirement already satisfied: pandas>=1.2.0 in c:\\users\\muslu\\anaconda3\\lib\\site-packages (from pyreadstat) (1.4.2)\n",
      "Requirement already satisfied: pytz>=2020.1 in c:\\users\\muslu\\anaconda3\\lib\\site-packages (from pandas>=1.2.0->pyreadstat) (2021.3)\n",
      "Requirement already satisfied: python-dateutil>=2.8.1 in c:\\users\\muslu\\anaconda3\\lib\\site-packages (from pandas>=1.2.0->pyreadstat) (2.8.2)\n",
      "Requirement already satisfied: numpy>=1.18.5 in c:\\users\\muslu\\anaconda3\\lib\\site-packages (from pandas>=1.2.0->pyreadstat) (1.21.5)\n",
      "Requirement already satisfied: six>=1.5 in c:\\users\\muslu\\anaconda3\\lib\\site-packages (from python-dateutil>=2.8.1->pandas>=1.2.0->pyreadstat) (1.16.0)\n",
      "Installing collected packages: pyreadstat\n",
      "Successfully installed pyreadstat-1.1.9\n",
      "\n"
     ]
    }
   ],
   "source": [
    "pip install pyreadstat"
   ]
  },
  {
   "cell_type": "code",
   "execution_count": 3,
   "metadata": {},
   "outputs": [],
   "source": [
    "import pyreadstat"
   ]
  },
  {
   "cell_type": "code",
   "execution_count": 7,
   "metadata": {},
   "outputs": [],
   "source": [
    "df,meta = pyreadstat.read_sav(\"Surveydata.sav\")"
   ]
  },
  {
   "cell_type": "code",
   "execution_count": 8,
   "metadata": {},
   "outputs": [
    {
     "data": {
      "text/html": [
       "<div>\n",
       "<style scoped>\n",
       "    .dataframe tbody tr th:only-of-type {\n",
       "        vertical-align: middle;\n",
       "    }\n",
       "\n",
       "    .dataframe tbody tr th {\n",
       "        vertical-align: top;\n",
       "    }\n",
       "\n",
       "    .dataframe thead th {\n",
       "        text-align: right;\n",
       "    }\n",
       "</style>\n",
       "<table border=\"1\" class=\"dataframe\">\n",
       "  <thead>\n",
       "    <tr style=\"text-align: right;\">\n",
       "      <th></th>\n",
       "      <th>Sat_overall</th>\n",
       "      <th>Sat_service</th>\n",
       "      <th>Sat_product</th>\n",
       "      <th>NPS</th>\n",
       "      <th>Age</th>\n",
       "      <th>Region</th>\n",
       "    </tr>\n",
       "  </thead>\n",
       "  <tbody>\n",
       "    <tr>\n",
       "      <th>0</th>\n",
       "      <td>1.0</td>\n",
       "      <td>5.0</td>\n",
       "      <td>5.0</td>\n",
       "      <td>2.0</td>\n",
       "      <td>3.0</td>\n",
       "      <td>1.0</td>\n",
       "    </tr>\n",
       "    <tr>\n",
       "      <th>1</th>\n",
       "      <td>2.0</td>\n",
       "      <td>1.0</td>\n",
       "      <td>4.0</td>\n",
       "      <td>3.0</td>\n",
       "      <td>1.0</td>\n",
       "      <td>1.0</td>\n",
       "    </tr>\n",
       "    <tr>\n",
       "      <th>2</th>\n",
       "      <td>2.0</td>\n",
       "      <td>5.0</td>\n",
       "      <td>3.0</td>\n",
       "      <td>1.0</td>\n",
       "      <td>2.0</td>\n",
       "      <td>4.0</td>\n",
       "    </tr>\n",
       "    <tr>\n",
       "      <th>3</th>\n",
       "      <td>4.0</td>\n",
       "      <td>1.0</td>\n",
       "      <td>3.0</td>\n",
       "      <td>1.0</td>\n",
       "      <td>2.0</td>\n",
       "      <td>2.0</td>\n",
       "    </tr>\n",
       "    <tr>\n",
       "      <th>4</th>\n",
       "      <td>4.0</td>\n",
       "      <td>1.0</td>\n",
       "      <td>4.0</td>\n",
       "      <td>2.0</td>\n",
       "      <td>3.0</td>\n",
       "      <td>3.0</td>\n",
       "    </tr>\n",
       "  </tbody>\n",
       "</table>\n",
       "</div>"
      ],
      "text/plain": [
       "   Sat_overall  Sat_service  Sat_product  NPS  Age  Region\n",
       "0          1.0          5.0          5.0  2.0  3.0     1.0\n",
       "1          2.0          1.0          4.0  3.0  1.0     1.0\n",
       "2          2.0          5.0          3.0  1.0  2.0     4.0\n",
       "3          4.0          1.0          3.0  1.0  2.0     2.0\n",
       "4          4.0          1.0          4.0  2.0  3.0     3.0"
      ]
     },
     "execution_count": 8,
     "metadata": {},
     "output_type": "execute_result"
    }
   ],
   "source": [
    "df.head()"
   ]
  },
  {
   "cell_type": "code",
   "execution_count": 9,
   "metadata": {},
   "outputs": [
    {
     "data": {
      "text/plain": [
       "['How satisfied are you overall?',\n",
       " 'How satisfied are you with our service?',\n",
       " 'How satisfied are you with our products?',\n",
       " 'Would you recommend us?',\n",
       " 'How old are you?',\n",
       " 'Which region do you come from?']"
      ]
     },
     "execution_count": 9,
     "metadata": {},
     "output_type": "execute_result"
    }
   ],
   "source": [
    "meta.column_labels"
   ]
  },
  {
   "cell_type": "code",
   "execution_count": 11,
   "metadata": {},
   "outputs": [],
   "source": [
    "meta_dict =dict(zip(meta.column_names,meta.column_labels))"
   ]
  },
  {
   "cell_type": "code",
   "execution_count": 12,
   "metadata": {},
   "outputs": [
    {
     "data": {
      "text/plain": [
       "{'Sat_overall': 'How satisfied are you overall?',\n",
       " 'Sat_service': 'How satisfied are you with our service?',\n",
       " 'Sat_product': 'How satisfied are you with our products?',\n",
       " 'NPS': 'Would you recommend us?',\n",
       " 'Age': 'How old are you?',\n",
       " 'Region': 'Which region do you come from?'}"
      ]
     },
     "execution_count": 12,
     "metadata": {},
     "output_type": "execute_result"
    }
   ],
   "source": [
    "meta_dict"
   ]
  },
  {
   "cell_type": "code",
   "execution_count": 13,
   "metadata": {},
   "outputs": [
    {
     "data": {
      "text/plain": [
       "1.0    0.291304\n",
       "2.0    0.330435\n",
       "3.0    0.378261\n",
       "Name: Age, dtype: float64"
      ]
     },
     "execution_count": 13,
     "metadata": {},
     "output_type": "execute_result"
    }
   ],
   "source": [
    "df[\"Age\"].value_counts(normalize=True).sort_index()"
   ]
  },
  {
   "cell_type": "code",
   "execution_count": 14,
   "metadata": {},
   "outputs": [
    {
     "data": {
      "text/plain": [
       ">50      0.378261\n",
       "30-50    0.330435\n",
       "<30      0.291304\n",
       "Name: Age, dtype: float64"
      ]
     },
     "execution_count": 14,
     "metadata": {},
     "output_type": "execute_result"
    }
   ],
   "source": [
    "df[\"Age\"].map(meta.variable_value_labels[\"Age\"]).value_counts(normalize=True)"
   ]
  },
  {
   "cell_type": "code",
   "execution_count": 16,
   "metadata": {},
   "outputs": [
    {
     "data": {
      "text/plain": [
       "<30      0.291304\n",
       "30-50    0.330435\n",
       ">50      0.378261\n",
       "Name: Age, dtype: float64"
      ]
     },
     "execution_count": 16,
     "metadata": {},
     "output_type": "execute_result"
    }
   ],
   "source": [
    "df[\"Age\"].map(meta.variable_value_labels[\"Age\"]).value_counts(normalize=True).loc[meta.variable_value_labels[\"Age\"].values()]"
   ]
  },
  {
   "cell_type": "code",
   "execution_count": 17,
   "metadata": {},
   "outputs": [
    {
     "data": {
      "text/html": [
       "<div>\n",
       "<style scoped>\n",
       "    .dataframe tbody tr th:only-of-type {\n",
       "        vertical-align: middle;\n",
       "    }\n",
       "\n",
       "    .dataframe tbody tr th {\n",
       "        vertical-align: top;\n",
       "    }\n",
       "\n",
       "    .dataframe thead th {\n",
       "        text-align: right;\n",
       "    }\n",
       "</style>\n",
       "<table border=\"1\" class=\"dataframe\">\n",
       "  <thead>\n",
       "    <tr style=\"text-align: right;\">\n",
       "      <th>Age</th>\n",
       "      <th>1.0</th>\n",
       "      <th>2.0</th>\n",
       "      <th>3.0</th>\n",
       "    </tr>\n",
       "    <tr>\n",
       "      <th>Sat_overall</th>\n",
       "      <th></th>\n",
       "      <th></th>\n",
       "      <th></th>\n",
       "    </tr>\n",
       "  </thead>\n",
       "  <tbody>\n",
       "    <tr>\n",
       "      <th>1.0</th>\n",
       "      <td>0.208955</td>\n",
       "      <td>0.223684</td>\n",
       "      <td>0.252874</td>\n",
       "    </tr>\n",
       "    <tr>\n",
       "      <th>2.0</th>\n",
       "      <td>0.238806</td>\n",
       "      <td>0.197368</td>\n",
       "      <td>0.229885</td>\n",
       "    </tr>\n",
       "    <tr>\n",
       "      <th>3.0</th>\n",
       "      <td>0.164179</td>\n",
       "      <td>0.236842</td>\n",
       "      <td>0.160920</td>\n",
       "    </tr>\n",
       "    <tr>\n",
       "      <th>4.0</th>\n",
       "      <td>0.104478</td>\n",
       "      <td>0.184211</td>\n",
       "      <td>0.195402</td>\n",
       "    </tr>\n",
       "    <tr>\n",
       "      <th>5.0</th>\n",
       "      <td>0.283582</td>\n",
       "      <td>0.157895</td>\n",
       "      <td>0.160920</td>\n",
       "    </tr>\n",
       "  </tbody>\n",
       "</table>\n",
       "</div>"
      ],
      "text/plain": [
       "Age               1.0       2.0       3.0\n",
       "Sat_overall                              \n",
       "1.0          0.208955  0.223684  0.252874\n",
       "2.0          0.238806  0.197368  0.229885\n",
       "3.0          0.164179  0.236842  0.160920\n",
       "4.0          0.104478  0.184211  0.195402\n",
       "5.0          0.283582  0.157895  0.160920"
      ]
     },
     "execution_count": 17,
     "metadata": {},
     "output_type": "execute_result"
    }
   ],
   "source": [
    "pd.crosstab(df[\"Sat_overall\"],df[\"Age\"],dropna=True,normalize=\"columns\")"
   ]
  },
  {
   "cell_type": "code",
   "execution_count": 19,
   "metadata": {},
   "outputs": [
    {
     "data": {
      "text/html": [
       "<div>\n",
       "<style scoped>\n",
       "    .dataframe tbody tr th:only-of-type {\n",
       "        vertical-align: middle;\n",
       "    }\n",
       "\n",
       "    .dataframe tbody tr th {\n",
       "        vertical-align: top;\n",
       "    }\n",
       "\n",
       "    .dataframe thead th {\n",
       "        text-align: right;\n",
       "    }\n",
       "</style>\n",
       "<table border=\"1\" class=\"dataframe\">\n",
       "  <thead>\n",
       "    <tr style=\"text-align: right;\">\n",
       "      <th>Age</th>\n",
       "      <th>&lt;30</th>\n",
       "      <th>30-50</th>\n",
       "      <th>&gt;50</th>\n",
       "    </tr>\n",
       "    <tr>\n",
       "      <th>Sat_overall</th>\n",
       "      <th></th>\n",
       "      <th></th>\n",
       "      <th></th>\n",
       "    </tr>\n",
       "  </thead>\n",
       "  <tbody>\n",
       "    <tr>\n",
       "      <th>Completly satisfied</th>\n",
       "      <td>20.895522</td>\n",
       "      <td>22.368421</td>\n",
       "      <td>25.287356</td>\n",
       "    </tr>\n",
       "    <tr>\n",
       "      <th>Very satisfied</th>\n",
       "      <td>23.880597</td>\n",
       "      <td>19.736842</td>\n",
       "      <td>22.988506</td>\n",
       "    </tr>\n",
       "    <tr>\n",
       "      <th>Satisfied</th>\n",
       "      <td>16.417910</td>\n",
       "      <td>23.684211</td>\n",
       "      <td>16.091954</td>\n",
       "    </tr>\n",
       "    <tr>\n",
       "      <th>Less satisfied</th>\n",
       "      <td>10.447761</td>\n",
       "      <td>18.421053</td>\n",
       "      <td>19.540230</td>\n",
       "    </tr>\n",
       "    <tr>\n",
       "      <th>Dissatisfied</th>\n",
       "      <td>28.358209</td>\n",
       "      <td>15.789474</td>\n",
       "      <td>16.091954</td>\n",
       "    </tr>\n",
       "  </tbody>\n",
       "</table>\n",
       "</div>"
      ],
      "text/plain": [
       "Age                        <30      30-50        >50\n",
       "Sat_overall                                         \n",
       "Completly satisfied  20.895522  22.368421  25.287356\n",
       "Very satisfied       23.880597  19.736842  22.988506\n",
       "Satisfied            16.417910  23.684211  16.091954\n",
       "Less satisfied       10.447761  18.421053  19.540230\n",
       "Dissatisfied         28.358209  15.789474  16.091954"
      ]
     },
     "execution_count": 19,
     "metadata": {},
     "output_type": "execute_result"
    }
   ],
   "source": [
    "pd.crosstab(df[\"Sat_overall\"].map(meta.variable_value_labels[\"Sat_overall\"]),df[\"Age\"].map(meta.variable_value_labels[\"Age\"]),\\\n",
    "    dropna=True, normalize=\"columns\").loc[meta.variable_value_labels[\"Sat_overall\"].values()].loc[:,meta.variable_value_labels[\"Age\"].values()]*100"
   ]
  },
  {
   "cell_type": "code",
   "execution_count": 22,
   "metadata": {},
   "outputs": [],
   "source": [
    "weight = np.NaN\n",
    "df.loc[(df[\"Age\"]==1),\"weight\"] = 0.5/(67/230)\n",
    "df.loc[(df[\"Age\"]==2),\"weight\"] = 0.25/(76/230)\n",
    "df.loc[(df[\"Age\"]==3),\"weight\"] = 0.25/(87/230)"
   ]
  },
  {
   "cell_type": "code",
   "execution_count": 25,
   "metadata": {},
   "outputs": [],
   "source": [
    "def weighted_frequency (x,y) :\n",
    "    a = pd.Series(df[[x,y]].groupby(x).sum()[y]/df[y].sum())\n",
    "    b = a.index.map(meta.variable_value_labels[x])\n",
    "    c = a.values\n",
    "    df_temp = pd.DataFrame({\"Labels\":b,\"Fruquency\":c})\n",
    "    return df_temp"
   ]
  },
  {
   "cell_type": "code",
   "execution_count": 26,
   "metadata": {},
   "outputs": [
    {
     "data": {
      "text/html": [
       "<div>\n",
       "<style scoped>\n",
       "    .dataframe tbody tr th:only-of-type {\n",
       "        vertical-align: middle;\n",
       "    }\n",
       "\n",
       "    .dataframe tbody tr th {\n",
       "        vertical-align: top;\n",
       "    }\n",
       "\n",
       "    .dataframe thead th {\n",
       "        text-align: right;\n",
       "    }\n",
       "</style>\n",
       "<table border=\"1\" class=\"dataframe\">\n",
       "  <thead>\n",
       "    <tr style=\"text-align: right;\">\n",
       "      <th></th>\n",
       "      <th>Labels</th>\n",
       "      <th>Fruquency</th>\n",
       "    </tr>\n",
       "  </thead>\n",
       "  <tbody>\n",
       "    <tr>\n",
       "      <th>0</th>\n",
       "      <td>&lt;30</td>\n",
       "      <td>0.50</td>\n",
       "    </tr>\n",
       "    <tr>\n",
       "      <th>1</th>\n",
       "      <td>30-50</td>\n",
       "      <td>0.25</td>\n",
       "    </tr>\n",
       "    <tr>\n",
       "      <th>2</th>\n",
       "      <td>&gt;50</td>\n",
       "      <td>0.25</td>\n",
       "    </tr>\n",
       "  </tbody>\n",
       "</table>\n",
       "</div>"
      ],
      "text/plain": [
       "  Labels  Fruquency\n",
       "0    <30       0.50\n",
       "1  30-50       0.25\n",
       "2    >50       0.25"
      ]
     },
     "execution_count": 26,
     "metadata": {},
     "output_type": "execute_result"
    }
   ],
   "source": [
    "weighted_frequency(\"Age\",\"weight\")"
   ]
  },
  {
   "cell_type": "code",
   "execution_count": 27,
   "metadata": {},
   "outputs": [
    {
     "data": {
      "text/html": [
       "<div>\n",
       "<style scoped>\n",
       "    .dataframe tbody tr th:only-of-type {\n",
       "        vertical-align: middle;\n",
       "    }\n",
       "\n",
       "    .dataframe tbody tr th {\n",
       "        vertical-align: top;\n",
       "    }\n",
       "\n",
       "    .dataframe thead th {\n",
       "        text-align: right;\n",
       "    }\n",
       "</style>\n",
       "<table border=\"1\" class=\"dataframe\">\n",
       "  <thead>\n",
       "    <tr style=\"text-align: right;\">\n",
       "      <th></th>\n",
       "      <th>Labels</th>\n",
       "      <th>Fruquency</th>\n",
       "    </tr>\n",
       "  </thead>\n",
       "  <tbody>\n",
       "    <tr>\n",
       "      <th>0</th>\n",
       "      <td>Completly satisfied</td>\n",
       "      <td>0.223617</td>\n",
       "    </tr>\n",
       "    <tr>\n",
       "      <th>1</th>\n",
       "      <td>Very satisfied</td>\n",
       "      <td>0.226216</td>\n",
       "    </tr>\n",
       "    <tr>\n",
       "      <th>2</th>\n",
       "      <td>Satisfied</td>\n",
       "      <td>0.181530</td>\n",
       "    </tr>\n",
       "    <tr>\n",
       "      <th>3</th>\n",
       "      <td>Less satisfied</td>\n",
       "      <td>0.147142</td>\n",
       "    </tr>\n",
       "    <tr>\n",
       "      <th>4</th>\n",
       "      <td>Dissatisfied</td>\n",
       "      <td>0.221495</td>\n",
       "    </tr>\n",
       "  </tbody>\n",
       "</table>\n",
       "</div>"
      ],
      "text/plain": [
       "                Labels  Fruquency\n",
       "0  Completly satisfied   0.223617\n",
       "1       Very satisfied   0.226216\n",
       "2            Satisfied   0.181530\n",
       "3       Less satisfied   0.147142\n",
       "4         Dissatisfied   0.221495"
      ]
     },
     "execution_count": 27,
     "metadata": {},
     "output_type": "execute_result"
    }
   ],
   "source": [
    "weighted_frequency(\"Sat_overall\",\"weight\")"
   ]
  },
  {
   "cell_type": "code",
   "execution_count": 28,
   "metadata": {},
   "outputs": [
    {
     "data": {
      "text/html": [
       "<div>\n",
       "<style scoped>\n",
       "    .dataframe tbody tr th:only-of-type {\n",
       "        vertical-align: middle;\n",
       "    }\n",
       "\n",
       "    .dataframe tbody tr th {\n",
       "        vertical-align: top;\n",
       "    }\n",
       "\n",
       "    .dataframe thead th {\n",
       "        text-align: right;\n",
       "    }\n",
       "</style>\n",
       "<table border=\"1\" class=\"dataframe\">\n",
       "  <thead>\n",
       "    <tr style=\"text-align: right;\">\n",
       "      <th>Age</th>\n",
       "      <th>&lt;30</th>\n",
       "      <th>30-50</th>\n",
       "      <th>&gt;50</th>\n",
       "    </tr>\n",
       "    <tr>\n",
       "      <th>Sat_overall</th>\n",
       "      <th></th>\n",
       "      <th></th>\n",
       "      <th></th>\n",
       "    </tr>\n",
       "  </thead>\n",
       "  <tbody>\n",
       "    <tr>\n",
       "      <th>Completly satisfied</th>\n",
       "      <td>20.895522</td>\n",
       "      <td>22.368421</td>\n",
       "      <td>25.287356</td>\n",
       "    </tr>\n",
       "    <tr>\n",
       "      <th>Very satisfied</th>\n",
       "      <td>23.880597</td>\n",
       "      <td>19.736842</td>\n",
       "      <td>22.988506</td>\n",
       "    </tr>\n",
       "    <tr>\n",
       "      <th>Satisfied</th>\n",
       "      <td>16.417910</td>\n",
       "      <td>23.684211</td>\n",
       "      <td>16.091954</td>\n",
       "    </tr>\n",
       "    <tr>\n",
       "      <th>Less satisfied</th>\n",
       "      <td>10.447761</td>\n",
       "      <td>18.421053</td>\n",
       "      <td>19.540230</td>\n",
       "    </tr>\n",
       "    <tr>\n",
       "      <th>Dissatisfied</th>\n",
       "      <td>28.358209</td>\n",
       "      <td>15.789474</td>\n",
       "      <td>16.091954</td>\n",
       "    </tr>\n",
       "  </tbody>\n",
       "</table>\n",
       "</div>"
      ],
      "text/plain": [
       "Age                        <30      30-50        >50\n",
       "Sat_overall                                         \n",
       "Completly satisfied  20.895522  22.368421  25.287356\n",
       "Very satisfied       23.880597  19.736842  22.988506\n",
       "Satisfied            16.417910  23.684211  16.091954\n",
       "Less satisfied       10.447761  18.421053  19.540230\n",
       "Dissatisfied         28.358209  15.789474  16.091954"
      ]
     },
     "execution_count": 28,
     "metadata": {},
     "output_type": "execute_result"
    }
   ],
   "source": [
    "pd.crosstab(df['Sat_overall']. \\\n",
    "        map(meta.variable_value_labels['Sat_overall']), \\\n",
    "        df['Age'].map(meta.variable_value_labels['Age']), \n",
    "        df.weight, aggfunc = sum, dropna=True, \\\n",
    "        normalize='columns'). \\\n",
    "        loc[meta.variable_value_labels['Sat_overall'].values()]. \\\n",
    "        loc[:,meta.variable_value_labels['Age'].values()]*100"
   ]
  }
 ],
 "metadata": {
  "kernelspec": {
   "display_name": "Python 3.9.12 ('base')",
   "language": "python",
   "name": "python3"
  },
  "language_info": {
   "codemirror_mode": {
    "name": "ipython",
    "version": 3
   },
   "file_extension": ".py",
   "mimetype": "text/x-python",
   "name": "python",
   "nbconvert_exporter": "python",
   "pygments_lexer": "ipython3",
   "version": "3.9.12"
  },
  "orig_nbformat": 4,
  "vscode": {
   "interpreter": {
    "hash": "ff2dc1df189c1b1602dd347d9550404970c4e10c3dcf67379d391965d4def2fd"
   }
  }
 },
 "nbformat": 4,
 "nbformat_minor": 2
}
